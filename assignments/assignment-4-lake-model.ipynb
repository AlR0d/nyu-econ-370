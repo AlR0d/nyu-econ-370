{
 "cells": [
  {
   "cell_type": "markdown",
   "metadata": {
    "collapsed": false
   },
   "source": [
    "## Lake Model\n",
    " \n",
    "Consider a lake model for workers' location. Workers can live in New York or Chicago. The transition probability for different groups of workers are given by\n",
    " \n",
    "$\\beta$:  transition probability from New York to Chicago\n",
    " \n",
    "$\\gamma$:   transition probability from Chicago to New York\n",
    " \n",
    " \n",
    "Let $N_t$ denote the total amount of workers live in New York, $C_t$ denote the total amount of   workers live in Chicago, and $P_t=N_t+C_t$ denote the total amount of labor force. Assume there is no born or death. \n",
    " \n",
    " \n",
    "(1) Given $N_t$ and $C_t$, write down the law of motion for $N_{t+1}$, $C_{t+1}$. Also write down the law of motion for $P_{t+1}$.\n",
    "\n",
    "(2) Find the $A$ matrix such that \n",
    "\n",
    "$$ \\left(\\begin{matrix}N_{t+1}\\\\C_{t+1}\\end{matrix}\\right) =A  \\left(\\begin{matrix}N_t\\\\C_t\\end{matrix}\\right)  $$\n",
    "\n",
    "(3) Define $n_t=\\frac{N_t}{P_t}$ as the fraction of workers in New York, and $c_t=\\frac{C_t}{P_t}$ as the fraction of workers in Chicago. Write down the matrix $\\widehat A$ such that \n",
    "\n",
    "$$  \\left(\\begin{matrix}n_{t+1}\\\\c_{t+1}\\end{matrix}\\right) =\\widehat A  \\left(\\begin{matrix}n_t\\\\c_t\\end{matrix}\\right) $$\n",
    "\n",
    " \n",
    "\n",
    "(4) Find the steady state  $n$ and  $c$ such that\n",
    "\n",
    "$$ \\left(\\begin{matrix}n\\\\c \\end{matrix}\\right) =\\widehat A  \\left(\\begin{matrix}n\\\\c \\end{matrix}\\right) $$\n",
    "\n",
    "\n",
    "\n",
    "(5) Suppose a worker is at Chicago at time $t$. What is the probability the worker is  New York at time $t+3$?  \n",
    "\n",
    "\n",
    "(6) Simulate the $c_t$ and $n_t$ for 1000 periods. Assume $n_t=0.5$ and $c_0=0.5$. Also assume $\\lambda=0.3$ and $\\alpha=0.15$. Confirm that $c_t$ and $n_t$ converge to the steady state you have solved earlier. \n",
    "\n",
    "  "
   ]
  },
  {
   "cell_type": "markdown",
   "metadata": {
    "collapsed": true
   },
   "source": [
    "## Markov Chain\n",
    " \n",
    "John can be happy (state 1), normal (state 2), or sad (state 3). The transition probability between these three states are given by a stochastic matrix $P$.\n",
    "\n",
    "\n",
    "(1) Check if the following matrices are   stochastic matrices or not.\n",
    "\n",
    "$$ P_1=\\left(\\begin{matrix}0&0&1\\\\0&0&0.99\\\\0.5&0.5&0\\end{matrix}\\right)   $$\n",
    "\n",
    "$$ P_2=\\left(\\begin{matrix}0&0&1\\\\-0.01&0&1.01\\\\0.5&0.5&0\\end{matrix}\\right)   $$\n",
    "\n",
    "\n",
    "(2) Check whether the following matrices are irreducible and aperiodic. \n",
    "\n",
    "$$ P_1=\\left(\\begin{matrix}0&0&1\\\\0&0&1\\\\\\frac{1}{3}&\\frac{1}{3}&\\frac{1}{3}\\end{matrix}\\right)   $$\n",
    "\n",
    "$$ P_2=\\left(\\begin{matrix}0&1&0\\\\\\frac{1}{2}&0&\\frac{1}{2}\\\\\\frac{1}{4}&\\frac{1}{4}&\\frac{1}{2}\\end{matrix}\\right)   $$\n",
    "\n",
    "$$ P_3=\\left(\\begin{matrix}0&1&0\\\\\\frac{1}{2}&\\frac{1}{2}&0\\\\\\frac{1}{4}&\\frac{1}{4}&\\frac{1}{2}\\end{matrix}\\right)   $$\n",
    "\n",
    "$$ P_4=\\left(\\begin{matrix}0&\\frac{1}{2}&\\frac{1}{2}\\\\\\frac{1}{2}&\\frac{1}{2}&0\\\\\\frac{1}{4}&\\frac{1}{4}&\\frac{1}{2}\\end{matrix}\\right)   $$\n",
    "\n",
    " \n",
    "(3) Simulate a Markov Chain for $T=1000$ period for each of the stochastic matrices in question (2).  Assume the initial state is state 1. \n",
    " \n",
    " "
   ]
  },
  {
   "cell_type": "code",
   "execution_count": null,
   "metadata": {
    "collapsed": true
   },
   "outputs": [],
   "source": []
  }
 ],
 "metadata": {
  "kernelspec": {
   "display_name": "Python 3",
   "language": "python",
   "name": "python3"
  },
  "language_info": {
   "codemirror_mode": {
    "name": "ipython",
    "version": 3
   },
   "file_extension": ".py",
   "mimetype": "text/x-python",
   "name": "python",
   "nbconvert_exporter": "python",
   "pygments_lexer": "ipython3",
   "version": "3.5.1"
  }
 },
 "nbformat": 4,
 "nbformat_minor": 0
}
