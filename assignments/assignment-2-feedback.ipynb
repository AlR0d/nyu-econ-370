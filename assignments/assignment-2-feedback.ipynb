{
 "cells": [
  {
   "cell_type": "markdown",
   "metadata": {},
   "source": [
    "# Quantitative Economics with Python (ECON 370)\n",
    "\n",
    "Spring, 2016\n",
    "\n",
    "\n",
    "## Feedback on Assignment \\#2\n",
    "\n",
    "The **main purpose** of this assignment:\n",
    "1. practice all of the components of fundamental Python that we have covered in class. \n",
    "1. see the links between math and programming in scientific computing\n",
    "\n",
    "Those students who recieved **bonus points** typically went the extra mile in explaining their code, provided additional code for robustness, or had great implementations."
   ]
  },
  {
   "cell_type": "markdown",
   "metadata": {},
   "source": [
    "---------------_"
   ]
  },
  {
   "cell_type": "markdown",
   "metadata": {},
   "source": [
    "### Question \\#1"
   ]
  },
  {
   "cell_type": "code",
   "execution_count": 1,
   "metadata": {
    "collapsed": true
   },
   "outputs": [],
   "source": [
    "data = [5,6,1,-6,0]"
   ]
  },
  {
   "cell_type": "markdown",
   "metadata": {},
   "source": [
    "#### Maximum"
   ]
  },
  {
   "cell_type": "code",
   "execution_count": 2,
   "metadata": {
    "collapsed": true
   },
   "outputs": [],
   "source": [
    "def maximum(data):\n",
    "    \"\"\"Find the Maximum from a collection of values\"\"\"\n",
    "    max_item = data[0]\n",
    "    for item in data:\n",
    "        if item > max_item:\n",
    "            max_item = item\n",
    "    return max_item"
   ]
  },
  {
   "cell_type": "code",
   "execution_count": 3,
   "metadata": {
    "collapsed": false
   },
   "outputs": [
    {
     "data": {
      "text/plain": [
       "6"
      ]
     },
     "execution_count": 3,
     "metadata": {},
     "output_type": "execute_result"
    }
   ],
   "source": [
    "maximum(data)"
   ]
  },
  {
   "cell_type": "markdown",
   "metadata": {},
   "source": [
    "**Robustness**"
   ]
  },
  {
   "cell_type": "code",
   "execution_count": 4,
   "metadata": {
    "collapsed": false
   },
   "outputs": [
    {
     "name": "stdout",
     "output_type": "stream",
     "text": [
      "<class 'tuple'>\n"
     ]
    },
    {
     "data": {
      "text/plain": [
       "6"
      ]
     },
     "execution_count": 4,
     "metadata": {},
     "output_type": "execute_result"
    }
   ],
   "source": [
    "data = (1,2,3,4,5,6)\n",
    "print(type(data))\n",
    "maximum(data)"
   ]
  },
  {
   "cell_type": "code",
   "execution_count": 5,
   "metadata": {
    "collapsed": true
   },
   "outputs": [],
   "source": [
    "data = [1,'a',2,3,4]"
   ]
  },
  {
   "cell_type": "markdown",
   "metadata": {},
   "source": [
    "Let's see how the **built-in** function behaves:"
   ]
  },
  {
   "cell_type": "code",
   "execution_count": 6,
   "metadata": {
    "collapsed": false
   },
   "outputs": [
    {
     "ename": "TypeError",
     "evalue": "unorderable types: str() > int()",
     "output_type": "error",
     "traceback": [
      "\u001b[1;31m---------------------------------------------------------------------------\u001b[0m",
      "\u001b[1;31mTypeError\u001b[0m                                 Traceback (most recent call last)",
      "\u001b[1;32m<ipython-input-6-d31670c53e33>\u001b[0m in \u001b[0;36m<module>\u001b[1;34m()\u001b[0m\n\u001b[1;32m----> 1\u001b[1;33m \u001b[0mmax\u001b[0m\u001b[1;33m(\u001b[0m\u001b[0mdata\u001b[0m\u001b[1;33m)\u001b[0m\u001b[1;33m\u001b[0m\u001b[0m\n\u001b[0m",
      "\u001b[1;31mTypeError\u001b[0m: unorderable types: str() > int()"
     ]
    }
   ],
   "source": [
    "max(data)"
   ]
  },
  {
   "cell_type": "code",
   "execution_count": 7,
   "metadata": {
    "collapsed": false
   },
   "outputs": [
    {
     "ename": "TypeError",
     "evalue": "unorderable types: str() > int()",
     "output_type": "error",
     "traceback": [
      "\u001b[1;31m---------------------------------------------------------------------------\u001b[0m",
      "\u001b[1;31mTypeError\u001b[0m                                 Traceback (most recent call last)",
      "\u001b[1;32m<ipython-input-7-cb0d78a2c71e>\u001b[0m in \u001b[0;36m<module>\u001b[1;34m()\u001b[0m\n\u001b[1;32m----> 1\u001b[1;33m \u001b[0mmaximum\u001b[0m\u001b[1;33m(\u001b[0m\u001b[0mdata\u001b[0m\u001b[1;33m)\u001b[0m \u001b[1;31m#This implementation behaves the same way. Probably want to throw a TypeError in this case\u001b[0m\u001b[1;33m\u001b[0m\u001b[0m\n\u001b[0m",
      "\u001b[1;32m<ipython-input-2-50df5905d273>\u001b[0m in \u001b[0;36mmaximum\u001b[1;34m(data)\u001b[0m\n\u001b[0;32m      3\u001b[0m     \u001b[0mmax_item\u001b[0m \u001b[1;33m=\u001b[0m \u001b[0mdata\u001b[0m\u001b[1;33m[\u001b[0m\u001b[1;36m0\u001b[0m\u001b[1;33m]\u001b[0m\u001b[1;33m\u001b[0m\u001b[0m\n\u001b[0;32m      4\u001b[0m     \u001b[1;32mfor\u001b[0m \u001b[0mitem\u001b[0m \u001b[1;32min\u001b[0m \u001b[0mdata\u001b[0m\u001b[1;33m:\u001b[0m\u001b[1;33m\u001b[0m\u001b[0m\n\u001b[1;32m----> 5\u001b[1;33m         \u001b[1;32mif\u001b[0m \u001b[0mitem\u001b[0m \u001b[1;33m>\u001b[0m \u001b[0mmax_item\u001b[0m\u001b[1;33m:\u001b[0m\u001b[1;33m\u001b[0m\u001b[0m\n\u001b[0m\u001b[0;32m      6\u001b[0m             \u001b[0mmax_item\u001b[0m \u001b[1;33m=\u001b[0m \u001b[0mitem\u001b[0m\u001b[1;33m\u001b[0m\u001b[0m\n\u001b[0;32m      7\u001b[0m     \u001b[1;32mreturn\u001b[0m \u001b[0mmax_item\u001b[0m\u001b[1;33m\u001b[0m\u001b[0m\n",
      "\u001b[1;31mTypeError\u001b[0m: unorderable types: str() > int()"
     ]
    }
   ],
   "source": [
    "maximum(data) #This implementation behaves the same way. Probably want to throw a TypeError in this case"
   ]
  },
  {
   "cell_type": "markdown",
   "metadata": {},
   "source": [
    "In some other contexts you may want to be able to compare lexiographically with letters first followed by numbers second. But this is specific to your possible context."
   ]
  },
  {
   "cell_type": "markdown",
   "metadata": {},
   "source": [
    "**Tests**"
   ]
  },
  {
   "cell_type": "code",
   "execution_count": 8,
   "metadata": {
    "collapsed": false
   },
   "outputs": [],
   "source": [
    "#Designing Tests is a good codeing practice#\n",
    "import numpy as np\n",
    "for i in range(10):\n",
    "    data = np.random.randint(-100,100,100)\n",
    "    assert max(data) == maximum(data)"
   ]
  },
  {
   "cell_type": "markdown",
   "metadata": {},
   "source": [
    "**Performance**"
   ]
  },
  {
   "cell_type": "code",
   "execution_count": 9,
   "metadata": {
    "collapsed": false
   },
   "outputs": [
    {
     "name": "stdout",
     "output_type": "stream",
     "text": [
      "1000 loops, best of 3: 697 µs per loop\n",
      "1000 loops, best of 3: 889 µs per loop\n"
     ]
    }
   ],
   "source": [
    "data = np.random.randint(-100,100,10000)\n",
    "%timeit max(data)\n",
    "%timeit maximum(data) #Pretty Good"
   ]
  },
  {
   "cell_type": "markdown",
   "metadata": {},
   "source": [
    "**Other Implementation Ideas**\n",
    "1. Sort the data and return the end value"
   ]
  },
  {
   "cell_type": "code",
   "execution_count": 10,
   "metadata": {
    "collapsed": true
   },
   "outputs": [],
   "source": [
    "def maximum2(data):\n",
    "    sdata = sorted(data)\n",
    "    return sdata[-1]"
   ]
  },
  {
   "cell_type": "code",
   "execution_count": 12,
   "metadata": {
    "collapsed": false
   },
   "outputs": [
    {
     "name": "stdout",
     "output_type": "stream",
     "text": [
      "100 loops, best of 3: 3.71 ms per loop\n"
     ]
    }
   ],
   "source": [
    "%timeit maximum2(data) #Elegant but much more computationally intensive"
   ]
  },
  {
   "cell_type": "code",
   "execution_count": null,
   "metadata": {
    "collapsed": false
   },
   "outputs": [],
   "source": []
  },
  {
   "cell_type": "markdown",
   "metadata": {},
   "source": [
    "#### Minimum"
   ]
  },
  {
   "cell_type": "code",
   "execution_count": 13,
   "metadata": {
    "collapsed": true
   },
   "outputs": [],
   "source": [
    "data = [5,6,1,-6,0]"
   ]
  },
  {
   "cell_type": "code",
   "execution_count": 14,
   "metadata": {
    "collapsed": false
   },
   "outputs": [],
   "source": [
    "def minimum(data):\n",
    "    \"\"\"Find the Minimum from a collection of values\"\"\"\n",
    "    min_item = data[0]\n",
    "    for item in data:\n",
    "        if item < min_item:\n",
    "            min_item = item\n",
    "    return min_item"
   ]
  },
  {
   "cell_type": "code",
   "execution_count": 15,
   "metadata": {
    "collapsed": false
   },
   "outputs": [
    {
     "data": {
      "text/plain": [
       "-6"
      ]
     },
     "execution_count": 15,
     "metadata": {},
     "output_type": "execute_result"
    }
   ],
   "source": [
    "minimum(data)"
   ]
  },
  {
   "cell_type": "code",
   "execution_count": 16,
   "metadata": {
    "collapsed": true
   },
   "outputs": [],
   "source": [
    "#Designing Tests is a good Idea#\n",
    "import numpy as np\n",
    "for i in range(10):\n",
    "    data = np.random.randint(-100,100,100)\n",
    "    assert min(data) == minimum(data)"
   ]
  },
  {
   "cell_type": "markdown",
   "metadata": {},
   "source": [
    "--------------------"
   ]
  },
  {
   "cell_type": "markdown",
   "metadata": {},
   "source": [
    "### Question \\#2"
   ]
  },
  {
   "cell_type": "code",
   "execution_count": 17,
   "metadata": {
    "collapsed": true
   },
   "outputs": [],
   "source": [
    "data = [5,6,1,-6,0]"
   ]
  },
  {
   "cell_type": "markdown",
   "metadata": {},
   "source": [
    "#### Mean"
   ]
  },
  {
   "cell_type": "code",
   "execution_count": 18,
   "metadata": {
    "collapsed": true
   },
   "outputs": [],
   "source": [
    "def mean(data):\n",
    "    \"\"\"Compute the mean (average) of a sequence of data\"\"\"\n",
    "    num_items = len(data)\n",
    "    sum_values = sum(data)\n",
    "    return sum_values/num_items"
   ]
  },
  {
   "cell_type": "code",
   "execution_count": 19,
   "metadata": {
    "collapsed": false
   },
   "outputs": [
    {
     "data": {
      "text/plain": [
       "1.2"
      ]
     },
     "execution_count": 19,
     "metadata": {},
     "output_type": "execute_result"
    }
   ],
   "source": [
    "mean(data)"
   ]
  },
  {
   "cell_type": "code",
   "execution_count": 20,
   "metadata": {
    "collapsed": false
   },
   "outputs": [
    {
     "data": {
      "text/plain": [
       "1.2"
      ]
     },
     "execution_count": 20,
     "metadata": {},
     "output_type": "execute_result"
    }
   ],
   "source": [
    "import numpy as np\n",
    "np.mean(data)"
   ]
  },
  {
   "cell_type": "markdown",
   "metadata": {},
   "source": [
    "#### Median"
   ]
  },
  {
   "cell_type": "code",
   "execution_count": 21,
   "metadata": {
    "collapsed": true
   },
   "outputs": [],
   "source": [
    "data = [5,6,1,-6,0]"
   ]
  },
  {
   "cell_type": "code",
   "execution_count": 22,
   "metadata": {
    "collapsed": true
   },
   "outputs": [],
   "source": [
    "def median(data):\n",
    "    \"\"\"\n",
    "    Compute the Median of a sequence of data\n",
    "    \n",
    "    If the sequence is odd then the middle value is returned,\n",
    "    otherwise the average of the two middle values are returned.\n",
    "    \n",
    "    \"\"\"\n",
    "    sdata = sorted(data)\n",
    "    length = len(data)\n",
    "    middle_index = (length - 1) // 2\n",
    "    if length % 2:\n",
    "        return sdata[middle_index]\n",
    "    else:\n",
    "        return (sdata[middle_index] + sdata[middle_index + 1]) / 2"
   ]
  },
  {
   "cell_type": "code",
   "execution_count": 23,
   "metadata": {
    "collapsed": false
   },
   "outputs": [
    {
     "name": "stdout",
     "output_type": "stream",
     "text": [
      "[-6, 0, 1, 5, 6]\n"
     ]
    },
    {
     "data": {
      "text/plain": [
       "1"
      ]
     },
     "execution_count": 23,
     "metadata": {},
     "output_type": "execute_result"
    }
   ],
   "source": [
    "print(sorted(data))\n",
    "median(data)"
   ]
  },
  {
   "cell_type": "code",
   "execution_count": 24,
   "metadata": {
    "collapsed": false
   },
   "outputs": [
    {
     "name": "stdout",
     "output_type": "stream",
     "text": [
      "[1, 1, 4, 89]\n"
     ]
    },
    {
     "data": {
      "text/plain": [
       "2.5"
      ]
     },
     "execution_count": 24,
     "metadata": {},
     "output_type": "execute_result"
    }
   ],
   "source": [
    "data2 = [4,1,89,1]\n",
    "print(sorted(data2))\n",
    "median(data2)"
   ]
  },
  {
   "cell_type": "code",
   "execution_count": 25,
   "metadata": {
    "collapsed": false
   },
   "outputs": [
    {
     "data": {
      "text/plain": [
       "2.5"
      ]
     },
     "execution_count": 25,
     "metadata": {},
     "output_type": "execute_result"
    }
   ],
   "source": [
    "np.median(data2)"
   ]
  },
  {
   "cell_type": "code",
   "execution_count": 26,
   "metadata": {
    "collapsed": true
   },
   "outputs": [],
   "source": [
    "#Designing Tests is a good Idea#\n",
    "import numpy as np\n",
    "for i in range(10):\n",
    "    data = np.random.randint(-100,100,100)  #Even\n",
    "    assert np.median(data) == median(data)\n",
    "    data = np.random.randint(-100,100,99)  #Odd\n",
    "    assert np.median(data) == median(data)"
   ]
  },
  {
   "cell_type": "markdown",
   "metadata": {},
   "source": [
    "#### Performance"
   ]
  },
  {
   "cell_type": "code",
   "execution_count": 27,
   "metadata": {
    "collapsed": false
   },
   "outputs": [
    {
     "name": "stdout",
     "output_type": "stream",
     "text": [
      "10000 loops, best of 3: 97.7 µs per loop\n",
      "100 loops, best of 3: 3.73 ms per loop\n"
     ]
    }
   ],
   "source": [
    "data = np.random.randint(-100,100,10000)\n",
    "%timeit np.median(data)  #In Built Tool is much faster\n",
    "%timeit median(data)"
   ]
  },
  {
   "cell_type": "markdown",
   "metadata": {},
   "source": [
    "#### Range"
   ]
  },
  {
   "cell_type": "code",
   "execution_count": 28,
   "metadata": {
    "collapsed": true
   },
   "outputs": [],
   "source": [
    "data = [5,6,1,-6,0]"
   ]
  },
  {
   "cell_type": "code",
   "execution_count": 29,
   "metadata": {
    "collapsed": true
   },
   "outputs": [],
   "source": [
    "def myrange(data):\n",
    "    return max(data) - min(data)"
   ]
  },
  {
   "cell_type": "code",
   "execution_count": 30,
   "metadata": {
    "collapsed": false
   },
   "outputs": [
    {
     "data": {
      "text/plain": [
       "12"
      ]
     },
     "execution_count": 30,
     "metadata": {},
     "output_type": "execute_result"
    }
   ],
   "source": [
    "myrange(data)"
   ]
  },
  {
   "cell_type": "code",
   "execution_count": 31,
   "metadata": {
    "collapsed": false
   },
   "outputs": [
    {
     "data": {
      "text/plain": [
       "12"
      ]
     },
     "execution_count": 31,
     "metadata": {},
     "output_type": "execute_result"
    }
   ],
   "source": [
    "np.ptp(data) #Peak to Peak"
   ]
  },
  {
   "cell_type": "code",
   "execution_count": 32,
   "metadata": {
    "collapsed": true
   },
   "outputs": [],
   "source": [
    "for i in range(10):\n",
    "    data = np.random.randint(-100,100,100)  #Even\n",
    "    assert np.ptp(data) == myrange(data)"
   ]
  },
  {
   "cell_type": "markdown",
   "metadata": {},
   "source": [
    "**Note:** Instead of using the in-built max and min we could have used our own functions. This is a good demonstration of how building small and useful functions lends itself to **code reuse** rather than writing new max and min functions within range."
   ]
  },
  {
   "cell_type": "markdown",
   "metadata": {},
   "source": [
    "#### Variance"
   ]
  },
  {
   "cell_type": "code",
   "execution_count": 33,
   "metadata": {
    "collapsed": true
   },
   "outputs": [],
   "source": [
    "data = [5,6,1,-6,0]"
   ]
  },
  {
   "cell_type": "code",
   "execution_count": 34,
   "metadata": {
    "collapsed": true
   },
   "outputs": [],
   "source": [
    "def variance(data):\n",
    "    mean = np.mean(data)\n",
    "    sumsqdiff = 0\n",
    "    for item in data:\n",
    "        sumsqdiff += (item - mean)**2\n",
    "    return sumsqdiff / len(data)"
   ]
  },
  {
   "cell_type": "code",
   "execution_count": 35,
   "metadata": {
    "collapsed": false
   },
   "outputs": [
    {
     "name": "stdout",
     "output_type": "stream",
     "text": [
      "The slowest run took 5.48 times longer than the fastest. This could mean that an intermediate result is being cached.\n",
      "10000 loops, best of 3: 22.3 µs per loop\n"
     ]
    }
   ],
   "source": [
    "%timeit variance(data)"
   ]
  },
  {
   "cell_type": "code",
   "execution_count": 36,
   "metadata": {
    "collapsed": true
   },
   "outputs": [],
   "source": [
    "def variance(data):\n",
    "    sumsqdiff = 0\n",
    "    for item in data:\n",
    "        sumsqdiff += (item - np.mean(data))**2\n",
    "    return sumsqdiff / len(data)"
   ]
  },
  {
   "cell_type": "code",
   "execution_count": 37,
   "metadata": {
    "collapsed": false
   },
   "outputs": [
    {
     "name": "stdout",
     "output_type": "stream",
     "text": [
      "10000 loops, best of 3: 98.1 µs per loop\n"
     ]
    }
   ],
   "source": [
    "%timeit variance(data)"
   ]
  },
  {
   "cell_type": "markdown",
   "metadata": {},
   "source": [
    "**Reducing unnecessary computation** can have a big impact on the performance of your code. In the first implementation the mean is only computed once and saved in the variable ``mean`` while the mean is re-calcuated everytime you loop through the data in the second implementation"
   ]
  },
  {
   "cell_type": "code",
   "execution_count": 38,
   "metadata": {
    "collapsed": false
   },
   "outputs": [
    {
     "ename": "AssertionError",
     "evalue": "3841.2904 != 3841.2904",
     "output_type": "error",
     "traceback": [
      "\u001b[1;31m---------------------------------------------------------------------------\u001b[0m",
      "\u001b[1;31mAssertionError\u001b[0m                            Traceback (most recent call last)",
      "\u001b[1;32m<ipython-input-38-2613bf6098c5>\u001b[0m in \u001b[0;36m<module>\u001b[1;34m()\u001b[0m\n\u001b[0;32m      2\u001b[0m \u001b[1;32mfor\u001b[0m \u001b[0mi\u001b[0m \u001b[1;32min\u001b[0m \u001b[0mrange\u001b[0m\u001b[1;33m(\u001b[0m\u001b[1;36m10\u001b[0m\u001b[1;33m)\u001b[0m\u001b[1;33m:\u001b[0m\u001b[1;33m\u001b[0m\u001b[0m\n\u001b[0;32m      3\u001b[0m     \u001b[0mdata\u001b[0m \u001b[1;33m=\u001b[0m \u001b[0mnp\u001b[0m\u001b[1;33m.\u001b[0m\u001b[0mrandom\u001b[0m\u001b[1;33m.\u001b[0m\u001b[0mrandint\u001b[0m\u001b[1;33m(\u001b[0m\u001b[1;33m-\u001b[0m\u001b[1;36m100\u001b[0m\u001b[1;33m,\u001b[0m\u001b[1;36m100\u001b[0m\u001b[1;33m,\u001b[0m\u001b[1;36m100\u001b[0m\u001b[1;33m)\u001b[0m  \u001b[1;31m#Even\u001b[0m\u001b[1;33m\u001b[0m\u001b[0m\n\u001b[1;32m----> 4\u001b[1;33m     \u001b[1;32massert\u001b[0m \u001b[0mnp\u001b[0m\u001b[1;33m.\u001b[0m\u001b[0mvar\u001b[0m\u001b[1;33m(\u001b[0m\u001b[0mdata\u001b[0m\u001b[1;33m)\u001b[0m \u001b[1;33m==\u001b[0m \u001b[0mvariance\u001b[0m\u001b[1;33m(\u001b[0m\u001b[0mdata\u001b[0m\u001b[1;33m)\u001b[0m\u001b[1;33m,\u001b[0m \u001b[1;33m(\u001b[0m\u001b[1;34m\"%s != %s\"\u001b[0m \u001b[1;33m%\u001b[0m \u001b[1;33m(\u001b[0m\u001b[0mnp\u001b[0m\u001b[1;33m.\u001b[0m\u001b[0mvar\u001b[0m\u001b[1;33m(\u001b[0m\u001b[0mdata\u001b[0m\u001b[1;33m)\u001b[0m\u001b[1;33m,\u001b[0m \u001b[0mvariance\u001b[0m\u001b[1;33m(\u001b[0m\u001b[0mdata\u001b[0m\u001b[1;33m)\u001b[0m\u001b[1;33m)\u001b[0m\u001b[1;33m)\u001b[0m\u001b[1;33m\u001b[0m\u001b[0m\n\u001b[0m",
      "\u001b[1;31mAssertionError\u001b[0m: 3841.2904 != 3841.2904"
     ]
    }
   ],
   "source": [
    "#-Tests-#\n",
    "for i in range(10):\n",
    "    data = np.random.randint(-100,100,100)  #Even\n",
    "    assert np.var(data) == variance(data), (\"%s != %s\" % (np.var(data), variance(data)))"
   ]
  },
  {
   "cell_type": "markdown",
   "metadata": {},
   "source": [
    "**What has happened here?** Variance is usually a floating point value so comparisons are a bit tricker in this case. "
   ]
  },
  {
   "cell_type": "code",
   "execution_count": 39,
   "metadata": {
    "collapsed": true
   },
   "outputs": [],
   "source": [
    "import math\n",
    "for i in range(10):\n",
    "    data = np.random.randint(-100,100,100)  #Even\n",
    "    assert math.isclose(np.var(data), variance(data))  #Default tol. rel_tol=1e-09"
   ]
  },
  {
   "cell_type": "markdown",
   "metadata": {},
   "source": [
    "---------------__"
   ]
  },
  {
   "cell_type": "markdown",
   "metadata": {},
   "source": [
    "### Question \\#3 Fibonacci Numbers"
   ]
  },
  {
   "cell_type": "markdown",
   "metadata": {},
   "source": [
    "The Fibonnaci Sequence can be expressed mathematically in the following recurrance relationship:\n",
    "\n",
    "$$F_n = F_{n-1} + F_{n-2}$$\n",
    "\n",
    "with initial values\n",
    "\n",
    "$$F_1 = 1, F_2 = 1$$\n",
    "\n",
    "This implies $n >= 3$"
   ]
  },
  {
   "cell_type": "markdown",
   "metadata": {},
   "source": [
    "Using **iteration** to compute Fibonacci Numbers"
   ]
  },
  {
   "cell_type": "code",
   "execution_count": 40,
   "metadata": {
    "collapsed": true
   },
   "outputs": [],
   "source": [
    "def fib(index, show_sequence=False):\n",
    "    \"\"\" Generate a Fibonacci Sequence using Iteration \"\"\"\n",
    "    for i in range(2,index+1):\n",
    "        if i == 2:\n",
    "            seq = [1,1]\n",
    "        else:\n",
    "            seq.append(seq[i-2]+seq[i-3])\n",
    "    if show_sequence:\n",
    "        print(seq)\n",
    "    return seq[index-1]"
   ]
  },
  {
   "cell_type": "code",
   "execution_count": 41,
   "metadata": {
    "collapsed": false
   },
   "outputs": [
    {
     "name": "stdout",
     "output_type": "stream",
     "text": [
      "[1, 1, 2, 3]\n"
     ]
    },
    {
     "data": {
      "text/plain": [
       "3"
      ]
     },
     "execution_count": 41,
     "metadata": {},
     "output_type": "execute_result"
    }
   ],
   "source": [
    "fib(4, True)"
   ]
  },
  {
   "cell_type": "markdown",
   "metadata": {},
   "source": [
    "To **match** the assignment you can use some string parsing"
   ]
  },
  {
   "cell_type": "code",
   "execution_count": 42,
   "metadata": {
    "collapsed": true
   },
   "outputs": [],
   "source": [
    "def fib(index, show_sequence=False):\n",
    "    \"\"\" Generate a Fibonacci Sequence using Iteration \"\"\"\n",
    "    for i in range(2,index+1):\n",
    "        if i == 2:\n",
    "            seq = [1,1]\n",
    "        else:\n",
    "            seq.append(seq[i-2]+seq[i-3])\n",
    "    if show_sequence:\n",
    "        reprs = \"\"\n",
    "        for item in seq[0:-1]:\n",
    "            reprs += str(item) + \", \"\n",
    "        reprs += '[' + str(seq[-1]) + ']'\n",
    "        return reprs\n",
    "    return seq[index-1]"
   ]
  },
  {
   "cell_type": "code",
   "execution_count": 43,
   "metadata": {
    "collapsed": false
   },
   "outputs": [
    {
     "data": {
      "text/plain": [
       "'1, 1, 2, [3]'"
      ]
     },
     "execution_count": 43,
     "metadata": {},
     "output_type": "execute_result"
    }
   ],
   "source": [
    "fib(4, True)"
   ]
  },
  {
   "cell_type": "markdown",
   "metadata": {},
   "source": [
    "To **improve** readability you may want to use specialised functions"
   ]
  },
  {
   "cell_type": "code",
   "execution_count": 44,
   "metadata": {
    "collapsed": false
   },
   "outputs": [],
   "source": [
    "def generate_fib_str(seq):\n",
    "    \"\"\" Generate the representative String \"\"\"\n",
    "    reprs = \"\"\n",
    "    for item in seq[0:-1]:\n",
    "        reprs += str(item) + \", \"\n",
    "    reprs += '[' + str(seq[-1]) + ']'\n",
    "    return reprs\n",
    "\n",
    "def fib(index, show_sequence=False):\n",
    "    \"\"\" Generate a Fibonacci Sequence using Iteration \"\"\"\n",
    "    for i in range(2,index+1):\n",
    "        if i == 2:\n",
    "            seq = [1,1]\n",
    "        else:\n",
    "            seq.append(seq[i-2]+seq[i-3])\n",
    "    if show_sequence:\n",
    "        return generate_fib_str(seq)\n",
    "    return seq[index-1]"
   ]
  },
  {
   "cell_type": "code",
   "execution_count": 45,
   "metadata": {
    "collapsed": false
   },
   "outputs": [
    {
     "data": {
      "text/plain": [
       "'1, 1, 2, [3]'"
      ]
     },
     "execution_count": 45,
     "metadata": {},
     "output_type": "execute_result"
    }
   ],
   "source": [
    "fib(4, True)"
   ]
  },
  {
   "cell_type": "markdown",
   "metadata": {},
   "source": [
    "Using **Recursion** to compute Fibonacci Numbers"
   ]
  },
  {
   "cell_type": "code",
   "execution_count": 46,
   "metadata": {
    "collapsed": true
   },
   "outputs": [],
   "source": [
    "def fib(n):\n",
    "    \"\"\"Compute Fibonacci Number using Recursion\"\"\"\n",
    "    if n==1 or n==2:\n",
    "        return 1\n",
    "    return fib(n-1)+fib(n-2)"
   ]
  },
  {
   "cell_type": "code",
   "execution_count": 47,
   "metadata": {
    "collapsed": false
   },
   "outputs": [
    {
     "data": {
      "text/plain": [
       "3"
      ]
     },
     "execution_count": 47,
     "metadata": {},
     "output_type": "execute_result"
    }
   ],
   "source": [
    "fib(4)"
   ]
  },
  {
   "cell_type": "markdown",
   "metadata": {},
   "source": [
    "What about the **sequence**? Keeping track of the state is a bit tricky. You need to think deeply about the recursion tree."
   ]
  },
  {
   "cell_type": "code",
   "execution_count": 48,
   "metadata": {
    "collapsed": true
   },
   "outputs": [],
   "source": [
    "def fibr(n, seq):\n",
    "    \"\"\"Compute Fibonacci Number and Sequence using Recursion\"\"\"\n",
    "    if n==1 or n==2:\n",
    "        return 1\n",
    "    f = fibr(n-1, seq)+fibr(n-2, seq)\n",
    "    seq.add(f)\n",
    "    return f\n",
    "\n",
    "def fib(n, show_sequence=False):\n",
    "    seq = set()\n",
    "    val = fibr(n, seq)\n",
    "    seq = [1,1] + sorted(list(seq))\n",
    "    if show_sequence:\n",
    "        return generate_fib_str(seq)\n",
    "    return val"
   ]
  },
  {
   "cell_type": "code",
   "execution_count": 49,
   "metadata": {
    "collapsed": false
   },
   "outputs": [
    {
     "data": {
      "text/plain": [
       "3"
      ]
     },
     "execution_count": 49,
     "metadata": {},
     "output_type": "execute_result"
    }
   ],
   "source": [
    "fib(4)"
   ]
  },
  {
   "cell_type": "code",
   "execution_count": 50,
   "metadata": {
    "collapsed": false
   },
   "outputs": [
    {
     "data": {
      "text/plain": [
       "'1, 1, 2, [3]'"
      ]
     },
     "execution_count": 50,
     "metadata": {},
     "output_type": "execute_result"
    }
   ],
   "source": [
    "fib(4,True)"
   ]
  },
  {
   "cell_type": "code",
   "execution_count": 51,
   "metadata": {
    "collapsed": false
   },
   "outputs": [
    {
     "data": {
      "text/plain": [
       "'1, 1, 2, 3, [5]'"
      ]
     },
     "execution_count": 51,
     "metadata": {},
     "output_type": "execute_result"
    }
   ],
   "source": [
    "fib(5,True)"
   ]
  },
  {
   "cell_type": "code",
   "execution_count": 52,
   "metadata": {
    "collapsed": false
   },
   "outputs": [
    {
     "data": {
      "text/plain": [
       "'1, 1, 2, 3, 5, 8, 13, 21, 34, 55, 89, [144]'"
      ]
     },
     "execution_count": 52,
     "metadata": {},
     "output_type": "execute_result"
    }
   ],
   "source": [
    "fib(12, True)"
   ]
  },
  {
   "cell_type": "markdown",
   "metadata": {},
   "source": [
    "**Performance**"
   ]
  },
  {
   "cell_type": "code",
   "execution_count": 53,
   "metadata": {
    "collapsed": true
   },
   "outputs": [],
   "source": [
    "def fib_iteration(index, show_sequence=False):\n",
    "    \"\"\" Generate a Fibonacci Sequence using Iteration \"\"\"\n",
    "    for i in range(2,index+1):\n",
    "        if i == 2:\n",
    "            seq = [1,1]\n",
    "        else:\n",
    "            seq.append(seq[i-2]+seq[i-3])\n",
    "    if show_sequence:\n",
    "        return generate_fib_str(seq)\n",
    "    return seq[index-1]"
   ]
  },
  {
   "cell_type": "code",
   "execution_count": 54,
   "metadata": {
    "collapsed": true
   },
   "outputs": [],
   "source": [
    "def fibr(n, seq):\n",
    "    \"\"\"Compute Fibonacci Number and Sequence using Recursion\"\"\"\n",
    "    if n==1 or n==2:\n",
    "        return 1\n",
    "    f = fibr(n-1, seq)+fibr(n-2, seq)\n",
    "    seq.add(f)\n",
    "    return f\n",
    "\n",
    "def fib_recursion(n, show_sequence=False):\n",
    "    seq = set()\n",
    "    val = fibr(n, seq)\n",
    "    seq = [1,1] + sorted(list(seq))\n",
    "    if show_sequence:\n",
    "        return generate_fib_str(seq)\n",
    "    return val"
   ]
  },
  {
   "cell_type": "code",
   "execution_count": 55,
   "metadata": {
    "collapsed": false
   },
   "outputs": [
    {
     "name": "stdout",
     "output_type": "stream",
     "text": [
      "100000 loops, best of 3: 3.32 µs per loop\n",
      "10000 loops, best of 3: 68.3 µs per loop\n"
     ]
    }
   ],
   "source": [
    "%timeit fib_iteration(12)\n",
    "%timeit fib_recursion(12)   #Iteration is much faster in this case"
   ]
  },
  {
   "cell_type": "code",
   "execution_count": 56,
   "metadata": {
    "collapsed": false
   },
   "outputs": [
    {
     "name": "stdout",
     "output_type": "stream",
     "text": [
      "100000 loops, best of 3: 7.54 µs per loop\n",
      "1 loop, best of 3: 381 ms per loop\n"
     ]
    }
   ],
   "source": [
    "%timeit fib_iteration(30)\n",
    "%timeit fib_recursion(30)  #Very quickly becomes worse as complexity rises"
   ]
  },
  {
   "cell_type": "markdown",
   "metadata": {},
   "source": [
    "** Question: Why is recursion so much slower here?**"
   ]
  },
  {
   "cell_type": "code",
   "execution_count": null,
   "metadata": {
    "collapsed": false
   },
   "outputs": [],
   "source": []
  },
  {
   "cell_type": "markdown",
   "metadata": {},
   "source": [
    "## Question \\#4 Computing Approximate Square Roots using Newton's Method"
   ]
  },
  {
   "cell_type": "markdown",
   "metadata": {},
   "source": [
    "**Part A**\n",
    "\n",
    "Analytically solve for an approximation of the square root function $\\sqrt{x}$\n",
    "\n",
    "Set \n",
    "\n",
    "$$f(x) = x^2 - r = 0$$\n",
    "\n",
    "and solve for the first derivative\n",
    "\n",
    "$$f'(x) = 2x$$\n",
    "\n",
    "Using Newton's Method to produce a recurrence relationship that compute's improving estimates of the roots\n",
    "\n",
    "$$x_{n+1} = x_n - \\frac{x_n^2 - r}{2x_n}$$"
   ]
  },
  {
   "cell_type": "code",
   "execution_count": 57,
   "metadata": {
    "collapsed": true
   },
   "outputs": [],
   "source": [
    "def update(x,r):\n",
    "    return x - (x**2 - r)/(2*x)\n",
    "\n",
    "def square_root(r, x0=1.0, tol=1e-2):\n",
    "    \"\"\" \n",
    "    Compute Approximate Square Roots through Newton's Method\n",
    "    \n",
    "    Parameters\n",
    "    ----------\n",
    "    r,  int or float\n",
    "        The value you would like the square root of\n",
    "    x0, optional(default=1.0)\n",
    "        Supply a value for an initial guess\n",
    "    tol, optional(default=1e-2)\n",
    "         Control the tolerance\n",
    "    \n",
    "    Returns\n",
    "    -------\n",
    "    Square Root\n",
    "    \n",
    "    \"\"\"\n",
    "    x = update(x0,r)\n",
    "    diff = x - x0\n",
    "    while abs(diff) > tol:\n",
    "        prev_x = x\n",
    "        x = update(x,r)\n",
    "        diff = x - prev_x\n",
    "    return x"
   ]
  },
  {
   "cell_type": "code",
   "execution_count": 58,
   "metadata": {
    "collapsed": false
   },
   "outputs": [
    {
     "data": {
      "text/plain": [
       "2.0000000929222947"
      ]
     },
     "execution_count": 58,
     "metadata": {},
     "output_type": "execute_result"
    }
   ],
   "source": [
    "square_root(4.0)"
   ]
  },
  {
   "cell_type": "code",
   "execution_count": 59,
   "metadata": {
    "collapsed": false
   },
   "outputs": [
    {
     "data": {
      "text/plain": [
       "3.741657569058715"
      ]
     },
     "execution_count": 59,
     "metadata": {},
     "output_type": "execute_result"
    }
   ],
   "source": [
    "square_root(14)"
   ]
  },
  {
   "cell_type": "markdown",
   "metadata": {},
   "source": [
    "To **improve** output you could add variable formating"
   ]
  },
  {
   "cell_type": "code",
   "execution_count": 64,
   "metadata": {
    "collapsed": false
   },
   "outputs": [],
   "source": [
    "def square_root(r, x0=1.0, tol=1e-2):\n",
    "    \"\"\" \n",
    "    Compute Approximate Square Roots through Newton's Method\n",
    "    \n",
    "    Parameters\n",
    "    ----------\n",
    "    r,  int or float\n",
    "        The value you would like the square root of\n",
    "    x0, optional(default=1.0)\n",
    "        Supply a value for an initial guess\n",
    "    tol, optional(default=1e-2)\n",
    "         Control the tolerance\n",
    "    \n",
    "    Returns\n",
    "    -------\n",
    "    Square Root\n",
    "    \n",
    "    \"\"\"\n",
    "    x = update(x0,r)\n",
    "    diff = x - x0\n",
    "    while abs(diff) > tol:\n",
    "        prev_x = x\n",
    "        x = update(x,r)\n",
    "        diff = x - prev_x\n",
    "    #-Match return values in assignment-#\n",
    "    if x%1 < tol:\n",
    "        return int(x)\n",
    "    else:\n",
    "        return float(format(x, '0.4f'))"
   ]
  },
  {
   "cell_type": "code",
   "execution_count": 65,
   "metadata": {
    "collapsed": false
   },
   "outputs": [
    {
     "data": {
      "text/plain": [
       "2"
      ]
     },
     "execution_count": 65,
     "metadata": {},
     "output_type": "execute_result"
    }
   ],
   "source": [
    "square_root(4.0)"
   ]
  },
  {
   "cell_type": "code",
   "execution_count": 66,
   "metadata": {
    "collapsed": false
   },
   "outputs": [
    {
     "data": {
      "text/plain": [
       "3.7417"
      ]
     },
     "execution_count": 66,
     "metadata": {},
     "output_type": "execute_result"
    }
   ],
   "source": [
    "square_root(14)"
   ]
  },
  {
   "cell_type": "code",
   "execution_count": 67,
   "metadata": {
    "collapsed": false
   },
   "outputs": [
    {
     "data": {
      "text/plain": [
       "1.1832"
      ]
     },
     "execution_count": 67,
     "metadata": {},
     "output_type": "execute_result"
    }
   ],
   "source": [
    "square_root(1.4)"
   ]
  },
  {
   "cell_type": "code",
   "execution_count": null,
   "metadata": {
    "collapsed": true
   },
   "outputs": [],
   "source": []
  }
 ],
 "metadata": {
  "kernelspec": {
   "display_name": "Python 3",
   "language": "python",
   "name": "python3"
  },
  "language_info": {
   "codemirror_mode": {
    "name": "ipython",
    "version": 3
   },
   "file_extension": ".py",
   "mimetype": "text/x-python",
   "name": "python",
   "nbconvert_exporter": "python",
   "pygments_lexer": "ipython3",
   "version": "3.5.1"
  }
 },
 "nbformat": 4,
 "nbformat_minor": 0
}
