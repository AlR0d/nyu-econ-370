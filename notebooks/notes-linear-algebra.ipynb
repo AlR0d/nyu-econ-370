{
 "cells": [
  {
   "cell_type": "markdown",
   "metadata": {},
   "source": [
    "# Practice with Linear Algebra and Python\n",
    "\n",
    "This notebook provides some excercises to help practice using Python to solve Linear Algebra questions.\n",
    "\n",
    "**Reference:** http://quant-econ.net/py/linear_algebra.html\n",
    "\n",
    "Adapted from the Online Resource"
   ]
  },
  {
   "cell_type": "markdown",
   "metadata": {},
   "source": [
    "## Vectors\n",
    "\n",
    "References: http://quant-econ.net/py/linear_algebra.html#vectors\n",
    "\n",
    "A *vector* of length $n$ is just a sequence (or array, or tuple) of $n$ numbers, which we write as $x = (x_1, \\ldots, x_n)$ or  $x = [x_1, \\ldots, x_n]$\n",
    "\n",
    "\n",
    "### Addition\n",
    "\n",
    "As a matter of definition, when we add two vectors, we add them element by element\n",
    "\n",
    "$$\n",
    "    x + y\n",
    "    =\n",
    "    \\left[\n",
    "    \\begin{array}{c}\n",
    "        x_1 \\\\\n",
    "        x_2 \\\\\n",
    "        \\vdots \\\\\n",
    "        x_n\n",
    "    \\end{array}\n",
    "    \\right]\n",
    "    +\n",
    "    \\left[\n",
    "    \\begin{array}{c}\n",
    "         y_1 \\\\\n",
    "         y_2 \\\\\n",
    "        \\vdots \\\\\n",
    "         y_n\n",
    "    \\end{array}\n",
    "    \\right]\n",
    "    :=\n",
    "    \\left[\n",
    "    \\begin{array}{c}\n",
    "        x_1 + y_1 \\\\\n",
    "        x_2 + y_2 \\\\\n",
    "        \\vdots \\\\\n",
    "        x_n + y_n\n",
    "    \\end{array}\n",
    "    \\right]\n",
    "$$\n",
    "\n",
    "### Scalar Multiplication\n",
    "\n",
    "Scalar multiplication is an operation that takes a number $\\gamma$ and a vector $x$ and produces\n",
    "\n",
    "$$\n",
    "    \\gamma x\n",
    "    :=\n",
    "    \\left[\n",
    "    \\begin{array}{c}\n",
    "        \\gamma x_1 \\\\\n",
    "        \\gamma x_2 \\\\\n",
    "        \\vdots \\\\\n",
    "        \\gamma x_n\n",
    "    \\end{array}\n",
    "    \\right]\n",
    "$$\n",
    "\n",
    "Vectors have a natural representation in ``numpy`` using arrays"
   ]
  },
  {
   "cell_type": "code",
   "execution_count": 1,
   "metadata": {
    "collapsed": false
   },
   "outputs": [
    {
     "name": "stdout",
     "output_type": "stream",
     "text": [
      "X: [ 1.  1.  1.]\n",
      "Y: [2 4 6]\n"
     ]
    }
   ],
   "source": [
    "import numpy as np\n",
    "x = np.ones(3)\n",
    "y = np.array((2,4,6))\n",
    "print(\"X: %s\"%x)\n",
    "print(\"Y: %s\"%y)"
   ]
  },
  {
   "cell_type": "code",
   "execution_count": 2,
   "metadata": {
    "collapsed": false
   },
   "outputs": [
    {
     "data": {
      "text/plain": [
       "array([ 3.,  5.,  7.])"
      ]
     },
     "execution_count": 2,
     "metadata": {},
     "output_type": "execute_result"
    }
   ],
   "source": [
    "x+y"
   ]
  },
  {
   "cell_type": "code",
   "execution_count": 3,
   "metadata": {
    "collapsed": false
   },
   "outputs": [
    {
     "data": {
      "text/plain": [
       "array([ 4.,  4.,  4.])"
      ]
     },
     "execution_count": 3,
     "metadata": {},
     "output_type": "execute_result"
    }
   ],
   "source": [
    "4*x"
   ]
  },
  {
   "cell_type": "code",
   "execution_count": 4,
   "metadata": {
    "collapsed": false
   },
   "outputs": [
    {
     "data": {
      "text/plain": [
       "array([ 8, 16, 24])"
      ]
     },
     "execution_count": 4,
     "metadata": {},
     "output_type": "execute_result"
    }
   ],
   "source": [
    "4*y"
   ]
  },
  {
   "cell_type": "markdown",
   "metadata": {},
   "source": [
    "### Inner Product and Norm\n",
    "\n",
    "The *inner product* of vectors $x,y \\in \\mathbb R ^n$ is defined as\n",
    "\n",
    "$$\n",
    "    x' y := \\sum_{i=1}^n x_i y_i\n",
    "$$\n",
    "\n",
    "Two vectors are called *orthogonal* if their inner product is zero\n",
    "\n",
    "The *norm* of a vector $x$ represents its \"length\" (i.e., its distance from the zero vector) and is defined as\n",
    "\n",
    "$$\n",
    "    \\| x \\| := \\sqrt{x' x} := \\left( \\sum_{i=1}^n x_i^2 \\right)^{1/2}\n",
    "$$\n",
    "\n",
    "The expression $\\| x - y\\|$ is thought of as the distance between $x$ and $y$"
   ]
  },
  {
   "cell_type": "code",
   "execution_count": 5,
   "metadata": {
    "collapsed": true
   },
   "outputs": [],
   "source": [
    "x = np.ones(3)\n",
    "y = np.array((2,4,6))"
   ]
  },
  {
   "cell_type": "code",
   "execution_count": 6,
   "metadata": {
    "collapsed": true
   },
   "outputs": [],
   "source": [
    "np.sum?"
   ]
  },
  {
   "cell_type": "code",
   "execution_count": 7,
   "metadata": {
    "collapsed": false
   },
   "outputs": [
    {
     "data": {
      "text/plain": [
       "12.0"
      ]
     },
     "execution_count": 7,
     "metadata": {},
     "output_type": "execute_result"
    }
   ],
   "source": [
    "np.sum(x * y)    #Inner product of x and y"
   ]
  },
  {
   "cell_type": "code",
   "execution_count": 8,
   "metadata": {
    "collapsed": false
   },
   "outputs": [
    {
     "data": {
      "text/plain": [
       "1.7320508075688772"
      ]
     },
     "execution_count": 8,
     "metadata": {},
     "output_type": "execute_result"
    }
   ],
   "source": [
    "np.sqrt(np.sum(x**2))  #Norm of x"
   ]
  },
  {
   "cell_type": "code",
   "execution_count": 9,
   "metadata": {
    "collapsed": false
   },
   "outputs": [
    {
     "data": {
      "text/plain": [
       "1.7320508075688772"
      ]
     },
     "execution_count": 9,
     "metadata": {},
     "output_type": "execute_result"
    }
   ],
   "source": [
    "np.linalg.norm(x)   #Norm of x"
   ]
  },
  {
   "cell_type": "markdown",
   "metadata": {},
   "source": [
    "### Span\n",
    "\n",
    "Given a set of vectors $A := \\{a_1, \\ldots, a_k\\}$ in $\\mathbb R ^n$, it's natural to think about the new vectors we can create by performing linear operations\n",
    "\n",
    "New vectors created in this manner are called *linear combinations* of $A$\n",
    "\n",
    "In particular, $y \\in \\mathbb R ^n$ is a linear combination of $A := \\{a_1, \\ldots, a_k\\}$ if\n",
    "\n",
    "$$\n",
    "    y = \\beta_1 a_1 + \\cdots + \\beta_k a_k\n",
    "    \\text{ for some scalars } \\beta_1, \\ldots, \\beta_k\n",
    "$$\n",
    "\n",
    "In this context, the values $\\beta_1, \\ldots, \\beta_k$ are called the *coefficients* of the linear combination\n",
    "\n",
    "The set of linear combinations of $A$ is called the *span* of $A$\n",
    "\n",
    "#### Example\n",
    "\n",
    "If $A$ contains only one vector $a_1 \\in \\mathbb R ^2$, then its\n",
    "span is just the scalar multiples of $a_1$, which is the unique line passing through both $a_1$ and the origin\n",
    "\n",
    "If $A = \\{e_1, e_2, e_3\\}$ consists  of the *canonical basis vectors* of $\\mathbb R ^3$, that is\n",
    "\n",
    "$$\n",
    "    e_1\n",
    "    :=\n",
    "    \\left[\n",
    "    \\begin{array}{c}\n",
    "         1 \\\\\n",
    "         0 \\\\\n",
    "         0\n",
    "    \\end{array}\n",
    "    \\right]\n",
    "    , \\quad\n",
    "    e_2\n",
    "    :=\n",
    "    \\left[\n",
    "    \\begin{array}{c}\n",
    "         0 \\\\\n",
    "         1 \\\\\n",
    "         0\n",
    "    \\end{array}\n",
    "    \\right]\n",
    "    , \\quad\n",
    "    e_3\n",
    "    :=\n",
    "    \\left[\n",
    "    \\begin{array}{c}\n",
    "         0 \\\\\n",
    "         0 \\\\\n",
    "         1\n",
    "    \\end{array}\n",
    "    \\right]\n",
    "$$\n",
    "\n",
    "then the span of $A$ is all of $\\mathbb R ^3$, because, for any\n",
    "$x = (x_1, x_2, x_3) \\in \\mathbb R ^3$, we can write\n",
    "\n",
    "$$\n",
    "    x = x_1 e_1 + x_2 e_2 + x_3 e_3\n",
    "$$\n",
    "\n",
    "Now consider $A_0 = \\{e_1, e_2, e_1 + e_2\\}$\n",
    "\n",
    "If $y = (y_1, y_2, y_3)$ is any linear combination of these vectors, then $y_3 = 0$ (check it)\n",
    "\n",
    "Hence $A_0$ fails to span all of $\\mathbb R ^3$"
   ]
  },
  {
   "cell_type": "markdown",
   "metadata": {},
   "source": [
    "**Excercise \\#1:** \n",
    "\n",
    "The linear combinations of $v = (1,1,0)$ and $w=(0,1,1)$ fill a plane. Describe this plane and find a vector that is *not* a combination of $v$ and $w$"
   ]
  },
  {
   "cell_type": "code",
   "execution_count": null,
   "metadata": {
    "collapsed": true
   },
   "outputs": [],
   "source": []
  },
  {
   "cell_type": "markdown",
   "metadata": {
    "collapsed": true
   },
   "source": [
    "**Excercise \\#2:**\n",
    "Describe geometrically (line, plane, or all of $R^3$) all linear combinations of\n",
    "\n",
    "$$\n",
    "Problem 1: \n",
    "\\begin{bmatrix}\n",
    "         1 \\\\\n",
    "         2 \\\\\n",
    "         3\n",
    "\\end{bmatrix}\n",
    "and\n",
    "\\begin{bmatrix}\n",
    "         3 \\\\\n",
    "         6 \\\\\n",
    "         9\n",
    "\\end{bmatrix}\n",
    "$$\n",
    "\n",
    "$$\n",
    "Problem 2: \n",
    "\\begin{bmatrix}\n",
    "    1 \\\\\n",
    "    0 \\\\\n",
    "    0\n",
    "\\end{bmatrix}\n",
    "and\n",
    "\\begin{bmatrix}\n",
    "    0 \\\\\n",
    "    2 \\\\\n",
    "    3\n",
    "\\end{bmatrix}\n",
    "$$\n",
    "\n",
    "$$\n",
    "Problem 3:\n",
    "\\begin{bmatrix}\n",
    "    2 \\\\\n",
    "    0 \\\\\n",
    "    0\n",
    "\\end{bmatrix}\n",
    "and \n",
    "\\begin{bmatrix}\n",
    "    0 \\\\\n",
    "    2 \\\\\n",
    "    2\n",
    "\\end{bmatrix}\n",
    "and\n",
    "\\begin{bmatrix}\n",
    "    2 \\\\\n",
    "    2 \\\\\n",
    "    3\n",
    "\\end{bmatrix}\n",
    "$$\n"
   ]
  },
  {
   "cell_type": "code",
   "execution_count": null,
   "metadata": {
    "collapsed": true
   },
   "outputs": [],
   "source": []
  },
  {
   "cell_type": "markdown",
   "metadata": {},
   "source": [
    "### Linear Independence \n",
    "\n",
    "As we'll see, it's often desirable to find families of vectors with relatively large span, so that many vectors can be described by linear operators on a few vectors\n",
    "\n",
    "The condition we need for a set of vectors to have a large span is what's called linear independence\n",
    "\n",
    "In particular, a collection of vectors $A := \\{a_1, \\ldots, a_k\\}$ in $\\mathbb R ^n$ is said to be\n",
    "\n",
    "* *linearly dependent* if some strict subset of $A$ has the same span as $A$\n",
    "\n",
    "* *linearly independent* if it is not linearly dependent\n",
    "\n",
    "Put differently, a set of vectors is linearly independent if no vector is redundant to the span, and linearly dependent otherwise\n",
    "\n",
    "\n",
    "#### Unique Representations\n",
    "\n",
    "Another nice thing about sets of linearly independent vectors is that each element in the span has a unique representation as a linear combination of these vectors\n",
    "\n",
    "In other words, if $A := \\{a_1, \\ldots, a_k\\} \\subset \\mathbb R ^n$ is\n",
    "linearly independent and\n",
    "\n",
    "$$\n",
    "    y = \\beta_1 a_1 + \\cdots \\beta_k a_k\n",
    "$$\n",
    "\n",
    "then no other coefficient sequence $\\gamma_1, \\ldots, \\gamma_k$ will produce the same vector $y$\n",
    "\n",
    "Indeed, if we also have $y = \\gamma_1 a_1 + \\cdots \\gamma_k a_k$,\n",
    "then\n",
    "\n",
    "$$\n",
    "    (\\beta_1 - \\gamma_1) a_1 + \\cdots + (\\beta_k - \\gamma_k) a_k = 0\n",
    "$$\n",
    "\n",
    "Linear independence now implies $\\gamma_i = \\beta_i$ for all $i$"
   ]
  },
  {
   "cell_type": "code",
   "execution_count": null,
   "metadata": {
    "collapsed": true
   },
   "outputs": [],
   "source": []
  },
  {
   "cell_type": "markdown",
   "metadata": {},
   "source": [
    "## Matrices\n",
    "\n",
    "Reference: http://quant-econ.net/py/linear_algebra.html#matrices\n",
    "\n",
    "Matrices are a neat way of organizing data for use in linear operations\n",
    "\n",
    "An $n \\times k$ matrix is a rectangular array $A$ of numbers with $n$ rows and $k$ columns:\n",
    "\n",
    "$$\n",
    "    A =\n",
    "    \\left[\n",
    "    \\begin{array}{cccc}\n",
    "        a_{11} & a_{12} & \\cdots & a_{1k} \\\\\n",
    "        a_{21} & a_{22} & \\cdots & a_{2k} \\\\\n",
    "        \\vdots & \\vdots &  & \\vdots \\\\\n",
    "        a_{n1} & a_{n2} & \\cdots & a_{nk}\n",
    "    \\end{array}\n",
    "    \\right]\n",
    "$$\n",
    "\n",
    "Often, the numbers in the matrix represent coefficients in a system of linear equations, as discussed at the start of this lecture\n",
    "\n",
    "For obvious reasons, the matrix $A$ is also called a vector if either $n = 1$ or $k = 1$\n",
    "\n",
    "In the former case, $A$ is called a *row vector*, while in the latter it is called a *column vector*\n",
    "\n",
    "If $n = k$, then $A$ is called *square*\n",
    "\n",
    "The matrix formed by replacing $a_{ij}$ by $a_{ji}$ for every $i$ and $j$ is called the *transpose* of $A$, and denoted $A'$ or $A^{\\top}$\n",
    "\n",
    "If $A = A'$, then $A$ is called *symmetric*\n",
    "\n",
    "For a square matrix $A$, the $i$ elements of the form $a_{ii}$ for $i=1,\\ldots,n$ are called the *principal diagonal*\n",
    "\n",
    "$A$ is called *diagonal* if the only nonzero entries are on the principal diagonal\n",
    "\n",
    "If, in addition to being diagonal, each element along the principal diagonal is equal to 1, then $A$ is called the *identity matrix*, and denoted by $I$\n",
    "\n",
    "### Matrix Operations\n",
    "\n",
    "Just as was the case for vectors, a number of algebraic operations are defined for matrices\n",
    "\n",
    "Scalar multiplication and addition are immediate generalizations of the vector case:\n",
    "\n",
    "$$\n",
    "    \\gamma A\n",
    "    =\n",
    "    \\gamma\n",
    "    \\left[\n",
    "    \\begin{array}{ccc}\n",
    "        a_{11} &  \\cdots & a_{1k} \\\\\n",
    "        \\vdots & \\vdots  & \\vdots \\\\\n",
    "        a_{n1} &  \\cdots & a_{nk} \\\\\n",
    "    \\end{array}\n",
    "    \\right]\n",
    "    :=\n",
    "    \\left[\n",
    "    \\begin{array}{ccc}\n",
    "        \\gamma a_{11} & \\cdots & \\gamma a_{1k} \\\\\n",
    "        \\vdots & \\vdots & \\vdots \\\\\n",
    "        \\gamma a_{n1} & \\cdots & \\gamma a_{nk} \\\\\n",
    "    \\end{array}\n",
    "    \\right]\n",
    "$$\n",
    "\n",
    "and\n",
    "\n",
    "$$\n",
    "    A + B =\n",
    "    \\left[\n",
    "    \\begin{array}{ccc}\n",
    "        a_{11} & \\cdots & a_{1k} \\\\\n",
    "        \\vdots & \\vdots & \\vdots \\\\\n",
    "        a_{n1} & \\cdots & a_{nk} \\\\\n",
    "    \\end{array}\n",
    "    \\right]\n",
    "    +\n",
    "    \\left[\n",
    "    \\begin{array}{ccc}\n",
    "        b_{11} & \\cdots & b_{1k} \\\\\n",
    "        \\vdots & \\vdots & \\vdots \\\\\n",
    "        b_{n1} & \\cdots & b_{nk} \\\\\n",
    "    \\end{array}\n",
    "    \\right]\n",
    "    :=\n",
    "    \\left[\n",
    "    \\begin{array}{ccc}\n",
    "        a_{11} + b_{11} &  \\cdots & a_{1k} + b_{1k} \\\\\n",
    "        \\vdots & \\vdots & \\vdots \\\\\n",
    "        a_{n1} + b_{n1} &  \\cdots & a_{nk} + b_{nk} \\\\\n",
    "    \\end{array}\n",
    "    \\right]\n",
    "$$\n",
    "\n",
    "In the latter case, the matrices must have the same shape in order for the definition to make sense\n",
    "\n",
    "We also have a convention for *multiplying* two matrices\n",
    "\n",
    "The rule for matrix multiplication generalizes the idea of inner products discussed above,\n",
    "and is designed to make multiplication play well with basic linear operations\n",
    "\n",
    "If $A$ and $B$ are two matrices, then their product $A B$ is formed by taking as its\n",
    "$i,j$-th element the inner product of the $i$-th row of $A$ and the $j$-th column of $B$\n",
    "\n",
    "There are many tutorials to help you visualize this operation, such as `this one <http://www.mathsisfun.com/algebra/matrix-multiplying.html>`_, or the discussion on the `Wikipedia page <https://en.wikipedia.org/wiki/Matrix_multiplication>`_\n",
    "\n",
    "If $A$ is $n \\times k$ and $B$ is $j \\times m$, then\n",
    "to multiply $A$ and $B$ we require $k = j$, and the\n",
    "resulting matrix $A B$ is $n \\times m$\n",
    "\n",
    "As perhaps the most important special case, consider multiplying $n \\times k$ matrix $A$ and $k \\times 1$ column vector $x$\n",
    "\n",
    "According to the preceding rule, this gives us an $n \\times 1$ column vector\n",
    "\n",
    "$$\n",
    "    A x\n",
    "    =\n",
    "    \\left[\n",
    "    \\begin{array}{ccc}\n",
    "        a_{11} &  \\cdots & a_{1k} \\\\\n",
    "        \\vdots & \\vdots  & \\vdots \\\\\n",
    "        a_{n1} &  \\cdots & a_{nk}\n",
    "    \\end{array}\n",
    "    \\right]\n",
    "    \\left[\n",
    "    \\begin{array}{c}\n",
    "        x_{1}  \\\\\n",
    "        \\vdots  \\\\\n",
    "        x_{k}\n",
    "    \\end{array}\n",
    "    \\right]\n",
    "    :=\n",
    "    \\left[\n",
    "    \\begin{array}{c}\n",
    "        a_{11} x_1 + \\cdots + a_{1k} x_k \\\\\n",
    "        \\vdots \\\\\n",
    "        a_{n1} x_1 + \\cdots + a_{nk} x_k\n",
    "    \\end{array}\n",
    "    \\right]\n",
    "$$\n",
    "\n",
    "**Note:**\n",
    "\n",
    "$A B$ and $B A$ are not generally the same thing\n",
    "\n",
    "Another important special case is the identity matrix\n",
    "\n",
    "You should check that if $A$ is $n \\times k$ and $I$ is the $k \\times k$ identity matrix, then $AI = A$\n",
    "\n",
    "If $I$ is the $n \\times n$ identity matrix, then $IA = A$"
   ]
  },
  {
   "cell_type": "markdown",
   "metadata": {},
   "source": [
    "**Excercise \\#1:**\n",
    "\n",
    "Build a matrix representation using Python lists, then write a function that performs matrix multiplication using the base python language (i.e. do not use any packages)"
   ]
  },
  {
   "cell_type": "code",
   "execution_count": null,
   "metadata": {
    "collapsed": true
   },
   "outputs": [],
   "source": []
  },
  {
   "cell_type": "markdown",
   "metadata": {
    "collapsed": true
   },
   "source": [
    "### Rules for Matrix Operations\n",
    "\n",
    "**Comutative Law:**\n",
    "\n",
    "$$\n",
    "A + B = B + A\n",
    "$$\n",
    "\n",
    "**Distributive Law: Scalar**\n",
    "\n",
    "$$\n",
    "c(A + B) = cA + cB\n",
    "$$\n",
    "\n",
    "**Associative Law:**\n",
    "\n",
    "$$\n",
    "A + (B + C) = (A + B) + C\n",
    "$$\n",
    "\n",
    "**Commutative Law: Usually Broken**\n",
    "\n",
    "$$\n",
    "AB \\neq BA\n",
    "$$\n",
    "\n",
    "**Distributive Law: Matrices**\n",
    "\n",
    "From Left:\n",
    "$$\n",
    "C(A+B) = CA + CB\n",
    "$$\n",
    "\n",
    "From Right:\n",
    "$$\n",
    "(A+B)C = AC + BC\n",
    "$$\n",
    "\n",
    "**Associative Law: Matrices**\n",
    "\n",
    "$$\n",
    "A(BC) = (AB)C\n",
    "$$\n",
    "\n",
    "**Special Case: Square Matrices**\n",
    "\n",
    "When $A = B = C = square matrix$ then matrix exponentiation\n",
    "\n",
    "$$\n",
    "A^p = A_0A_1A_2...A_p\n",
    "$$\n",
    "\n",
    "$$\n",
    "(A^p)(A^q) = A^{p+q}\n",
    "$$\n",
    "\n",
    "$$\n",
    "(A^p)^q = A^{pq}\n",
    "$$"
   ]
  },
  {
   "cell_type": "markdown",
   "metadata": {
    "collapsed": true
   },
   "source": [
    "========================================================================================================================"
   ]
  },
  {
   "cell_type": "markdown",
   "metadata": {},
   "source": [
    "## Linear Systems of Equations\n",
    "\n",
    "See: http://quant-econ.net/py/linear_algebra.html#solving-systems-of-equations\n",
    "\n",
    "Many applied problems in economics, finance, operations research and other fields of science require the solution of a linear system of equations, such as\n",
    "\n",
    "$$\n",
    "    \\begin{array}{c}\n",
    "        y_1 = a x_1 + b x_2 \\\\\n",
    "        y_2 = c x_1 + d x_2\n",
    "    \\end{array}\n",
    "$$\n",
    "\n",
    "or, more generally,\n",
    "\n",
    "$$\n",
    "    \\begin{array}{c}\n",
    "        y_1 = a_{11} x_1 + a_{12} x_2 + \\cdots + a_{1k} x_k \\\\\n",
    "        \\vdots  \\\\\n",
    "        y_n = a_{n1} x_1 + a_{n2} x_2 + \\cdots + a_{nk} x_k\n",
    "    \\end{array}\n",
    "$$\n",
    "\n",
    "The objective here is to solve for the \"unknowns\" $x_1, \\ldots, x_k$ given $a_{11}, \\ldots, a_{nk}$ and $y_1, \\ldots, y_n$\n",
    "\n",
    "When considering such problems, it is essential that we first consider at least some of the following questions\n",
    "\n",
    "1. Does a solution actually exist?\n",
    "1. Are there in fact many solutions, and if so how should we interpret them?\n",
    "1. If no solution exists, is there a best \"approximate\" solution?\n",
    "1. If a solution exists, how should we compute it?\n",
    "\n",
    "See lecture notes for further discussion on\n",
    "\n",
    "1. Uniqueness\n",
    "2. $n$ x $n$ case\n",
    "3. More rows than columns case (application: linear regression)\n",
    "4. More columns than rows case\n"
   ]
  },
  {
   "cell_type": "code",
   "execution_count": 10,
   "metadata": {
    "collapsed": false
   },
   "outputs": [
    {
     "name": "stdout",
     "output_type": "stream",
     "text": [
      "Determinant of A\n",
      "-2.0\n",
      "\n",
      "A Inverse\n",
      "[[-2.   1. ]\n",
      " [ 1.5 -0.5]]\n",
      "\n",
      "Solution\n",
      "[[-1.]\n",
      " [ 1.]]\n",
      "\n",
      "Check equals to y\n",
      "\n",
      "Solution (using Scipy Solve)\n",
      "[[-1.]\n",
      " [ 1.]]\n"
     ]
    }
   ],
   "source": [
    "import numpy as np\n",
    "from scipy.linalg import inv, solve, det\n",
    "\n",
    "A = ((1, 2), (3, 4))\n",
    "A = np.array(A)\n",
    "y = np.ones((2, 1))  # Column vector\n",
    "print(\"Determinant of A\")  # Check that A is nonsingular, and hence invertible\n",
    "print (det(A))\n",
    "print()\n",
    "\n",
    "A_inv = inv(A)  # Compute the inverse\n",
    "print(\"A Inverse\")\n",
    "print(A_inv)\n",
    "print()\n",
    "\n",
    "x = np.dot(A_inv, y)  # Solution\n",
    "print(\"Solution\")\n",
    "print(x)\n",
    "print()\n",
    "\n",
    "print(\"Check equals to y\")\n",
    "np.dot(A, x)  \n",
    "print()\n",
    "\n",
    "#-Use solve method from scipy-#\n",
    "print(\"Solution (using Scipy Solve)\")\n",
    "print(solve(A, y))  # Produces same solution"
   ]
  },
  {
   "cell_type": "markdown",
   "metadata": {},
   "source": [
    "**Excercise \\#1:** Solve the following linear system of equations\n",
    "\n",
    "$$\n",
    "\\begin{align*}\n",
    "x_1 − 2x_2 + 2x_3 &= 5 \\\\\n",
    "x_1 − x_2 &= −1 \\\\\n",
    "−x_1 + x_2 + x_3 &= 5\n",
    "\\end{align*}\n",
    "$$\n",
    "\n",
    "by hand, and then verify using numpy to solve using ``np.linalg.solve()``"
   ]
  },
  {
   "cell_type": "code",
   "execution_count": null,
   "metadata": {
    "collapsed": true
   },
   "outputs": [],
   "source": []
  },
  {
   "cell_type": "code",
   "execution_count": null,
   "metadata": {
    "collapsed": false
   },
   "outputs": [],
   "source": []
  },
  {
   "cell_type": "markdown",
   "metadata": {},
   "source": [
    "**Excercise \\#2:** Solve the following linear system of equations\n",
    "\n",
    "$$\n",
    "\\begin{align*}\n",
    "x_1 + x_2 + 3x_3 &= 3 \\\\\n",
    "−x_1 + x_2 + x_3 &= −1 \\\\\n",
    "2x_1 + 3x_2 + 8x_3 &= 4\n",
    "\\end{align*}\n",
    "$$\n",
    "\n",
    "by hand, and then verify using numpy to solve using ``np.linalg.solve()``"
   ]
  },
  {
   "cell_type": "code",
   "execution_count": null,
   "metadata": {
    "collapsed": true
   },
   "outputs": [],
   "source": []
  },
  {
   "cell_type": "markdown",
   "metadata": {},
   "source": [
    "### Geometric Series of Matrices\n",
    "\n",
    "The formula:\n",
    "\n",
    "$$\n",
    "(I - A)^{-1} = I + A + A^2 + A^3 ...\n",
    "$$\n",
    "\n",
    "is the geometric series of matrices."
   ]
  },
  {
   "cell_type": "markdown",
   "metadata": {
    "collapsed": true
   },
   "source": [
    "What properties of A"
   ]
  },
  {
   "cell_type": "code",
   "execution_count": null,
   "metadata": {
    "collapsed": true
   },
   "outputs": [],
   "source": []
  },
  {
   "cell_type": "markdown",
   "metadata": {},
   "source": [
    "========================================================================================================================="
   ]
  },
  {
   "cell_type": "markdown",
   "metadata": {},
   "source": [
    "# Markov Matrices"
   ]
  },
  {
   "cell_type": "markdown",
   "metadata": {},
   "source": [
    "**Excercise \\#1:** [Research] What is a Markov matrix?"
   ]
  },
  {
   "cell_type": "code",
   "execution_count": null,
   "metadata": {
    "collapsed": true
   },
   "outputs": [],
   "source": []
  },
  {
   "cell_type": "markdown",
   "metadata": {},
   "source": [
    "### Demonstration of Markov Matrix"
   ]
  },
  {
   "cell_type": "code",
   "execution_count": 11,
   "metadata": {
    "collapsed": true
   },
   "outputs": [],
   "source": [
    "import numpy as np\n",
    "A = np.array([[0.8, 0.3], [0.2, 0.7]])"
   ]
  },
  {
   "cell_type": "code",
   "execution_count": 12,
   "metadata": {
    "collapsed": false
   },
   "outputs": [
    {
     "name": "stdout",
     "output_type": "stream",
     "text": [
      "[Iteration: 0] x = [ 0.1  0.9]\n",
      "[Iteration: 1] x = [ 0.35  0.65]\n",
      "[Iteration: 2] x = [ 0.475  0.525]\n",
      "[Iteration: 3] x = [ 0.5375  0.4625]\n",
      "[Iteration: 4] x = [ 0.56875  0.43125]\n",
      "[Iteration: 5] x = [ 0.584375  0.415625]\n",
      "[Iteration: 6] x = [ 0.5921875  0.4078125]\n",
      "[Iteration: 7] x = [ 0.59609375  0.40390625]\n",
      "[Iteration: 8] x = [ 0.59804688  0.40195313]\n",
      "[Iteration: 9] x = [ 0.59902344  0.40097656]\n"
     ]
    }
   ],
   "source": [
    "x = np.array([0.1, 0.9])\n",
    "for i in range(10):\n",
    "    print(\"[Iteration: %s] x = %s\"%(i,x))\n",
    "    x = A @ x"
   ]
  },
  {
   "cell_type": "code",
   "execution_count": 13,
   "metadata": {
    "collapsed": false
   },
   "outputs": [
    {
     "data": {
      "text/plain": [
       "array([ 0.6,  0.4])"
      ]
     },
     "execution_count": 13,
     "metadata": {},
     "output_type": "execute_result"
    }
   ],
   "source": [
    "#-Continue Iterating-#\n",
    "for i in range(100):\n",
    "    x = A @ x\n",
    "x"
   ]
  },
  {
   "cell_type": "markdown",
   "metadata": {},
   "source": [
    "#### Starting from different initial values ends up at the same steady state value"
   ]
  },
  {
   "cell_type": "code",
   "execution_count": 14,
   "metadata": {
    "collapsed": false
   },
   "outputs": [
    {
     "name": "stdout",
     "output_type": "stream",
     "text": [
      "[Iteration: 0] x = [ 0.5  0.5]\n",
      "[Iteration: 1] x = [ 0.55  0.45]\n",
      "[Iteration: 2] x = [ 0.575  0.425]\n",
      "[Iteration: 3] x = [ 0.5875  0.4125]\n",
      "[Iteration: 4] x = [ 0.59375  0.40625]\n",
      "[Iteration: 5] x = [ 0.596875  0.403125]\n",
      "[Iteration: 6] x = [ 0.5984375  0.4015625]\n",
      "[Iteration: 7] x = [ 0.59921875  0.40078125]\n",
      "[Iteration: 8] x = [ 0.59960938  0.40039062]\n",
      "[Iteration: 9] x = [ 0.59980469  0.40019531]\n"
     ]
    }
   ],
   "source": [
    "x = np.array([0.5, 0.5])\n",
    "for i in range(10):\n",
    "    print(\"[Iteration: %s] x = %s\"%(i,x))\n",
    "    x = A @ x"
   ]
  },
  {
   "cell_type": "code",
   "execution_count": null,
   "metadata": {
    "collapsed": false
   },
   "outputs": [],
   "source": []
  },
  {
   "cell_type": "markdown",
   "metadata": {},
   "source": [
    "### Example (from Strang (2009) \"Introduction to Linear Algebra\", 4th Edition)\n",
    "\n",
    "The fraction of rental cars in Denver starts at $\\frac{1}{50}=0.02$. The fraction outside of Denver is therefore $0.98$. Every month, $80\\%$ of the Denver cars stay in Denver, and $20\\%$ leave. Also $5\\%$ of outside cars come in, and therefore $95\\%$ stay outside of Denver). This means that the fractions $u_0 = (0.2, 0.98)$ are multiplied by A:\n",
    "\n",
    "We can sumarise this information into transition probabilities $A$ and use this information to compute next months composition of cars in Denver.\n",
    "$$\n",
    "A = \n",
    "\\begin{bmatrix}\n",
    "    0.8 & 0.2 \\\\\n",
    "    0.05 & 0.95 \n",
    "\\end{bmatrix}\n",
    "$$\n",
    "leads to \n",
    "$$\n",
    "u_1 = u_0*A = \\begin{bmatrix}0.02 , 0.98 \\end{bmatrix}*A=\\begin{bmatrix}0.065 , 0.935 \\end{bmatrix}\n",
    "$$\n",
    "\n",
    "The next month\n",
    "\n",
    "$$\n",
    "u_2 = u_1*A = \\begin{bmatrix}0.09875 , 0.90125 \\end{bmatrix}\n",
    "$$\n",
    "\n",
    "**What happens in the long run?**"
   ]
  },
  {
   "cell_type": "code",
   "execution_count": 15,
   "metadata": {
    "collapsed": false
   },
   "outputs": [],
   "source": [
    "import numpy as np\n",
    "A = np.array([[0.8, 0.2], [0.05, 0.95]])"
   ]
  },
  {
   "cell_type": "code",
   "execution_count": 16,
   "metadata": {
    "collapsed": false
   },
   "outputs": [
    {
     "name": "stdout",
     "output_type": "stream",
     "text": [
      "[ 0.2  0.8]\n"
     ]
    }
   ],
   "source": [
    "#-Simulate-#\n",
    "x = np.array([0,1])\n",
    "for i in range(100):\n",
    "    x = x @ A\n",
    "print(x)"
   ]
  },
  {
   "cell_type": "code",
   "execution_count": 17,
   "metadata": {
    "collapsed": false
   },
   "outputs": [],
   "source": [
    "#-Simulate and save the path of the state variables-#\n",
    "%matplotlib inline\n",
    "import pandas as pd\n",
    "x = [np.array([0,1])] #Initial Values for Denver and NotDenver#\n",
    "for i in range(20):\n",
    "    x.append(x[i] @ A)\n",
    "x = pd.DataFrame(x, columns=['Denver','NotDenver']) "
   ]
  },
  {
   "cell_type": "code",
   "execution_count": 18,
   "metadata": {
    "collapsed": false
   },
   "outputs": [
    {
     "data": {
      "text/html": [
       "<div>\n",
       "<table border=\"1\" class=\"dataframe\">\n",
       "  <thead>\n",
       "    <tr style=\"text-align: right;\">\n",
       "      <th></th>\n",
       "      <th>Denver</th>\n",
       "      <th>NotDenver</th>\n",
       "    </tr>\n",
       "  </thead>\n",
       "  <tbody>\n",
       "    <tr>\n",
       "      <th>0</th>\n",
       "      <td>0.000000</td>\n",
       "      <td>1.000000</td>\n",
       "    </tr>\n",
       "    <tr>\n",
       "      <th>1</th>\n",
       "      <td>0.050000</td>\n",
       "      <td>0.950000</td>\n",
       "    </tr>\n",
       "    <tr>\n",
       "      <th>2</th>\n",
       "      <td>0.087500</td>\n",
       "      <td>0.912500</td>\n",
       "    </tr>\n",
       "    <tr>\n",
       "      <th>3</th>\n",
       "      <td>0.115625</td>\n",
       "      <td>0.884375</td>\n",
       "    </tr>\n",
       "    <tr>\n",
       "      <th>4</th>\n",
       "      <td>0.136719</td>\n",
       "      <td>0.863281</td>\n",
       "    </tr>\n",
       "  </tbody>\n",
       "</table>\n",
       "</div>"
      ],
      "text/plain": [
       "     Denver  NotDenver\n",
       "0  0.000000   1.000000\n",
       "1  0.050000   0.950000\n",
       "2  0.087500   0.912500\n",
       "3  0.115625   0.884375\n",
       "4  0.136719   0.863281"
      ]
     },
     "execution_count": 18,
     "metadata": {},
     "output_type": "execute_result"
    }
   ],
   "source": [
    "x.head()"
   ]
  },
  {
   "cell_type": "code",
   "execution_count": 19,
   "metadata": {
    "collapsed": false
   },
   "outputs": [
    {
     "data": {
      "text/plain": [
       "<matplotlib.axes._subplots.AxesSubplot at 0x7f2ee584f390>"
      ]
     },
     "execution_count": 19,
     "metadata": {},
     "output_type": "execute_result"
    },
    {
     "data": {
      "image/png": "[encoded data removed]",
      "text/plain": [
       "<matplotlib.figure.Figure at 0x7f2efc144dd8>"
      ]
     },
     "metadata": {},
     "output_type": "display_data"
    }
   ],
   "source": [
    "x.plot() #Plot Simulation"
   ]
  },
  {
   "cell_type": "markdown",
   "metadata": {},
   "source": [
    "Let us now use now define many different starting values"
   ]
  },
  {
   "cell_type": "code",
   "execution_count": 20,
   "metadata": {
    "collapsed": false
   },
   "outputs": [],
   "source": [
    "#-Build a Collection of Simulations-#\n",
    "seq = []\n",
    "for v in np.arange(0,1.1,0.2):\n",
    "    x = [np.array([v,1-v])] #Initial Values for Denver and NotDenver#\n",
    "    for i in range(20):\n",
    "        x.append(x[i] @ A)\n",
    "    x = pd.DataFrame(x, columns=['Denver','NotDenver'])\n",
    "    seq.append(x)"
   ]
  },
  {
   "cell_type": "code",
   "execution_count": 21,
   "metadata": {
    "collapsed": false
   },
   "outputs": [
    {
     "name": "stdout",
     "output_type": "stream",
     "text": [
      "Initial Conditions\n",
      "   Denver  NotDenver\n",
      "0       0          1\n",
      "   Denver  NotDenver\n",
      "0     0.2        0.8\n",
      "   Denver  NotDenver\n",
      "0     0.4        0.6\n",
      "   Denver  NotDenver\n",
      "0     0.6        0.4\n",
      "   Denver  NotDenver\n",
      "0     0.8        0.2\n",
      "   Denver  NotDenver\n",
      "0       1          0\n"
     ]
    }
   ],
   "source": [
    "#-Consider the Initial Conditions-#\n",
    "print(\"Initial Conditions\")\n",
    "for item in seq:\n",
    "    print(item.head(1))"
   ]
  },
  {
   "cell_type": "code",
   "execution_count": 22,
   "metadata": {
    "collapsed": false
   },
   "outputs": [
    {
     "data": {
      "image/png": "[encoded data removed]",
      "text/plain": [
       "<matplotlib.figure.Figure at 0x7f2ee5543908>"
      ]
     },
     "metadata": {},
     "output_type": "display_data"
    }
   ],
   "source": [
    "#-Plot the different paths on the same canvas-#\n",
    "import matplotlib.pyplot as plt\n",
    "fig = plt.figure()\n",
    "ax = fig.gca()\n",
    "for item in seq:\n",
    "    item.plot(ax=ax, legend=False)"
   ]
  },
  {
   "cell_type": "markdown",
   "metadata": {},
   "source": [
    "**Excercise \\#3:** Solve the steady state values using the eigenvalues and eigenvectors of the $A$ matrix"
   ]
  },
  {
   "cell_type": "code",
   "execution_count": null,
   "metadata": {
    "collapsed": true
   },
   "outputs": [],
   "source": []
  },
  {
   "cell_type": "markdown",
   "metadata": {},
   "source": [
    "**Excercise \\#4:** Find the eigenvalues of this Markov matrix (hint: their sum is the trace)\n",
    "\n",
    "$$\n",
    "A = \n",
    "\\begin{bmatrix}\n",
    "  0.9 & 0.15 \\\\\n",
    "  0.1 & 0.85 \n",
    " \\end{bmatrix}\n",
    "$$\n",
    "\n",
    "What is the steady state eigenvector for the eivenvalue $\\lambda_1 = 1$?"
   ]
  },
  {
   "cell_type": "code",
   "execution_count": null,
   "metadata": {
    "collapsed": true
   },
   "outputs": [],
   "source": []
  },
  {
   "cell_type": "markdown",
   "metadata": {},
   "source": [
    "**Question \\#5:** What are the eigenvalues and steady state eigenvectors for these Markov matrices?\n",
    "\n",
    "$$\n",
    "A = \n",
    "\\begin{bmatrix}\n",
    "  0.1 & 0.2 \\\\\n",
    "  0 & 0.8 \n",
    "\\end{bmatrix}\n",
    "$$\n",
    "\n",
    "$$\n",
    "B =\n",
    "\\begin{bmatrix}\n",
    "  0.2 & 1 \\\\\n",
    "  0.8 & 0\n",
    "\\end{bmatrix}\n",
    "$$\n",
    "\n",
    "$$\n",
    "C = \n",
    "\\begin{bmatrix}\n",
    "  0.5 & 0.25 & 0.25 \\\\\n",
    "  0.25 & 0.5 & 0.25 \\\\\n",
    "  0.25 & 0.25 & 0.5\n",
    "\\end{bmatrix}\n",
    "$$"
   ]
  },
  {
   "cell_type": "code",
   "execution_count": null,
   "metadata": {
    "collapsed": true
   },
   "outputs": [],
   "source": []
  }
 ],
 "metadata": {
  "kernelspec": {
   "display_name": "Python 3",
   "language": "python",
   "name": "python3"
  },
  "language_info": {
   "codemirror_mode": {
    "name": "ipython",
    "version": 3
   },
   "file_extension": ".py",
   "mimetype": "text/x-python",
   "name": "python",
   "nbconvert_exporter": "python",
   "pygments_lexer": "ipython3",
   "version": "3.5.1"
  }
 },
 "nbformat": 4,
 "nbformat_minor": 0
}
