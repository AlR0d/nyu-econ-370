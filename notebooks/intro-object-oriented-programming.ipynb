{
 "cells": [
  {
   "cell_type": "markdown",
   "metadata": {},
   "source": [
    "# Object Oriented Programming (Python)\n",
    "\n",
    "**Reference:** http://quant-econ.net/py/python_oop.html\n",
    "\n",
    "## Why use Object Oriented Programming (OOP)?\n",
    "\n",
    "OOP has become an important concept in modern software engineering because\n",
    "\n",
    "1. It can help facilitate clean, efficient code (if used well)\n",
    "1. The OOP design pattern fits well with many computing problems\n",
    "\n",
    "## Key Concepts\n",
    "\n",
    "The traditional (non-OOP) paradigm is called procedural, and works as follows\n",
    "\n",
    "1. The program has a state that contains the values of its variables\n",
    "1. Functions are called to act on these data according to the task\n",
    "1. Data are passed back and forth via function calls\n",
    "\n",
    "**In contrast**, in the OOP paradigm, data and functions are bundled together into “objects”\n",
    "\n"
   ]
  },
  {
   "cell_type": "markdown",
   "metadata": {},
   "source": [
    "An example is a Python **list**, which not only stores data, but also knows stores methods on how to sort itself, etc."
   ]
  },
  {
   "cell_type": "code",
   "execution_count": 3,
   "metadata": {
    "collapsed": true
   },
   "outputs": [],
   "source": [
    "x = [1, 5, 4]"
   ]
  },
  {
   "cell_type": "markdown",
   "metadata": {},
   "source": [
    "Here sort is a function that is “part of” the list object\n",
    "\n",
    "In the OOP setting, functions are usually called methods (e.g., sort is a list method)"
   ]
  },
  {
   "cell_type": "code",
   "execution_count": 4,
   "metadata": {
    "collapsed": true
   },
   "outputs": [],
   "source": [
    "x.sort()"
   ]
  },
  {
   "cell_type": "code",
   "execution_count": 5,
   "metadata": {
    "collapsed": false
   },
   "outputs": [
    {
     "data": {
      "text/plain": [
       "[1, 4, 5]"
      ]
     },
     "execution_count": 5,
     "metadata": {},
     "output_type": "execute_result"
    }
   ],
   "source": [
    "x"
   ]
  },
  {
   "cell_type": "code",
   "execution_count": 6,
   "metadata": {
    "collapsed": false
   },
   "outputs": [
    {
     "data": {
      "text/plain": [
       "5"
      ]
     },
     "execution_count": 6,
     "metadata": {},
     "output_type": "execute_result"
    }
   ],
   "source": [
    "x.pop()"
   ]
  },
  {
   "cell_type": "code",
   "execution_count": 7,
   "metadata": {
    "collapsed": false
   },
   "outputs": [
    {
     "data": {
      "text/plain": [
       "[1, 4]"
      ]
     },
     "execution_count": 7,
     "metadata": {},
     "output_type": "execute_result"
    }
   ],
   "source": [
    "x"
   ]
  },
  {
   "cell_type": "markdown",
   "metadata": {},
   "source": [
    "**Standard Terminology**\n",
    "\n",
    "A class definition is a blueprint for a particular class of objects (e.g., lists, strings or complex numbers)\n",
    "\n",
    "It describes:\n",
    "\n",
    "1. What kind of data the class stores\n",
    "1. What methods it has for acting on these data\n",
    "\n",
    "An object or instance is a realization of the class, created from the blueprint\n",
    "\n",
    "1. Each instance has its own unique data\n",
    "1. Methods set out in the class definition act on this (and other) data\n",
    "\n",
    "In Python, the data and methods of an object are collectively referred to as attributes\n",
    "\n",
    "Attributes are accessed via “dotted attribute notation”\n",
    "\n",
    "1. object_name.data\n",
    "1. object_name.method_name()"
   ]
  },
  {
   "cell_type": "code",
   "execution_count": 8,
   "metadata": {
    "collapsed": true
   },
   "outputs": [],
   "source": [
    "x = [1,5,4]  #Object or Instance of Object"
   ]
  },
  {
   "cell_type": "code",
   "execution_count": 9,
   "metadata": {
    "collapsed": true
   },
   "outputs": [],
   "source": [
    "x.sort()   #Attribute"
   ]
  },
  {
   "cell_type": "code",
   "execution_count": 10,
   "metadata": {
    "collapsed": false
   },
   "outputs": [
    {
     "data": {
      "text/plain": [
       "list"
      ]
     },
     "execution_count": 10,
     "metadata": {},
     "output_type": "execute_result"
    }
   ],
   "source": [
    "x.__class__  #Attribute (Special Method)"
   ]
  },
  {
   "cell_type": "markdown",
   "metadata": {},
   "source": [
    "**How do you find associated methods?** \n",
    "\n",
    "1. Tab Completion using **IPython**\n",
    "2. Using the dir() function"
   ]
  },
  {
   "cell_type": "code",
   "execution_count": null,
   "metadata": {
    "collapsed": true
   },
   "outputs": [],
   "source": [
    "x."
   ]
  },
  {
   "cell_type": "code",
   "execution_count": 11,
   "metadata": {
    "collapsed": true
   },
   "outputs": [],
   "source": [
    "dir?"
   ]
  },
  {
   "cell_type": "code",
   "execution_count": 12,
   "metadata": {
    "collapsed": false,
    "scrolled": true
   },
   "outputs": [
    {
     "data": {
      "text/plain": [
       "['__add__',\n",
       " '__class__',\n",
       " '__contains__',\n",
       " '__delattr__',\n",
       " '__delitem__',\n",
       " '__dir__',\n",
       " '__doc__',\n",
       " '__eq__',\n",
       " '__format__',\n",
       " '__ge__',\n",
       " '__getattribute__',\n",
       " '__getitem__',\n",
       " '__gt__',\n",
       " '__hash__',\n",
       " '__iadd__',\n",
       " '__imul__',\n",
       " '__init__',\n",
       " '__iter__',\n",
       " '__le__',\n",
       " '__len__',\n",
       " '__lt__',\n",
       " '__mul__',\n",
       " '__ne__',\n",
       " '__new__',\n",
       " '__reduce__',\n",
       " '__reduce_ex__',\n",
       " '__repr__',\n",
       " '__reversed__',\n",
       " '__rmul__',\n",
       " '__setattr__',\n",
       " '__setitem__',\n",
       " '__sizeof__',\n",
       " '__str__',\n",
       " '__subclasshook__',\n",
       " 'append',\n",
       " 'clear',\n",
       " 'copy',\n",
       " 'count',\n",
       " 'extend',\n",
       " 'index',\n",
       " 'insert',\n",
       " 'pop',\n",
       " 'remove',\n",
       " 'reverse',\n",
       " 'sort']"
      ]
     },
     "execution_count": 12,
     "metadata": {},
     "output_type": "execute_result"
    }
   ],
   "source": [
    "dir(x)"
   ]
  },
  {
   "cell_type": "markdown",
   "metadata": {},
   "source": [
    "## Why is OOP Useful?\n",
    "\n",
    "> OOP is useful for the same reason that abstraction is useful: for recognizing and exploiting common structure\n",
    "\n",
    "Examples:\n",
    "\n",
    "1. general equilibrium theory consists of a commodity space, preferences, technologies, and an equilibrium definition\n",
    "1. a game consists of a list of players, lists of actions available to each player, player payoffs as functions of all players’ actions, and a timing protocol\n",
    "\n",
    "In **Economics** another key reason to use Object Oriented programming is that it can naturally align itself with an object that holds some **data** and associated **methods** that work on that data. This grouping naturally lends itself to working with different **Models**. As you can pass an object around and all the data and operations come with it."
   ]
  },
  {
   "cell_type": "markdown",
   "metadata": {},
   "source": [
    "### NameSpaces\n",
    "\n",
    "**One Use Case**\n",
    "\n",
    "Another useful feature of Python's \"Everything is an Object\" philosophy is the usefulness of different **NameSpaces**."
   ]
  },
  {
   "cell_type": "markdown",
   "metadata": {},
   "source": [
    "**Example.** The modules **os** and **sys** both define a different attribute called path"
   ]
  },
  {
   "cell_type": "code",
   "execution_count": 18,
   "metadata": {
    "collapsed": true
   },
   "outputs": [],
   "source": [
    "from os import path\n",
    "from sys import path"
   ]
  },
  {
   "cell_type": "code",
   "execution_count": 19,
   "metadata": {
    "collapsed": false
   },
   "outputs": [
    {
     "data": {
      "text/plain": [
       "['',\n",
       " '/home/matthewmckay/anaconda/lib/python3.5/site-packages/pygments_ipython_console-0.2.7-py3.5.egg',\n",
       " '/home/matthewmckay/anaconda/lib/python35.zip',\n",
       " '/home/matthewmckay/anaconda/lib/python3.5',\n",
       " '/home/matthewmckay/anaconda/lib/python3.5/plat-linux',\n",
       " '/home/matthewmckay/anaconda/lib/python3.5/lib-dynload',\n",
       " '/home/matthewmckay/anaconda/lib/python3.5/site-packages/Sphinx-1.3.5-py3.5.egg',\n",
       " '/home/matthewmckay/anaconda/lib/python3.5/site-packages/setuptools-20.1.1-py3.5.egg',\n",
       " '/home/matthewmckay/anaconda/lib/python3.5/site-packages',\n",
       " '/home/matthewmckay/anaconda/lib/python3.5/site-packages/cryptography-1.0.2-py3.5-linux-x86_64.egg',\n",
       " '/home/matthewmckay/anaconda/lib/python3.5/site-packages/IPython/extensions',\n",
       " '/home/matthewmckay/.ipython']"
      ]
     },
     "execution_count": 19,
     "metadata": {},
     "output_type": "execute_result"
    }
   ],
   "source": [
    "path"
   ]
  },
  {
   "cell_type": "markdown",
   "metadata": {},
   "source": [
    "Had a **collision** and only the second path from **sys** is available. "
   ]
  },
  {
   "cell_type": "code",
   "execution_count": 20,
   "metadata": {
    "collapsed": true
   },
   "outputs": [],
   "source": [
    "import os\n",
    "import sys"
   ]
  },
  {
   "cell_type": "code",
   "execution_count": 22,
   "metadata": {
    "collapsed": false
   },
   "outputs": [
    {
     "name": "stdout",
     "output_type": "stream",
     "text": [
      "<module 'posixpath' from '/home/matthewmckay/anaconda/lib/python3.5/posixpath.py'>\n"
     ]
    }
   ],
   "source": [
    "print(os.path) #Module"
   ]
  },
  {
   "cell_type": "code",
   "execution_count": 23,
   "metadata": {
    "collapsed": false
   },
   "outputs": [
    {
     "name": "stdout",
     "output_type": "stream",
     "text": [
      "['', '/home/matthewmckay/anaconda/lib/python3.5/site-packages/pygments_ipython_console-0.2.7-py3.5.egg', '/home/matthewmckay/anaconda/lib/python35.zip', '/home/matthewmckay/anaconda/lib/python3.5', '/home/matthewmckay/anaconda/lib/python3.5/plat-linux', '/home/matthewmckay/anaconda/lib/python3.5/lib-dynload', '/home/matthewmckay/anaconda/lib/python3.5/site-packages/Sphinx-1.3.5-py3.5.egg', '/home/matthewmckay/anaconda/lib/python3.5/site-packages/setuptools-20.1.1-py3.5.egg', '/home/matthewmckay/anaconda/lib/python3.5/site-packages', '/home/matthewmckay/anaconda/lib/python3.5/site-packages/cryptography-1.0.2-py3.5-linux-x86_64.egg', '/home/matthewmckay/anaconda/lib/python3.5/site-packages/IPython/extensions', '/home/matthewmckay/.ipython']\n"
     ]
    }
   ],
   "source": [
    "print(sys.path) #List"
   ]
  },
  {
   "cell_type": "markdown",
   "metadata": {
    "collapsed": true
   },
   "source": [
    "====================================================================================================================="
   ]
  },
  {
   "cell_type": "markdown",
   "metadata": {},
   "source": [
    "## Defining our Own Classes\n",
    "\n",
    "Let's start with a simple Example. A **Class** as a container of attributes"
   ]
  },
  {
   "cell_type": "code",
   "execution_count": 109,
   "metadata": {
    "collapsed": true
   },
   "outputs": [],
   "source": [
    "class Consumer():\n",
    "    pass"
   ]
  },
  {
   "cell_type": "code",
   "execution_count": 110,
   "metadata": {
    "collapsed": true
   },
   "outputs": [],
   "source": [
    "c1 = Consumer()        #Create an Instance"
   ]
  },
  {
   "cell_type": "code",
   "execution_count": 111,
   "metadata": {
    "collapsed": true
   },
   "outputs": [],
   "source": [
    "c1.wealth = 10         #Attach an Attribute"
   ]
  },
  {
   "cell_type": "code",
   "execution_count": 112,
   "metadata": {
    "collapsed": false
   },
   "outputs": [
    {
     "data": {
      "text/plain": [
       "10"
      ]
     },
     "execution_count": 112,
     "metadata": {},
     "output_type": "execute_result"
    }
   ],
   "source": [
    "c1.wealth"
   ]
  },
  {
   "cell_type": "markdown",
   "metadata": {},
   "source": [
    "Let's build a **Consumer** class with more structure, including some methods\n",
    "\n",
    "1. Wealth\n",
    "1. Earning\n",
    "1. Spending"
   ]
  },
  {
   "cell_type": "code",
   "execution_count": 13,
   "metadata": {
    "collapsed": true
   },
   "outputs": [],
   "source": [
    "class Consumer:\n",
    "    \n",
    "    def __init__(self, w):\n",
    "        \"Initialize consumer with w dollars of wealth\"\n",
    "        self.wealth = w\n",
    "        \n",
    "    def earn(self, y):\n",
    "        \"The consumer earns y dollars\" \n",
    "        self.wealth += y\n",
    "        \n",
    "    def spend(self, x):\n",
    "        \"The consumer spends x dollars if feasible\"\n",
    "        new_wealth = self.wealth - x\n",
    "        if new_wealth < 0:\n",
    "            print(\"Insufficent funds\")\n",
    "        else:\n",
    "            self.wealth = new_wealth"
   ]
  },
  {
   "cell_type": "code",
   "execution_count": 22,
   "metadata": {
    "collapsed": true
   },
   "outputs": [],
   "source": [
    "c1 = Consumer(10)    #Create a Consumer with 10 Dollars of Wealth"
   ]
  },
  {
   "cell_type": "code",
   "execution_count": 23,
   "metadata": {
    "collapsed": false
   },
   "outputs": [
    {
     "data": {
      "text/plain": [
       "10"
      ]
     },
     "execution_count": 23,
     "metadata": {},
     "output_type": "execute_result"
    }
   ],
   "source": [
    "c1.wealth"
   ]
  },
  {
   "cell_type": "code",
   "execution_count": 24,
   "metadata": {
    "collapsed": true
   },
   "outputs": [],
   "source": [
    "c1.spend(5)"
   ]
  },
  {
   "cell_type": "code",
   "execution_count": 25,
   "metadata": {
    "collapsed": false
   },
   "outputs": [
    {
     "data": {
      "text/plain": [
       "5"
      ]
     },
     "execution_count": 25,
     "metadata": {},
     "output_type": "execute_result"
    }
   ],
   "source": [
    "c1.wealth"
   ]
  },
  {
   "cell_type": "code",
   "execution_count": 26,
   "metadata": {
    "collapsed": true
   },
   "outputs": [],
   "source": [
    "c1.earn(15)"
   ]
  },
  {
   "cell_type": "code",
   "execution_count": 27,
   "metadata": {
    "collapsed": false
   },
   "outputs": [
    {
     "data": {
      "text/plain": [
       "20"
      ]
     },
     "execution_count": 27,
     "metadata": {},
     "output_type": "execute_result"
    }
   ],
   "source": [
    "c1.wealth"
   ]
  },
  {
   "cell_type": "code",
   "execution_count": 28,
   "metadata": {
    "collapsed": false
   },
   "outputs": [
    {
     "name": "stdout",
     "output_type": "stream",
     "text": [
      "Insufficent funds\n"
     ]
    }
   ],
   "source": [
    "c1.spend(100)"
   ]
  },
  {
   "cell_type": "code",
   "execution_count": 29,
   "metadata": {
    "collapsed": false
   },
   "outputs": [
    {
     "data": {
      "text/plain": [
       "20"
      ]
     },
     "execution_count": 29,
     "metadata": {},
     "output_type": "execute_result"
    }
   ],
   "source": [
    "c1.wealth"
   ]
  },
  {
   "cell_type": "markdown",
   "metadata": {},
   "source": [
    "These **Consumer** objects could then be used in Agent Based Models to handle consumer behaviour in an abstract way etc.\n"
   ]
  },
  {
   "cell_type": "markdown",
   "metadata": {
    "collapsed": true
   },
   "source": [
    "===================================================================================================================="
   ]
  },
  {
   "cell_type": "markdown",
   "metadata": {},
   "source": [
    "## Example 2: A Market\n",
    "\n",
    "Next let’s write a class for a simple one good market where agents are price takers\n",
    "\n",
    "The market consists of the following objects:\n",
    "\n",
    "1. A linear demand curve $Q=a_d−b_dp$ \n",
    "1. A linear supply curve $Q=a_z+b_z(p−t)$\n",
    "\n",
    "Here\n",
    "\n",
    "1. $p$ is price paid by the consumer, \n",
    "1. $Q$ is quantity, and \n",
    "1. $t$ is a per unit tax\n",
    "\n",
    "Other symbols are demand and supply parameters\n",
    "\n",
    "The class provides methods to compute various values of interest, including **competitive equlibrium price** and **quantity**, **tax revenue raised**, **consumer surplus** and **producer surplus**"
   ]
  },
  {
   "cell_type": "code",
   "execution_count": 124,
   "metadata": {
    "collapsed": false
   },
   "outputs": [],
   "source": [
    "%matplotlib inline\n",
    "from __future__ import division\n",
    "from scipy.integrate import quad\n",
    "import matplotlib.pyplot as plt\n",
    "import numpy as np\n",
    "\n",
    "class Market:\n",
    "\n",
    "    def __init__(self, ad, bd, az, bz, tax):\n",
    "        \"\"\"\n",
    "        Set up market parameters.  All parameters are scalars.  See\n",
    "        http://quant-econ.net/py/python_oop.html for interpretation.\n",
    "\n",
    "        \"\"\"\n",
    "        self.ad, self.bd, self.az, self.bz, self.tax = ad, bd, az, bz, tax\n",
    "        if ad < az:\n",
    "            raise ValueError('Insufficient demand.')\n",
    "        \n",
    "    def price(self):\n",
    "        \"Return equilibrium price\"\n",
    "        return  (self.ad - self.az + self.bz*self.tax)/(self.bd + self.bz) \n",
    "    \n",
    "    def quantity(self):\n",
    "        \"Compute equilibrium quantity\"\n",
    "        return  self.ad - self.bd * self.price()\n",
    "        \n",
    "    def consumer_surp(self):\n",
    "        \"Compute consumer surplus\"\n",
    "        # == Compute area under inverse demand function == #\n",
    "        integrand = lambda x: (self.ad/self.bd) - (1/self.bd)* x\n",
    "        area, error = quad(integrand, 0, self.quantity())\n",
    "        return area - self.price() * self.quantity()\n",
    "    \n",
    "    def producer_surp(self):\n",
    "        \"Compute producer surplus\"\n",
    "        #  == Compute area above inverse supply curve, excluding tax == #\n",
    "        integrand = lambda x: -(self.az/self.bz) + (1/self.bz) * x\n",
    "        area, error = quad(integrand, 0, self.quantity())  \n",
    "        return (self.price() - self.tax) * self.quantity() - area\n",
    "    \n",
    "    def taxrev(self):\n",
    "        \"Compute tax revenue\"\n",
    "        return self.tax * self.quantity()\n",
    "        \n",
    "    def inverse_demand(self,x):\n",
    "        \"Compute inverse demand\"\n",
    "        return self.ad/self.bd - (1/self.bd)* x\n",
    "    \n",
    "    def inverse_supply(self,x):\n",
    "        \"Compute inverse supply curve\"\n",
    "        return -(self.az/self.bz) + (1/self.bz) * x + self.tax\n",
    "    \n",
    "    def inverse_supply_no_tax(self,x):\n",
    "        \"Compute inverse supply curve without tax\"\n",
    "        return -(self.az/self.bz) + (1/self.bz) * x\n",
    "    \n",
    "    def plot(self):\n",
    "        q_max = self.quantity() * 2\n",
    "        q_grid = np.linspace(0.0, q_max, 100)\n",
    "        pd = self.inverse_demand(q_grid)\n",
    "        ps = self.inverse_supply(q_grid)\n",
    "        psno = self.inverse_supply_no_tax(q_grid)    \n",
    "\n",
    "        fig, ax = plt.subplots()\n",
    "        ax.plot(q_grid, pd, lw=2, alpha=0.6, label='demand')\n",
    "        ax.plot(q_grid, ps, lw=2, alpha=0.6, label='supply') \n",
    "        ax.plot(q_grid, psno, '--k', lw=2, alpha=0.6, label='supply without tax')\n",
    "        ax.set_xlabel('quantity', fontsize=14)\n",
    "        ax.set_xlim(0, q_max)\n",
    "        ax.set_ylabel('price', fontsize=14)\n",
    "        ax.legend(loc='lower right', frameon=False, fontsize=14)\n",
    "        return fig"
   ]
  },
  {
   "cell_type": "code",
   "execution_count": 125,
   "metadata": {
    "collapsed": true
   },
   "outputs": [],
   "source": [
    "m = Market(15, 0.5, -2, 0.5, 3)"
   ]
  },
  {
   "cell_type": "code",
   "execution_count": 126,
   "metadata": {
    "collapsed": false
   },
   "outputs": [
    {
     "name": "stdout",
     "output_type": "stream",
     "text": [
      "equilibrium price =  18.5\n"
     ]
    }
   ],
   "source": [
    "print(\"equilibrium price = \", m.price())"
   ]
  },
  {
   "cell_type": "code",
   "execution_count": 127,
   "metadata": {
    "collapsed": false
   },
   "outputs": [
    {
     "name": "stdout",
     "output_type": "stream",
     "text": [
      "consumer surplus =  33.0625\n"
     ]
    }
   ],
   "source": [
    "print(\"consumer surplus = \", m.consumer_surp())"
   ]
  },
  {
   "cell_type": "code",
   "execution_count": 128,
   "metadata": {
    "collapsed": false
   },
   "outputs": [
    {
     "data": {
      "image/png": "[encoded data removed]",
      "text/plain": [
       "<matplotlib.figure.Figure at 0x7efc9f478780>"
      ]
     },
     "metadata": {},
     "output_type": "display_data"
    }
   ],
   "source": [
    "m.plot()"
   ]
  },
  {
   "cell_type": "code",
   "execution_count": 129,
   "metadata": {
    "collapsed": false
   },
   "outputs": [
    {
     "data": {
      "text/plain": [
       "17.25"
      ]
     },
     "execution_count": 129,
     "metadata": {},
     "output_type": "execute_result"
    }
   ],
   "source": [
    "m.taxrev()"
   ]
  },
  {
   "cell_type": "code",
   "execution_count": null,
   "metadata": {
    "collapsed": true
   },
   "outputs": [],
   "source": []
  },
  {
   "cell_type": "markdown",
   "metadata": {},
   "source": [
    "## Special Methods\n",
    "\n",
    "Special Methods are methods (or functions) that serve a very specific purpose. For example `__init__()` can be used to initialise an object at the time an instance of the object is created. \n",
    "\n",
    "The `__add__()` method is used to inform Python how you can add two objects together using the **+** operator. \n",
    "\n",
    "Let's think about a **Time** Example.\n",
    "\n",
    "**Reference:** \"Think Python\" by Allen Downey"
   ]
  },
  {
   "cell_type": "code",
   "execution_count": 82,
   "metadata": {
    "collapsed": true
   },
   "outputs": [],
   "source": [
    "class Time(object):\n",
    "    \"\"\" Represents the time of day \"\"\"\n",
    "    hour = int\n",
    "    minute = int\n",
    "    second = int\n",
    "    \n",
    "    def __init__(self, hour=0, minute=0, second=0, seconds=None):\n",
    "        if type(seconds) == int:\n",
    "            self.seconds_to_time(seconds)\n",
    "        else:\n",
    "            self.hour = hour\n",
    "            self.minute = minute\n",
    "            self.second = second\n",
    "    \n",
    "    def __add__(self, other):\n",
    "        seconds = self.time_to_seconds() + other.time_to_seconds()\n",
    "        return Time(seconds=seconds)\n",
    "    \n",
    "    def __str__(self):\n",
    "        return \"H:%s, M:%s, S:%s\" % (self.hour, self.minute, self.second)\n",
    "    \n",
    "    def time_to_seconds(self):\n",
    "        return self.hour * 3600 + self.minute * 60 + self.second\n",
    "        \n",
    "    def seconds_to_time(self, seconds):\n",
    "        minutes, self.second = divmod(seconds,60)\n",
    "        self.hour, self.minute = divmod(minutes, 60)"
   ]
  },
  {
   "cell_type": "code",
   "execution_count": 83,
   "metadata": {
    "collapsed": false
   },
   "outputs": [],
   "source": [
    "t = Time(2,30,2)"
   ]
  },
  {
   "cell_type": "code",
   "execution_count": 84,
   "metadata": {
    "collapsed": false
   },
   "outputs": [],
   "source": [
    "seconds = t.time_to_seconds()"
   ]
  },
  {
   "cell_type": "code",
   "execution_count": 85,
   "metadata": {
    "collapsed": false
   },
   "outputs": [
    {
     "data": {
      "text/plain": [
       "9002"
      ]
     },
     "execution_count": 85,
     "metadata": {},
     "output_type": "execute_result"
    }
   ],
   "source": [
    "seconds"
   ]
  },
  {
   "cell_type": "code",
   "execution_count": 86,
   "metadata": {
    "collapsed": true
   },
   "outputs": [],
   "source": [
    "t.seconds_to_time(seconds)"
   ]
  },
  {
   "cell_type": "code",
   "execution_count": 87,
   "metadata": {
    "collapsed": false
   },
   "outputs": [
    {
     "data": {
      "text/plain": [
       "2"
      ]
     },
     "execution_count": 87,
     "metadata": {},
     "output_type": "execute_result"
    }
   ],
   "source": [
    "t.hour"
   ]
  },
  {
   "cell_type": "code",
   "execution_count": 88,
   "metadata": {
    "collapsed": false
   },
   "outputs": [
    {
     "data": {
      "text/plain": [
       "30"
      ]
     },
     "execution_count": 88,
     "metadata": {},
     "output_type": "execute_result"
    }
   ],
   "source": [
    "t.minute"
   ]
  },
  {
   "cell_type": "code",
   "execution_count": 89,
   "metadata": {
    "collapsed": false
   },
   "outputs": [
    {
     "data": {
      "text/plain": [
       "2"
      ]
     },
     "execution_count": 89,
     "metadata": {},
     "output_type": "execute_result"
    }
   ],
   "source": [
    "t.second"
   ]
  },
  {
   "cell_type": "code",
   "execution_count": 90,
   "metadata": {
    "collapsed": false
   },
   "outputs": [
    {
     "name": "stdout",
     "output_type": "stream",
     "text": [
      "H:2, M:30, S:2\n"
     ]
    }
   ],
   "source": [
    "print(t)"
   ]
  },
  {
   "cell_type": "markdown",
   "metadata": {},
   "source": [
    "#### Overloading on the + operator"
   ]
  },
  {
   "cell_type": "code",
   "execution_count": 91,
   "metadata": {
    "collapsed": true
   },
   "outputs": [],
   "source": [
    "t1 = Time(2,30,2)\n",
    "t2 = Time(1,0,0)"
   ]
  },
  {
   "cell_type": "code",
   "execution_count": 92,
   "metadata": {
    "collapsed": false
   },
   "outputs": [],
   "source": [
    "t3 = t1 + t2"
   ]
  },
  {
   "cell_type": "code",
   "execution_count": 96,
   "metadata": {
    "collapsed": false
   },
   "outputs": [
    {
     "name": "stdout",
     "output_type": "stream",
     "text": [
      "H:3, M:30, S:2\n"
     ]
    }
   ],
   "source": [
    "print(t3)"
   ]
  },
  {
   "cell_type": "code",
   "execution_count": null,
   "metadata": {
    "collapsed": true
   },
   "outputs": [],
   "source": []
  },
  {
   "cell_type": "markdown",
   "metadata": {},
   "source": [
    "### Other Examples\n",
    "\n",
    "1. Points and Rectangles (Graphics or mathematics)\n",
    "1. Product Level Export Data\n",
    "1. ... many many other uses"
   ]
  },
  {
   "cell_type": "code",
   "execution_count": null,
   "metadata": {
    "collapsed": true
   },
   "outputs": [],
   "source": []
  },
  {
   "cell_type": "markdown",
   "metadata": {},
   "source": [
    "## Advanced Object Oriented Programming\n",
    "\n",
    "There is more to the OOP than just a collection of **data** and **methods** such as the concept of **inheritance**. \n",
    "\n",
    "With some careful thought and planning some problems lend themselves to a hierarchy of problems which can vastly reduce code duplication (and hence errors and bugs) and provide a logical framework for breaking down large problems into many smaller ones. \n",
    "\n",
    "Other problems naturally lend themselves to this way of organization such as **desktop window** environments (i.e. windows, buttons, scrollers, etc.). Different button behaviour can be inherited and so forth.\n"
   ]
  },
  {
   "cell_type": "code",
   "execution_count": null,
   "metadata": {
    "collapsed": true
   },
   "outputs": [],
   "source": []
  },
  {
   "cell_type": "markdown",
   "metadata": {},
   "source": [
    "# Excercise: \n",
    "\n",
    "**Take a look at the LSS Class in http://quant-econ.net/py/linear_models.html#code. Try and use this Python object to simulate a second order difference equation**\n",
    "\n",
    "$$\n",
    "y_{t+1} =  \\phi_0 + \\phi_1 y_t + \\phi_2 y_{t-1}\n",
    "    \\quad \\text{s.t.} \\quad\n",
    "    y_0, y_{-1} \\text{ given}\n",
    "$$\n",
    "\n",
    "**Step 1:** Map this equation into the State Space Formulation $x_t$, $A$, $C$, and $G$ matrices. \n",
    "\n",
    "**Step 2:** Plot the dynamics of this process when $\\phi_0 = 1.1, \\phi_1=0.8, \\phi_2 = -0.8, y_0 = y_{-1} = 1$"
   ]
  },
  {
   "cell_type": "code",
   "execution_count": null,
   "metadata": {
    "collapsed": true
   },
   "outputs": [],
   "source": []
  }
 ],
 "metadata": {
  "kernelspec": {
   "display_name": "Python 3",
   "language": "python",
   "name": "python3"
  },
  "language_info": {
   "codemirror_mode": {
    "name": "ipython",
    "version": 3
   },
   "file_extension": ".py",
   "mimetype": "text/x-python",
   "name": "python",
   "nbconvert_exporter": "python",
   "pygments_lexer": "ipython3",
   "version": "3.5.1"
  }
 },
 "nbformat": 4,
 "nbformat_minor": 0
}
