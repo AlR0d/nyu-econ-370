{
 "cells": [
  {
   "cell_type": "markdown",
   "metadata": {},
   "source": [
    "# Intro to Python\n",
    "\n",
    "1. Introductory Example\n",
    "2. Basic Structure of a Python Program\n",
    "3. Variables\n",
    "4. Data Types\n",
    "\n",
    "## References and Reading\n",
    "\n",
    "1. http://quant-econ.net/py/getting_started.html\n",
    "1. http://quant-econ.net/py/python_by_example.html"
   ]
  },
  {
   "cell_type": "code",
   "execution_count": 1,
   "metadata": {
    "collapsed": true
   },
   "outputs": [],
   "source": [
    "%matplotlib inline"
   ]
  },
  {
   "cell_type": "markdown",
   "metadata": {},
   "source": [
    "## Introductory Example (White Noise Process)\n",
    "\n"
   ]
  },
  {
   "cell_type": "code",
   "execution_count": 2,
   "metadata": {
    "collapsed": false
   },
   "outputs": [
    {
     "data": {
      "image/png": "[encoded data removed]",
      "text/plain": [
       "<matplotlib.figure.Figure at 0x7f31f2a4b748>"
      ]
     },
     "metadata": {},
     "output_type": "display_data"
    }
   ],
   "source": [
    "from random import normalvariate\n",
    "import matplotlib.pyplot as plt\n",
    "ts_length = 100\n",
    "epsilon_values = []   # An empty list\n",
    "for i in range(ts_length):\n",
    "    e = normalvariate(0, 1)\n",
    "    epsilon_values.append(e)\n",
    "plt.plot(epsilon_values, 'b-')\n",
    "plt.show()"
   ]
  },
  {
   "cell_type": "markdown",
   "metadata": {},
   "source": [
    "# Each component of the Program"
   ]
  },
  {
   "cell_type": "code",
   "execution_count": 3,
   "metadata": {
    "collapsed": true
   },
   "outputs": [],
   "source": [
    "# This is good python practice\n",
    "from random import normalvariate"
   ]
  },
  {
   "cell_type": "markdown",
   "metadata": {},
   "source": [
    "This imports the normalvariate function from the random package. \n",
    "\n",
    "Try running\n",
    "\n",
    "```\n",
    "normalvariate?\n",
    "```"
   ]
  },
  {
   "cell_type": "code",
   "execution_count": 9,
   "metadata": {
    "collapsed": true
   },
   "outputs": [],
   "source": []
  },
  {
   "cell_type": "markdown",
   "metadata": {},
   "source": [
    "### Imports and Modules\n",
    "\n",
    "In Python you can import other code easily through the use of ``import`` type statements. \n",
    "\n",
    "There are three main ways:\n",
    "\n",
    "First\n",
    "\n",
    "```\n",
    "from <module> import <function> or <object>\n",
    "```\n",
    "\n",
    "Second\n",
    "\n",
    "```\n",
    "import <module>\n",
    "```\n",
    "\n",
    "Third\n",
    "\n",
    "```\n",
    "import <module> as <shorthand>\n",
    "```\n",
    "\n"
   ]
  },
  {
   "cell_type": "code",
   "execution_count": 10,
   "metadata": {
    "collapsed": false
   },
   "outputs": [],
   "source": [
    "import random"
   ]
  },
  {
   "cell_type": "code",
   "execution_count": null,
   "metadata": {
    "collapsed": true
   },
   "outputs": [],
   "source": [
    "random.normalvariate()"
   ]
  },
  {
   "cell_type": "code",
   "execution_count": 11,
   "metadata": {
    "collapsed": true
   },
   "outputs": [],
   "source": [
    "# This is good python practice\n",
    "import random as rd"
   ]
  },
  {
   "cell_type": "code",
   "execution_count": null,
   "metadata": {
    "collapsed": true
   },
   "outputs": [],
   "source": [
    "rd.normalvariate()"
   ]
  },
  {
   "cell_type": "markdown",
   "metadata": {},
   "source": [
    "Not good practice is to import EVERYTHING from a package. This pollutes your namespace (which will be discussed in more detail later)"
   ]
  },
  {
   "cell_type": "code",
   "execution_count": 8,
   "metadata": {
    "collapsed": true
   },
   "outputs": [],
   "source": [
    "from random import *"
   ]
  },
  {
   "cell_type": "code",
   "execution_count": null,
   "metadata": {
    "collapsed": true
   },
   "outputs": [],
   "source": []
  },
  {
   "cell_type": "markdown",
   "metadata": {},
   "source": [
    "## Excercise: \n",
    "\n",
    "What does this line do?\n",
    "\n",
    "```\n",
    "import matplotlib.pyplot as plt\n",
    "```"
   ]
  },
  {
   "cell_type": "code",
   "execution_count": null,
   "metadata": {
    "collapsed": true
   },
   "outputs": [],
   "source": []
  },
  {
   "cell_type": "markdown",
   "metadata": {},
   "source": [
    "## Variable Assignment"
   ]
  },
  {
   "cell_type": "code",
   "execution_count": 12,
   "metadata": {
    "collapsed": true
   },
   "outputs": [],
   "source": [
    "ts_length = 100"
   ]
  },
  {
   "cell_type": "code",
   "execution_count": 13,
   "metadata": {
    "collapsed": false
   },
   "outputs": [
    {
     "data": {
      "text/plain": [
       "100"
      ]
     },
     "execution_count": 13,
     "metadata": {},
     "output_type": "execute_result"
    }
   ],
   "source": [
    "ts_length"
   ]
  },
  {
   "cell_type": "code",
   "execution_count": 14,
   "metadata": {
    "collapsed": false
   },
   "outputs": [
    {
     "data": {
      "text/plain": [
       "int"
      ]
     },
     "execution_count": 14,
     "metadata": {},
     "output_type": "execute_result"
    }
   ],
   "source": [
    "type(ts_length)"
   ]
  },
  {
   "cell_type": "code",
   "execution_count": null,
   "metadata": {
    "collapsed": true
   },
   "outputs": [],
   "source": []
  },
  {
   "cell_type": "code",
   "execution_count": 16,
   "metadata": {
    "collapsed": true
   },
   "outputs": [],
   "source": [
    "epsilon_values = []"
   ]
  },
  {
   "cell_type": "code",
   "execution_count": 17,
   "metadata": {
    "collapsed": false
   },
   "outputs": [
    {
     "data": {
      "text/plain": [
       "list"
      ]
     },
     "execution_count": 17,
     "metadata": {},
     "output_type": "execute_result"
    }
   ],
   "source": [
    "type(epsilon_values)"
   ]
  },
  {
   "cell_type": "code",
   "execution_count": 23,
   "metadata": {
    "collapsed": false
   },
   "outputs": [
    {
     "data": {
      "text/plain": [
       "[]"
      ]
     },
     "execution_count": 23,
     "metadata": {},
     "output_type": "execute_result"
    }
   ],
   "source": [
    "epsilon_values #.<tab> to see what methods are attached to a list object"
   ]
  },
  {
   "cell_type": "markdown",
   "metadata": {},
   "source": [
    "## Loops\n",
    "\n",
    "Loops are useful for performing an action multiple times. \n",
    "\n",
    "In this case we want to loop ``100`` times to generate a time series that is ``100`` elements long.\n",
    "\n",
    "Each step of the loop we will want to obtain a random value and then add it to the sequence of values in the list object that we have created."
   ]
  },
  {
   "cell_type": "code",
   "execution_count": 21,
   "metadata": {
    "collapsed": false
   },
   "outputs": [],
   "source": [
    "range()\n",
    "normalvariate()\n"
   ]
  },
  {
   "cell_type": "code",
   "execution_count": 24,
   "metadata": {
    "collapsed": true
   },
   "outputs": [],
   "source": [
    "for i in range(ts_length):\n",
    "    e = normalvariate(0, 1)\n",
    "    epsilon_values.append(e)"
   ]
  },
  {
   "cell_type": "markdown",
   "metadata": {},
   "source": [
    "Let's check what has happened here\n",
    "\n",
    "1. Inspect Each Variable's State"
   ]
  },
  {
   "cell_type": "code",
   "execution_count": 27,
   "metadata": {
    "collapsed": false
   },
   "outputs": [
    {
     "data": {
      "text/plain": [
       "99"
      ]
     },
     "execution_count": 27,
     "metadata": {},
     "output_type": "execute_result"
    }
   ],
   "source": [
    "i"
   ]
  },
  {
   "cell_type": "markdown",
   "metadata": {},
   "source": [
    "Python is ``0`` based when counting lists. Many statistical packages choose to be ``1`` based when counting. This is something to be aware of when using other languages such as ``Julia`` or ``Matlab``\n",
    "\n",
    "What do we exactly mean by this?\n"
   ]
  },
  {
   "cell_type": "code",
   "execution_count": 33,
   "metadata": {
    "collapsed": false,
    "scrolled": true
   },
   "outputs": [
    {
     "data": {
      "text/plain": [
       "[0,\n",
       " 1,\n",
       " 2,\n",
       " 3,\n",
       " 4,\n",
       " 5,\n",
       " 6,\n",
       " 7,\n",
       " 8,\n",
       " 9,\n",
       " 10,\n",
       " 11,\n",
       " 12,\n",
       " 13,\n",
       " 14,\n",
       " 15,\n",
       " 16,\n",
       " 17,\n",
       " 18,\n",
       " 19,\n",
       " 20,\n",
       " 21,\n",
       " 22,\n",
       " 23,\n",
       " 24,\n",
       " 25,\n",
       " 26,\n",
       " 27,\n",
       " 28,\n",
       " 29,\n",
       " 30,\n",
       " 31,\n",
       " 32,\n",
       " 33,\n",
       " 34,\n",
       " 35,\n",
       " 36,\n",
       " 37,\n",
       " 38,\n",
       " 39,\n",
       " 40,\n",
       " 41,\n",
       " 42,\n",
       " 43,\n",
       " 44,\n",
       " 45,\n",
       " 46,\n",
       " 47,\n",
       " 48,\n",
       " 49,\n",
       " 50,\n",
       " 51,\n",
       " 52,\n",
       " 53,\n",
       " 54,\n",
       " 55,\n",
       " 56,\n",
       " 57,\n",
       " 58,\n",
       " 59,\n",
       " 60,\n",
       " 61,\n",
       " 62,\n",
       " 63,\n",
       " 64,\n",
       " 65,\n",
       " 66,\n",
       " 67,\n",
       " 68,\n",
       " 69,\n",
       " 70,\n",
       " 71,\n",
       " 72,\n",
       " 73,\n",
       " 74,\n",
       " 75,\n",
       " 76,\n",
       " 77,\n",
       " 78,\n",
       " 79,\n",
       " 80,\n",
       " 81,\n",
       " 82,\n",
       " 83,\n",
       " 84,\n",
       " 85,\n",
       " 86,\n",
       " 87,\n",
       " 88,\n",
       " 89,\n",
       " 90,\n",
       " 91,\n",
       " 92,\n",
       " 93,\n",
       " 94,\n",
       " 95,\n",
       " 96,\n",
       " 97,\n",
       " 98,\n",
       " 99]"
      ]
     },
     "execution_count": 33,
     "metadata": {},
     "output_type": "execute_result"
    }
   ],
   "source": [
    "list(range(100))"
   ]
  },
  {
   "cell_type": "code",
   "execution_count": 34,
   "metadata": {
    "collapsed": false
   },
   "outputs": [
    {
     "data": {
      "text/plain": [
       "100"
      ]
     },
     "execution_count": 34,
     "metadata": {},
     "output_type": "execute_result"
    }
   ],
   "source": [
    "len(list(range(100)))"
   ]
  },
  {
   "cell_type": "code",
   "execution_count": 35,
   "metadata": {
    "collapsed": false
   },
   "outputs": [
    {
     "data": {
      "text/plain": [
       "100"
      ]
     },
     "execution_count": 35,
     "metadata": {},
     "output_type": "execute_result"
    }
   ],
   "source": [
    "ts_length  #Hasn't Changed (Just a variable initialised at the beginning)"
   ]
  },
  {
   "cell_type": "code",
   "execution_count": 36,
   "metadata": {
    "collapsed": false
   },
   "outputs": [
    {
     "data": {
      "text/plain": [
       "0.0840926007032279"
      ]
     },
     "execution_count": 36,
     "metadata": {},
     "output_type": "execute_result"
    }
   ],
   "source": [
    "e  #?"
   ]
  },
  {
   "cell_type": "code",
   "execution_count": 37,
   "metadata": {
    "collapsed": false,
    "scrolled": true
   },
   "outputs": [
    {
     "data": {
      "text/plain": [
       "[-0.634559121087291,\n",
       " -2.392205572395015,\n",
       " 0.03645579311788963,\n",
       " -1.1400196664236897,\n",
       " 2.7590055924536854,\n",
       " 0.9119321524456581,\n",
       " -0.6777689442719039,\n",
       " -0.23776838261384362,\n",
       " 0.506177264679808,\n",
       " 0.17624656132410169,\n",
       " -0.6706836904510705,\n",
       " 0.4865672268373701,\n",
       " 1.4037194593778284,\n",
       " 1.7345527680635136,\n",
       " -1.482194008253655,\n",
       " 0.9568179439454245,\n",
       " 0.8664027415554875,\n",
       " -0.17234602479057,\n",
       " 1.051336071872146,\n",
       " 0.3634322131224153,\n",
       " 0.707973340033591,\n",
       " 0.5634803053458224,\n",
       " -0.2766833275855066,\n",
       " 0.3037509701077508,\n",
       " -0.10140385652675424,\n",
       " 0.11655275317509901,\n",
       " 0.2335255321368675,\n",
       " -1.2158776919955798,\n",
       " -1.1465789462699096,\n",
       " 1.9980860280836472,\n",
       " 1.44156133473411,\n",
       " 0.44193608670477225,\n",
       " -0.8240028900987993,\n",
       " -0.03855374768997362,\n",
       " 1.0457347221069435,\n",
       " -0.2290225012347431,\n",
       " 1.2150199704125837,\n",
       " -0.29306000064612375,\n",
       " 2.099201036699788,\n",
       " 0.9320049309907289,\n",
       " -0.41741200457889355,\n",
       " 0.011156904906654247,\n",
       " 0.4324687125976303,\n",
       " -0.7275134232439434,\n",
       " -0.19301069148800923,\n",
       " 0.42949865849471236,\n",
       " 0.4978459403571794,\n",
       " -1.3081834968174566,\n",
       " -0.10095306348283642,\n",
       " -1.5430019581018621,\n",
       " 1.203885660698014,\n",
       " 1.3728781120523916,\n",
       " -0.43416103499496084,\n",
       " 0.5678223610176173,\n",
       " 0.6562682151324079,\n",
       " 1.0400096950791664,\n",
       " 0.9316304378131585,\n",
       " -1.5074680314745266,\n",
       " 0.21211088079586612,\n",
       " -0.8897065147025873,\n",
       " -0.6541351813819319,\n",
       " 0.21274427153387254,\n",
       " -1.2027741230994002,\n",
       " -0.6877894066763082,\n",
       " 1.1949047849276029,\n",
       " -0.5090787418355711,\n",
       " 0.1912894286917426,\n",
       " -1.4683847965107262,\n",
       " 1.2717363677062743,\n",
       " 0.0956073807990803,\n",
       " 0.1094354678856906,\n",
       " 0.8885202965203524,\n",
       " 1.2507984624875583,\n",
       " -0.6118146612232692,\n",
       " 1.3531841503725772,\n",
       " -1.3335732279588264,\n",
       " -0.2537862217663954,\n",
       " 1.8772959494579884,\n",
       " 1.767985711372124,\n",
       " 1.3065477342409164,\n",
       " -1.2097861904474554,\n",
       " 0.3211400651967575,\n",
       " -0.2874341596913458,\n",
       " -0.5955908374450879,\n",
       " 1.4872313381229174,\n",
       " 0.3337001711789723,\n",
       " -2.1588562049393745,\n",
       " 0.059613161275997265,\n",
       " -0.2118238817283798,\n",
       " -0.3031870308260376,\n",
       " -0.040223120590438075,\n",
       " 0.7363537393481137,\n",
       " -2.399799769620767,\n",
       " 0.6346403180704064,\n",
       " 1.0659414229498612,\n",
       " -0.8940570712686734,\n",
       " 0.06178062866628369,\n",
       " -1.1801830916754548,\n",
       " 1.2220205860286337,\n",
       " 0.0840926007032279]"
      ]
     },
     "execution_count": 37,
     "metadata": {},
     "output_type": "execute_result"
    }
   ],
   "source": [
    "epsilon_values"
   ]
  },
  {
   "cell_type": "code",
   "execution_count": 38,
   "metadata": {
    "collapsed": false
   },
   "outputs": [
    {
     "data": {
      "text/plain": [
       "100"
      ]
     },
     "execution_count": 38,
     "metadata": {},
     "output_type": "execute_result"
    }
   ],
   "source": [
    "len(epsilon_values)"
   ]
  },
  {
   "cell_type": "markdown",
   "metadata": {},
   "source": [
    "Then the program moves on to using the ``plt`` library to draw a picture for us. This makes use of code that has already been writen for us!"
   ]
  },
  {
   "cell_type": "code",
   "execution_count": 39,
   "metadata": {
    "collapsed": false
   },
   "outputs": [
    {
     "data": {
      "text/plain": [
       "[<matplotlib.lines.Line2D at 0x7f31ecab4c50>]"
      ]
     },
     "execution_count": 39,
     "metadata": {},
     "output_type": "execute_result"
    },
    {
     "data": {
      "image/png": "[encoded data removed]",
      "text/plain": [
       "<matplotlib.figure.Figure at 0x7f31ecaf30f0>"
      ]
     },
     "metadata": {},
     "output_type": "display_data"
    }
   ],
   "source": [
    "plt.plot(epsilon_values, 'b-')"
   ]
  },
  {
   "cell_type": "markdown",
   "metadata": {},
   "source": [
    "Becuase we have ``Jupyter`` magic inline plotting enabled this notebooks actually grabs the image and displayes it automatically for us. "
   ]
  },
  {
   "cell_type": "code",
   "execution_count": 40,
   "metadata": {
    "collapsed": true
   },
   "outputs": [],
   "source": [
    "plt.show()"
   ]
  },
  {
   "cell_type": "markdown",
   "metadata": {},
   "source": [
    "This last cell does nothing? \n",
    "\n",
    "Why?\n",
    "\n",
    "Let's run this program from the command line ... "
   ]
  },
  {
   "cell_type": "code",
   "execution_count": 43,
   "metadata": {
    "collapsed": false
   },
   "outputs": [],
   "source": [
    "%%bash\n",
    "python white_noise.py"
   ]
  },
  {
   "cell_type": "markdown",
   "metadata": {},
   "source": [
    "Matplotlib will actually pull up separate plotting infrastructure to show you the image. \n",
    "\n",
    "``plt.show()`` is useful when using the ``REPL``"
   ]
  },
  {
   "cell_type": "markdown",
   "metadata": {},
   "source": [
    "## Full Program"
   ]
  },
  {
   "cell_type": "code",
   "execution_count": 50,
   "metadata": {
    "collapsed": false,
    "scrolled": true
   },
   "outputs": [
    {
     "data": {
      "image/png": "[encoded data removed]",
      "text/plain": [
       "<matplotlib.figure.Figure at 0x7f31eb109c88>"
      ]
     },
     "metadata": {},
     "output_type": "display_data"
    }
   ],
   "source": [
    "# %load white_noise.py\n",
    "from random import normalvariate\n",
    "import matplotlib.pyplot as plt\n",
    "ts_length = 100\n",
    "epsilon_values = []   # An empty list\n",
    "for i in range(ts_length):\n",
    "    e = normalvariate(0, 1)\n",
    "    epsilon_values.append(e)\n",
    "plt.plot(epsilon_values, 'b-')\n",
    "plt.show()"
   ]
  },
  {
   "cell_type": "code",
   "execution_count": null,
   "metadata": {
    "collapsed": true
   },
   "outputs": [],
   "source": []
  },
  {
   "cell_type": "markdown",
   "metadata": {},
   "source": [
    "# Python Essentials"
   ]
  },
  {
   "cell_type": "markdown",
   "metadata": {},
   "source": [
    "http://quant-econ.net/py/python_essentials.html"
   ]
  },
  {
   "cell_type": "markdown",
   "metadata": {},
   "source": [
    "## Data Types\n",
    "\n",
    "Python provides built-in data types:\n",
    "\n",
    "1. Booleans\n",
    "1. Numbers (integers, floats, fractions and complex numbers)\n",
    "1. Strings\n",
    "1. Bytes (and byte arrays)\n",
    "\n",
    "In addition to more complex data types:\n",
    "1. Lists\n",
    "1. Dictionaries\n",
    "1. Sets and Frozenset\n",
    "1. Tuple\n",
    "\n",
    "https://docs.python.org/3/library/datatypes.html\n",
    "\n",
    "The ``str`` class is used to hold Unicode strings, and the bytes class is used to hold binary data.\n",
    "\n",
    "Plus support for a lot of other ``datatypes`` from ``modules``"
   ]
  },
  {
   "cell_type": "markdown",
   "metadata": {},
   "source": [
    "### Boolean Values\n",
    "\n",
    "Boolean Values are values that can be either True or False. These are useful for tests of logic, comparisons etc ..."
   ]
  },
  {
   "cell_type": "code",
   "execution_count": 75,
   "metadata": {
    "collapsed": false
   },
   "outputs": [
    {
     "data": {
      "text/plain": [
       "bool"
      ]
     },
     "execution_count": 75,
     "metadata": {},
     "output_type": "execute_result"
    }
   ],
   "source": [
    "x = True\n",
    "type(x)"
   ]
  },
  {
   "cell_type": "code",
   "execution_count": 84,
   "metadata": {
    "collapsed": false
   },
   "outputs": [
    {
     "name": "stdout",
     "output_type": "stream",
     "text": [
      "False\n"
     ]
    }
   ],
   "source": [
    "y = 100 < 0       #Python evaluates the expression on the right first\n",
    "print (y)"
   ]
  },
  {
   "cell_type": "code",
   "execution_count": 85,
   "metadata": {
    "collapsed": false
   },
   "outputs": [
    {
     "data": {
      "text/plain": [
       "False"
      ]
     },
     "execution_count": 85,
     "metadata": {},
     "output_type": "execute_result"
    }
   ],
   "source": [
    "x == y #Comparison for Equality"
   ]
  },
  {
   "cell_type": "code",
   "execution_count": 78,
   "metadata": {
    "collapsed": false
   },
   "outputs": [
    {
     "data": {
      "text/plain": [
       "True"
      ]
     },
     "execution_count": 78,
     "metadata": {},
     "output_type": "execute_result"
    }
   ],
   "source": [
    "True == True"
   ]
  },
  {
   "cell_type": "code",
   "execution_count": 79,
   "metadata": {
    "collapsed": false
   },
   "outputs": [
    {
     "data": {
      "text/plain": [
       "True"
      ]
     },
     "execution_count": 79,
     "metadata": {},
     "output_type": "execute_result"
    }
   ],
   "source": [
    "1 == 1 #Comparing two integers"
   ]
  },
  {
   "cell_type": "code",
   "execution_count": 82,
   "metadata": {
    "collapsed": false
   },
   "outputs": [
    {
     "data": {
      "text/plain": [
       "False"
      ]
     },
     "execution_count": 82,
     "metadata": {},
     "output_type": "execute_result"
    }
   ],
   "source": [
    "'a' == 'b' #Comparing to Strings"
   ]
  },
  {
   "cell_type": "markdown",
   "metadata": {},
   "source": [
    "In arithmetic expressions (Boolean Arithmetic), ``True`` is converted to ``1`` and ``False`` is converted to ``0``"
   ]
  },
  {
   "cell_type": "code",
   "execution_count": 86,
   "metadata": {
    "collapsed": false
   },
   "outputs": [
    {
     "data": {
      "text/plain": [
       "1"
      ]
     },
     "execution_count": 86,
     "metadata": {},
     "output_type": "execute_result"
    }
   ],
   "source": [
    "x + y"
   ]
  },
  {
   "cell_type": "code",
   "execution_count": 87,
   "metadata": {
    "collapsed": false
   },
   "outputs": [
    {
     "data": {
      "text/plain": [
       "2"
      ]
     },
     "execution_count": 87,
     "metadata": {},
     "output_type": "execute_result"
    }
   ],
   "source": [
    "True + True"
   ]
  },
  {
   "cell_type": "code",
   "execution_count": 88,
   "metadata": {
    "collapsed": true
   },
   "outputs": [],
   "source": [
    "bools = [True, False, True, True]"
   ]
  },
  {
   "cell_type": "code",
   "execution_count": null,
   "metadata": {
    "collapsed": true
   },
   "outputs": [],
   "source": [
    "sum() #<TAB> or sum? or sum??"
   ]
  },
  {
   "cell_type": "code",
   "execution_count": 90,
   "metadata": {
    "collapsed": false
   },
   "outputs": [
    {
     "data": {
      "text/plain": [
       "3"
      ]
     },
     "execution_count": 90,
     "metadata": {},
     "output_type": "execute_result"
    }
   ],
   "source": [
    "sum(bools) #Use the Python function sum"
   ]
  },
  {
   "cell_type": "markdown",
   "metadata": {},
   "source": [
    "### Integers and Floats"
   ]
  },
  {
   "cell_type": "code",
   "execution_count": 92,
   "metadata": {
    "collapsed": true
   },
   "outputs": [],
   "source": [
    "a = 1\n",
    "b = 2\n",
    "c = 2.5\n",
    "d = 10.0"
   ]
  },
  {
   "cell_type": "code",
   "execution_count": 93,
   "metadata": {
    "collapsed": false
   },
   "outputs": [
    {
     "data": {
      "text/plain": [
       "int"
      ]
     },
     "execution_count": 93,
     "metadata": {},
     "output_type": "execute_result"
    }
   ],
   "source": [
    "type(a)"
   ]
  },
  {
   "cell_type": "code",
   "execution_count": 94,
   "metadata": {
    "collapsed": false
   },
   "outputs": [
    {
     "data": {
      "text/plain": [
       "float"
      ]
     },
     "execution_count": 94,
     "metadata": {},
     "output_type": "execute_result"
    }
   ],
   "source": [
    "type(c)"
   ]
  },
  {
   "cell_type": "markdown",
   "metadata": {},
   "source": [
    "**Warning**\n",
    "\n",
    "If you are using ``Python 2.7`` then division works a little bit differently to ``Python 3.5``"
   ]
  },
  {
   "cell_type": "code",
   "execution_count": 95,
   "metadata": {
    "collapsed": false
   },
   "outputs": [
    {
     "data": {
      "text/plain": [
       "0.5"
      ]
     },
     "execution_count": 95,
     "metadata": {},
     "output_type": "execute_result"
    }
   ],
   "source": [
    "a / b  #Python 2.x = 0 (floor division)"
   ]
  },
  {
   "cell_type": "markdown",
   "metadata": {},
   "source": [
    "To get this behaviour in Python 2.7 then you can import division from the future!\n",
    "\n",
    "```\n",
    "import division from __future__\n",
    "```\n",
    "\n",
    "**Note** Load up a Python 2.7 environment to show this"
   ]
  },
  {
   "cell_type": "code",
   "execution_count": 96,
   "metadata": {
    "collapsed": false
   },
   "outputs": [
    {
     "data": {
      "text/plain": [
       "0"
      ]
     },
     "execution_count": 96,
     "metadata": {},
     "output_type": "execute_result"
    }
   ],
   "source": [
    "a // b  #In Python 3 floor division can be done using // operator"
   ]
  },
  {
   "cell_type": "code",
   "execution_count": 99,
   "metadata": {
    "collapsed": false
   },
   "outputs": [
    {
     "data": {
      "text/plain": [
       "2"
      ]
     },
     "execution_count": 99,
     "metadata": {},
     "output_type": "execute_result"
    }
   ],
   "source": [
    "a * b"
   ]
  },
  {
   "cell_type": "code",
   "execution_count": 100,
   "metadata": {
    "collapsed": false
   },
   "outputs": [
    {
     "data": {
      "text/plain": [
       "3"
      ]
     },
     "execution_count": 100,
     "metadata": {},
     "output_type": "execute_result"
    }
   ],
   "source": [
    "a + b"
   ]
  },
  {
   "cell_type": "code",
   "execution_count": 101,
   "metadata": {
    "collapsed": false
   },
   "outputs": [
    {
     "data": {
      "text/plain": [
       "-1"
      ]
     },
     "execution_count": 101,
     "metadata": {},
     "output_type": "execute_result"
    }
   ],
   "source": [
    "a - b"
   ]
  },
  {
   "cell_type": "markdown",
   "metadata": {},
   "source": [
    "### Complex Numbers"
   ]
  },
  {
   "cell_type": "code",
   "execution_count": 106,
   "metadata": {
    "collapsed": false
   },
   "outputs": [
    {
     "data": {
      "text/plain": [
       "(1+2j)"
      ]
     },
     "execution_count": 106,
     "metadata": {},
     "output_type": "execute_result"
    }
   ],
   "source": [
    "x = complex(1,2)\n",
    "x"
   ]
  },
  {
   "cell_type": "code",
   "execution_count": 107,
   "metadata": {
    "collapsed": false
   },
   "outputs": [],
   "source": [
    "y = complex(2,1)"
   ]
  },
  {
   "cell_type": "code",
   "execution_count": 108,
   "metadata": {
    "collapsed": false
   },
   "outputs": [
    {
     "data": {
      "text/plain": [
       "5j"
      ]
     },
     "execution_count": 108,
     "metadata": {},
     "output_type": "execute_result"
    }
   ],
   "source": [
    "x * y"
   ]
  },
  {
   "cell_type": "markdown",
   "metadata": {},
   "source": [
    "### Strings"
   ]
  },
  {
   "cell_type": "code",
   "execution_count": 189,
   "metadata": {
    "collapsed": true
   },
   "outputs": [],
   "source": [
    "x = 'Something Here'"
   ]
  },
  {
   "cell_type": "code",
   "execution_count": 190,
   "metadata": {
    "collapsed": false
   },
   "outputs": [
    {
     "data": {
      "text/plain": [
       "str"
      ]
     },
     "execution_count": 190,
     "metadata": {},
     "output_type": "execute_result"
    }
   ],
   "source": [
    "type(x)"
   ]
  },
  {
   "cell_type": "code",
   "execution_count": 191,
   "metadata": {
    "collapsed": true
   },
   "outputs": [],
   "source": [
    "x = \"Something Here\""
   ]
  },
  {
   "cell_type": "code",
   "execution_count": 192,
   "metadata": {
    "collapsed": false
   },
   "outputs": [
    {
     "data": {
      "text/plain": [
       "str"
      ]
     },
     "execution_count": 192,
     "metadata": {},
     "output_type": "execute_result"
    }
   ],
   "source": [
    "type(x)"
   ]
  },
  {
   "cell_type": "code",
   "execution_count": 193,
   "metadata": {
    "collapsed": false
   },
   "outputs": [
    {
     "data": {
      "text/plain": [
       "'Something Here'"
      ]
     },
     "execution_count": 193,
     "metadata": {},
     "output_type": "execute_result"
    }
   ],
   "source": [
    "x        #Juptyer shows you the contents of x (with type indicator ')"
   ]
  },
  {
   "cell_type": "code",
   "execution_count": 194,
   "metadata": {
    "collapsed": false
   },
   "outputs": [
    {
     "name": "stdout",
     "output_type": "stream",
     "text": [
      "Something Here\n"
     ]
    }
   ],
   "source": [
    "print(x) #Actually prints it"
   ]
  },
  {
   "cell_type": "code",
   "execution_count": 195,
   "metadata": {
    "collapsed": true
   },
   "outputs": [],
   "source": [
    "y = 'a'"
   ]
  },
  {
   "cell_type": "code",
   "execution_count": 196,
   "metadata": {
    "collapsed": false
   },
   "outputs": [
    {
     "data": {
      "text/plain": [
       "str"
      ]
     },
     "execution_count": 196,
     "metadata": {},
     "output_type": "execute_result"
    }
   ],
   "source": [
    "type(y) #Still a string"
   ]
  },
  {
   "cell_type": "code",
   "execution_count": 197,
   "metadata": {
    "collapsed": false
   },
   "outputs": [
    {
     "data": {
      "text/plain": [
       "14"
      ]
     },
     "execution_count": 197,
     "metadata": {},
     "output_type": "execute_result"
    }
   ],
   "source": [
    "len(x)"
   ]
  },
  {
   "cell_type": "code",
   "execution_count": 198,
   "metadata": {
    "collapsed": false
   },
   "outputs": [
    {
     "data": {
      "text/plain": [
       "1"
      ]
     },
     "execution_count": 198,
     "metadata": {},
     "output_type": "execute_result"
    }
   ],
   "source": [
    "len(y)"
   ]
  },
  {
   "cell_type": "code",
   "execution_count": 199,
   "metadata": {
    "collapsed": false
   },
   "outputs": [
    {
     "data": {
      "text/plain": [
       "'Something Here'"
      ]
     },
     "execution_count": 199,
     "metadata": {},
     "output_type": "execute_result"
    }
   ],
   "source": [
    "x"
   ]
  },
  {
   "cell_type": "markdown",
   "metadata": {},
   "source": [
    "Strings are **iterables**, which is *similar* to a list of characters (we will cover lists soon)"
   ]
  },
  {
   "cell_type": "code",
   "execution_count": 200,
   "metadata": {
    "collapsed": false
   },
   "outputs": [
    {
     "data": {
      "text/plain": [
       "'S'"
      ]
     },
     "execution_count": 200,
     "metadata": {},
     "output_type": "execute_result"
    }
   ],
   "source": [
    "x[0]"
   ]
  },
  {
   "cell_type": "code",
   "execution_count": 201,
   "metadata": {
    "collapsed": false
   },
   "outputs": [
    {
     "name": "stdout",
     "output_type": "stream",
     "text": [
      "S\n",
      "o\n",
      "m\n",
      "e\n",
      "t\n",
      "h\n",
      "i\n",
      "n\n",
      "g\n",
      " \n",
      "H\n",
      "e\n",
      "r\n",
      "e\n"
     ]
    }
   ],
   "source": [
    "for char in x:\n",
    "    print(char)"
   ]
  },
  {
   "cell_type": "markdown",
   "metadata": {},
   "source": [
    "Strings as **Objects**"
   ]
  },
  {
   "cell_type": "code",
   "execution_count": 208,
   "metadata": {
    "collapsed": false
   },
   "outputs": [
    {
     "data": {
      "text/plain": [
       "'Something Here'"
      ]
     },
     "execution_count": 208,
     "metadata": {},
     "output_type": "execute_result"
    }
   ],
   "source": [
    "x #.<tab> Check out methods for string objects"
   ]
  },
  {
   "cell_type": "code",
   "execution_count": 209,
   "metadata": {
    "collapsed": false
   },
   "outputs": [
    {
     "data": {
      "text/plain": [
       "'Something here'"
      ]
     },
     "execution_count": 209,
     "metadata": {},
     "output_type": "execute_result"
    }
   ],
   "source": [
    "x.capitalize()  #Kind of Odd but have a look at the Documentation"
   ]
  },
  {
   "cell_type": "code",
   "execution_count": 210,
   "metadata": {
    "collapsed": false
   },
   "outputs": [
    {
     "data": {
      "text/plain": [
       "'Something Here'"
      ]
     },
     "execution_count": 210,
     "metadata": {},
     "output_type": "execute_result"
    }
   ],
   "source": [
    "x #But wait what happened with x's internal state?"
   ]
  },
  {
   "cell_type": "code",
   "execution_count": 212,
   "metadata": {
    "collapsed": false
   },
   "outputs": [
    {
     "data": {
      "text/plain": [
       "3"
      ]
     },
     "execution_count": 212,
     "metadata": {},
     "output_type": "execute_result"
    }
   ],
   "source": [
    "x.count('e')"
   ]
  },
  {
   "cell_type": "markdown",
   "metadata": {},
   "source": [
    "Lots of things you can try out here!"
   ]
  },
  {
   "cell_type": "code",
   "execution_count": null,
   "metadata": {
    "collapsed": true
   },
   "outputs": [],
   "source": []
  },
  {
   "cell_type": "markdown",
   "metadata": {},
   "source": [
    "Strings as **Collections**\n",
    "\n",
    "1. Position Lookup\n",
    "1. Slices (discuss further in lists)"
   ]
  },
  {
   "cell_type": "code",
   "execution_count": 213,
   "metadata": {
    "collapsed": false
   },
   "outputs": [
    {
     "data": {
      "text/plain": [
       "'S'"
      ]
     },
     "execution_count": 213,
     "metadata": {},
     "output_type": "execute_result"
    }
   ],
   "source": [
    "x[0]"
   ]
  },
  {
   "cell_type": "code",
   "execution_count": 216,
   "metadata": {
    "collapsed": false
   },
   "outputs": [
    {
     "data": {
      "text/plain": [
       "'So'"
      ]
     },
     "execution_count": 216,
     "metadata": {},
     "output_type": "execute_result"
    }
   ],
   "source": [
    "x[0:2]  #Slice first two characters"
   ]
  },
  {
   "cell_type": "code",
   "execution_count": 217,
   "metadata": {
    "collapsed": false
   },
   "outputs": [
    {
     "data": {
      "text/plain": [
       "'re'"
      ]
     },
     "execution_count": 217,
     "metadata": {},
     "output_type": "execute_result"
    }
   ],
   "source": [
    "x[-2:]  #Slice last two characters"
   ]
  },
  {
   "cell_type": "code",
   "execution_count": null,
   "metadata": {
    "collapsed": true
   },
   "outputs": [],
   "source": []
  },
  {
   "cell_type": "markdown",
   "metadata": {},
   "source": [
    "String **Concatenation**"
   ]
  },
  {
   "cell_type": "code",
   "execution_count": 218,
   "metadata": {
    "collapsed": true
   },
   "outputs": [],
   "source": [
    "y = \"Another One\""
   ]
  },
  {
   "cell_type": "code",
   "execution_count": 219,
   "metadata": {
    "collapsed": false
   },
   "outputs": [
    {
     "data": {
      "text/plain": [
       "'Something HereAnother One'"
      ]
     },
     "execution_count": 219,
     "metadata": {},
     "output_type": "execute_result"
    }
   ],
   "source": [
    "x + y"
   ]
  },
  {
   "cell_type": "code",
   "execution_count": 222,
   "metadata": {
    "collapsed": false
   },
   "outputs": [
    {
     "data": {
      "text/plain": [
       "'Another One'"
      ]
     },
     "execution_count": 222,
     "metadata": {},
     "output_type": "execute_result"
    }
   ],
   "source": []
  },
  {
   "cell_type": "markdown",
   "metadata": {},
   "source": [
    "### Byte Objects\n",
    "\n",
    "We can read the **nytimes** front page and see what the html looks like as a byte object and then decode it to a string object"
   ]
  },
  {
   "cell_type": "code",
   "execution_count": 179,
   "metadata": {
    "collapsed": false,
    "scrolled": false
   },
   "outputs": [
    {
     "name": "stdout",
     "output_type": "stream",
     "text": [
      "<http.client.HTTPResponse object at 0x7f31ea2f07f0>\n"
     ]
    }
   ],
   "source": [
    "import urllib.request\n",
    "x = urllib.request.urlopen('http://www.nytimes.com/')\n",
    "print(x)\n",
    "page = x.read()"
   ]
  },
  {
   "cell_type": "code",
   "execution_count": 180,
   "metadata": {
    "collapsed": false
   },
   "outputs": [
    {
     "name": "stdout",
     "output_type": "stream",
     "text": [
      "b'<!DOCTYPE html>\\n<!--[if (gt IE 9)|!(IE)]> <!--> <html lang=\"en\" class=\"no-js edition-domestic app-homepage\"  itemscope xmlns:og=\"http://opengraphprotocol.org/schema/\"> <!--<![endif]-->\\n<!--[if IE 9]> <html lang=\"en\" class=\"no-js ie9 lt-ie10 edition-domestic app-homepage\" xmlns:og=\"http://opengraphprotocol.org/schema/\"> <![endif]-->\\n<!--[if IE 8]> <html lang=\"en\" class=\"no-js ie8 lt-ie10 lt-ie9 edition-domestic app-homepage\" xmlns:og=\"http://opengraphprotocol.org/schema/\"> <![endif]-->\\n<!--[if (lt IE 8)]> <html lang=\"en\" class=\"no-js lt-ie10 lt-ie9 lt-ie8 edition-domestic app-homepage\" xmlns:og=\"http://opengraphprotocol.org/schema/\"> <![endif]-->\\n<head>\\n    <title>The New York Times - Breaking News, World News & Multimedia</title>\\n        <meta http-equiv=\"X-UA-Compatible\" content=\"IE=edge,chrome=1\" /><script type=\"text/javascript\">window.NREUM||(NREUM={}),__nr_require=function(e,n,t){function r(t){if(!n[t]){var o=n[t]={exports:{}};e[t][0].call(o.exports,function(n){var o=e[t][1][n];return r(o||n)},o,o.exports)}return n[t].exports}if(\"function\"==typeof __nr_require)return __nr_require;for(var o=0;o<t.length;o++)r(t[o]);return r}({QJf3ax:[function(e,n){function t(e){function n(n,t,a){e&&e(n,t,a),a||(a={});for(var u=c(n),f=u.length,s=i(a,o,r),p=0;f>p;p++)u[p].apply(s,t);return s}function a(e,n){f[e]=c(e).concat(n)}function c(e){return f[e]||[]}function u(){return t(n)}var f={};return{on:a,emit:n,create:u,listeners:c,_events:f}}function r(){return{}}var o=\"nr@context\",i=e(\"gos\");n.exports=t()},{gos:\"7eSDFh\"}],ee:[function(e,n){n.exports=e(\"QJf3ax\")},{}],3:[function(e,n){function t(e){return function(){r(e,[(new Date).getTime()].concat(i(arguments)))}}var r=e(\"handle\"),o=e(1),i=e(2);\"undefined\"==typeof window.newrelic&&(newrelic=window.NREUM);var a=[\"setPageViewName\",\"addPageAction\",\"setCustomAttribute\",\"finished\",\"addToTrace\",\"inlineHit\",\"noticeError\"];o(a,function(e,n){window.NREUM[n]=t(\"api-\"+n)}),n.exports=window.NREUM},{1:12,2:13,handle:\"D5DuLP\"}],gos:[function(e,n){n.exports=e(\"7eSDFh\")},{}],\"7eSDFh\":[function(e,n){function t(e,n,t){if(r.call(e,n))return e[n];var o=t();if(Object.defineProperty&&Object.keys)try{return Object.defineProperty(e,n,{value:o,writable:!0,enumerable:!1}),o}catch(i){}return e[n]=o,o}var r=Object.prototype.hasOwnProperty;n.exports=t},{}],D5DuLP:[function(e,n){function t(e,n,t){return r.listeners(e).length?r.emit(e,n,t):void(r.q&&(r.q[e]||(r.q[e]=[]),r.q[e].push(n)))}var r=e(\"ee\").create();n.exports=t,t.ee=r,r.q={}},{ee:\"QJf3ax\"}],handle:[function(e,n){n.exports=e(\"D5DuLP\")},{}],XL7HBI:[function(e,n){function t(e){var n=typeof e;return!e||\"object\"!==n&&\"function\"!==n?-1:e===window?0:i(e,o,function(){return r++})}var r=1,o=\"nr@id\",i=e(\"gos\");n.exports=t},{gos:\"7eSDFh\"}],id:[function(e,n){n.exports=e(\"XL7HBI\")},{}],G9z0Bl:[function(e,n){function t(){var e=d.info=NREUM.info,n=f.getElementsByTagName(\"script\")[0];if(e&&e.licenseKey&&e.applicationID&&n){c(p,function(n,t){n in e||(e[n]=t)});var t=\"https\"===s.split(\":\")[0]||e.sslForHttp;d.proto=t?\"https://\":\"http://\",a(\"mark\",[\"onload\",i()]);var r=f.createElement(\"script\");r.src=d.proto+e.agent,n.parentNode.insertBefore(r,n)}}function r(){\"complete\"===f.readyState&&o()}function o(){a(\"mark\",[\"domContent\",i()])}function i(){return(new Date).getTime()}var a=e(\"handle\"),c=e(1),u=window,f=u.document;e(2);var s=(\"\"+location).split(\"?\")[0],p={beacon:\"bam.nr-data.net\",errorBeacon:\"bam.nr-data.net\",agent:\"js-agent.newrelic.com/nr-768.min.js\"},d=n.exports={offset:i(),origin:s,features:{}};f.addEventListener?(f.addEventListener(\"DOMContentLoaded\",o,!1),u.addEventListener(\"load\",t,!1)):(f.attachEvent(\"onreadystatechange\",r),u.attachEvent(\"onload\",t)),a(\"mark\",[\"firstbyte\",i()])},{1:12,2:3,handle:\"D5DuLP\"}],loader:[function(e,n){n.exports=e(\"G9z0Bl\")},{}],12:[function(e,n){function t(e,n){var t=[],o=\"\",i=0;for(o in e)r.call(e,o)&&(t[i]=n(o,e[o]),i+=1);return t}var r=Object.prototype.hasOwnProperty;n.exports=t},{}],13:[function(e,n){function t(e,n,t){n||(n=0),\"undefined\"==typeof t&&(t=e?e.length:0);for(var r=-1,o=t-n||0,i=Array(0>o?0:o);++r<o;)i[r]=e[n+r];return i}n.exports=t},{}]},{},[\"G9z0Bl\"]);</script>\\n<link rel=\"shortcut icon\" href=\"http://static01.nyt.com/favicon.ico\" />\\n<link rel=\"apple-touch-icon-precomposed\" sizes=\"144\\xc3\\x97144\" href=\"http://static01.nyt.com/images/icons/ios-ipad-144x144.png\" />\\n<link rel=\"apple-touch-icon-precomposed\" sizes=\"114\\xc3\\x97114\" href=\"http://static01.nyt.com/images/icons/ios-iphone-114x144.png\" />\\n<link rel=\"apple-touch-icon-precomposed\" href=\"http://static01.nyt.com/images/icons/ios-default-homescreen-57x57.png\" />\\n<meta name=\"sourceApp\" content=\"nyt-v5\" />\\n<meta id=\"applicationName\" name=\"applicationName\" content=\"homepage\" />\\n<meta id=\"foundation-build-id\" name=\"foundation-build-id\" content=\"\" />\\n<link rel=\"canonical\" href=\"http://www.nytimes.com\" />\\n<link rel=\"alternate\" type=\"application/rss+xml\" title=\"RSS\" href=\"http://www.nytimes.com/services/xml/rss/nyt/HomePage.xml\" />\\n<link rel=\"alternate\" media=\"handheld\" href=\"http://mobile.nytimes.com\" />\\n<meta name=\"robots\" content=\"noarchive,noodp,noydir\" />\\n<meta name=\"description\" content=\"The New York Times: Find breaking news, multimedia, reviews & opinion on Washington, business, sports, movies, travel, books, jobs, education, real estate, cars & more at nytimes.com.\" />\\n<meta name=\"CG\" content=\"Homepage\" />\\n<meta name=\"SCG\" content=\"\" />\\n<meta name=\"PT\" content=\"Homepage\" />\\n<meta name=\"PST\" content=\"\" />\\n<meta name=\"application-name\" content=\"The New York Times\" />\\n<meta name=\"msapplication-starturl\" content=\"http://www.nytimes.com\" />\\n<meta name=\"msapplication-task\" content=\"name=Search;action-uri=http://query.nytimes.com/search/sitesearch?src=iepin;icon-uri=http://css.nyt.com/images/icons/search.ico\" />\\n<meta name=\"msapplication-task\" content=\"name=Most Popular;action-uri=http://www.nytimes.com/gst/mostpopular.html?src=iepin;icon-uri=http://css.nyt.com/images/icons/mostpopular.ico\" />\\n<meta name=\"msapplication-task\" content=\"name=Video;action-uri=http://video.nytimes.com/?src=iepin;icon-uri=http://css.nyt.com/images/icons/video.ico\" />\\n<meta name=\"msapplication-task\" content=\"name=Homepage;action-uri=http://www.nytimes.com?src=iepin&amp;adxnnl=1;icon-uri=http://css.nyt.com/images/icons/homepage.ico\" />\\n<meta property=\"og:url\" content=\"http://www.nytimes.com\" />\\n<meta property=\"og:type\" content=\"website\" />\\n<meta property=\"og:title\" content=\"Breaking News, World News & Multimedia\" />\\n<meta property=\"og:description\" content=\"The New York Times: Find breaking news, multimedia, reviews & opinion on Washington, business, sports, movies, travel, books, jobs, education, real estate, cars & more at nytimes.com.\" />\\n<meta property=\"og:image\" content=\"http://static01.nyt.com/images/icons/t_logo_291_black.png\" />\\n<meta property=\"fb:app_id\" content=\"9869919170\" />\\n<meta name=\"apple-itunes-app\" content=\"app-id=357066198, affiliate-data=at=10lIEQ&ct=Web%20iPad%20Smart%20App%20Banner&pt=13036\" />\\n<meta name=\"keywords\" content=\"Malheur National Wildlife Refuge (Oregon),Bundy, Ammon E (1975- ),Bundy, Ryan C (1972- ),Finicum, LaVoy (1961-2016),Burns (Ore),Demonstrations, Protests and Riots,Federal Lands,Finicum, LaVoy (1961-2016),Malheur National Wildlife Refuge (Oregon),Demonstrations, Protests and Riots,Federal Lands,Oregon,Bundy, Ammon E (1975- ),Federal Lands,Bundy, Cliven,Bundy, Ammon E (1975- ),Oregon,Demonstrations, Protests and Riots,Trump, Donald J,Kelly, Megyn,Fox News Channel,Presidential Election of 2016,Debates (Political),Presidential Election of 2016,Political Advertising,Sanders, Bernard,Clinton, Hillary Rodham,Iowa,United States Politics and Government,Global Warming,Senate,Obama, Barack,Energy Efficiency,Murkowski, Lisa,Cantwell, Maria,Schizophrenia,Brain,Genetics and Heredity,Psychiatry and Psychiatrists,McCarroll, Steven,Stevens, Beth,Lander, Eric S,Sekar, Aswin,Nature (Journal),Mayer, Jane,Books and Literature,Koch, Charles G,Koch, David H,Safir, Howard,Writing and Writers,Dark Money: The Hidden History of the Billionaires Behind the Rise of the Radical Right (Book),Dark Money (Book),Holocaust and the Nazi Era,Amnesties, Commutations and Pardons,World War II (1939-45),War Crimes, Genocide and Crimes Against Humanity,Eichmann, Adolf,Cesarani, David,Israel,Germany,Letters,Amnesties, Commutations and Pardons,Eichmann, Adolf,Holocaust and the Nazi Era,War Crimes, Genocide and Crimes Against Humanity,United States International Relations,Holocaust and the Nazi Era,World War II (1939-45),War Crimes, Genocide and Crimes Against Humanity,Jews and Judaism,Awards, Decorations and Honors,Dermer, Ron,Obama, Barack,Spielberg, Steven,Master Sgt. Roddie Edmonds,China,Same-Sex Marriage, Civil Unions and Domestic Partnerships,Homosexuality and Bisexuality,Discrimination,Suits and Litigation (Civil),Changsha (China),Li Yinhe,Assaults,Police Department (NYC),New York City,Police,Theranos Inc,Centers for Medicare and Medicaid Services,Holmes, Elizabeth (1984- ),Tests (Medical),Police Brutality, Misconduct and Shootings,Justice Department,Ferguson (Mo),Brown, Michael (1996-2014),Wilson, Darren (1986- ),Classical Music,New York Philharmonic,van Zweden, Jaap,Appointments and Executive Changes,Gilbert, Alan,Lincoln Center for the Performing Arts,United States Economy,Inflation (Economics),Federal Reserve Bank of New York,Interest Rates,Janet L. Yellen,Television Sets and Media Devices,Federal Communications Commission,Cable Television,Computers and the Internet,Industrial Espionage,Books and Literature,Surveillance of Citizens by Government,Alphabet Inc,Apple Inc,European Commission,Google Inc,National Security Agency,Stasi (East Germany),Brin, Sergey,Franzen, Jonathan,Page, Larry,Rose, Charlie,Snowden, Edward J,California,Mountain View (Calif),Couture Fashion Week,Armani, Giorgio, SpA,Maison Margiela (Fashion Label),Galliano, John,Gaultier, Jean Paul,Apple Inc,Computers and the Internet,Mobile Applications,iPhone,Company Reports\" />\\n<meta name=\"video:playerId\" content=\"2640832222001\" />\\n<meta name=\"video:publisherId\" content=\"1749339200\" />\\n<meta name=\"video:publisherReadToken\" content=\"cE97ArV7TzqBzkmeRVVhJ8O6GWME2iG_bRvjBTlNb4o.\" />\\n<meta name=\"dfp-ad-unit-path\" content=\"homepage/us\" />\\n<meta name=\"dfp-amazon-enabled\" content=\"false\" />\\n<meta name=\"adxPage\" content=\"homepage.nytimes.com/index.html\" />\\n    \\n            <!--[if (gt IE 9)|!(IE)]> <!-->\\n    <link rel=\"stylesheet\" type=\"text/css\" media=\"screen\" href=\"http://a1.nyt.com/assets/homepage/20160111-154931/css/homepage/styles.css\" />\\n<!--<![endif]-->\\n<!--[if lte IE 9]>\\n    <link rel=\"stylesheet\" type=\"text/css\" media=\"screen\" href=\"http://a1.nyt.com/assets/homepage/20160111-154931/css/homepage/styles-ie.css\" />\\n<![endif]-->\\n        <script type=\"text/javascript\">var googletag=googletag||{};googletag.cmd=googletag.cmd||[],function(){var t=document.createElement(\"script\");t.async=!0,t.type=\"text/javascript\";var e=\"https:\"==document.location.protocol;t.src=(e?\"https:\":\"http:\")+\"//www.googletagservices.com/tag/js/gpt.js\";var o=document.getElementsByTagName(\"script\")[0];o.parentNode.insertBefore(t,o)}();</script>\\n<script src=\"//typeface.nytimes.com/zam5nzz.js\"></script>\\n<script>try{Typekit.load();}catch(e){}</script>\\n<script src=\"//cdn.optimizely.com/js/3338050995.js\"></script>\\n\\n<script id=\"abtestconfig\" type=\"application/json\">\\n\\n</script>\\n\\n\\n<script id=\"user-info-data\" type=\"application/json\">\\n{ \"meta\": {},\\n  \"data\": {\\n    \"id\": \"0\",\\n    \"name\": \"\",\\n    \"subscription\": [],\\n    \"demographics\": {}\\n  }\\n}\\n</script>\\n\\n<script>\\nvar require = {\\n    baseUrl: \\'http://a1.nyt.com/assets/\\',\\n    waitSeconds: 20,\\n    paths: {\\n        \\'foundation\\': \\'homepage/20160111-154931/js/foundation\\',\\n        \\'shared\\': \\'homepage/20160111-154931/js/shared\\',\\n        \\'homepage\\': \\'homepage/20160111-154931/js/homepage\\',\\n        \\'application\\': \\'homepage/20160111-154931/js/homepage/\\',\\n        \\'videoFactory\\': \\'http://static01.nyt.com/js2/build/video/2.0/videofactoryrequire\\',\\n        \\'videoPlaylist\\': \\'http://static01.nyt.com/js2/build/video/players/extended/2.0/appRequire\\',\\n        \\'auth/mtr\\': \\'http://static01.nyt.com/js/mtr\\',\\n        \\'auth/growl\\': \\'http://static01.nyt.com/js/auth/growl/default\\',\\n        \\'vhs\\': \\'http://static01.nyt.com/video/vhs/build/vhs-2.x.min\\'\\n    }\\n};\\n</script>\\n<!--[if (gte IE 9)|!(IE)]> <!-->\\n<script data-main=\"foundation/main\" src=\"http://a1.nyt.com/assets/homepage/20160111-154931/js/foundation/lib/framework.js\"></script>\\n<!--<![endif]-->\\n<!--[if lt IE 9]>\\n<script>\\n    require.map = { \\'*\\': { \\'foundation/main\\': \\'foundation/legacy_main\\' } };\\n</script>\\n<script data-main=\"foundation/legacy_main\" src=\"http://a1.nyt.com/assets/homepage/20160111-154931/js/foundation/lib/framework.js\"></script>\\n<![endif]-->\\n<script>\\nwindow.magnum.processFlags([\"limitFabrikSave\",\"moreFollowSuggestions\",\"unfollowComments\",\"homepageOpinionKickerCss\",\"followFeature\",\"allTheEmphases\",\"videoVHSCover\",\"videoVHSHomepageCover\",\"videoVHSHomepageNewControls\",\"videoVHSNewControls\",\"additionalOpinionRegions\",\"hpViewability\",\"miniNavCount\",\"newsEventHierarchy\",\"freeTrial\",\"insiderLaunch\",\"showUserSubscriptions\"]);\\n</script>\\n</head>\\n<body>\\n    \\n    <style>\\n    .lt-ie10 .messenger.suggestions {\\n        display: block !important;\\n        height: 50px;\\n    }\\n\\n    .lt-ie10 .messenger.suggestions .message-bed {\\n        background-color: #f8e9d2;\\n        border-bottom: 1px solid #ccc;\\n    }\\n\\n    .lt-ie10 .messenger.suggestions .message-container {\\n        padding: 11px 18px 11px 30px;\\n    }\\n\\n    .lt-ie10 .messenger.suggestions .action-link {\\n        font-family: \"nyt-franklin\", arial, helvetica, sans-serif;\\n        font-size: 10px;\\n        font-weight: bold;\\n        color: #a81817;\\n        text-transform: uppercase;\\n    }\\n\\n    .lt-ie10 .messenger.suggestions .alert-icon {\\n        background: url(\\'http://i1.nyt.com/images/icons/icon-alert-12x12-a81817.png\\') no-repeat;\\n        width: 12px;\\n        height: 12px;\\n        display: inline-block;\\n        margin-top: -2px;\\n        float: none;\\n    }\\n\\n    .lt-ie10 .masthead,\\n    .lt-ie10 .navigation,\\n    .lt-ie10 .comments-panel {\\n        margin-top: 50px !important;\\n    }\\n\\n    .lt-ie10 .ribbon {\\n        margin-top: 97px !important;\\n    }\\n</style>\\n<div id=\"suggestions\" class=\"suggestions messenger nocontent robots-nocontent\" style=\"display:none;\">\\n    <div class=\"message-bed\">\\n        <div class=\"message-container last-message-container\">\\n            <div class=\"message\">\\n                <span class=\"message-content\">\\n                    <i class=\"icon alert-icon\"></i><span class=\"message-title\">NYTimes.com no longer supports Internet Explorer 9 or earlier. Please upgrade your browser.</span>\\n                    <a href=\"http://www.nytimes.com/content/help/site/ie9-support.html\" class=\"action-link\">LEARN MORE \\xc2\\xbb</a>\\n                </span>\\n            </div>\\n        </div>\\n    </div>\\n</div>\\n\\n    <div id=\"shell\" class=\"shell\">\\n    <header id=\"masthead\" class=\"masthead theme-pinned-masthead\" role=\"banner\">\\n\\n    <div id=\"announcements-container\" class=\"announcements-container\"></div>\\n\\n    <div id=\"Header1\" class=\"ad header1-ad\"></div>\\n\\n    <div class=\"masthead-cap-container\">\\n\\n        <div id=\"masthead-cap\" class=\"masthead-cap\">\\n\\n            <div class=\"quick-navigation button-group\">\\n\\n                <button class=\"button sections-button enable-a11y\">\\n                    <i class=\"icon sprite-icon\"></i><span class=\"button-text\">Sections</span>\\n                </button>\\n                <button class=\"button search-button\">\\n                    <i class=\"icon sprite-icon\"></i><span class=\"button-text\">Search</span>\\n                </button>\\n                <a class=\"button skip-button skip-to-content visually-hidden focusable\" href=\"#top-news\">Skip to content</a>\\n                <a class=\"button skip-button skip-to-navigation visually-hidden focusable\" href=\"#site-index-navigation\">Skip to navigation</a>\\n            </div><!-- close quick-navigation -->\\n\\n            <div class=\"user-tools\">\\n\\n                <div id=\"Bar1\" class=\"ad bar1-ad\"></div>\\n\\n                <div class=\"user-tools-button-group button-group\">\\n                    <button class=\"button subscribe-button hidden\" data-href=\"http://www.nytimes.com/subscriptions/Multiproduct/lp3004.html\">Subscribe Now</button>\\n                    <button class=\"button login-button login-modal-trigger hidden\">Log In</button>\\n                    <button class=\"button notifications-button hidden\"><i class=\"icon sprite-icon\"></i><span class=\"button-text\">0</span></button>\\n                    <button class=\"button user-settings-button\">\\n                        <i class=\"icon sprite-icon\"></i><span class=\"button-text\">Settings</span>\\n                    </button>\\n                </div>\\n\\n            </div><!-- close user-tools -->\\n\\n        </div><!-- close masthead-cap -->\\n\\n    </div><!-- close masthead-cap-container -->\\n\\n    <div class=\"masthead-meta\">\\n\\n        <div class=\"editions tab\">\\n\\n            <ul class=\"editions-menu\">\\n                                    <li class=\"edition-domestic-toggle active\">U.S.</li>\\n                    <li class=\"edition-international-toggle\"><a href=\"http://international.nytimes.com\" data-edition=\"global\">International</a></li>\\n                \\n                <li class=\"edition-chinese-toggle\"><a href=\"http://cn.nytimes.com\" target=\"_blank\" data-edition=\"chinese\">\\xe4\\xb8\\xad\\xe6\\x96\\x87</a></li>\\n            </ul>\\n\\n        </div><!-- close editions -->\\n\\n        <div id=\"TopLeft\" class=\"ad top-left-ad\"></div>\\n        <div id=\"TopRight\" class=\"ad top-right-ad\"></div>\\n\\n        <h2 class=\"branding\"><a href=\"http://www.nytimes.com/\">\\n    <svg class=\"nyt-logo\" width=\"379\" height=\"64\" role=\"img\" aria-label=\"The New York Times\">\\n        <image width=\"379\" height=\"64\" xlink:href=\"http://a1.nyt.com/assets/homepage/20160111-154931/images/foundation/logos/nyt-logo-379x64.svg\" src=\"http://a1.nyt.com/assets/homepage/20160111-154931/images/foundation/logos/nyt-logo-379x64.png\" alt=\"The New York Times\" border=\"0\"/>\\n    </svg>\\n\\n</a></h2>\\n        <ul class=\"masthead-menu\">\\n            <li class=\"date\">Wednesday, January 27, 2016</li><li class=\"todays-paper\"><a href=\"http://www.nytimes.com/pages/todayspaper/index.html\" data-collection=\"todays-paper\"><i class=\"icon sprite-icon\"></i>Today\\xe2\\x80\\x99s Paper</a></li><li class=\"video\"><a href=\"http://www.nytimes.com/video\" data-collection=\"video\"><i class=\"icon sprite-icon\"></i>Video</a></li><li id=\"weather\" class=\"weather hidden\" data-collection=\"weather\"></li><li id=\"markets\" class=\"markets hidden\" data-collection=\"markets\"></li>\\n        </ul>\\n\\n    </div><!-- close masthead-meta -->\\n\\n    <nav id=\"mini-navigation\" class=\"mini-navigation\">\\n    <h2 class=\"visually-hidden\">Quick Site Sections Navigation</h2>\\n    <ul class=\"mini-navigation-menu\">\\n        <li>\\n            <button class=\"button sections-button\">\\n                <i class=\"icon sprite-icon\"></i>\\n                <span class=\"button-text\">Sections</span>\\n            </button>\\n        </li><li>\\n            <button class=\"button search-button\">\\n                <i class=\"icon sprite-icon\"></i>\\n                <span class=\"button-text\">Search</span>\\n            </button>\\n        </li>\\n            \\n                <li class=\"shortcuts-9A43D8FC-F4CF-44D9-9B34-138D30468F8F \">\\n                    <a href=\"http://www.nytimes.com/pages/world/index.html\">World</a>\\n                </li>\\n\\n            \\n                <li class=\"shortcuts-23FD6C8B-62D5-4CEA-A331-6C2A9A1223BE \">\\n                    <a href=\"http://www.nytimes.com/pages/national/index.html\">U.S.</a>\\n                </li>\\n\\n            \\n                <li class=\"shortcuts-80E6DEE6-87E4-4AD0-9152-14FA6B07E5AB \">\\n                    <a href=\"http://www.nytimes.com/pages/politics/index.html\">Politics</a>\\n                </li>\\n\\n            \\n                <li class=\"shortcuts-C4DC8C0C-E148-4201-BF10-82F1C903DBFB \">\\n                    <a href=\"http://www.nytimes.com/pages/nyregion/index.html\">N.Y.</a>\\n                </li>\\n\\n            \\n                <li class=\"shortcuts-104D1E63-9701-497B-8CF4-A4D120C9014E domestic\">\\n                    <a href=\"http://www.nytimes.com/pages/business/index.html\">Business</a>\\n                </li>\\n\\n            \\n                <li class=\"shortcuts-A257D89A-0D3C-40AF-9C34-1A25A7947D94 international\">\\n                    <a href=\"http://www.nytimes.com/pages/business/international/index.html\">Business</a>\\n                </li>\\n\\n            \\n                <li class=\"shortcuts-AD8090D7-4137-4D71-84C8-70DA3BD89778 domestic\">\\n                    <a href=\"http://www.nytimes.com/pages/opinion/index.html\">Opinion</a>\\n                </li>\\n\\n            \\n                <li class=\"shortcuts-09736473-CB3F-4B2F-9772-3AF128ABE12D international\">\\n                    <a href=\"http://www.nytimes.com/pages/opinion/international/index.html\">Opinion</a>\\n                </li>\\n\\n            \\n                <li class=\"shortcuts-78FBAD45-31A9-4EC7-B172-7D62A2B9955E \">\\n                    <a href=\"http://www.nytimes.com/pages/technology/index.html\">Tech</a>\\n                </li>\\n\\n            \\n                <li class=\"shortcuts-A4B35924-DB6C-4EA3-997D-450810F4FEE6 \">\\n                    <a href=\"http://www.nytimes.com/section/science\">Science</a>\\n                </li>\\n\\n            \\n                <li class=\"shortcuts-7D6BE1AF-8CD8-430B-8B2A-17CD0EAA99AC \">\\n                    <a href=\"http://www.nytimes.com/pages/health/index.html\">Health</a>\\n                </li>\\n\\n            \\n                <li class=\"shortcuts-DE2B278B-2783-4506-AAD5-C15A5BB6DA1A domestic\">\\n                    <a href=\"http://www.nytimes.com/pages/sports/index.html\">Sports</a>\\n                </li>\\n\\n            \\n                <li class=\"shortcuts-BE66F420-C51B-461D-B487-CACF62E94AAE international\">\\n                    <a href=\"http://www.nytimes.com/pages/sports/international/index.html\">Sports</a>\\n                </li>\\n\\n            \\n                <li class=\"shortcuts-C5BFA7D5-359C-427B-90E6-6B7245A6CDD8 domestic\">\\n                    <a href=\"http://www.nytimes.com/pages/arts/index.html\">Arts</a>\\n                </li>\\n\\n            \\n                <li class=\"shortcuts-0202D0E4-C59B-479A-BD42-6F1766459781 international\">\\n                    <a href=\"http://www.nytimes.com/pages/arts/international/index.html\">Arts</a>\\n                </li>\\n\\n            \\n                <li class=\"shortcuts-B3DFBD82-F298-43B3-9458-219B4F6AA2A5 domestic\">\\n                    <a href=\"http://www.nytimes.com/pages/fashion/index.html\">Style</a>\\n                </li>\\n\\n            \\n                <li class=\"shortcuts-CC9E2674-F6C4-4A39-813B-F5AB0C515CEA international\">\\n                    <a href=\"http://www.nytimes.com/pages/style/international/index.html\">Style</a>\\n                </li>\\n\\n            \\n                <li class=\"shortcuts-D9C94A2B-0364-4D25-8383-592CC66F82D4 domestic\">\\n                    <a href=\"http://www.nytimes.com/pages/dining/index.html\">Food</a>\\n                </li>\\n\\n            \\n                <li class=\"shortcuts-FDEFB811-B483-4C3D-A25A-FD07BE5EAD96 international\">\\n                    <a href=\"http://www.nytimes.com/pages/dining/international/index.html\">Food</a>\\n                </li>\\n\\n            \\n                <li class=\"shortcuts-FDA10AC4-4738-4099-91E8-15584765C8D7 \">\\n                    <a href=\"http://www.nytimes.com/section/travel\">Travel</a>\\n                </li>\\n\\n            \\n                <li class=\"shortcuts-E57A148E-0CB9-4C02-966D-28B119710151 \">\\n                    <a href=\"http://www.nytimes.com/pages/magazine/index.html\">Magazine</a>\\n                </li>\\n\\n            \\n                <li class=\"shortcuts-052C33AD-1404-4DB6-AA70-0901DB1AD95B \">\\n                    <a href=\"http://www.nytimes.com/section/t-magazine\">T Magazine</a>\\n                </li>\\n\\n            \\n                <li class=\"shortcuts-92720057-BCB6-4BDB-9351-12F29393259F \">\\n                    <a href=\"http://www.nytimes.com/pages/realestate/index.html\">Real Estate</a>\\n                </li>\\n\\n                        <li><button class=\"button all-sections-button\">all</button></li>\\n    </ul>\\n</nav>\\n    <div class=\"search-flyout-panel flyout-panel\">\\n    <button class=\"button close-button\" type=\"button\"><i class=\"icon\"></i><span class=\"visually-hidden\">Close search</span></button>\\n    <div class=\"ad\">\\n        <div id=\"SponsorAd\" class=\"sponsor-ad\">\\n            <small class=\"ad-sponsor\">search sponsored by</small>\\n        </div>\\n    </div>\\n    <nav class=\"search-form-control form-control layout-horizontal\">\\n    <h2 class=\"visually-hidden\">Site Search Navigation</h2>\\n    <form class=\"search-form\" role=\"search\">\\n        <div class=\"control\">\\n            <div class=\"label-container visually-hidden\">\\n                                <label for=\"search-input\">Search NYTimes.com</label>\\n                            </div>\\n            <div class=\"field-container\">\\n                                <input id=\"search-input\" name=\"search-input\" type=\"text\" class=\"search-input text\" autocomplete=\"off\" placeholder=\"Search NYTimes.com\" />\\n                \\n                <button type=\"button\" class=\"button clear-button\" tabindex=\"-1\" aria-describedby=\"clear-search-input\"><i class=\"icon\"></i><span id=\"clear-search-input\" class=\"visually-hidden\">Clear this text input</span></button>\\n                <div class=\"auto-suggest\" style=\"display: none;\">\\n                    <ol></ol>\\n                </div>\\n                <button class=\"button submit-button\" type=\"submit\">Go</button>\\n            </div>\\n        </div><!-- close control -->\\n    </form>\\n</nav>\\n\\n\\n</div><!-- close flyout-panel -->\\n    <div id=\"notification-modals\" class=\"notification-modals\"></div>\\n\\n</header><!-- close masthead -->\\n<div id=\"masthead-placeholder\" class=\"masthead-placeholder\"></div>\\n                    <nav id=\"navigation\" class=\"navigation\">\\n    <h2 class=\"visually-hidden\">Site Navigation</h2>\\n</nav><!-- close navigation -->\\n\\n<nav id=\"mobile-navigation\" class=\"mobile-navigation hidden\">\\n    <h2 class=\"visually-hidden\">Site Mobile Navigation</h2>\\n</nav><!-- close mobile-navigation -->\\n\\n    <div id=\"navigation-edge\" class=\"navigation-edge\"></div>\\n    <div id=\"page\" class=\"page\">\\n                <main id=\"main\" class=\"main\" role=\"main\">\\n                <div id=\"Top\" class=\"ad hp-top-ad hidden nocontent robots-nocontent\"></div>\\n<div id=\"Top_Close\" class=\"ad hp-top-ad-close hidden nocontent robots-nocontent\"></div>\\n<div id=\"Top5\" class=\"ad top5-ad nocontent robots-nocontent\"></div>\\n\\n    <div class=\"span-abc-region region\">\\n        <div class=\"collection\">\\n            <!-- test 23 -->\\r\\n\\r\\n<style>\\r\\n\\r\\n\\r\\n\\r\\n\\r\\n/* Fix MM icons in kickers */\\r\\n.kicker .icon:before { top: 0px; }\\r\\n.kicker .media.slideshow { margin-bottom: 0px; }\\r\\n\\r\\n\\r\\n\\r\\n/* Hiding Hacks */\\r\\n\\r\\n.nythpHideKickers .kicker, .nythpHideBylines .byline, .nythpHideTimestamps .timestamp {\\r\\n    display: none;\\r\\n}\\r\\n\\r\\n/* banner hed modifications */\\r\\n.span-ab-top-region .story.theme-summary .story-heading {\\r\\n  line-height: 2.1rem;\\r\\n}\\r\\n\\r\\n\\r\\n/* Alterations to the Centered Feature Photo Spot Treatment */\\r\\n\\r\\n.b-column .photo-spot-region .story.theme-feature .story-heading {\\r\\n    font-size: 1.35rem;\\r\\n    line-height: 1.65rem;\\r\\n}\\r\\n\\r\\n.b-column  .photo-spot-region .story.theme-feature .story-heading {\\r\\n    padding: 0 22px; /* for headline wrapping  */\\r\\n}\\r\\n.b-column .photo-spot-region .story.theme-feature .summary {\\r\\n    line-height: 18px;\\r\\n}\\r\\n\\r\\n/* Breaking News/Developing Headers */\\r\\n.nythpBreaking {\\r\\n\\tcolor: #A81817;\\r\\n\\tborder-top: 3px solid #A81817;\\r\\n\\tpadding-top: 2px;\\r\\n\\tpadding-bottom: 3px;\\r\\n        margin-top: 12px;\\r\\n}\\r\\n\\r\\n.nythpBreaking h6 {\\r\\n\\ttext-transform: uppercase;\\r\\n\\tfont-family: \"nyt-franklin\",arial,helvetica,sans-serif;\\r\\n\\tfont-weight: 700;\\r\\n}\\r\\n\\r\\n.nythpDeveloping {\\r\\n\\tcolor: #FD8249;\\r\\n\\tborder-top-color: #FD8249;\\r\\n}\\r\\n\\r\\n.nythpBreaking.nythpNoRule {\\r\\n\\tborder: none;\\r\\n        margin-top: 0px;\\r\\n}\\r\\n\\r\\n.above-banner-region .nythpBreaking {\\r\\nmargin-bottom: 10px;\\r\\n}\\r\\n\\r\\n/* Daypart Styles */\\r\\n\\r\\n.pocket-region .story, .c-column #nythpDaypartRegion .story { margin-bottom: 15px !important; }\\r\\n\\r\\n.pocket-region h4.sectionHeaderHome, .c-column #nythpDaypartRegion h4.sectionHeaderHome {\\r\\n    font-size: 12px;\\r\\n    line-height: 14px;\\r\\n    font-weight: 700;\\r\\n    font-family: \"nyt-cheltenham-sh\",georgia,\"times new roman\",times,serif;\\r\\n    text-transform: uppercase;\\r\\n    margin-bottom: 6px;\\r\\n}\\r\\n\\r\\n.pocket-region h5, .c-column #nythpDaypartRegion h5 {\\r\\n\\tfont-size: 14px;\\r\\n\\tline-height: 16px;\\r\\n\\tfont-weight: 700;\\r\\n\\tfont-family: \"nyt-cheltenham-sh\",georgia,\"times new roman\",times,serif;\\r\\n\\tmargin-bottom: 2px;\\r\\n}\\r\\n\\r\\n.pocket-region .runaroundRight, .c-column #nythpDaypartRegion .runaroundRight {\\r\\n\\tfloat: right;\\r\\n\\tclear: right;\\r\\n\\tmargin: 3px 0px 6px 6px;\\r\\n}\\r\\n\\r\\n.pocket-region .summary, .c-column #nythpDaypartRegion .summary {\\r\\n    font-size: 13px;\\r\\n    line-height: 18px;\\r\\n    font-weight: 400;\\r\\n    font-family: georgia,\"times new roman\",times,serif;\\r\\n    margin-bottom: 0px;\\r\\n}\\r\\n\\r\\n.pocket-region .refer li, .c-column #nythpDaypartRegion .refer li {\\r\\n\\tbackground-image: url(http://css.nyt.com/images/icons/bullet4x4.gif);\\r\\n\\tbackground-repeat: no-repeat;\\r\\n\\tbackground-position: 0 .4em;\\r\\n\\tpadding-left: 8px;\\r\\n\\tfont-size: 12px;\\r\\n\\tline-height: 14px;\\r\\n\\tfont-weight: 700;\\r\\n\\tfont-family: \"nyt-cheltenham-sh\",georgia,\"times new roman\",times,serif;\\r\\n}\\r\\n\\r\\n\\r\\n\\r\\n/* BEGIN .HPHEADER STYLING */\\r\\n\\r\\n.wf-loading .hpHeader h6 {\\r\\n    visibility: hidden;\\r\\n  }\\r\\n\\r\\n.hpHeader {\\r\\n  margin-bottom: 8px;\\r\\n}\\r\\n\\r\\n.hpHeader h6 {\\r\\n  font-family: \"nyt-franklin\",helvetica,arial,sans-serif;\\r\\n  text-transform: uppercase;\\r\\n  font-size: 11px;\\r\\n  font-weight: 700;\\r\\n  letter-spacing: 1px;\\r\\n  padding: 12px 4px 2px 0;\\r\\n  border-bottom: 1px solid #999;\\r\\n  border-top: 1px solid #E2E2E2;\\r\\n}\\r\\n\\r\\n\\r\\n.hpHeader h6 a, \\r\\n.hpHeader h6 a:visited  {\\r\\n  text-decoration: none;\\r\\n  color: #000;\\r\\n}\\r\\n\\r\\n.hpHeader h6:hover, .span-ab-top-region .hpHeader h6 a:hover, .top-news .b-column .hpHeader h6 a:hover, .b-column .split-layout .hpHeader h6:hover,  \\r\\n.hpHeader h6:active, .span-ab-top-region .hpHeader h6 a:active, .top-news .b-column .hpHeader h6 a:active, .b-column .split-layout .hpHeader h6:active {\\r\\n  border-bottom-color: #000;\\r\\n}\\r\\n\\r\\n/* B Column Centered Treatment */\\r\\n.span-ab-top-region .hpHeader h6, .top-news .b-column .hpHeader h6  {\\r\\n  text-align: center;\\r\\n  border-bottom: none;\\r\\n  padding: 0px;\\r\\n}\\r\\n\\r\\n.span-ab-top-region .hpHeader h6 a, .top-news .b-column .hpHeader h6 a  {\\r\\n  display: inline-block;\\r\\n  border-bottom: 1px solid #999;\\r\\n  padding: 12px 4px 2px 4px;\\r\\n}\\r\\n\\r\\n/* Undo B Column Treatment for 3 Column Layouts and Split Code */\\r\\n.b-column .split-layout .hpHeader h6 {\\r\\n  text-align: left;    \\r\\n  border-bottom: 1px solid #999;\\r\\n  padding: 12px 4px 2px 0;\\r\\n}\\r\\n\\r\\n.b-column .split-layout .hpHeader h6 a {\\r\\n  border-bottom: none;\\r\\n  padding: 0;\\r\\n}\\r\\n\\r\\n\\r\\n/* Remove Top Rule When First in Region */\\r\\n.collection:first-child .hpHeader h6, .collection:first-child .hpHeader h6 a {\\r\\n  border-top: none;\\r\\n  padding-top: 0;\\r\\n}\\r\\n\\r\\n/* Lens Header Styles */\\r\\n\\r\\n.hpHeader h6, .span-ab-top-region .hpHeader h6 a, .top-news .b-column .hpHeader h6 a, .b-column .split-layout .hpHeader h6 { border-bottom-width: 2px; }\\r\\n\\r\\n/* END .HPHEADER STYLING */\\r\\n\\r\\n\\r\\n/* Briefing Newsletter */\\r\\n\\r\\n.nythpBriefingNewsletterSignup {\\r\\n\\tfont-family: \\'nyt-franklin\\', Arial, Helvetica, sans-serif;\\r\\n\\tfont-size: 11px;\\r\\n\\tpadding-left: 16px;\\r\\n\\tbackground: url(\\'http://graphics8.nytimes.com/packages/images/homepage/newsletter_icon.png\\') no-repeat;\\r\\n\\tfont-weight: 400;\\r\\n}\\r\\n\\r\\na.nythpBriefingNewsletterSignup, a:link.nythpBriefingNewsletterSignup, a:visited.nythpBriefingNewsletterSignup {\\r\\n\\tcolor: #326891;\\r\\n}\\r\\n\\r\\n</style>\\r\\n<style>\\r\\n\\r\\n.nythpBriefings h3.kicker {\\r\\n    font-family: nyt-franklin,Arial,sans-serif;\\r\\n    font-size: 12px;\\r\\n    font-weight: 700;\\r\\n    background: url(\\'http://graphics8.nytimes.com/packages/images/homepage/briefings/dogear_sm.png\\') no-repeat scroll left top transparent;\\r\\n    padding: 0 0 3px 20px;\\r\\n    border-bottom: 1px solid #000;\\r\\n    display: inline-block;\\r\\n    color: #000;\\r\\n    margin-bottom: 8px;\\r\\nmargin-top: 0px !important;\\r\\n}\\r\\n\\r\\n.nythpBriefings .timestamp {display: none;}\\r\\n\\r\\n/* Gift Guide Promos */\\r\\n\\r\\n.nythpGiftguide h3.kicker {\\r\\n\\r\\n}\\r\\n\\r\\n.nythpGiftguide article .kicker, .nythpGiftguide .byline {\\r\\n\\tdisplay: none;\\r\\n}\\r\\n\\r\\n.b-column .nythpGiftguide .image {\\r\\n\\tmargin-top: -40px;\\r\\n}\\r\\n\\r\\n.nythpGiftguide .theme-news-headlines li:before {\\r\\n\\tbackground: none;\\r\\n\\tborder: none;\\r\\n}\\r\\n\\r\\n.nythpGiftguide .theme-news-headlines li {\\r\\n\\tpadding-left: 0px;\\r\\n}\\r\\n\\r\\n.nythpGiftguide .refer li .refer-heading {\\r\\n\\tfont-family: \"nyt-franklin\",arial,helvetica,sans-serif; \\r\\n\\ttext-transform: uppercase; \\r\\n\\tfont-size: 10px;\\r\\n\\tfont-weight: 400;\\r\\n}\\r\\n\\r\\n.nythpGiftguide .story.theme-summary .story-heading {\\r\\n\\tfont-size: 18px;\\r\\n\\tline-height: 21px;\\r\\n\\tfont-weight: 700;\\r\\n\\tfont-family: \"nyt-cheltenham\",georgia,\"times new roman\",times,serif;\\r\\n}\\r\\n\\r\\n</style>\\r\\n\\r\\n<script>\\r\\nrequire([\\'foundation/main\\'], function () {\\r\\n    require([\\'jquery/nyt\\', \\'foundation/views/page-manager\\'], function ($, pageManager) {\\r\\n        $(document).ready(function () {\\r\\n             \\r\\n              $(\"h3:contains(\\'The Day Ahead\\')\").parent().addClass(\"nythpBriefings\");\\r\\n              $(\"h3:contains(\\'Holiday Gift Guide\\')\").parent().addClass(\"nythpGiftguide\");\\r\\n\\r\\n        });\\r\\n    });\\r\\n});\\r\\n\\r\\n</script></div>\\n    </div><!-- close span-abc-region -->\\n\\n<div class=\"span-ab-layout layout\">\\n\\n    <div class=\"ab-column column\">\\n\\n        <section id=\"top-news\" class=\"top-news\">\\n            <h2 class=\"section-heading visually-hidden\">Top News</h2>\\n\\n            \\n            \\n            \\n            <div class=\"wide-b-layout layout\">\\n\\n                <div class=\"a-column column\">\\n\\n                    <div class=\"first-column-region region\">\\n\\n                        <div class=\"collection\">\\n            <article class=\"story theme-summary lede\" id=\"topnews-100000004170871\" data-story-id=\"100000004170871\" data-rank=\"0\" data-collection-renderstyle=\"LedeSum\">\\n    \\n        <h2 class=\"story-heading\"><a href=\"http://www.nytimes.com/2016/01/28/us/oregon-standoff.html\">Protesters in Oregon Are Urged to Leave After Arrests</a></h2>\\n\\n            <p class=\"byline\">By DAVE SEMINARA, JULIE TURKEWITZ and RICHARD P\\xc3\\x89REZ-PE\\xc3\\x91A <time class=\"timestamp\" datetime=\"2016-01-27\" data-eastern-timestamp=\"4:56 PM\" data-utc-timestamp=\"1453931795\">4:56 PM ET</time></p>\\n    \\n    <p class=\"summary\">After eight armed antigovernment protesters were arrested and one was killed, officials said they had done what they could to bring about a peaceful resolution.</p>\\n\\n\\t\\t    <p class=\"theme-comments\">\\n    <a href=\"http://www.nytimes.com/2016/01/28/us/oregon-standoff.html?hp&amp;target=comments#commentsContainer\" class=\"comments-link\"><i class=\"icon sprite-icon comments-icon\"></i><span class=\"comment-count\">&nbsp;Comments</span></a>\\n</p>\\n\\t\\n\\t</article>\\n\\n\\n</div>\\n<div class=\"collection headlines\">\\n            <ul class=\"theme-news-headlines\">\\n                    <li>\\n            <div style=\"margin-top: -10px;\"></div>            </li>\\n                    <li>\\n            <article class=\"story\" id=\"topnews-100000004171607\" data-story-id=\"100000004171607\" data-rank=\"1\" data-collection-renderstyle=\"HpHeadline\">\\n        <h2 class=\"story-heading\"><i class=\"icon\"></i><a href=\"http://www.nytimes.com/2016/01/28/us/lavoy-finicum-protester-killed-in-oregon.html\">Protester Who Was Killed: \\xe2\\x80\\x98I\\xe2\\x80\\x99d Rather Die Than Be Caged\\xe2\\x80\\x99</a> <time class=\"timestamp\" datetime=\"2016-01-27\" data-eastern-timestamp=\"2:58 PM\" data-utc-timestamp=\"1453924707\">2:58 PM ET</time></h2>\\n</article>\\n            </li>\\n                    <li>\\n            <article class=\"story\" id=\"topnews-100000004130152\" data-story-id=\"100000004130152\" data-rank=\"2\" data-collection-renderstyle=\"HpHeadline\">\\n        <h2 class=\"story-heading\"><i class=\"icon\"></i><a href=\"http://www.nytimes.com/interactive/2016/01/07/us/oregon-standoff-western-lands.html\"><span class=\"icon graphic\"></span>The Oregon Protest and the Battle Over Western Lands</a> </h2>\\n</article>\\n            </li>\\n                    <li>\\n            <article class=\"story\" id=\"topnews-100000004126714\" data-story-id=\"100000004126714\" data-rank=\"3\" data-collection-renderstyle=\"HpHeadline\">\\n        <h2 class=\"story-heading\"><i class=\"icon\"></i><a href=\"http://www.nytimes.com/video/us/100000004126714/who-is-the-bundy-family.html\"><span class=\"icon video\">Watch</span>: Who Are the Bundys?</a> </h2>\\n</article>\\n            </li>\\n            </ul>\\n</div>\\n<hr class=\"single-rule\"><div class=\"collection\">\\n            <style type=\"text/css\">\\r\\n\\r\\n.nythpElection2016Header {\\r\\n\\r\\n}\\r\\n\\r\\n.nythpElection2016Header h6 {\\r\\n    font-family: \"nyt-franklin\", arial, helvetica, sans-serif;\\r\\n    text-transform: uppercase;\\r\\n    font-size: 13px;\\r\\n    font-weight: 700;\\r\\n    background-image: url(http://graphics8.nytimes.com/newsgraphics/2015/02/25/election-navigation/assets/images/election-2016-logo.png);\\r\\n    background-repeat: no-repeat;\\r\\n    margin-bottom: 6px;\\r\\n    height: 18px;\\r\\n    background-position: left bottom;\\r\\n    margin: 0 auto 6px;\\r\\n    background-size: 18px 18px;\\r\\n    padding: 5px 5px 0 25px;\\r\\n    letter-spacing: 1px;\\r\\n}\\r\\n\\r\\n.nythpElection2016Header h6 a {\\r\\n    text-decoration: none;\\r\\n    color: #000;\\r\\n}\\r\\n\\r\\n .nythpElection2016Header h6:hover,\\r\\n .nythpElection2016Header h6:active {\\r\\n}\\r\\n\\r\\n.nythpElection2016Header h6 a, \\r\\n.nythpElection2016Header h6 a:visited  {\\r\\n    text-decoration: none;\\r\\n    color: #000;\\r\\n}\\r\\n\\r\\n.nythpElection2016Header h6 em {\\r\\n  color: #999;\\r\\n  font-style: normal;\\r\\n}\\r\\n\\r\\n.span-ab-top-region .nythpElection2016Header, .b-column .nythpElection2016Header {\\r\\n    text-align: center;\\r\\n}\\r\\n\\r\\n.span-ab-top-region .nythpElection2016Header h6, .b-column .nythpElection2016Header h6 {\\r\\n    display: inline-block;\\r\\n\\r\\n}\\r\\n\\r\\n</style>\\r\\n\\r\\n<div class=\"nythpHeader nythpElection2016Header\">\\r\\n  <h6><a href=\"http://www.nytimes.com/pages/politics/index.html\">Election 2016</a></h6>\\r\\n</div>\\r\\n\\r\\n<article class=\"story theme-summary\" id=\"topnews-100000004170190\" data-story-id=\"100000004170190\" data-rank=\"1\" data-collection-renderstyle=\"HpSumSmallMedia\">\\n    \\n    \\n    <h2 class=\"story-heading\"><a href=\"http://www.nytimes.com/2016/01/27/us/politics/trump-feud-fox-debate.html\">Trump, in Feud With Fox News, Will Skip Next Debate</a></h2>\\n\\n            <p class=\"byline\">By MAGGIE HABERMAN and NICK CORASANITI </p>\\n    \\n            <div class=\"thumb\">\\n            <a href=\"http://www.nytimes.com/2016/01/27/us/politics/trump-feud-fox-debate.html\"><img src=\"http://static01.nyt.com/images/2016/01/27/us/27foxtrump-web1/27foxtrump-web1-thumbStandard.jpg\" alt=\"\"></a>\\n        </div>\\n    \\n    <p class=\"summary\">\\n        Donald J. Trump had demanded that Megyn Kelly be removed at the debate on Thursday. The network did not blink.    </p>\\n\\n            <p class=\"theme-comments\">\\n    <a href=\"http://www.nytimes.com/2016/01/27/us/politics/trump-feud-fox-debate.html?hp&amp;target=comments#commentsContainer\" class=\"comments-link\"><i class=\"icon sprite-icon comments-icon\"></i><span class=\"comment-count\">&nbsp;Comments</span></a>\\n</p>\\n    \\n    </article>\\n\\n</div>\\n<div class=\"collection headlines\">\\n                <h3 class=\"kicker collection-kicker\">More in Politics</h3>\\n        <ul class=\"theme-news-headlines\">\\n                    <li>\\n            <article class=\"story\" id=\"topnews-100000004172207\" data-story-id=\"100000004172207\" data-rank=\"0\" data-collection-renderstyle=\"HpHeadline\">\\n        <h2 class=\"story-heading\"><i class=\"icon\"></i><a href=\"http://www.nytimes.com/politics/first-draft/2016/01/27/news-analysis-why-trump-walked/\">News Analysis: Why Trump Walked</a> <time class=\"timestamp\" datetime=\"2016-01-27\" data-eastern-timestamp=\"4:49 PM\" data-utc-timestamp=\"1453931396\">4:49 PM ET</time></h2>\\n</article>\\n            </li>\\n                    <li>\\n            <article class=\"story\" id=\"topnews-100000004170956\" data-story-id=\"100000004170956\" data-rank=\"1\" data-collection-renderstyle=\"HpHeadline\">\\n        <h2 class=\"story-heading\"><i class=\"icon\"></i><a href=\"http://www.nytimes.com/politics/first-draft/2016/01/27/donald-trump-aide-is-more-conditional-about-skipping-debate/\">Trump Aide Is More Conditional About Skipping Debate</a> </h2>\\n</article>\\n            </li>\\n                    <li>\\n            <article class=\"story\" id=\"topnews-100000004169963\" data-story-id=\"100000004169963\" data-rank=\"2\" data-collection-renderstyle=\"HpHeadline\">\\n        <h2 class=\"story-heading\"><i class=\"icon\"></i><a href=\"http://www.nytimes.com/2016/01/28/us/politics/bernie-sanders-hillary-clinton-iowa.html\">Decision for Sanders: Attack Clinton or Stay Positive?</a> </h2>\\n</article>\\n            </li>\\n            </ul>\\n</div>\\n<hr class=\"single-rule\"><div class=\"collection\">\\n            <article class=\"story theme-summary\" id=\"topnews-100000004170982\" data-story-id=\"100000004170982\" data-rank=\"0\" data-collection-renderstyle=\"HpSum\">\\n    \\n        <h2 class=\"story-heading\"><a href=\"http://www.nytimes.com/2016/01/28/us/politics/senate-bipartisan-energy-legislation.html\">Rare Bipartisan Bill in Senate Seeks to Reshape U.S. Energy</a></h2>\\n\\n            <p class=\"byline\">By CORAL DAVENPORT <time class=\"timestamp\" datetime=\"2016-01-27\" data-eastern-timestamp=\"1:42 PM\" data-utc-timestamp=\"1453920161\">1:42 PM ET</time></p>\\n    \\n    <p class=\"summary\">The proposed energy legislation focuses on protecting and improving the power grid and updating the oil and gas infrastructure.</p>\\n\\n\\t\\n\\t</article>\\n\\n</div>\\n<hr class=\"single-rule\"><div class=\"collection\">\\n            <article class=\"story theme-summary\" id=\"topnews-100000004169237\" data-story-id=\"100000004169237\" data-rank=\"0\" data-collection-renderstyle=\"HpSum\">\\n    \\n        <h2 class=\"story-heading\"><a href=\"http://www.nytimes.com/2016/01/28/health/schizophrenia-cause-synaptic-pruning-brain-psychiatry.html\">Schizophrenia Study Offers New Insight Into Its Cause</a></h2>\\n\\n            <p class=\"byline\">By BENEDICT CAREY <time class=\"timestamp\" datetime=\"2016-01-27\" data-eastern-timestamp=\"1:11 PM\" data-utc-timestamp=\"1453918266\">1:11 PM ET</time></p>\\n    \\n    <p class=\"summary\">A landmark study provides researchers with their first biological handle on the disorder, and helps explain why it often begins at a relatively young age.</p>\\n\\n\\t\\n\\t</article>\\n\\n</div>\\n                                                                        \\n                    </div><!-- close first-column-region -->\\n\\n                </div><!-- close a-column -->\\n\\n                <div class=\"b-column column\">\\n\\n                                            <div class=\"photo-spot-region region\">\\n\\n                            <div class=\"collection\">\\n            <article class=\"story theme-feature\" id=\"topnews-100000004171843\" data-story-id=\"100000004171843\" data-rank=\"0\" data-collection-renderstyle=\"LargeMediaHeadlineSumCentered\">\\n    \\n    \\n    <figure class=\"media photo\">\\n    <div class=\"image\">\\n        <a href=\"http://www.nytimes.com/2016/01/28/us/wounded-warrior-project-spends-lavishly-on-itself-ex-employees-say.html\"><img src=\"http://static01.nyt.com/images/2016/01/28/us/28wounded7/28wounded7-largeHorizontal375.jpg\" alt=\"\"></a>\\n    </div>\\n    <figcaption class=\"caption\" itemprop=\"description\">\\n                    <span class=\"caption-text\">Jesse Longoria, a former Marine sniper whose right arm amputated after complications from injuries sustained in Iraq, with his 16-month-old son, Noah.</span>\\n        \\n        \\t        <span class=\"credit\" itemprop=\"copyrightHolder\">\\n\\t            <span class=\"visually-hidden\">Credit</span>\\n\\t            Tamir Kalifa for The New York Times\\t        </span>\\n            </figcaption>\\n</figure>\\n\\n    <h1 class=\"story-heading\"><a href=\"http://www.nytimes.com/2016/01/28/us/wounded-warrior-project-spends-lavishly-on-itself-ex-employees-say.html\"></a></h1>\\n\\n    <p class=\"summary\"></p>\\n\\n    \\n    \\n    </article>\\n<style>\\r\\n.alt-caption{\\r\\n  font-size: 11px;\\r\\n  font-size: 0.6875rem;\\r\\n  line-height: 14px;\\r\\n  line-height: 0.875rem;\\r\\n  margin-left: 10px;\\r\\n\\r\\n\\r\\n}\\r\\n</style>\\r\\n<div style=\"margin-top: -5px;\" class=\"caption alt-caption\">Jesse Longoria, a fired employee who nearly died in Iraq, said he felt guilty about what he saw as widespread waste at the charity. </div>\\r\\n\\r\\n</div>\\n<div class=\"collection\">\\n            <article class=\"story theme-feature\" id=\"topnews-100000004171846\" data-story-id=\"100000004171846\" data-rank=\"0\" data-collection-renderstyle=\"LargeMediaHeadlineSumCentered\">\\n    \\n    \\n    \\n    <h1 class=\"story-heading\"><a href=\"http://www.nytimes.com/2016/01/28/us/wounded-warrior-project-spends-lavishly-on-itself-ex-employees-say.html\">Wounded Warrior Project Spends Lavishly on Itself, Insiders Say</a></h1>\\n\\n    <p class=\"summary\">The charity, which raised $372 million in 2015, has embraced aggressive styles of fund-raising, marketing and management \\xe2\\x80\\x94 and has spent a significant proportion on overhead.</p>\\n\\n            <p class=\"byline\">By DAVE PHILIPPS </p>\\n    \\n    \\n    </article>\\n</div>\\n\\n                        </div><!-- close photo-spot-region -->\\n\\n                        <hr class=\"scotch-rule\" />\\n                    \\n                    \\n                        <div class=\"second-column-region region\">\\n\\n                            <div class=\"collection\">\\n            <style>\\r\\n.nythpSplitCode .column { margin-left: 21px; }\\r\\n.nythpSplitCode .column:first-child { margin-left: 0px; }\\r\\n.nythpSplitCode.layout { background: none; }\\r\\n.nythpSplitCode .media.photo.medium-thumb { float: none; margin-left: 0; }\\r\\n</style>\\r\\n\\r\\n<div class=\"layout nythpSplitCode\">\\r\\n<div class=\"column\"><div><article class=\"story theme-summary\" id=\"topnews-100000003757477\" data-story-id=\"100000003757477\" data-rank=\"1\" data-collection-renderstyle=\"HpSum\">\\n    \\n        <h2 class=\"story-heading\"><a href=\"http://www.nytimes.com/2016/01/27/nytnow/your-wednesday-evening-briefing-oregon-bernie-sanders-donald-trump.html\">Your Evening Briefing</a></h2>\\n\\n            <p class=\"byline\">By ANDREA KANNAPELL and ERICA ACKERBERG <time class=\"timestamp\" datetime=\"2016-01-27\" data-eastern-timestamp=\"5:57 PM\" data-utc-timestamp=\"1453935456\">5:57 PM ET</time></p>\\n    \\n    <p class=\"summary\">Here\\xe2\\x80\\x99s what you need to know at the end of the day.</p>\\n\\n\\t\\n\\t    <ul class=\"refer theme-news-headlines\">\\n            <li>\\n            <article class=\"story\" id=\"topnews-100000003757477\">\\n                <h2 class=\"refer-heading\"><a href=\"http://lens.blogs.nytimes.com/2016/01/27/jan-27-2016-pictures-of-the-day/\">Lens Blog: Pictures of the Day</a> </h2>\\n            </article>\\n        </li>\\n        </ul>\\n</article>\\n\\n</div></div>\\r\\n<div class=\"column\"><div></div>\\n<div class=\"collection\">\\n            <script>function getFlexData() { return {\"data\":{\"options\":{\"width\":177,\"height\":126,\"jsonp\":\"http:\\\\/\\\\/json8.nytimes.com\\\\/slideshow\\\\/2016\\\\/01\\\\/27\\\\/nytnow\\\\/your-wednesday-evening-briefing.slideshow.jsonp\",\"link\":\"\"},\"photos\":{\"photo\":{\"url\":\"\",\"credit\":\"\"}},\"advanced\":{\"delay\":3,\"limitjsonp\":0,\"rendition\":\"\",\"targetoverride\":\"\",\"abbreviatecredits\":true}}}; }var NYTD=NYTD || {}; NYTD.FlexTypes = NYTD.FlexTypes || []; NYTD.FlexTypes.push({\"target\":\"FT100000004172400\",\"type\":\"FadingSlideShow\",\"data\":{\"options\":{\"width\":177,\"height\":126,\"jsonp\":\"http:\\\\/\\\\/json8.nytimes.com\\\\/slideshow\\\\/2016\\\\/01\\\\/27\\\\/nytnow\\\\/your-wednesday-evening-briefing.slideshow.jsonp\",\"link\":\"\"},\"photos\":{\"photo\":{\"url\":\"\",\"credit\":\"\"}},\"advanced\":{\"delay\":3,\"limitjsonp\":0,\"rendition\":\"\",\"targetoverride\":\"\",\"abbreviatecredits\":true}}});</script><script src=\"http://graphics8.nytimes.com/packages/js/multimedia/libs/jquery-1.7.1.min.js\"></script><script src=\"http://graphics8.nytimes.com/packages/js/multimedia/bundles/projects/2013/FadingSlideShow2.js\"></script>\\r\\n<style type=\"text/css\">\\r\\n.edition-domestic .span-ab-layout .nytmm_FadingSlideShow .credit, .edition-international .span-ab-layout .nytmm_FadingSlideShow .credit { \\r\\ncolor: #BAB8B3;\\r\\ndisplay: inline-block;\\r\\nfont-family: arial,helvetica,sans-serif;\\r\\nfont-size: 0.5625rem !important;\\r\\nfont-weight: 400;\\r\\nline-height: 0.75rem;\\r\\n}\\r\\n</style><div id=\"FT100000004172400\"></div></div></div></div></div>\\n<hr class=\"single-rule\"><div class=\"collection\">\\n            <article class=\"story theme-summary\" id=\"topnews-100000004169245\" data-story-id=\"100000004169245\" data-rank=\"0\" data-collection-renderstyle=\"HpSumSmallMediaHigh\">\\n    \\n            <h3 class=\"kicker\">About New York </h3>\\n        <h2 class=\"story-heading\"><a href=\"http://www.nytimes.com/2016/01/27/nyregion/what-happened-to-jane-mayer-when-she-wrote-about-the-koch-brothers.html\">What Happened to a Journalist Who Covered the Kochs</a></h2>\\n\\n            <div class=\"thumb\">\\n            <a href=\"http://www.nytimes.com/2016/01/27/nyregion/what-happened-to-jane-mayer-when-she-wrote-about-the-koch-brothers.html\"><img src=\"http://static01.nyt.com/images/2016/01/27/nyregion/27ABOUT/27ABOUT-thumbStandard-v2.jpg\" alt=\"\"></a>\\n        </div>\\n    \\n            <p class=\"byline\">By JIM DWYER </p>\\n    \\n    <p class=\"summary\">\\n        Jane Mayer, a New Yorker writer and author of the new book \\xe2\\x80\\x9cDark Money,\\xe2\\x80\\x9d says she was falsely accused of plagiarism and investigated by the firm of Howard Safir, ex-New York police commissioner.    </p>\\n\\n    \\n    </article>\\n</div>\\n<hr class=\"single-rule\"><div class=\"collection\">\\n            <article class=\"story theme-summary\" id=\"topnews-100000004170812\" data-story-id=\"100000004170812\" data-rank=\"0\" data-collection-renderstyle=\"HpSumSmallMediaHigh\">\\n    \\n        <h2 class=\"story-heading\"><a href=\"http://www.nytimes.com/2016/01/28/world/middleeast/israel-adolf-eichmann-holocaust.html\">Eichmann Begged for Life After Helping Kill Millions</a></h2>\\n\\n            <div class=\"thumb\">\\n            <a href=\"http://www.nytimes.com/2016/01/28/world/middleeast/israel-adolf-eichmann-holocaust.html\"><img src=\"http://static01.nyt.com/images/2016/01/28/world/28Eichmann-web1/28Eichmann-web1-thumbStandard.jpg\" alt=\"\"></a>\\n        </div>\\n    \\n            <p class=\"byline\">By ISABEL KERSHNER <time class=\"timestamp\" datetime=\"2016-01-27\" data-eastern-timestamp=\"2:25 PM\" data-utc-timestamp=\"1453922723\">2:25 PM ET</time></p>\\n    \\n    <p class=\"summary\">\\n        Israel released the handwritten letter by the Nazi war criminal Adolf Eichmann in which he denies guilt, saying officials like him were \\xe2\\x80\\x9cmere instruments in the hands of leaders.\\xe2\\x80\\x9d    </p>\\n\\n    \\n    </article>\\n</div>\\n<div class=\"collection headlines\">\\n            <ul class=\"theme-news-headlines\">\\n                    <li>\\n            <div style=\"margin-top: -10px;\"></div>            </li>\\n                    <li>\\n            <article class=\"story\" id=\"topnews-100000004171396\" data-story-id=\"100000004171396\" data-rank=\"1\" data-collection-renderstyle=\"HpBlogHeadline\">\\n        <h2 class=\"story-heading\"><i class=\"icon\"></i><a href=\"http://www.nytimes.com/2016/01/28/world/middleeast/adolf-eichmann-letter-to-israel-president.html\">Letter by Adolf Eichmann to President Yitzhak Ben-Zvi of Israel</a></h2>\\n</article>\\n            </li>\\n                    <li>\\n            <article class=\"story\" id=\"topnews-100000004170294\" data-story-id=\"100000004170294\" data-rank=\"2\" data-collection-renderstyle=\"HpBlogHeadline\">\\n        <h2 class=\"story-heading\"><i class=\"icon\"></i><a href=\"http://www.nytimes.com/2016/01/28/world/middleeast/obama-honor-americans-effort-to-save-jews-the-holocaust.html\">American P.O.W. Defied Nazis: \\xe2\\x80\\x98We Are All Jews Here\\xe2\\x80\\x99</a></h2>\\n</article>\\n            </li>\\n            </ul>\\n</div>\\n<hr class=\"single-rule\"><div class=\"collection\">\\n            <article class=\"story theme-summary\" id=\"topnews-100000004171289\" data-story-id=\"100000004171289\" data-rank=\"0\" data-collection-renderstyle=\"HpSumSmallMediaHigh\">\\n    \\n        <h2 class=\"story-heading\"><a href=\"http://www.nytimes.com/2016/01/28/world/asia/couples-lawsuit-is-first-test-for-same-sex-marriage-in-china.html\">Gay Couple in China Goes to Court for Right to Wed</a></h2>\\n\\n            <div class=\"thumb\">\\n            <a href=\"http://www.nytimes.com/2016/01/28/world/asia/couples-lawsuit-is-first-test-for-same-sex-marriage-in-china.html\"><img src=\"http://static01.nyt.com/images/2016/01/28/world/28CHINAGAY-web1/28CHINAGAY-web1-thumbStandard.jpg\" alt=\"\"></a>\\n        </div>\\n    \\n            <p class=\"byline\">By EDWARD WONG and VANESSA PIAO <time class=\"timestamp\" datetime=\"2016-01-27\" data-eastern-timestamp=\"3:16 PM\" data-utc-timestamp=\"1453925796\">3:16 PM ET</time></p>\\n    \\n    <p class=\"summary\">\\n        The lawsuit, filed against a civil affairs bureau that refused to marry two men, is expected to start this week, and it has galvanized some gay rights advocates.    </p>\\n\\n    \\n    </article>\\n</div>\\n<hr class=\"single-rule\"><div class=\"collection\">\\n            <article class=\"story theme-summary\" id=\"topnews-100000004171412\" data-story-id=\"100000004171412\" data-rank=\"0\" data-collection-renderstyle=\"HpSum\">\\n    \\n        <h2 class=\"story-heading\"><a href=\"http://www.nytimes.com/2016/01/28/nyregion/spate-of-slashings-puts-new-yorkers-on-edge.html\">Spate of Slashings Puts New Yorkers on Edge</a></h2>\\n\\n            <p class=\"byline\">By MARC SANTORA <time class=\"timestamp\" datetime=\"2016-01-27\" data-eastern-timestamp=\"5:37 PM\" data-utc-timestamp=\"1453934273\">5:37 PM ET</time></p>\\n    \\n    <p class=\"summary\">At least 12 victims have recently been attacked by men wielding knives or razors in separate and seemingly random assaults.</p>\\n\\n\\t\\n\\t</article>\\n\\n</div>\\n<hr class=\"single-rule\"><div class=\"collection headlines\">\\n                <h3 class=\"kicker collection-kicker\">More News</h3>\\n        <ul class=\"theme-news-headlines\">\\n                    <li>\\n            <article class=\"story\" id=\"topnews-100000004172308\" data-story-id=\"100000004172308\" data-rank=\"0\" data-collection-renderstyle=\"HpHeadline\">\\n        <h2 class=\"story-heading\"><i class=\"icon\"></i><a href=\"http://www.nytimes.com/2016/01/28/business/theranos-lab-found-in-violation-of-clinical-standards.html\">Theranos Lab Found in Violation of Clinical Standards</a> <time class=\"timestamp\" datetime=\"2016-01-27\" data-eastern-timestamp=\"5:24 PM\" data-utc-timestamp=\"1453933453\">5:24 PM ET</time></h2>\\n</article>\\n            </li>\\n                    <li>\\n            <article class=\"story\" id=\"topnews-100000004172034\" data-story-id=\"100000004172034\" data-rank=\"1\" data-collection-renderstyle=\"HpHeadline\">\\n        <h2 class=\"story-heading\"><i class=\"icon\"></i><a href=\"http://www.nytimes.com/2016/01/28/us/department-of-justice-reaches-agreement-with-ferguson.html\">Justice Department Reaches Agreement With Ferguson</a> <time class=\"timestamp\" datetime=\"2016-01-27\" data-eastern-timestamp=\"4:46 PM\" data-utc-timestamp=\"1453931178\">4:46 PM ET</time></h2>\\n</article>\\n            </li>\\n                    <li>\\n            <article class=\"story\" id=\"topnews-100000004168739\" data-story-id=\"100000004168739\" data-rank=\"2\" data-collection-renderstyle=\"HpHeadline\">\\n        <h2 class=\"story-heading\"><i class=\"icon\"></i><a href=\"http://www.nytimes.com/2016/01/28/arts/music/new-york-philharmonic-taps-jaap-van-zweden-as-its-next-maestro.html\">New York Philharmonic Taps Jaap van Zweden as Its Next Maestro</a> </h2>\\n</article>\\n            </li>\\n                    <li>\\n            <article class=\"story\" id=\"topnews-100000004171275\" data-story-id=\"100000004171275\" data-rank=\"3\" data-collection-renderstyle=\"HpHeadline\">\\n        <h2 class=\"story-heading\"><i class=\"icon\"></i><a href=\"http://www.nytimes.com/2016/01/28/business/economy/fed-interest-rates.html\">Fed Raises Concerns on Slow Economic Growth</a> <time class=\"timestamp\" datetime=\"2016-01-27\" data-eastern-timestamp=\"2:10 PM\" data-utc-timestamp=\"1453921804\">2:10 PM ET</time></h2>\\n</article>\\n            </li>\\n                    <li>\\n            <article class=\"story\" id=\"topnews-100000004171102\" data-story-id=\"100000004171102\" data-rank=\"4\" data-collection-renderstyle=\"HpHeadline\">\\n        <h2 class=\"story-heading\"><i class=\"icon\"></i><a href=\"http://www.nytimes.com/2016/01/28/technology/fcc-proposes-changes-in-set-top-box-market.html\">F.C.C. Proposes Changes in Cable Box Market</a> <time class=\"timestamp\" datetime=\"2016-01-27\" data-eastern-timestamp=\"1:29 PM\" data-utc-timestamp=\"1453919344\">1:29 PM ET</time></h2>\\n</article>\\n            </li>\\n            </ul>\\n</div>\\n\\n                        </div><!-- close second-column-region -->\\n\\n                    \\n                </div><!-- close b-column -->\\n\\n            </div><!-- close wide-b-layout -->\\n\\n            \\n                            <div class=\"span-ab-bottom-region region\">\\n                    <hr class=\"scotch-rule\" />\\n<div class=\"split-3-layout layout theme-base\">\\n<h2 class=\"section-heading\">\\n</h2>\\n<div class=\"column\">\\n    <article class=\"story theme-summary \" id=\"topnews-100000004166241\" data-story-id=\"100000004166241\" data-rank=\"0\" data-collection-renderstyle=\"HPMediumMediaHedSumDaypart\">\\n                <a href=\"http://www.nytimes.com/2016/01/27/insider/try-to-interview-googles-chief-executive-its-emasculating.html\">\\n                        <div class=\"wide-thumb\">\\n                    <img src=\"http://static01.nyt.com/images/2016/01/27/insider/27-insider-googlepic2/27-insider-googlepic2-mediumThreeByTwo210.jpg\" />\\n                                    </div>\\n                 </a>\\n        <h2 class=\"story-heading\">\\n            <a href=\"http://www.nytimes.com/2016/01/27/insider/try-to-interview-googles-chief-executive-its-emasculating.html\">Times Insider: Covering a Google Chief</a>\\n        </h2>\\n        <p class=\"summary\">\\n            Conor Dougherty provides a look at what it\\xe2\\x80\\x99s like to interview Google\\xe2\\x80\\x99s elusive co-founder, Larry Page. Hint: it\\xe2\\x80\\x99s emasculating.        </p>\\n    </article>\\n</div>\\n<div class=\"column\">\\n    <article class=\"story theme-summary \" id=\"topnews-100000004171350\" data-story-id=\"100000004171350\" data-rank=\"1\" data-collection-renderstyle=\"HPMediumMediaHedSumDaypart\">\\n                <a href=\"http://www.nytimes.com/2016/01/28/fashion/armani-margiela-paris-couture.html\">\\n                        <div class=\"wide-thumb\">\\n                    <img src=\"http://static01.nyt.com/images/2016/01/27/fashion/28review-01/28review-01-mediumThreeByTwo210.jpg\" />\\n                                    </div>\\n                 </a>\\n        <h2 class=\"story-heading\">\\n            <a href=\"http://www.nytimes.com/2016/01/28/fashion/armani-margiela-paris-couture.html\">Review: Subtle Nods at Armani and Margiela</a>\\n        </h2>\\n        <p class=\"summary\">\\n            There were couture shorts at Armani, some military themes at Margiela, spangles from Elie Saab and John Paul Gaultier\\xe2\\x80\\x99s customary party on the runway.        </p>\\n    </article>\\n</div>\\n<div class=\"column\">\\n    <article class=\"story theme-summary \" id=\"topnews-100000004169594\" data-story-id=\"100000004169594\" data-rank=\"2\" data-collection-renderstyle=\"HPMediumMediaHedSumDaypart\">\\n                <a href=\"http://www.nytimes.com/2016/01/28/technology/no-need-to-fret-apple-is-doing-fine.html\">\\n                        <div class=\"wide-thumb\">\\n                    <img src=\"http://static01.nyt.com/images/2016/01/27/business/28state-web/28state-web-mediumThreeByTwo210.jpg\" />\\n                                    </div>\\n                 </a>\\n        <h2 class=\"story-heading\">\\n            <a href=\"http://www.nytimes.com/2016/01/28/technology/no-need-to-fret-apple-is-doing-fine.html\">No Need to Fret, Apple Is Doing Fine</a>\\n        </h2>\\n        <p class=\"summary\">\\n            If Apple is hitting a plateau because of slower iPhone growth, it\\xe2\\x80\\x99s one of the highest plateaus ever reached in the business world, writes Farhad Manjoo.        </p>\\n    </article>\\n</div>\\n</div>\\n                </div><!-- close span-ab-bottom-region -->\\n            \\n        </section><!-- close top-news -->\\n\\n    </div><!-- close ab-column -->\\n\\n    <div class=\"c-column column\">\\n\\n        <div id=\"Middle\" class=\"ad middle-ad hidden nocontent robots-nocontent\"></div>\\n\\n        <div class=\"region c-column-top-span-region\">\\n\\n            \\n        </div><!-- close c-column-top-span-region -->\\n\\n        <section class=\"opinion\">\\n\\n            <div class=\"region opinion-c-col-top-region\">\\n                <div class=\"collection\">\\n            <section class=\"opinion\">\\r\\n  <h2 class=\"section-heading\"><a href=\"http://www.nytimes.com/pages/opinion/index.html\">The Opinion Pages</a>\\r\\n  </h2>\\r\\n</section></div>\\n            </div> <!-- close opinion-c-col-top-region -->\\n\\n            <div class=\"layout split-layout\">\\n\\n                <div class=\"column\">\\n                    <div class=\"region opinion-c-col-left-region\">\\n                                            <div class=\"collection\">\\n            <article class=\"story theme-summary\" id=\"topnews-100000004169504\" data-story-id=\"100000004169504\" data-rank=\"0\" data-collection-renderstyle=\"HpSumXSMedia\">\\n    \\n            <h3 class=\"kicker\">Editorial </h3>\\n        <h2 class=\"story-heading\"><a href=\"http://www.nytimes.com/2016/01/28/opinion/the-supreme-court-rules-for-common-sense-in-electricity-case.html\">The Supreme Court Rules for Common Sense in Electricity Case</a></h2>\\n\\n            <div class=\"small-thumb\">\\n            <a href=\"http://www.nytimes.com/2016/01/28/opinion/the-supreme-court-rules-for-common-sense-in-electricity-case.html\"><img src=\"http://static01.nyt.com/images/2016/01/28/opinion/28thu2web/28thu2web-blogSmallThumb.jpg\" alt=\"\"></a>\\n        </div>\\n    \\n    \\n    <p class=\"summary\">\\n        The decision will save consumers money and improve the reliability of the power grid.    </p>\\n\\n    \\n    </article>\\n\\n</div>\\n                                            <div class=\"collection headlines\">\\n            <ul class=\"theme-news-headlines\">\\n                    <li>\\n            <article class=\"story\" id=\"topnews-100000004169168\" data-story-id=\"100000004169168\" data-rank=\"0\" data-collection-renderstyle=\"HpHeadline\">\\n        <h2 class=\"story-heading\"><i class=\"icon\"></i><a href=\"http://www.nytimes.com/2016/01/27/opinion/vindication-for-planned-parenthood.html\">Editorial: Vindication for Planned Parenthood</a> </h2>\\n</article>\\n            </li>\\n                    <li>\\n            <article class=\"story\" id=\"topnews-100000004170555\" data-story-id=\"100000004170555\" data-rank=\"1\" data-collection-renderstyle=\"HpHeadline\">\\n        <h2 class=\"story-heading\"><i class=\"icon\"></i><a href=\"http://www.nytimes.com/2016/01/28/opinion/how-china-lost-taiwan.html\">Op-Ed: How China Lost Taiwan</a> </h2>\\n</article>\\n            </li>\\n                    <li>\\n            <article class=\"story\" id=\"topnews-100000004168330\" data-story-id=\"100000004168330\" data-rank=\"2\" data-collection-renderstyle=\"HpHeadline\">\\n        <h2 class=\"story-heading\"><i class=\"icon\"></i><a href=\"http://www.nytimes.com/2016/01/28/opinion/the-right-wing-attack-on-indias-universities.html\">Op-Ed: The Right-Wing Attack on India\\xe2\\x80\\x99s Universities</a> </h2>\\n</article>\\n            </li>\\n                    <li>\\n            <article class=\"story\" id=\"topnews-100000004170545\" data-story-id=\"100000004170545\" data-rank=\"3\" data-collection-renderstyle=\"HpHeadline\">\\n        <h2 class=\"story-heading\"><i class=\"icon\"></i><a href=\"http://opinionator.blogs.nytimes.com/2016/01/27/when-the-hospital-cant-help/\">The End: When the Hospital Is Not a Haven</a> </h2>\\n</article>\\n            </li>\\n            </ul>\\n</div>\\n                    </div>\\n                </div>\\n\\n                <div class=\"column\">\\n                    <div class=\"region opinion-c-col-right-region\">\\n                                            <div class=\"collection\">\\n            <article class=\"story theme-summary\" id=\"topnews-100000004171008\" data-story-id=\"100000004171008\" data-rank=\"0\" data-collection-renderstyle=\"HpSumXSMedia\">\\n    \\n            <h3 class=\"kicker\">Op-Ed Contributor </h3>\\n        <h2 class=\"story-heading\"><a href=\"http://www.nytimes.com/2016/01/28/opinion/campaign-stops/for-bloomberg-ambition-vies-with-caution.html\">For Bloomberg, Ambition Vies With Caution</a></h2>\\n\\n            <div class=\"small-thumb\">\\n            <a href=\"http://www.nytimes.com/2016/01/28/opinion/campaign-stops/for-bloomberg-ambition-vies-with-caution.html\"><img src=\"http://static01.nyt.com/images/2016/01/28/opinion/28purnickWeb/28purnickWeb-blogSmallThumb.jpg\" alt=\"\"></a>\\n        </div>\\n    \\n            <p class=\"byline\">By JOYCE PURNICK <time class=\"timestamp\" datetime=\"2016-01-27\" data-eastern-timestamp=\"3:36 PM\" data-utc-timestamp=\"1453926999\">3:36 PM ET</time></p>\\n    \\n    <p class=\"summary\">\\n        The former mayor knows that presidential campaign history is littered with failed runs by third-party candidates.    </p>\\n\\n            <p class=\"theme-comments\">\\n    <a href=\"http://www.nytimes.com/2016/01/28/opinion/campaign-stops/for-bloomberg-ambition-vies-with-caution.html?hp&amp;target=comments#commentsContainer\" class=\"comments-link\"><i class=\"icon sprite-icon comments-icon\"></i><span class=\"comment-count\">&nbsp;Comments</span></a>\\n</p>\\n    \\n    </article>\\n\\n</div>\\n                                            <div class=\"collection headlines\">\\n            <ul class=\"theme-news-headlines\">\\n                    <li>\\n            <article class=\"story\" id=\"topnews-100000004169529\" data-story-id=\"100000004169529\" data-rank=\"0\" data-collection-renderstyle=\"HpHeadline\">\\n        <h2 class=\"story-heading\"><i class=\"icon\"></i><a href=\"http://www.nytimes.com/2016/01/27/opinion/the-twinned-egos-of-cruz-and-trump.html\">Bruni: The Twinned Egos of Cruz and Trump</a> </h2>\\n</article>\\n            </li>\\n                    <li>\\n            <article class=\"story\" id=\"topnews-100000004169338\" data-story-id=\"100000004169338\" data-rank=\"1\" data-collection-renderstyle=\"HpHeadline\">\\n        <h2 class=\"story-heading\"><i class=\"icon\"></i><a href=\"http://www.nytimes.com/2016/01/27/opinion/friends-and-refugees-in-need.html\">Friedman: Friends and Refugees in Need</a> </h2>\\n</article>\\n            </li>\\n                    <li>\\n            <article class=\"story\" id=\"topnews-100000004170042\" data-story-id=\"100000004170042\" data-rank=\"2\" data-collection-renderstyle=\"HpHeadline\">\\n        <h2 class=\"story-heading\"><i class=\"icon\"></i><a href=\"http://www.nytimes.com/2016/01/27/opinion/campaign-stops/boom-or-gloom.html\">Edsall: Boom or Gloom?</a> <time class=\"timestamp\" datetime=\"2016-01-27\" data-eastern-timestamp=\"2:55 PM\" data-utc-timestamp=\"1453924554\">2:55 PM ET</time></h2>\\n</article>\\n            </li>\\n                    <li>\\n            <article class=\"story\" id=\"topnews-100000004169259\" data-story-id=\"100000004169259\" data-rank=\"3\" data-collection-renderstyle=\"HpHeadline\">\\n        <h2 class=\"story-heading\"><i class=\"icon\"></i><a href=\"http://www.nytimes.com/2016/01/27/opinion/another-kind-of-girl.html\"><span class=\"icon video\">Op-Doc</span>: Another Kind of Girl</a> </h2>\\n</article>\\n            </li>\\n            </ul>\\n</div>\\n                    </div>\\n                </div>\\n\\n            </div> <!-- close split-layout -->\\n\\n            <div class=\"region opinion-c-col-bottom-region\">\\n                <div class=\"collection\">\\n            <style>\\t\\r\\n\\r\\n\\r\\n.c-column.column section.opinion div time.timestamp{\\r\\n\\tdisplay:none;\\r\\n}\\r\\n\\r\\n\\r\\n</style><style>\\t\\r\\n.c-column.column section.opinion div p.theme-comments{\\r\\n\\tdisplay:none;\\r\\n}\\r\\n\\r\\n\\r\\n\\r\\n</style></div>\\n            </div> <!-- close opinion-c-col-bottom-region -->\\n\\n        </section> <!-- close opinion -->\\n\\n        <section class=\"user-subscriptions hidden\">\\n\\n            <h2 class=\"section-heading visually-hidden\">User Subscriptions</h2>\\n\\n            <div class=\"collection insider-collection\">\\n  <div id=\"times-insider-subscription\" class=\"times-insider-subscription hidden\">\\n    <ul class=\"theme-news-headlines\">\\n                              <li>\\n              <article class=\"story\">\\n                <h2 class=\"story-heading\">\\n                  <a href=\"http://www.nytimes.com/2016/01/27/insider/try-to-interview-googles-chief-executive-its-emasculating.html\">Try to Interview Google\\xe2\\x80\\x99s Co-Founder. It\\xe2\\x80\\x99s Emasculating.</a>\\n                </h2>\\n              </article>\\n            </li>\\n                      <li>\\n              <article class=\"story\">\\n                <h2 class=\"story-heading\">\\n                  <a href=\"http://www.nytimes.com/2016/01/26/insider/reporters-notebook-navy-seal-commanders-suicide.html\">Reporter\\xe2\\x80\\x99s Notebook: Navy SEAL Commander\\xe2\\x80\\x99s Suicide</a>\\n                </h2>\\n              </article>\\n            </li>\\n                      <li>\\n              <article class=\"story\">\\n                <h2 class=\"story-heading\">\\n                  <a href=\"http://www.nytimes.com/2016/01/25/insider/dispatch-from-dakar-mom-did-you-get-kidnapped.html\">Dispatch From Dakar: \\xe2\\x80\\x98Mom, Did You Get Kidnapped?\\xe2\\x80\\x99</a>\\n                </h2>\\n              </article>\\n            </li>\\n                      </ul>\\n  <div class=\"thumb\">\\n        <a href=\"http://www.nytimes.com/section/insider\">\\n        <svg class=\"insider-logo\" width=\"65\" height=\"20\" role=\"img\" aria-label=\"Insider\">\\n            <image width=\"65\" height=\"20\" xlink:href=\"http://a1.nyt.com/assets/homepage/20160111-154931/images/foundation/logos/insider-logo-240x72.svg\" src=\"http://a1.nyt.com/assets/homepage/20160111-154931/images/foundation/logos/insider-logo-240x72.png\" alt=\"Insider\" />\\n        </svg>\\n      </a>\\n    </div>\\n</div><!--close times-insider-subscription -->\\n</div><!-- close collection -->\\n\\n<div class=\"collection\">\\n  <div id=\"times-premier-crossword-subscription\" class=\"times-premier-crossword-subscription hidden\">\\n      <div class=\"layout split-layout\">\\n        <div class=\"column\">\\n          <div class=\"collection insider-collection\">\\n            <article class=\"story\">\\n              <h3 class=\"kicker\">\\n                <a href=\"http://www.nytimes.com/section/insider\">Times Insider &raquo;</a>\\n              </h3>\\n                              <h2 class=\"story-heading\">\\n                  <a href=\"http://www.nytimes.com/2016/01/27/insider/try-to-interview-googles-chief-executive-its-emasculating.html\">Try to Interview Google\\xe2\\x80\\x99s Co-Founder. It\\xe2\\x80\\x99s Emasculating.</a>\\n                </h2>\\n                          </article>\\n          </div>\\n        </div><!-- close column -->\\n        <div class=\"column\">\\n\\t<div class=\"collection crosswords-collection\">\\n\\t    <article class=\"story\">\\n\\t    \\t<h3 class=\"kicker\">\\n\\t    \\t\\t<a href=\"http://www.nytimes.com/crosswords\">The Crossword &raquo;</a>\\n\\t    \\t</h3>\\n\\t\\t\\t<h2 class=\"story-heading\">\\n\\t\\t\\t\\t<a href=\"http://www.nytimes.com/crosswords\">Play Today&rsquo;s Puzzle </a>\\n\\t\\t\\t</h2>\\n\\t\\t\\t<div class=\"thumb\">\\n\\t\\t\\t\\t<a href=\"http://www.nytimes.com/crosswords\">\\n\\t\\t\\t\\t\\t<img src=\"http://static01.nyt.com/images/crosswords/crosswords_30x30.png\" alt=\"\" />\\n\\t\\t\\t\\t</a>\\n\\t\\t\\t</div>\\n\\t    </article>\\n\\t</div>\\n</div>\\n      </div><!--close TimesPremiercrossword -->\\n    </div><!--close times-premier-crossword-subscription -->\\n</div><!-- close collection -->\\n\\n<div class=\"collection\">\\n    <div id=\"crossword-subscription\" class=\"crossword-subscription hidden\">\\n        <div class=\"layout split-layout\">\\n            <div class=\"column\">\\n\\t<div class=\"collection crosswords-collection\">\\n\\t    <article class=\"story\">\\n\\t    \\t<h3 class=\"kicker\">\\n\\t    \\t\\t<a href=\"http://www.nytimes.com/crosswords\">The Crossword &raquo;</a>\\n\\t    \\t</h3>\\n\\t\\t\\t<h2 class=\"story-heading\">\\n\\t\\t\\t\\t<a href=\"http://www.nytimes.com/crosswords\">Play Today&rsquo;s Puzzle </a>\\n\\t\\t\\t</h2>\\n\\t\\t\\t<div class=\"thumb\">\\n\\t\\t\\t\\t<a href=\"http://www.nytimes.com/crosswords\">\\n\\t\\t\\t\\t\\t<img src=\"http://static01.nyt.com/images/crosswords/crosswords_30x30.png\" alt=\"\" />\\n\\t\\t\\t\\t</a>\\n\\t\\t\\t</div>\\n\\t    </article>\\n\\t</div>\\n</div>\\n            <div class=\"column\">\\n                <div class=\"collection crosswords-collection\">\\n                    <article class=\"story\">\\n                        <h3 class=\"kicker\">\\n                          <a href=\"http://wordplay.blogs.nytimes.com\">Wordplay &raquo;</a>\\n                        </h3>\\n                                                  <h2 class=\"story-heading\">\\n                            <a href=\"http://wordplay.blogs.nytimes.com/2016/01/26/start-swimmin/\">Start Swimmin&#8217;</a>\\n                          </h2>\\n                                            </article>\\n                </div>\\n            </div><!-- close column -->\\n        </div><!-- close layout -->\\n    </div><!-- close crossword-subscription -->\\n</div><!--close collection -->\\n\\n        </section><!-- close user-subscriptions -->\\n\\n        <div id=\"HPMiddle\" class=\"ad hpmiddle-ad nocontent robots-nocontent\"></div>\\n\\n        <div class=\"region c-column-middle-span-region\">\\n\\n            <div class=\"collection\">\\n            <link rel=\"stylesheet\" type=\"text/css\" href=\"http://int.nyt.com/applications/portals/assets/portal-3dc2bf0e7593a689f857e1edec4a2566.css\"/>\\r\\n\\r\\n<style type=\"text/css\">\\r\\n/*HIDE WATCHING HEADER*/\\r\\n.portal-container>header { display: none }\\r\\n</style>\\r\\n\\r\\n<div id=\"nytint-hp-watching\">\\r\\n  <div class=\"portal-container\">\\r\\n    <header class=\"portal-header\">\\r\\n      <h4>Watching</h4>\\r\\n    </header>\\r\\n    <div class=\"portal-posts-frame expanded\"></div>\\r\\n    <footer class=\"portal-footer\"></footer>\\r\\n  </div>\\r\\n</div>\\r\\n\\r\\n<script type=\"text/javascript\" src=\"http://int.nyt.com/applications/portals/assets/portal/app-d37d526acc5f1ea70c6a0bee273416cc.js\"></script>\\r\\n<script type=\"text/javascript\">\\r\\nrequire([\\'foundation/main\\'], function() {\\r\\n  require([\\'homepage/main\\'], function() {\\r\\n    require([\\'portal/app\\'], function(Portal) {\\r\\n        \\r\\n      var opts = {\\r\\n        env: \\'production_published\\',\\r\\n        matchHeight: {\\r\\n          match: \\'.span-ab-layout.layout > .ab-column\\',\\r\\n          container: \\'.c-column.column\\',\\r\\n          maxHeight: 2000\\r\\n        }\\r\\n      }\\r\\n\\r\\n      var force = window.location.search.indexOf(\\'portal_variant=watchingNoScroll\\') !== -1;\\r\\n      if (force || (NYTABTEST && NYTABTEST.engine &&\\r\\n          NYTABTEST.engine.isUserVariant(\\'watchingNoScroll\\') === \\'1\\')) {\\r\\n        opts.variation = \\'simple\\';\\r\\n        opts.poll = false;\\r\\n        opts.limit = 20;\\r\\n      }\\r\\n\\r\\n      var watching = Portal.create(\\'#nytint-hp-watching\\', opts);\\r\\n    });\\r\\n  });\\r\\n});\\r\\n</script>\\r\\n\\r\\n<!-- HpPrototype: WatchingEnabled: DO NOT REMOVE --></div>\\n\\n        </div><!-- close c-column-middle-span-region -->\\n\\n        <div class=\"region c-column-above-moth-fixed-region\">\\n\\n            \\n        </div><!-- close c-column-above-moth-fixed-region -->\\n\\n        <div class=\"region c-column-above-moth-region\">\\n\\n            \\n        </div><!-- close c-column-above-moth-region -->\\n\\n    </div><!-- close c-column -->\\n\\n</div><!-- close span-ab-layout -->\\n\\n\\n<section id=\"paid-post-five-pack\" class=\"paid-post-five-pack hidden nocontent robots-nocontent\">\\n<h2 class=\"section-heading\">From Our Advertisers</h2>\\n    <ul class=\"story-menu\">\\n        <li id=\"PaidPostFivePack1\" class=\"story-menu-item ad\"></li>\\n        <li id=\"PaidPostFivePack2\" class=\"story-menu-item ad\"></li>\\n        <li id=\"PaidPostFivePack3\" class=\"story-menu-item ad\"></li>\\n        <li id=\"PaidPostFivePack4\" class=\"story-menu-item ad\"></li>\\n        <li id=\"PaidPostFivePack5\" class=\"story-menu-item ad\"></li>\\n    </ul>\\n</section>\\n<div id=\"HPBreak\" class=\"ad hpbreak-ad nocontent robots-nocontent hidden\"></div>\\n\\n<div id=\"video-player-region\" class=\"video-player-region region\">\\n    <div class=\"collection\">\\n            <div id=\"video-module-loader\" class=\"loader-container video-section-loader-container\">\\n    <div class=\"loader loader-t-logo-32x32-ecedeb-ffffff\"><span class=\"visually-hidden\">Loading...</span></div>\\n</div>\\n<section id=\"video-section\"\\n         class=\"video-section invisible\"\\n         data-playlist-id=\"1194811622188\"\\n         data-api-token=\"cE97ArV7TzqBzkmeRVVhJ8O6GWME2iG_bRvjBTlNb4o.\"\\n         data-player-id=\"2640832222001\"\\n         data-publisher-id=\"1749339200\">\\n    <header class=\"section-header\">\\n        <h2 class=\"section-heading\"><a class=\"times-video-link\" href=\"http://www.nytimes.com/video\">times<span>video</span></a></h2>\\n        <a href=\"http://www.nytimes.com/video?src=vidm\" class=\"user-action explore-all-videos-link\"> explore all videos &raquo;</a>\\n    </header>\\n    <div class=\"column a-column\">\\n        <article class=\"story\">\\n            <figure class=\"media video video-player\" aria-label=\"media\" role=\"group\">\\n                <span class=\"visually-hidden\">Video Player</span>\\n                <img src=\"\" class=\"poster\" alt=\"\" />\\n                <div class=\"video-player-container\"></div>\\n                <div class=\"media-action-overlay\"></div>\\n                <div class=\"sharetools video-sharetools\"\\n                    data-shares=\"email|,facebook|,twitter|,embed|,show-all|\"\\n                    data-url=\"\"\\n                    data-title=\"\"\\n                    data-description=\"\"\\n                    data-content-type=\"video\">\\n                </div>\\n                <figcaption class=\"credit\"></figcaption>\\n            </figure>\\n        </article>\\n    </div>\\n    <div class=\"column b-column\">\\n        <div id=\"video-playlist-container\" class=\"video-playlist-container\">\\n            <ul id=\"video-playlist\" class=\"video-playlist\"></ul>\\n        </div>\\n    </div> <!-- end b-column -->\\n</section>\\n</div>\\n</div><!-- close video-player-region -->\\n\\n<section class=\"inside-nyt\">\\n    <div class=\"inside-nyt-region region\">\\n        <h2 class=\"section-heading\">Inside Nytimes.com</h2>\\n        <div id=\"inside-nyt-browser\" class=\"inside-nyt-browser\">\\n            <div class=\"navigation-control\">\\n                <button class=\"button previous deactivated\">\\n                    <div class=\"arrow arrow-left\">\\n                    <span class=\"visually-hidden\">Go to the previous story</span>\\n                    <div class=\"arrow-conceal\"></div>\\n                    </div>\\n                </button>\\n                <button class=\"button next\">\\n                    <div class=\"arrow arrow-right\">\\n                    <span class=\"visually-hidden\">Go to the next story</span>\\n                    <div class=\"arrow-conceal\"></div>\\n                    </div>\\n                </button>\\n            </div>\\n            <div class=\"carousel\">\\n                <ol class=\"menu layout-horizontal theme-story\">\\n                    <li>\\n        <section>\\n        <h2 class=\"section-heading\"><a href=\"http://www.nytimes.com/pages/sports/tennis/index.html\">Tennis</a></h2>\\n\\n    <article class=\"story theme-summary\" data-story-id=\"100000004169046\" data-rank=\"0\" data-collection-renderstyle=\"Moth\">\\n        <a class=\"story-link\" href=\"http://www.nytimes.com/2016/01/28/sports/tennis/australian-open-match-fixing-essay.html\">\\n            <div class=\"wide-thumb\">\\n                <img src=\"http://static01.nyt.com/images/2016/01/28/sports/28FIXINGweb/28FIXINGweb-mediumSquare149.jpg\" alt=\"\">\\n            </div>\\n            <h2 class=\"story-heading\">An Invitation Into the World of Match Fixing</h2>\\n        </a>\\n    </article>\\n\\n        </section>\\n    </li>\\n    <li>\\n        <section>\\n        <h2 class=\"section-heading\"><a href=\"http://www.nytimes.com/pages/opinion/index.html\">Opinion</a></h2>\\n\\n    <article class=\"story theme-summary no-thumb\" data-story-id=\"100000004170560\" data-rank=\"1\" data-collection-renderstyle=\"Moth\">\\n        <a class=\"story-link\" href=\"http://www.nytimes.com/roomfordebate/2016/01/27/the-ethics-of-a-child-pornography-sting\">\\n            <h2 class=\"story-heading\">Was the F.B.I.\\xe2\\x80\\x99s Child Pornography Sting Ethical?</h2>\\n            <p class=\"summary\">Room for Debate asks whether the agency perpetuated crimes while keeping the website operational to catch predators.</p>\\n        </a>\\n    </article>\\n\\n        </section>\\n    </li>\\n    <li>\\n        <section>\\n        <h2 class=\"section-heading\"><a href=\"http://www.nytimes.com/pages/dining/index.html\">Food</a></h2>\\n\\n    <article class=\"story theme-summary\" data-story-id=\"100000004154094\" data-rank=\"2\" data-collection-renderstyle=\"Moth\">\\n        <a class=\"story-link\" href=\"http://www.nytimes.com/2016/01/27/dining/beyond-soul-food-african-american-chefs.html\">\\n            <div class=\"wide-thumb\">\\n                <img src=\"http://static01.nyt.com/images/2016/01/27/dining/27AFRO-slide-XCMG/27AFRO-slide-XCMG-mediumSquare149.jpg\" alt=\"\">\\n            </div>\\n            <h2 class=\"story-heading\">An Era of African-American Cooking</h2>\\n        </a>\\n    </article>\\n\\n        </section>\\n    </li>\\n    <li>\\n        <section>\\n        <h2 class=\"section-heading\"><a href=\"http://www.nytimes.com/pages/opinion/index.html\">Opinion</a></h2>\\n\\n    <article class=\"story theme-summary\" data-story-id=\"100000004168804\" data-rank=\"3\" data-collection-renderstyle=\"Moth\">\\n        <a class=\"story-link\" href=\"http://www.nytimes.com/2016/01/27/opinion/subprime-reasoning-on-housing.html\">\\n            <div class=\"wide-thumb\">\\n                <img src=\"http://static01.nyt.com/images/2016/01/27/opinion/27ponnuru/27ponnuru-mediumSquare149.jpg\" alt=\"\">\\n            </div>\\n            <h2 class=\"story-heading\">Op-Ed: Subprime Reasoning on Housing</h2>\\n        </a>\\n    </article>\\n\\n        </section>\\n    </li>\\n    <li>\\n        <section>\\n        <h2 class=\"section-heading\"><a href=\"http://www.nytimes.com/section/nyregion\">N.Y. / Region</a></h2>\\n\\n    <article class=\"story theme-summary\" data-story-id=\"100000004168696\" data-rank=\"4\" data-collection-renderstyle=\"Moth\">\\n        <a class=\"story-link\" href=\"http://www.nytimes.com/2016/01/28/nyregion/discovery-of-burial-ground-backs-a-less-conventional-version-of-harlems-history.html\">\\n            <div class=\"wide-thumb\">\\n                <img src=\"http://static01.nyt.com/images/2016/01/27/nyregion/28BLOCKS-web1/28BLOCKS-web1-mediumSquare149.jpg\" alt=\"\">\\n            </div>\\n            <h2 class=\"story-heading\">Discovering Harlem\\xe2\\x80\\x99s African Roots</h2>\\n        </a>\\n    </article>\\n\\n        </section>\\n    </li>\\n    <li>\\n        <section>\\n        <h2 class=\"section-heading\"><a href=\"http://www.nytimes.com/pages/world/europe/index.html\">Europe</a></h2>\\n\\n    <article class=\"story theme-summary\" data-story-id=\"100000004166386\" data-rank=\"5\" data-collection-renderstyle=\"Moth\">\\n        <a class=\"story-link\" href=\"http://www.nytimes.com/2016/01/28/world/europe/england-must-farm-archaeology.html\">\\n            <div class=\"wide-thumb\">\\n                <img src=\"http://static01.nyt.com/images/2016/01/28/world/28whittlesey-web1/28whittlesey-web1-mediumSquare149.jpg\" alt=\"\">\\n            </div>\\n            <h2 class=\"story-heading\">Looking for Clues to a Site in England</h2>\\n        </a>\\n    </article>\\n\\n        </section>\\n    </li>\\n\\n    <li>\\n        <section>\\n        <h2 class=\"section-heading\"><a href=\"http://www.nytimes.com/pages/magazine/index.html\">Magazine</a></h2>\\n\\n    <article class=\"story theme-summary\" data-story-id=\"100000004161922\" data-rank=\"0\" data-collection-renderstyle=\"Moth\">\\n        <a class=\"story-link\" href=\"http://www.nytimes.com/2016/01/31/magazine/buffalo-in-the-city.html\">\\n            <div class=\"wide-thumb\">\\n                <img src=\"http://static01.nyt.com/images/2016/01/31/magazine/31onclothing1/31mag-31onclothing-t_CA0-mediumSquare149.jpg\" alt=\"\">\\n            </div>\\n            <h2 class=\"story-heading\">Logger Ladies and Lumber Bros in the City</h2>\\n        </a>\\n    </article>\\n\\n        </section>\\n    </li>\\n    <li>\\n        <section>\\n        <h2 class=\"section-heading\"><a href=\"http://www.nytimes.com/pages/opinion/index.html\">Opinion</a></h2>\\n\\n    <article class=\"story theme-summary no-thumb\" data-story-id=\"100000004170549\" data-rank=\"1\" data-collection-renderstyle=\"Moth\">\\n        <a class=\"story-link\" href=\"http://opinionator.blogs.nytimes.com/2016/01/27/when-the-hospital-cant-help/\">\\n            <h2 class=\"story-heading\">The End: When the Hospital Is Not a Haven</h2>\\n            <p class=\"summary\">Had I prolonged my Indian grandmother\\xe2\\x80\\x99s suffering with my stubborn belief in the power of medicine to fix things?</p>\\n        </a>\\n    </article>\\n\\n        </section>\\n    </li>\\n    <li>\\n        <section>\\n        <h2 class=\"section-heading\"><a href=\"http://www.nytimes.com/pages/multimedia/index.html\">Multimedia/Photos</a></h2>\\n\\n    <article class=\"story theme-summary\" data-story-id=\"100000004170413\" data-rank=\"2\" data-collection-renderstyle=\"Moth\">\\n        <a class=\"story-link\" href=\"http://lens.blogs.nytimes.com/2016/01/27/south-africa-pantsula-break-dancing-townships-chris-saunders/\">\\n            <div class=\"wide-thumb\">\\n                <img src=\"http://static01.nyt.com/images/2016/01/26/automobiles/20160126-lens-pantsula-slide-HAP9/20160126-lens-pantsula-slide-HAP9-mediumSquare149.jpg\" alt=\"\">\\n            </div>\\n            <h2 class=\"story-heading\">Pantsula Dancers Bring Life to the Streets</h2>\\n        </a>\\n    </article>\\n\\n        </section>\\n    </li>\\n    <li>\\n        <section>\\n        <h2 class=\"section-heading\"><a href=\"http://www.nytimes.com/pages/opinion/index.html\">Opinion</a></h2>\\n\\n    <article class=\"story theme-summary\" data-story-id=\"100000004167897\" data-rank=\"3\" data-collection-renderstyle=\"Moth\">\\n        <a class=\"story-link\" href=\"http://www.nytimes.com/2016/01/27/opinion/nigerians-are-better-together.html\">\\n            <div class=\"wide-thumb\">\\n                <img src=\"http://static01.nyt.com/images/2016/01/27/opinion/27ogunlesi/27ogunlesi-mediumSquare149.jpg\" alt=\"\">\\n            </div>\\n            <h2 class=\"story-heading\">Op-Ed: Nigerians Are Better Together</h2>\\n        </a>\\n    </article>\\n\\n        </section>\\n    </li>\\n    <li>\\n        <section>\\n        <h2 class=\"section-heading\"><a href=\"http://www.nytimes.com/pages/arts/television/index.html\">Television</a></h2>\\n\\n    <article class=\"story theme-summary\" data-story-id=\"100000003567356\" data-rank=\"4\" data-collection-renderstyle=\"Moth\">\\n        <a class=\"story-link\" href=\"http://www.nytimes.com/2016/01/27/arts/television/abe-vigoda-actor-of-godfather-fame-dies-at-94.html\">\\n            <div class=\"wide-thumb\">\\n                <img src=\"http://static01.nyt.com/images/2016/01/27/arts/27vigoda-obit-2/27vigoda-obit-2-mediumSquare149-v2.jpg\" alt=\"\">\\n            </div>\\n            <h2 class=\"story-heading\">Abe Vigoda Dies at 94; Played Capos and Cops</h2>\\n        </a>\\n    </article>\\n\\n        </section>\\n    </li>\\n    <li>\\n        <section>\\n        <h2 class=\"section-heading\"><a href=\"http://www.nytimes.com/section/travel\">Travel</a></h2>\\n\\n    <article class=\"story theme-summary\" data-story-id=\"100000003885856\" data-rank=\"5\" data-collection-renderstyle=\"Moth\">\\n        <a class=\"story-link\" href=\"http://www.nytimes.com/2016/01/31/travel/namibia-tour-road-trip.html\">\\n            <div class=\"wide-thumb\">\\n                <img src=\"http://static01.nyt.com/images/2016/01/31/travel/31NAMIBIA/31NAMIBIA-mediumSquare149.jpg\" alt=\"\">\\n            </div>\\n            <h2 class=\"story-heading\">7 Days, 1,500 Miles in Namibia</h2>\\n        </a>\\n    </article>\\n\\n        </section>\\n    </li>\\n\\n                </ol>\\n            </div>\\n        </div>\\n    </div>\\n</section>\\n\\n<div id=\"HPMidLeader\" class=\"ad hpmidleader-ad nocontent robots-nocontent\"></div>\\n\\n<div class=\"span-ab-layout layout\">\\n\\n    <div class=\"ab-column column\">\\n\\n        <hr class=\"scotch-rule\" />\\n\\n            <section class=\"well\">\\n    <div class=\"region well-region\">\\n        <h2 class=\"section-heading visually-hidden\">Sections</h2>\\n\\n                \\n            <div class=\"split-3-layout layout theme-base\">\\n\\n                                \\n                    <div class=\"column \">\\n\\n                        <section>\\n    <h2 class=\"section-heading\">\\n        <a href=\"http://www.nytimes.com/pages/world/index.html\">World &raquo;</a>\\n    </h2>\\n    <ul>\\n                    <li>\\n            <article class=\"story theme-summary\" data-story-id=\"100000004166633\" data-rank=\"0\" data-collection-renderstyle=\"HpHedThumbWell\">\\n\\n    <a class=\"story-link\" href=\"http://www.nytimes.com/2016/01/28/world/middleeast/iranian-released-in-prisoner-exchange-finds-fault-with-its-handling.html\">\\n\\n                    <div class=\"thumb\">\\n                <img src=\"http://static01.nyt.com/images/2016/01/27/world/27modanlo-web/27modanlo-web-thumbStandard.jpg\" alt=\"\" />\\n            </div>\\n        \\n        <h3 class=\"story-heading\">\\n        Iranian Released in Prisoner Exchange Finds Fault With Its Handling        </h3>\\n    </a>\\n</article>\\n            </li>\\n                    <li>\\n            <article class=\"story\" data-story-id=\"100000004170812\" data-rank=\"1\" data-collection-renderstyle=\"HpHedThumbWell\">\\n    <h2 class=\"story-heading\">\\n        <a href=\"http://www.nytimes.com/2016/01/28/world/middleeast/israel-adolf-eichmann-holocaust.html\">\\n            Pardon Plea by Adolf Eichmann, Nazi War Criminal, Is Made Public        </a>\\n    </h2>\\n</article>\\n            </li>\\n                    <li>\\n            <article class=\"story\" data-story-id=\"100000004167712\" data-rank=\"2\" data-collection-renderstyle=\"HpHedThumbWell\">\\n    <h2 class=\"story-heading\">\\n        <a href=\"http://www.nytimes.com/2016/01/28/world/asia/china-xi-jinping-plot.html\">\\n            Sinosphere: In Book, Xi Jinping Taints Ousted Rivals With Talk of Plots        </a>\\n    </h2>\\n</article>\\n            </li>\\n            </ul>\\n</section>\\n\\n                    </div> <!-- close column -->\\n\\n                                \\n                    <div class=\"column \">\\n\\n                        <section>\\n    <h2 class=\"section-heading\">\\n        <a href=\"http://www.nytimes.com/pages/business/index.html\">Business Day &raquo;</a>\\n    </h2>\\n    <ul>\\n                    <li>\\n            <article class=\"story theme-summary\" data-story-id=\"100000004169439\" data-rank=\"0\" data-collection-renderstyle=\"HpHedThumbWell\">\\n\\n    <a class=\"story-link\" href=\"http://www.nytimes.com/2016/01/28/business/dealbook/libor-trial-london-traders-cleared.html\">\\n\\n                    <div class=\"thumb\">\\n                <img src=\"http://static01.nyt.com/images/2015/10/06/business/db-libor-web1/db-libor-web1-thumbStandard.jpg\" alt=\"\" />\\n            </div>\\n        \\n        <h3 class=\"story-heading\">\\n        5 Ex-Brokers Cleared in London Libor Trial        </h3>\\n    </a>\\n</article>\\n            </li>\\n                    <li>\\n            <article class=\"story\" data-story-id=\"100000004169473\" data-rank=\"1\" data-collection-renderstyle=\"HpHedThumbWell\">\\n    <h2 class=\"story-heading\">\\n        <a href=\"http://www.nytimes.com/2016/01/28/technology/facebook-earnings-zuckerberg.html\">\\n            Facebook Sales Soar 52%, Eclipsing Forecasts        </a>\\n    </h2>\\n</article>\\n            </li>\\n                    <li>\\n            <article class=\"story\" data-story-id=\"100000004171102\" data-rank=\"2\" data-collection-renderstyle=\"HpHedThumbWell\">\\n    <h2 class=\"story-heading\">\\n        <a href=\"http://www.nytimes.com/2016/01/28/technology/fcc-proposes-changes-in-set-top-box-market.html\">\\n            F.C.C. Proposes Changes in Cable Set-Top Box Market        </a>\\n    </h2>\\n</article>\\n            </li>\\n            </ul>\\n</section>\\n\\n                    </div> <!-- close column -->\\n\\n                                \\n                    <div class=\"column last-column\">\\n\\n                        <section>\\n    <h2 class=\"section-heading\">\\n        <a href=\"http://www.nytimes.com/pages/opinion/index.html\">Opinion &raquo;</a>\\n    </h2>\\n    <ul>\\n                    <li>\\n            <article class=\"story theme-summary\" data-story-id=\"100000004171008\" data-rank=\"0\" data-collection-renderstyle=\"HpHedThumbWell\">\\n\\n    <a class=\"story-link\" href=\"http://www.nytimes.com/2016/01/28/opinion/campaign-stops/for-bloomberg-ambition-vies-with-caution.html\">\\n\\n                    <div class=\"thumb\">\\n                <img src=\"http://static01.nyt.com/images/2016/01/28/opinion/28purnickWeb/28purnickWeb-thumbStandard.jpg\" alt=\"\" />\\n            </div>\\n        \\n        <h3 class=\"story-heading\">\\n        Op-Ed Contributor: For Bloomberg, Ambition Vies With Caution        </h3>\\n    </a>\\n</article>\\n            </li>\\n                    <li>\\n            <article class=\"story\" data-story-id=\"100000004169168\" data-rank=\"1\" data-collection-renderstyle=\"HpHedThumbWell\">\\n    <h2 class=\"story-heading\">\\n        <a href=\"http://www.nytimes.com/2016/01/27/opinion/vindication-for-planned-parenthood.html\">\\n            Editorial: Vindication for Planned Parenthood        </a>\\n    </h2>\\n</article>\\n            </li>\\n                    <li>\\n            <article class=\"story\" data-story-id=\"100000004169529\" data-rank=\"2\" data-collection-renderstyle=\"HpHedThumbWell\">\\n    <h2 class=\"story-heading\">\\n        <a href=\"http://www.nytimes.com/2016/01/27/opinion/the-twinned-egos-of-cruz-and-trump.html\">\\n            Frank Bruni: The Twinned Egos of Cruz and Trump        </a>\\n    </h2>\\n</article>\\n            </li>\\n            </ul>\\n</section>\\n\\n                    </div> <!-- close column -->\\n\\n                                \\n            </div><!-- close split-3-layout -->\\n\\n        \\n            <div class=\"split-3-layout layout theme-base\">\\n\\n                                \\n                    <div class=\"column \">\\n\\n                        <section>\\n    <h2 class=\"section-heading\">\\n        <a href=\"http://www.nytimes.com/pages/national/index.html\">U.S. &raquo;</a>\\n    </h2>\\n    <ul>\\n                    <li>\\n            <article class=\"story theme-summary\" data-story-id=\"100000004172034\" data-rank=\"0\" data-collection-renderstyle=\"HpHedThumbWell\">\\n\\n    <a class=\"story-link\" href=\"http://www.nytimes.com/2016/01/28/us/department-of-justice-reaches-agreement-with-ferguson.html\">\\n\\n                    <div class=\"thumb\">\\n                <img src=\"http://static01.nyt.com/images/2016/01/28/us/28ferguson-web/28ferguson-web-thumbStandard.jpg\" alt=\"\" />\\n            </div>\\n        \\n        <h3 class=\"story-heading\">\\n        Department of Justice Reaches Agreement With Ferguson        </h3>\\n    </a>\\n</article>\\n            </li>\\n                    <li>\\n            <article class=\"story\" data-story-id=\"100000004171607\" data-rank=\"1\" data-collection-renderstyle=\"HpHedThumbWell\">\\n    <h2 class=\"story-heading\">\\n        <a href=\"http://www.nytimes.com/2016/01/28/us/lavoy-finicum-protester-killed-in-oregon.html\">\\n            LaVoy Finicum: \\xe2\\x80\\x98I Would Rather Die Than Be Caged\\xe2\\x80\\x99        </a>\\n    </h2>\\n</article>\\n            </li>\\n                    <li>\\n            <article class=\"story\" data-story-id=\"100000004166643\" data-rank=\"2\" data-collection-renderstyle=\"HpHedThumbWell\">\\n    <h2 class=\"story-heading\">\\n        <a href=\"http://www.nytimes.com/2016/01/28/us/wounded-warrior-project-spends-lavishly-on-itself-ex-employees-say.html\">\\n            Wounded Warrior Project Spends Lavishly on Itself, Insiders Say        </a>\\n    </h2>\\n</article>\\n            </li>\\n            </ul>\\n</section>\\n\\n                    </div> <!-- close column -->\\n\\n                                \\n                    <div class=\"column \">\\n\\n                        <section>\\n    <h2 class=\"section-heading\">\\n        <a href=\"http://www.nytimes.com/pages/technology/index.html\">Technology &raquo;</a>\\n    </h2>\\n    <ul>\\n                    <li>\\n            <article class=\"story theme-summary\" data-story-id=\"100000004169473\" data-rank=\"0\" data-collection-renderstyle=\"HpHedThumbWell\">\\n\\n    <a class=\"story-link\" href=\"http://www.nytimes.com/2016/01/28/technology/facebook-earnings-zuckerberg.html\">\\n\\n                    <div class=\"thumb\">\\n                <img src=\"http://static01.nyt.com/images/2016/01/28/business/28facebook-web/28facebook-web-thumbStandard.jpg\" alt=\"\" />\\n            </div>\\n        \\n        <h3 class=\"story-heading\">\\n        Facebook Sales Soar 52%, Eclipsing Forecasts        </h3>\\n    </a>\\n</article>\\n            </li>\\n                    <li>\\n            <article class=\"story\" data-story-id=\"100000004171102\" data-rank=\"1\" data-collection-renderstyle=\"HpHedThumbWell\">\\n    <h2 class=\"story-heading\">\\n        <a href=\"http://www.nytimes.com/2016/01/28/technology/fcc-proposes-changes-in-set-top-box-market.html\">\\n            F.C.C. Proposes Changes in Cable Set-Top Box Market        </a>\\n    </h2>\\n</article>\\n            </li>\\n                    <li>\\n            <article class=\"story\" data-story-id=\"100000004169594\" data-rank=\"2\" data-collection-renderstyle=\"HpHedThumbWell\">\\n    <h2 class=\"story-heading\">\\n        <a href=\"http://www.nytimes.com/2016/01/28/technology/no-need-to-fret-apple-is-doing-fine.html\">\\n            State of the Art: No Need to Fret, Apple Is Doing Fine        </a>\\n    </h2>\\n</article>\\n            </li>\\n            </ul>\\n</section>\\n\\n                    </div> <!-- close column -->\\n\\n                                \\n                    <div class=\"column last-column\">\\n\\n                        <section>\\n    <h2 class=\"section-heading\">\\n        <a href=\"http://www.nytimes.com/pages/arts/index.html\">Arts &raquo;</a>\\n    </h2>\\n    <ul>\\n                    <li>\\n            <article class=\"story theme-summary\" data-story-id=\"100000004172243\" data-rank=\"0\" data-collection-renderstyle=\"HpHedThumbWell\">\\n\\n    <a class=\"story-link\" href=\"http://www.nytimes.com/2016/01/28/arts/television/fox-news-vs-trump-setting-free-the-golden-goose.html\">\\n\\n                    <div class=\"thumb\">\\n                <img src=\"http://static01.nyt.com/images/2016/01/28/arts/DEBATE/DEBATE-thumbStandard.jpg\" alt=\"\" />\\n            </div>\\n        \\n        <h3 class=\"story-heading\">\\n        Critic\\xe2\\x80\\x99s Notebook: Fox News vs. Trump: Setting Free the Golden Goose        </h3>\\n    </a>\\n</article>\\n            </li>\\n                    <li>\\n            <article class=\"story\" data-story-id=\"100000004168739\" data-rank=\"1\" data-collection-renderstyle=\"HpHedThumbWell\">\\n    <h2 class=\"story-heading\">\\n        <a href=\"http://www.nytimes.com/2016/01/28/arts/music/new-york-philharmonic-taps-jaap-van-zweden-as-its-next-maestro.html\">\\n            New York Philharmonic Taps Jaap van Zweden as Its Next Maestro        </a>\\n    </h2>\\n</article>\\n            </li>\\n                    <li>\\n            <article class=\"story\" data-story-id=\"100000004168482\" data-rank=\"2\" data-collection-renderstyle=\"HpHedThumbWell\">\\n    <h2 class=\"story-heading\">\\n        <a href=\"http://www.nytimes.com/2016/01/28/arts/jaap-van-zweden-and-the-future-of-the-new-york-philharmonic.html\">\\n            Critic\\'s Notebook: Jaap van Zweden and the Future of the New York Philharmonic        </a>\\n    </h2>\\n</article>\\n            </li>\\n            </ul>\\n</section>\\n\\n                    </div> <!-- close column -->\\n\\n                                \\n            </div><!-- close split-3-layout -->\\n\\n        \\n            <div class=\"split-3-layout layout theme-base\">\\n\\n                                \\n                    <div class=\"column \">\\n\\n                        <section>\\n    <h2 class=\"section-heading\">\\n        <a href=\"http://www.nytimes.com/pages/politics/index.html\">Politics &raquo;</a>\\n    </h2>\\n    <ul>\\n                    <li>\\n            <article class=\"story theme-summary\" data-story-id=\"100000004172600\" data-rank=\"0\" data-collection-renderstyle=\"HpHedThumbWell\">\\n\\n    <a class=\"story-link\" href=\"http://www.nytimes.com/politics/first-draft/2016/01/27/donald-trump-details-his-debate-night-plans/\">\\n\\n                    <div class=\"thumb\">\\n                <img src=\"http://static01.nyt.com/images/2016/01/27/us/27firstdraft-trump5/27firstdraft-trump5-thumbStandard.jpg\" alt=\"\" />\\n            </div>\\n        \\n        <h3 class=\"story-heading\">\\n        First Draft: Donald Trump Details His Debate Night Plans        </h3>\\n    </a>\\n</article>\\n            </li>\\n                    <li>\\n            <article class=\"story\" data-story-id=\"100000004171819\" data-rank=\"1\" data-collection-renderstyle=\"HpHedThumbWell\">\\n    <h2 class=\"story-heading\">\\n        <a href=\"http://www.nytimes.com/2016/01/28/us/politics/ben-carsons-campaign-beset-with-frustration-disappointment-and-grief.html\">\\n            Ben Carson\\xe2\\x80\\x99s Campaign Beset With Frustration, Disappointment and Grief        </a>\\n    </h2>\\n</article>\\n            </li>\\n                    <li>\\n            <article class=\"story\" data-story-id=\"100000004172434\" data-rank=\"2\" data-collection-renderstyle=\"HpHedThumbWell\">\\n    <h2 class=\"story-heading\">\\n        <a href=\"http://www.nytimes.com/politics/first-draft/2016/01/27/bernie-sanders-insists-hell-keep-pledge-to-release-medical-records-before-iowa-caucuses/\">\\n            First Draft: Bernie Sanders Insists He\\xe2\\x80\\x99ll Keep Pledge to Release Medical Records Before Iowa Caucuses        </a>\\n    </h2>\\n</article>\\n            </li>\\n            </ul>\\n</section>\\n\\n                    </div> <!-- close column -->\\n\\n                                \\n                    <div class=\"column \">\\n\\n                        <section>\\n    <h2 class=\"section-heading\">\\n        <a href=\"http://www.nytimes.com/pages/fashion/index.html\">Fashion & Style &raquo;</a>\\n    </h2>\\n    <ul>\\n                    <li>\\n            <article class=\"story theme-summary\" data-story-id=\"100000004169156\" data-rank=\"0\" data-collection-renderstyle=\"HpHedThumbWell\">\\n\\n    <a class=\"story-link\" href=\"http://www.nytimes.com/2016/01/28/fashion/chris-hemsworth-is-the-new-face-of-australia.html\">\\n\\n                    <div class=\"thumb\">\\n                <img src=\"http://static01.nyt.com/images/2016/01/28/fashion/28SCENE-WEB1/28SCENE-WEB1-thumbStandard.jpg\" alt=\"\" />\\n            </div>\\n        \\n        <h3 class=\"story-heading\">\\n        Scene City: Chris Hemsworth Is the New Face of Australia        </h3>\\n    </a>\\n</article>\\n            </li>\\n                    <li>\\n            <article class=\"story\" data-story-id=\"100000004137332\" data-rank=\"1\" data-collection-renderstyle=\"HpHedThumbWell\">\\n    <h2 class=\"story-heading\">\\n        <a href=\"http://www.nytimes.com/2016/01/28/fashion/a-director-follows-acclaim-for-tangerine-with-a-film-for-kenzo.html\">\\n            Front Row: A Director Follows Acclaim for \\xe2\\x80\\x98Tangerine\\xe2\\x80\\x99 With a Film for Kenzo        </a>\\n    </h2>\\n</article>\\n            </li>\\n                    <li>\\n            <article class=\"story\" data-story-id=\"100000004159026\" data-rank=\"2\" data-collection-renderstyle=\"HpHedThumbWell\">\\n    <h2 class=\"story-heading\">\\n        <a href=\"http://www.nytimes.com/2016/01/28/fashion/warming-up-to-sale-at-artists-fleas.html\">\\n            Scouting Report: Warming Up to Sale at Artists &amp; Fleas        </a>\\n    </h2>\\n</article>\\n            </li>\\n            </ul>\\n</section>\\n\\n                    </div> <!-- close column -->\\n\\n                                \\n                    <div class=\"column last-column\">\\n\\n                        <section>\\n    <h2 class=\"section-heading\">\\n        <a href=\"http://www.nytimes.com/pages/movies/index.html\">Movies &raquo;</a>\\n    </h2>\\n    <ul>\\n                    <li>\\n            <article class=\"story theme-summary\" data-story-id=\"100000004168743\" data-rank=\"0\" data-collection-renderstyle=\"HpHedThumbWell\">\\n\\n    <a class=\"story-link\" href=\"http://www.nytimes.com/2016/01/28/movies/the-oscars-and-race-a-stir-over-rules-to-change-the-academy.html\">\\n\\n                    <div class=\"thumb\">\\n                <img src=\"http://static01.nyt.com/images/2016/01/28/arts/28CARPETBAGGERJP1/28CARPETBAGGERJP1-thumbStandard.jpg\" alt=\"\" />\\n            </div>\\n        \\n        <h3 class=\"story-heading\">\\n        The Carpetbagger: The Oscars and Race: A Stir Over Rules to Change the Academy        </h3>\\n    </a>\\n</article>\\n            </li>\\n                    <li>\\n            <article class=\"story\" data-story-id=\"100000004155976\" data-rank=\"1\" data-collection-renderstyle=\"HpHedThumbWell\">\\n    <h2 class=\"story-heading\">\\n        <a href=\"http://www.nytimes.com/2016/01/31/arts/carol-and-transparent-women-in-love-then-and-now.html\">\\n            \\xe2\\x80\\x98Carol\\xe2\\x80\\x99 and \\xe2\\x80\\x98Transparent\\xe2\\x80\\x99: Women in Love, Then and Now        </a>\\n    </h2>\\n</article>\\n            </li>\\n                    <li>\\n            <article class=\"story\" data-story-id=\"100000004168642\" data-rank=\"2\" data-collection-renderstyle=\"HpHedThumbWell\">\\n    <h2 class=\"story-heading\">\\n        <a href=\"http://www.nytimes.com/2016/01/27/business/media/fox-searchlight-bids-17-million-for-the-birth-of-a-nation.html\">\\n            Sundance Roars for a Black Film, and Fox Searchlight Bids $17 Million        </a>\\n    </h2>\\n</article>\\n            </li>\\n            </ul>\\n</section>\\n\\n                    </div> <!-- close column -->\\n\\n                                \\n            </div><!-- close split-3-layout -->\\n\\n        \\n            <div class=\"split-3-layout layout theme-base\">\\n\\n                                \\n                    <div class=\"column \">\\n\\n                        <section>\\n    <h2 class=\"section-heading\">\\n        <a href=\"http://www.nytimes.com/pages/nyregion/index.html\">New York &raquo;</a>\\n    </h2>\\n    <ul>\\n                    <li>\\n            <article class=\"story theme-summary\" data-story-id=\"100000004171768\" data-rank=\"0\" data-collection-renderstyle=\"HpHedThumbWell\">\\n\\n    <a class=\"story-link\" href=\"http://www.nytimes.com/2016/01/28/nyregion/manhattan-construction-worker-injured-in-fall-down-elevator-shaft.html\">\\n\\n                    <div class=\"thumb\">\\n                <img src=\"http://static01.nyt.com/images/2016/01/28/nyregion/28FALL/28FALL-thumbStandard.jpg\" alt=\"\" />\\n            </div>\\n        \\n        <h3 class=\"story-heading\">\\n        Manhattan Construction Worker Injured in Fall Down Elevator Shaft        </h3>\\n    </a>\\n</article>\\n            </li>\\n                    <li>\\n            <article class=\"story\" data-story-id=\"100000004171412\" data-rank=\"1\" data-collection-renderstyle=\"HpHedThumbWell\">\\n    <h2 class=\"story-heading\">\\n        <a href=\"http://www.nytimes.com/2016/01/28/nyregion/spate-of-slashings-puts-new-yorkers-on-edge.html\">\\n            Spate of Slashings Puts New Yorkers on Edge        </a>\\n    </h2>\\n</article>\\n            </li>\\n                    <li>\\n            <article class=\"story\" data-story-id=\"100000004162006\" data-rank=\"2\" data-collection-renderstyle=\"HpHedThumbWell\">\\n    <h2 class=\"story-heading\">\\n        <a href=\"http://www.nytimes.com/2016/01/31/nyregion/schmidts-candy-a-sweet-spot-in-queens.html\">\\n            Neighborhood Joint: Schmidt\\xe2\\x80\\x99s Candy, a Sweet Spot in Queens        </a>\\n    </h2>\\n</article>\\n            </li>\\n            </ul>\\n</section>\\n\\n                    </div> <!-- close column -->\\n\\n                                \\n                    <div class=\"column \">\\n\\n                        <section>\\n    <h2 class=\"section-heading\">\\n        <a href=\"http://www.nytimes.com/pages/sports/index.html\">Sports &raquo;</a>\\n    </h2>\\n    <ul>\\n                    <li>\\n            <article class=\"story theme-summary\" data-story-id=\"100000004169046\" data-rank=\"0\" data-collection-renderstyle=\"HpHedThumbWell\">\\n\\n    <a class=\"story-link\" href=\"http://www.nytimes.com/2016/01/28/sports/tennis/australian-open-match-fixing-essay.html\">\\n\\n                    <div class=\"thumb\">\\n                <img src=\"http://static01.nyt.com/images/2016/01/28/sports/28FIXINGweb/28FIXINGweb-thumbStandard.jpg\" alt=\"\" />\\n            </div>\\n        \\n        <h3 class=\"story-heading\">\\n        Essay: An Invitation Into the Shadowy World of Match Fixing        </h3>\\n    </a>\\n</article>\\n            </li>\\n                    <li>\\n            <article class=\"story\" data-story-id=\"100000004168776\" data-rank=\"1\" data-collection-renderstyle=\"HpHedThumbWell\">\\n    <h2 class=\"story-heading\">\\n        <a href=\"http://www.nytimes.com/2016/01/27/sports/tennis/tennis-plans-new-measures-to-fight-match-fixing.html\">\\n            Tennis Announces Review of Anticorruption Efforts        </a>\\n    </h2>\\n</article>\\n            </li>\\n                    <li>\\n            <article class=\"story\" data-story-id=\"100000004170520\" data-rank=\"2\" data-collection-renderstyle=\"HpHedThumbWell\">\\n    <h2 class=\"story-heading\">\\n        <a href=\"http://www.nytimes.com/2016/01/28/sports/tennis/milos-raonic-andy-murray-australian-open.html\">\\n            On Tennis: Milos Raonic Crashes the Australian Open Semifinals Party        </a>\\n    </h2>\\n</article>\\n            </li>\\n            </ul>\\n</section>\\n\\n                    </div> <!-- close column -->\\n\\n                                \\n                    <div class=\"column last-column\">\\n\\n                        <section>\\n    <h2 class=\"section-heading\">\\n        <a href=\"http://theater.nytimes.com/\">Theater &raquo;</a>\\n    </h2>\\n    <ul>\\n                    <li>\\n            <article class=\"story theme-summary\" data-story-id=\"100000004170983\" data-rank=\"0\" data-collection-renderstyle=\"HpHedThumbWell\">\\n\\n    <a class=\"story-link\" href=\"http://www.nytimes.com/2016/01/28/theater/blanchett-to-make-broadway-debut-in-play-directed-by-john-crowley.html\">\\n\\n                    <div class=\"thumb\">\\n                <img src=\"http://static01.nyt.com/images/2016/01/28/arts/BLANCHETT/BLANCHETT-thumbStandard-v2.jpg\" alt=\"\" />\\n            </div>\\n        \\n        <h3 class=\"story-heading\">\\n        Blanchett to Make Broadway Debut in Play Directed by John Crowley        </h3>\\n    </a>\\n</article>\\n            </li>\\n                    <li>\\n            <article class=\"story\" data-story-id=\"100000004156131\" data-rank=\"1\" data-collection-renderstyle=\"HpHedThumbWell\">\\n    <h2 class=\"story-heading\">\\n        <a href=\"http://www.nytimes.com/2016/01/28/theater/review-imagining-the-imaginary-invalid-about-absence-and-art-making.html\">\\n            Review: \\xe2\\x80\\x98Imagining the Imaginary Invalid,\\xe2\\x80\\x99 About Absence and Art Making        </a>\\n    </h2>\\n</article>\\n            </li>\\n                    <li>\\n            <article class=\"story\" data-story-id=\"100000004155960\" data-rank=\"2\" data-collection-renderstyle=\"HpHedThumbWell\">\\n    <h2 class=\"story-heading\">\\n        <a href=\"http://www.nytimes.com/2016/01/31/theater/2666-a-most-difficult-novel-takes-the-stage.html\">\\n            \\xe2\\x80\\x982666,\\xe2\\x80\\x99 a Most Difficult Novel, Takes the Stage        </a>\\n    </h2>\\n</article>\\n            </li>\\n            </ul>\\n</section>\\n\\n                    </div> <!-- close column -->\\n\\n                                \\n            </div><!-- close split-3-layout -->\\n\\n        \\n            <div class=\"split-3-layout layout theme-base\">\\n\\n                                \\n                    <div class=\"column \">\\n\\n                        <section>\\n    <h2 class=\"section-heading\">\\n        <a href=\"http://www.nytimes.com/section/science\">Science &raquo;</a>\\n    </h2>\\n    <ul>\\n                    <li>\\n            <article class=\"story theme-summary\" data-story-id=\"100000004168578\" data-rank=\"0\" data-collection-renderstyle=\"HpHedThumbWell\">\\n\\n    <a class=\"story-link\" href=\"http://www.nytimes.com/2016/01/27/science/how-to-get-five-planets-into-a-single-photograph.html\">\\n\\n                    <div class=\"thumb\">\\n                <img src=\"http://static01.nyt.com/images/2016/01/27/science/27planets/27planets-thumbStandard.jpg\" alt=\"\" />\\n            </div>\\n        \\n        <h3 class=\"story-heading\">\\n        How to Get Five Planets Into a Single Photograph        </h3>\\n    </a>\\n</article>\\n            </li>\\n                    <li>\\n            <article class=\"story\" data-story-id=\"100000004158734\" data-rank=\"1\" data-collection-renderstyle=\"HpHedThumbWell\">\\n    <h2 class=\"story-heading\">\\n        <a href=\"http://www.nytimes.com/2016/01/26/science/in-an-ancient-tomb-a-hierarchy-of-the-dead.html\">\\n            Observatory: In an Ancient Tomb, a Hierarchy of the Dead        </a>\\n    </h2>\\n</article>\\n            </li>\\n                    <li>\\n            <article class=\"story\" data-story-id=\"100000004126442\" data-rank=\"2\" data-collection-renderstyle=\"HpHedThumbWell\">\\n    <h2 class=\"story-heading\">\\n        <a href=\"http://www.nytimes.com/2016/01/26/science/unraveling-the-ties-of-altitude-oxygen-and-lung-cancer.html\">\\n            Raw Data: Unraveling the Ties of Altitude, Oxygen and Lung Cancer        </a>\\n    </h2>\\n</article>\\n            </li>\\n            </ul>\\n</section>\\n\\n                    </div> <!-- close column -->\\n\\n                                \\n                    <div class=\"column \">\\n\\n                        <section>\\n    <h2 class=\"section-heading\">\\n        <a href=\"http://www.nytimes.com/section/obituaries\">Obituaries &raquo;</a>\\n    </h2>\\n    <ul>\\n                    <li>\\n            <article class=\"story theme-summary\" data-story-id=\"100000004171631\" data-rank=\"0\" data-collection-renderstyle=\"HpHedThumbWell\">\\n\\n    <a class=\"story-link\" href=\"http://www.nytimes.com/2016/01/28/sports/autoracing/barney-hall-folksy-voice-of-nascar-dies-at-83.html\">\\n\\n                    <div class=\"thumb\">\\n                <img src=\"http://static01.nyt.com/images/2016/01/28/sports/hall-obit-web/hall-obit-web-thumbStandard.jpg\" alt=\"\" />\\n            </div>\\n        \\n        <h3 class=\"story-heading\">\\n        Barney Hall, Folksy Voice of Nascar, Dies at 83        </h3>\\n    </a>\\n</article>\\n            </li>\\n                    <li>\\n            <article class=\"story\" data-story-id=\"100000004166497\" data-rank=\"1\" data-collection-renderstyle=\"HpHedThumbWell\">\\n    <h2 class=\"story-heading\">\\n        <a href=\"http://www.nytimes.com/2016/01/28/arts/music/robert-tuggle-longtime-archivist-of-the-metropolitan-opera-dies-at-83.html\">\\n            Robert Tuggle, Longtime Archivist of the Metropolitan Opera, Dies at 83        </a>\\n    </h2>\\n</article>\\n            </li>\\n                    <li>\\n            <article class=\"story\" data-story-id=\"100000004161542\" data-rank=\"2\" data-collection-renderstyle=\"HpHedThumbWell\">\\n    <h2 class=\"story-heading\">\\n        <a href=\"http://www.nytimes.com/2016/01/28/arts/dance/mrinalini-sarabhai-renowned-indian-classical-dancer-dies-at-97.html\">\\n            Mrinalini Sarabhai,\\xc2\\xa0Renowned Indian Classical Dancer, Dies at 97        </a>\\n    </h2>\\n</article>\\n            </li>\\n            </ul>\\n</section>\\n\\n                    </div> <!-- close column -->\\n\\n                                \\n                    <div class=\"column last-column\">\\n\\n                        <section>\\n    <h2 class=\"section-heading\">\\n        <a href=\"http://www.nytimes.com/pages/arts/television/index.html\">Television &raquo;</a>\\n    </h2>\\n    <ul>\\n                    <li>\\n            <article class=\"story theme-summary\" data-story-id=\"100000004166667\" data-rank=\"0\" data-collection-renderstyle=\"HpHedThumbWell\">\\n\\n    <a class=\"story-link\" href=\"http://www.nytimes.com/interactive/2016/01/25/arts/television/the-x-files-new-season-quiz.html\">\\n\\n                    <div class=\"thumb\">\\n                <img src=\"http://static01.nyt.com/images/2016/01/22/arts/xfilesquiz-tooms/xfilesquiz-tooms-thumbStandard.jpg\" alt=\"\" />\\n            </div>\\n        \\n        <h3 class=\"story-heading\">\\n        How Well Do You Know Your &#8216;X-Files&#8217; Monsters?        </h3>\\n    </a>\\n</article>\\n            </li>\\n                    <li>\\n            <article class=\"story\" data-story-id=\"100000004158770\" data-rank=\"1\" data-collection-renderstyle=\"HpHedThumbWell\">\\n    <h2 class=\"story-heading\">\\n        <a href=\"http://www.nytimes.com/2016/01/24/arts/television/the-x-files-season-10-premiere-review.html\">\\n            \\xe2\\x80\\x98The X-Files\\xe2\\x80\\x99 Season 10 Premiere: A Crazier Mulder Than Usual        </a>\\n    </h2>\\n</article>\\n            </li>\\n                    <li>\\n            <article class=\"story\" data-story-id=\"100000004164072\" data-rank=\"2\" data-collection-renderstyle=\"HpHedThumbWell\">\\n    <h2 class=\"story-heading\">\\n        <a href=\"http://www.nytimes.com/2016/01/25/arts/television/the-cigarette-smoking-man-of-the-x-files-resurfaces.html\">\\n            A Word With: William B. Davis: The Cigarette Smoking Man of \\xe2\\x80\\x98The X-Files\\xe2\\x80\\x99 Resurfaces        </a>\\n    </h2>\\n</article>\\n            </li>\\n            </ul>\\n</section>\\n\\n                    </div> <!-- close column -->\\n\\n                                \\n            </div><!-- close split-3-layout -->\\n\\n        \\n            <div class=\"split-3-layout layout theme-base\">\\n\\n                                \\n                    <div class=\"column \">\\n\\n                        <section>\\n    <h2 class=\"section-heading\">\\n        <a href=\"http://www.nytimes.com/pages/health/index.html\">Health &raquo;</a>\\n    </h2>\\n    <ul>\\n                    <li>\\n            <article class=\"story theme-summary\" data-story-id=\"100000004169237\" data-rank=\"0\" data-collection-renderstyle=\"HpHedThumbWell\">\\n\\n    <a class=\"story-link\" href=\"http://www.nytimes.com/2016/01/28/health/schizophrenia-cause-synaptic-pruning-brain-psychiatry.html\">\\n\\n                    <div class=\"thumb\">\\n                <img src=\"http://static01.nyt.com/images/2016/01/28/science/28SCHIZOPHRENIA5/28SCHIZOPHRENIA5-thumbStandard.jpg\" alt=\"\" />\\n            </div>\\n        \\n        <h3 class=\"story-heading\">\\n        Scientists Move Closer to Understanding Schizophrenia\\xe2\\x80\\x99s Cause        </h3>\\n    </a>\\n</article>\\n            </li>\\n                    <li>\\n            <article class=\"story\" data-story-id=\"100000004170606\" data-rank=\"1\" data-collection-renderstyle=\"HpHedThumbWell\">\\n    <h2 class=\"story-heading\">\\n        <a href=\"http://well.blogs.nytimes.com/2016/01/27/to-prevent-back-pain-orthotics-are-out-exercise-is-in/\">\\n            Phys Ed: To Prevent Back Pain, Orthotics Are Out, Exercise Is In        </a>\\n    </h2>\\n</article>\\n            </li>\\n                    <li>\\n            <article class=\"story\" data-story-id=\"100000004171339\" data-rank=\"2\" data-collection-renderstyle=\"HpHedThumbWell\">\\n    <h2 class=\"story-heading\">\\n        <a href=\"http://well.blogs.nytimes.com/2016/01/27/irregular-heartbeats-coffee-may-not-be-so-bad-for-you/\">\\n            Well: Irregular Heartbeats? Coffee May Not Be So Bad for You        </a>\\n    </h2>\\n</article>\\n            </li>\\n            </ul>\\n</section>\\n\\n                    </div> <!-- close column -->\\n\\n                                \\n                    <div class=\"column \">\\n\\n                        <section>\\n    <h2 class=\"section-heading\">\\n        <a href=\"http://www.nytimes.com/section/travel\">Travel &raquo;</a>\\n    </h2>\\n    <ul>\\n                    <li>\\n            <article class=\"story theme-summary\" data-story-id=\"100000004159204\" data-rank=\"0\" data-collection-renderstyle=\"HpHedThumbWell\">\\n\\n    <a class=\"story-link\" href=\"http://www.nytimes.com/2016/01/31/travel/rio-de-janeiro-brazil-samba.html\">\\n\\n                    <div class=\"thumb\">\\n                <img src=\"http://static01.nyt.com/images/2016/01/31/travel/31SAMBA1/31SAMBA1-thumbStandard.jpg\" alt=\"\" />\\n            </div>\\n        \\n        <h3 class=\"story-heading\">\\n        Pursuits: In Rio, the Work Goes in Before the Party Goes On        </h3>\\n    </a>\\n</article>\\n            </li>\\n                    <li>\\n            <article class=\"story\" data-story-id=\"100000003885856\" data-rank=\"1\" data-collection-renderstyle=\"HpHedThumbWell\">\\n    <h2 class=\"story-heading\">\\n        <a href=\"http://www.nytimes.com/2016/01/31/travel/namibia-tour-road-trip.html\">\\n            7 Days, 1,500 Miles in Namibia        </a>\\n    </h2>\\n</article>\\n            </li>\\n            </ul>\\n</section>\\n\\n                    </div> <!-- close column -->\\n\\n                                \\n                    <div class=\"column last-column\">\\n\\n                        <section>\\n    <h2 class=\"section-heading\">\\n        <a href=\"http://www.nytimes.com/pages/books/index.html\">Books &raquo;</a>\\n    </h2>\\n    <ul>\\n                    <li>\\n            <article class=\"story theme-summary\" data-story-id=\"100000004168744\" data-rank=\"0\" data-collection-renderstyle=\"HpHedThumbWell\">\\n\\n    <a class=\"story-link\" href=\"http://www.nytimes.com/2016/01/28/books/review-facing-marriage-and-befriending-a-squirrel-in-the-portable-veblen.html\">\\n\\n                    <div class=\"thumb\">\\n                <img src=\"http://static01.nyt.com/images/2016/01/28/arts/28BOOKMCKENZIE/28BOOKMCKENZIE-thumbStandard.jpg\" alt=\"\" />\\n            </div>\\n        \\n        <h3 class=\"story-heading\">\\n        Books of The Times: Review: Facing Marriage and Befriending a Squirrel in \\xe2\\x80\\x98The Portable Veblen\\xe2\\x80\\x99        </h3>\\n    </a>\\n</article>\\n            </li>\\n                    <li>\\n            <article class=\"story\" data-story-id=\"100000004168768\" data-rank=\"1\" data-collection-renderstyle=\"HpHedThumbWell\">\\n    <h2 class=\"story-heading\">\\n        <a href=\"http://www.nytimes.com/2016/01/28/books/samantha-hunts-mr-splitfoot-and-more.html\">\\n            Samantha Hunt\\xe2\\x80\\x99s \\xe2\\x80\\x98Mr. Splitfoot,\\xe2\\x80\\x99 and More        </a>\\n    </h2>\\n</article>\\n            </li>\\n                    <li>\\n            <article class=\"story\" data-story-id=\"100000004155960\" data-rank=\"2\" data-collection-renderstyle=\"HpHedThumbWell\">\\n    <h2 class=\"story-heading\">\\n        <a href=\"http://www.nytimes.com/2016/01/31/theater/2666-a-most-difficult-novel-takes-the-stage.html\">\\n            \\xe2\\x80\\x982666,\\xe2\\x80\\x99 a Most Difficult Novel, Takes the Stage        </a>\\n    </h2>\\n</article>\\n            </li>\\n            </ul>\\n</section>\\n\\n                    </div> <!-- close column -->\\n\\n                                \\n            </div><!-- close split-3-layout -->\\n\\n        \\n            <div class=\"split-3-layout layout theme-base\">\\n\\n                                \\n                    <div class=\"column \">\\n\\n                        <section>\\n    <h2 class=\"section-heading\">\\n        <a href=\"http://www.nytimes.com/pages/education/index.html\">Education &raquo;</a>\\n    </h2>\\n    <ul>\\n                    <li>\\n            <article class=\"story theme-summary\" data-story-id=\"100000004160350\" data-rank=\"0\" data-collection-renderstyle=\"HpHedThumbWell\">\\n\\n    <a class=\"story-link\" href=\"http://www.nytimes.com/2016/01/31/magazine/can-i-call-my-nonbiological-twins-black-because-my-husband-is.html\">\\n\\n                    <div class=\"thumb\">\\n                <img src=\"http://static01.nyt.com/images/2016/01/31/magazine/31ethicist/31ethicist-thumbStandard.jpg\" alt=\"\" />\\n            </div>\\n        \\n        <h3 class=\"story-heading\">\\n        The Ethicist: Can I Call My Nonbiological Twins Black Because My Husband Is?        </h3>\\n    </a>\\n</article>\\n            </li>\\n                    <li>\\n            <article class=\"story\" data-story-id=\"100000004168329\" data-rank=\"1\" data-collection-renderstyle=\"HpHedThumbWell\">\\n    <h2 class=\"story-heading\">\\n        <a href=\"http://www.nytimes.com/2016/01/27/us/amherst-college-drops-lord-jeff-as-mascot.html\">\\n            Amherst College Drops \\xe2\\x80\\x98Lord Jeff\\xe2\\x80\\x99 as Mascot        </a>\\n    </h2>\\n</article>\\n            </li>\\n                    <li>\\n            <article class=\"story\" data-story-id=\"100000004166058\" data-rank=\"2\" data-collection-renderstyle=\"HpHedThumbWell\">\\n    <h2 class=\"story-heading\">\\n        <a href=\"http://www.nytimes.com/2016/01/26/opinion/ekg-screening-for-college-athletes.html\">\\n            Sandeep Jauhar: EKG Screening for College Athletes        </a>\\n    </h2>\\n</article>\\n            </li>\\n            </ul>\\n</section>\\n\\n                    </div> <!-- close column -->\\n\\n                                \\n                    <div class=\"column \">\\n\\n                        <section>\\n    <h2 class=\"section-heading\">\\n        <a href=\"http://www.nytimes.com/pages/dining/index.html\">Food &raquo;</a>\\n    </h2>\\n    <ul>\\n                    <li>\\n            <article class=\"story theme-summary\" data-story-id=\"100000004154094\" data-rank=\"0\" data-collection-renderstyle=\"HpHedThumbWell\">\\n\\n    <a class=\"story-link\" href=\"http://www.nytimes.com/2016/01/27/dining/beyond-soul-food-african-american-chefs.html\">\\n\\n                    <div class=\"thumb\">\\n                <img src=\"http://static01.nyt.com/images/2016/01/27/dining/27AFRO-slide-XCMG/27AFRO-slide-XCMG-thumbStandard-v2.jpg\" alt=\"\" />\\n            </div>\\n        \\n        <h3 class=\"story-heading\">\\n        A Belle \\xc3\\x89poque for African-American Cooking        </h3>\\n    </a>\\n</article>\\n            </li>\\n                    <li>\\n            <article class=\"story\" data-story-id=\"100000004159012\" data-rank=\"1\" data-collection-renderstyle=\"HpHedThumbWell\">\\n    <h2 class=\"story-heading\">\\n        <a href=\"http://www.nytimes.com/2016/01/27/dining/ghetto-gastro-food-the-bronx.html\">\\n            Food Lovers Aim to Give the Bronx Its Due        </a>\\n    </h2>\\n</article>\\n            </li>\\n                    <li>\\n            <article class=\"story\" data-story-id=\"100000004162220\" data-rank=\"2\" data-collection-renderstyle=\"HpHedThumbWell\">\\n    <h2 class=\"story-heading\">\\n        <a href=\"http://www.nytimes.com/2016/01/27/dining/achilles-heel-resto-review.html\">\\n            Restaurant Review: Meat Matters at Achilles Heel in Greenpoint and Resto in Kips Bay        </a>\\n    </h2>\\n</article>\\n            </li>\\n            </ul>\\n</section>\\n\\n                    </div> <!-- close column -->\\n\\n                                \\n                    <div class=\"column last-column\">\\n\\n                        <section>\\n    <h2 class=\"section-heading\">\\n        <a href=\"http://www.nytimes.com/pages/opinion/index.html#sundayreview\">Sunday Review &raquo;</a>\\n    </h2>\\n    <ul>\\n                    <li>\\n            <article class=\"story theme-summary\" data-story-id=\"100000004126401\" data-rank=\"0\" data-collection-renderstyle=\"HpHedThumbWell\">\\n\\n    <a class=\"story-link\" href=\"http://www.nytimes.com/2016/01/24/opinion/sunday/a-drug-to-cure-fear.html\">\\n\\n                    <div class=\"thumb\">\\n                <img src=\"http://static01.nyt.com/images/2016/01/24/opinion/sunday/24friedman/24friedman-thumbStandard.jpg\" alt=\"\" />\\n            </div>\\n        \\n        <h3 class=\"story-heading\">\\n        Richard A. Friedman: A Drug to Cure Fear        </h3>\\n    </a>\\n</article>\\n            </li>\\n                    <li>\\n            <article class=\"story\" data-story-id=\"100000004161141\" data-rank=\"1\" data-collection-renderstyle=\"HpHedThumbWell\">\\n    <h2 class=\"story-heading\">\\n        <a href=\"http://www.nytimes.com/2016/01/24/opinion/sunday/fix-flints-water-system-now.html\">\\n            Editorial: Fix Flint\\xe2\\x80\\x99s Water System, Now        </a>\\n    </h2>\\n</article>\\n            </li>\\n                    <li>\\n            <article class=\"story\" data-story-id=\"100000004157568\" data-rank=\"2\" data-collection-renderstyle=\"HpHedThumbWell\">\\n    <h2 class=\"story-heading\">\\n        <a href=\"http://www.nytimes.com/2016/01/24/opinion/campaign-stops/our-insane-addiction-to-polls.html\">\\n            Frank Bruni: Our Insane Addiction to Polls        </a>\\n    </h2>\\n</article>\\n            </li>\\n            </ul>\\n</section>\\n\\n                    </div> <!-- close column -->\\n\\n                                \\n            </div><!-- close split-3-layout -->\\n\\n        \\n            <div class=\"split-3-layout layout theme-base\">\\n\\n                                \\n                    <div class=\"column \">\\n\\n                        <section>\\n    <h2 class=\"section-heading\">\\n        <a href=\"http://www.nytimes.com/pages/realestate/index.html\">Real Estate &raquo;</a>\\n    </h2>\\n    <ul>\\n                    <li>\\n            <article class=\"story theme-summary\" data-story-id=\"100000004169463\" data-rank=\"0\" data-collection-renderstyle=\"HpHedThumbWell\">\\n\\n    <a class=\"story-link\" href=\"http://www.nytimes.com/2016/01/31/realestate/southport-conn-historic-with-an-aristocratic-air.html\">\\n\\n                    <div class=\"thumb\">\\n                <img src=\"http://static01.nyt.com/images/2016/01/31/realestate/31LIVING-SOUTHPORT-slide-SQRD/31LIVING-SOUTHPORT-slide-SQRD-thumbStandard-v2.jpg\" alt=\"\" />\\n            </div>\\n        \\n        <h3 class=\"story-heading\">\\n        Living In: Southport, Conn.: Historic, With an Aristocratic Air        </h3>\\n    </a>\\n</article>\\n            </li>\\n                    <li>\\n            <article class=\"story\" data-story-id=\"100000004168987\" data-rank=\"1\" data-collection-renderstyle=\"HpHedThumbWell\">\\n    <h2 class=\"story-heading\">\\n        <a href=\"http://www.nytimes.com/2016/01/27/realestate/compare-homes-in-tuscon-arizona-hudson-new-york-and-honolulu-hawaii.html\">\\n            What You Get: $950,000 Homes in New York, Arizona and Hawaii        </a>\\n    </h2>\\n</article>\\n            </li>\\n                    <li>\\n            <article class=\"story\" data-story-id=\"100000004169334\" data-rank=\"2\" data-collection-renderstyle=\"HpHedThumbWell\">\\n    <h2 class=\"story-heading\">\\n        <a href=\"http://www.nytimes.com/2016/01/27/realestate/real-estate-in-dubrovnik-croatia.html\">\\n            International Real Estate: House Hunting in ... Croatia        </a>\\n    </h2>\\n</article>\\n            </li>\\n            </ul>\\n</section>\\n\\n                    </div> <!-- close column -->\\n\\n                                \\n                    <div class=\"column \">\\n\\n                        <section>\\n    <h2 class=\"section-heading\">\\n        <a href=\"http://www.nytimes.com/upshot/\">The Upshot &raquo;</a>\\n    </h2>\\n    <ul>\\n                    <li>\\n            <article class=\"story theme-summary\" data-story-id=\"100000004166919\" data-rank=\"0\" data-collection-renderstyle=\"HpHedThumbWell\">\\n\\n    <a class=\"story-link\" href=\"http://www.nytimes.com/2016/01/27/upshot/where-mainstream-republican-candidates-are-most-popular.html\">\\n\\n                    <div class=\"thumb\">\\n                <img src=\"http://static01.nyt.com/images/2016/01/27/upshot/cohn-sbs-maps-1453857117914/cohn-sbs-maps-1453857117914-thumbStandard-v2.png\" alt=\"\" />\\n            </div>\\n        \\n        <h3 class=\"story-heading\">\\n        The 2016 Race: Where Mainstream Republican Candidates Are Most Popular        </h3>\\n    </a>\\n</article>\\n            </li>\\n                    <li>\\n            <article class=\"story\" data-story-id=\"100000004168350\" data-rank=\"1\" data-collection-renderstyle=\"HpHedThumbWell\">\\n    <h2 class=\"story-heading\">\\n        <a href=\"http://www.nytimes.com/2016/01/27/upshot/why-its-so-hard-to-be-a-third-party-candidate-even-if-youre-bloomberg.html\">\\n            Lonely in the Center: Why It\\xe2\\x80\\x99s So Hard to Be a Third-Party Candidate, Even if You\\xe2\\x80\\x99re Bloomberg        </a>\\n    </h2>\\n</article>\\n            </li>\\n                    <li>\\n            <article class=\"story\" data-story-id=\"100000004166435\" data-rank=\"2\" data-collection-renderstyle=\"HpHedThumbWell\">\\n    <h2 class=\"story-heading\">\\n        <a href=\"http://www.nytimes.com/2016/01/27/upshot/a-retro-super-bowl-putting-defense-and-running-first.html\">\\n            T.M.Q. \\xe2\\x80\\x94 Tuesday Morning Quarterback: A Retro Super Bowl, Putting Defense and Running First        </a>\\n    </h2>\\n</article>\\n            </li>\\n            </ul>\\n</section>\\n\\n                    </div> <!-- close column -->\\n\\n                                \\n                    <div class=\"column last-column\">\\n\\n                        <section>\\n    <h2 class=\"section-heading\">\\n        <a href=\"http://www.nytimes.com/section/magazine\">Magazine &raquo;</a>\\n    </h2>\\n    <ul>\\n                    <li>\\n            <article class=\"story theme-summary\" data-story-id=\"100000004161922\" data-rank=\"0\" data-collection-renderstyle=\"HpHedThumbWell\">\\n\\n    <a class=\"story-link\" href=\"http://www.nytimes.com/2016/01/31/magazine/buffalo-in-the-city.html\">\\n\\n                    <div class=\"thumb\">\\n                <img src=\"http://static01.nyt.com/images/2016/01/31/magazine/31onclothing1/31mag-31onclothing-t_CA0-thumbStandard.jpg\" alt=\"\" />\\n            </div>\\n        \\n        <h3 class=\"story-heading\">\\n        On Clothing: Buffalo in the City        </h3>\\n    </a>\\n</article>\\n            </li>\\n                    <li>\\n            <article class=\"story\" data-story-id=\"100000004160352\" data-rank=\"1\" data-collection-renderstyle=\"HpHedThumbWell\">\\n    <h2 class=\"story-heading\">\\n        <a href=\"http://www.nytimes.com/2016/01/31/magazine/judge-john-hodgman-on-the-church-of-the-flying-spaghetti-monster.html\">\\n            Judge John Hodgman: Judge John Hodgman on the Church of the Flying Spaghetti Monster        </a>\\n    </h2>\\n</article>\\n            </li>\\n                    <li>\\n            <article class=\"story\" data-story-id=\"100000004160350\" data-rank=\"2\" data-collection-renderstyle=\"HpHedThumbWell\">\\n    <h2 class=\"story-heading\">\\n        <a href=\"http://www.nytimes.com/2016/01/31/magazine/can-i-call-my-nonbiological-twins-black-because-my-husband-is.html\">\\n            The Ethicist: Can I Call My Nonbiological Twins Black Because My Husband Is?        </a>\\n    </h2>\\n</article>\\n            </li>\\n            </ul>\\n</section>\\n\\n                    </div> <!-- close column -->\\n\\n                                \\n            </div><!-- close split-3-layout -->\\n\\n        \\n            <div class=\"split-3-layout layout theme-base\">\\n\\n                                \\n                    <div class=\"column \">\\n\\n                        <section>\\n    <h2 class=\"section-heading\">\\n        <a href=\"http://www.nytimes.com/pages/automobiles/index.html\">Automobiles &raquo;</a>\\n    </h2>\\n    <ul>\\n                    <li>\\n            <article class=\"story theme-summary\" data-story-id=\"100000004169566\" data-rank=\"0\" data-collection-renderstyle=\"HpHedThumbWell\">\\n\\n    <a class=\"story-link\" href=\"http://www.nytimes.com/2016/01/29/automobiles/autoreviews/video-review-the-new-xf-a-jaguar-light-on-its-feet.html\">\\n\\n                    <div class=\"thumb\">\\n                <img src=\"http://static01.nyt.com/images/2016/01/26/multimedia/driven-2016-jaguar-xfr-alt/driven-2016-jaguar-xfr-thumbStandard.jpg\" alt=\"\" />\\n            </div>\\n        \\n        <h3 class=\"story-heading\">\\n        Driven: Video Review: The New XF, a Jaguar Light on Its Feet        </h3>\\n    </a>\\n</article>\\n            </li>\\n                    <li>\\n            <article class=\"story\" data-story-id=\"100000004161705\" data-rank=\"1\" data-collection-renderstyle=\"HpHedThumbWell\">\\n    <h2 class=\"story-heading\">\\n        <a href=\"http://www.nytimes.com/2016/01/23/business/takata-airbag-death-recall.html\">\\n            Takata Airbag Flaw Linked to 10th Death; 5 Million More Vehicles Recalled        </a>\\n    </h2>\\n</article>\\n            </li>\\n                    <li>\\n            <article class=\"story\" data-story-id=\"100000004159964\" data-rank=\"2\" data-collection-renderstyle=\"HpHedThumbWell\">\\n    <h2 class=\"story-heading\">\\n        <a href=\"http://www.nytimes.com/2016/01/24/sports/baseball/where-the-baseball-stars-get-their-custom-cars.html\">\\n            Where the Stars Get Their Rides        </a>\\n    </h2>\\n</article>\\n            </li>\\n            </ul>\\n</section>\\n\\n                    </div> <!-- close column -->\\n\\n                                \\n                    <div class=\"column \">\\n\\n                        <section>\\n    <h2 class=\"section-heading\">\\n        <a href=\"http://www.nytimes.com/section/t-magazine\">T Magazine &raquo;</a>\\n    </h2>\\n    <ul>\\n                    <li>\\n            <article class=\"story theme-summary\" data-story-id=\"100000004171626\" data-rank=\"0\" data-collection-renderstyle=\"HpHedThumbWell\">\\n\\n    <a class=\"story-link\" href=\"http://www.nytimes.com/2016/01/27/t-magazine/art/drawing-then-1960s-art-dominique-levy.html\">\\n\\n                    <div class=\"thumb\">\\n                <img src=\"http://static01.nyt.com/images/2016/01/27/t-magazine/27tmag-levy1/27tmag-levy1-thumbStandard.jpg\" alt=\"\" />\\n            </div>\\n        \\n        <h3 class=\"story-heading\">\\n        Returning, Again, to American Drawing in the 1960s        </h3>\\n    </a>\\n</article>\\n            </li>\\n                    <li>\\n            <article class=\"story\" data-story-id=\"100000004171032\" data-rank=\"1\" data-collection-renderstyle=\"HpHedThumbWell\">\\n    <h2 class=\"story-heading\">\\n        <a href=\"http://www.nytimes.com/2016/01/27/t-magazine/travel/tres-rosas-amarillas-pop-up-books-madrid.html\">\\n            One-Thing Shops: One-Thing Shops: Pop-Up Books, Madrid        </a>\\n    </h2>\\n</article>\\n            </li>\\n                    <li>\\n            <article class=\"story\" data-story-id=\"100000004169215\" data-rank=\"2\" data-collection-renderstyle=\"HpHedThumbWell\">\\n    <h2 class=\"story-heading\">\\n        <a href=\"http://www.nytimes.com/2016/01/26/t-magazine/design/hervet-manufacturier-furniture-nicolas-cedric.html\">\\n            A Pair of Cousins Who Make Furniture, and Sometimes Partner With Daft Punk        </a>\\n    </h2>\\n</article>\\n            </li>\\n            </ul>\\n</section>\\n\\n                    </div> <!-- close column -->\\n\\n                                \\n                    <div class=\"column last-column\">\\n\\n                        <section>\\n    <h2 class=\"section-heading\">\\n        <a href=\"http://www.nytimes.com/times-insider/\">Times Insider &raquo;</a>\\n    </h2>\\n    <ul>\\n                    <li>\\n            <article class=\"story theme-summary\" data-story-id=\"100000004166241\" data-rank=\"0\" data-collection-renderstyle=\"HpHedThumbWell\">\\n\\n    <a class=\"story-link\" href=\"http://www.nytimes.com/2016/01/27/insider/try-to-interview-googles-chief-executive-its-emasculating.html\">\\n\\n                    <div class=\"thumb\">\\n                <img src=\"http://static01.nyt.com/images/2016/01/27/insider/27-insider-googlepic2/27-insider-googlepic2-thumbStandard.jpg\" alt=\"\" />\\n            </div>\\n        \\n        <h3 class=\"story-heading\">\\n        Try to Interview Google\\xe2\\x80\\x99s Co-Founder. It\\xe2\\x80\\x99s Emasculating.        </h3>\\n    </a>\\n</article>\\n            </li>\\n                    <li>\\n            <article class=\"story\" data-story-id=\"100000004166189\" data-rank=\"1\" data-collection-renderstyle=\"HpHedThumbWell\">\\n    <h2 class=\"story-heading\">\\n        <a href=\"http://www.nytimes.com/2016/01/26/insider/reporters-notebook-navy-seal-commanders-suicide.html\">\\n            Reporter\\xe2\\x80\\x99s Notebook: Navy SEAL Commander\\xe2\\x80\\x99s Suicide        </a>\\n    </h2>\\n</article>\\n            </li>\\n                    <li>\\n            <article class=\"story\" data-story-id=\"100000004161508\" data-rank=\"2\" data-collection-renderstyle=\"HpHedThumbWell\">\\n    <h2 class=\"story-heading\">\\n        <a href=\"http://www.nytimes.com/2016/01/25/insider/dispatch-from-dakar-mom-did-you-get-kidnapped.html\">\\n            Dispatch From Dakar: \\xe2\\x80\\x98Mom, Did You Get Kidnapped?\\xe2\\x80\\x99        </a>\\n    </h2>\\n</article>\\n            </li>\\n            </ul>\\n</section>\\n\\n                    </div> <!-- close column -->\\n\\n                                \\n            </div><!-- close split-3-layout -->\\n\\n            </div>\\n</section><!-- close well section -->\\n\\n    </div><!-- close ab-column -->\\n\\n    <div class=\"c-column column\">\\n\\n        \\n                    <section class=\"real-estate\">\\n                <div class=\"layout split-layout theme-base\">\\n                    <div class=\"column\">\\n                        <div class=\"region real-estate-left-region\">\\n\\n                            <div class=\"collection\">\\n                <h2 class=\"section-heading\">\\n            <a href=\"http://www.nytimes.com/pages/realestate/index.html\">Real Estate &raquo;</a>\\n        </h2>\\n        <article class=\"story theme-summary\" id=\"topnews-100000004169463\" data-story-id=\"100000004169463\" data-rank=\"0\" data-collection-renderstyle=\"HpSectionSumSmallMedia\">\\n    \\n            <h3 class=\"kicker\">Living In </h3>\\n    \\n    <h2 class=\"story-heading\"><a href=\"http://www.nytimes.com/2016/01/31/realestate/southport-conn-historic-with-an-aristocratic-air.html\">Southport, Conn.: Historic, With an Aristocratic Air</a></h2>\\n\\n            <p class=\"byline\">By LISA PREVOST </p>\\n    \\n            <div class=\"thumb\">\\n            <a href=\"http://www.nytimes.com/2016/01/31/realestate/southport-conn-historic-with-an-aristocratic-air.html\"><img src=\"http://static01.nyt.com/images/2016/01/31/realestate/31LIVING-SOUTHPORT-slide-SQRD/31LIVING-SOUTHPORT-slide-SQRD-thumbStandard-v2.jpg\" alt=\"\"></a>\\n        </div>\\n    \\n    <p class=\"summary\">\\n        The coastal enclave of Southport, part of the town of Fairfield, offers a rich array of 18th- and 19th-century architecture that reflects the area&#8217;s affluence during its heyday as a seaport.    </p>\\n\\n    \\n        <ul class=\"refer theme-news-headlines\">\\n            <li>\\n            <article class=\"story\" id=\"topnews-100000004169463\">\\n                <h2 class=\"refer-heading\"><a href=\"http://www.nytimes.com/column/living-in\">More Articles in the Series</a></h2>\\n            </article>\\n        </li>\\n        </ul>\\n</article>\\n\\n</div>\\n<div class=\"collection\">\\n            <ul class=\"theme-module-headlines\">\\r\\n<li><article class=\"story\" data-collection-renderstyle=\"HpHeadline\"><h2 class=\"story-heading\"><a href=\"http://www.nytimes.com/real-estate/find-a-home\">Search for Homes for Sale or Rent</a></h2></article></li>\\r\\n\\r\\n<li><article class=\"story\" data-collection-renderstyle=\"HpHeadline\"><h2 class=\"story-heading\"><a href=\"http://realestateads.nytimes.com/\">Sell Your Home</a></h2></article></li></ul>\\r\\n\\r\\n</div>\\n\\n                        </div><!-- close real-estate-left-region -->\\n                    </div>\\n                    <div class=\"column\">\\n                        <div class=\"region real-estate-right-region\">\\n\\n                            <div class=\"collection\">\\n            <div id=\"HPmodule-RE2-alternate-content\"><div></div>\\n<div class=\"collection\">\\n                <h3 class=\"kicker collection-kicker\">&nbsp;</h3>\\n        <article class=\"story theme-summary\" id=\"topnews-100000004159625\" data-story-id=\"100000004159625\" data-rank=\"0\" data-collection-renderstyle=\"HpSumSmallMedia\">\\n    \\n    \\n    <h2 class=\"story-heading\"><a href=\"http://www.nytimes.com/2016/01/24/realestate/from-hospital-to-condo.html\">From Hospital to Condo</a></h2>\\n\\n            <p class=\"byline\">By C. J. HUGHES </p>\\n    \\n            <div class=\"thumb\">\\n            <a href=\"http://www.nytimes.com/2016/01/24/realestate/from-hospital-to-condo.html\"><img src=\"http://static01.nyt.com/images/2016/01/24/realestate/24GRAMERCY/24GRAMERCY-thumbStandard.jpg\" alt=\"\"></a>\\n        </div>\\n    \\n    <p class=\"summary\">\\n        As hospitals have closed across the city, condominiums have claimed many of their remains.    </p>\\n\\n    \\n    </article>\\n\\n</div>\\n<div class=\"collection\">\\n            </div></div></div>\\n\\n                            <div id=\"HPmodule-RE2\" class=\"ad hpmodule-re2-ad nocontent robots-nocontent\"></div>\\n                        </div><!-- close real-estate-right-region -->\\n                    </div>\\n                </div>\\n            </section>\\n        \\n        \\n        <section id=\"recommendations\" class=\"recommendations\">\\n    <div class=\"tabs-container\">\\n        <ul class=\"tabs\">\\n            <li data-type=\"most-emailed\"><a href=\"http://www.nytimes.com/gst/mostemailed.html\">Most Emailed</a></li><li data-type=\"most-viewed\"><a href=\"http://www.nytimes.com/gst/mostpopular.html\">Most Viewed</a></li><li data-type=\"recommended\"><a href=\"http://www.nytimes.com/recommendations\">Recommended for you</a></li>\\n        </ul>\\n    </div>\\n    <div class=\"tab-content most-emailed\">\\n        <div class=\"loader\"></div>\\n    </div>\\n    <div class=\"tab-content most-viewed\">\\n        <div class=\"loader\"></div>\\n    </div>\\n    <div class=\"tab-content recommended\">\\n        <div class=\"loader\"></div>\\n    </div><!-- end tabs-container -->\\n    <div id=\"recommendations-module-loader\" class=\"loader-container\">\\n        <div class=\"loader loader-t-logo-32x32-ecedeb-ffffff\"><span class=\"visually-hidden\">Loading...</span></div>\\n    </div>\\n</section>\\n\\n        <div id=\"Box1\" class=\"ad box1-ad nocontent robots-nocontent\"></div>\\n        <div id=\"HPPromo\" class=\"ad hppromo-ad nocontent robots-nocontent\"></div>\\n\\n                    <div class=\"tile-ads nocontent robots-nocontent\">\\n    <div id=\"tile-ad-1\" class=\"ad tile-ad tile-ad-1\"></div>\\n    <div id=\"tile-ad-2\" class=\"ad tile-ad tile-ad-2\"></div>\\n</div>        \\n        <div id=\"HPBottom1\" class=\"ad hpbottom1-ad nocontent robots-nocontent\"></div>\\n\\n    </div><!-- close c-column -->\\n\\n</div><!-- close span-ab-layout -->\\n\\n<div id=\"HPSponLink\" class=\"ad hpsponlink-ad nocontent robots-nocontent\"></div>\\n<div id=\"Bottom8\" class=\"ad bottom8-ad nocontent robots-nocontent\"></div>\\n<div id=\"Bottom9\" class=\"ad bottom9-ad nocontent robots-nocontent\"></div>\\n                    <div class=\"search-overlay\"></div>\\n            </main><!-- close main -->\\n            <section id=\"site-index\" class=\"site-index\">\\n    <header class=\"section-header\">\\n        <p class=\"user-action\"><a href=\"http://www.nytimes.com/\">Go to Home Page &raquo;</a></p>\\n        <h2 class=\"section-heading\">\\n            <span class=\"visually-hidden\">Site Index</span>\\n            <a id=\"site-index-branding-link\" href=\"http://www.nytimes.com/\">\\n                <span class=\"visually-hidden\">The New York Times</span>\\n            </a>\\n        </h2>\\n        <script>window.magnum.writeLogo(\\'small\\', \\'http://a1.nyt.com/assets/homepage/20160111-154931/images/foundation/logos/\\', \\'\\', \\'\\', \\'standard\\', \\'site-index-branding-link\\', \\'\\');</script>\\n    </header>\\n\\n    <nav id=\"site-index-navigation\" class=\"site-index-navigation\" role=\"navigation\">\\n        <h2 class=\"visually-hidden\">Site Index Navigation</h2>\\n        <div class=\"split-6-layout layout\">\\n\\n                                                                                    \\n                    <div class=\"column\">\\n                        <h3 class=\"menu-heading\">News</h3>\\n                        <ul class=\"menu\">\\n\\n                                                                                                                                                                                                                                                \\n                                    <li>\\n                                        <a href=\"http://www.nytimes.com/pages/world/index.html\">World</a>\\n                                    </li>\\n\\n                                                                                            \\n                                    <li>\\n                                        <a href=\"http://www.nytimes.com/pages/national/index.html\">U.S.</a>\\n                                    </li>\\n\\n                                                                                            \\n                                    <li>\\n                                        <a href=\"http://www.nytimes.com/pages/politics/index.html\">Politics</a>\\n                                    </li>\\n\\n                                                                                            \\n                                    <li>\\n                                        <a href=\"http://www.nytimes.com/pages/nyregion/index.html\">N.Y.</a>\\n                                    </li>\\n\\n                                                                                            \\n                                    <li>\\n                                        <a href=\"http://www.nytimes.com/pages/business/index.html\">Business</a>\\n                                    </li>\\n\\n                                                                                            \\n                                    <li>\\n                                        <a href=\"http://www.nytimes.com/pages/technology/index.html\">Tech</a>\\n                                    </li>\\n\\n                                                                                            \\n                                    <li>\\n                                        <a href=\"http://www.nytimes.com/section/science\">Science</a>\\n                                    </li>\\n\\n                                                                                            \\n                                    <li>\\n                                        <a href=\"http://www.nytimes.com/pages/health/index.html\">Health</a>\\n                                    </li>\\n\\n                                                                                            \\n                                    <li>\\n                                        <a href=\"http://www.nytimes.com/pages/sports/index.html\">Sports</a>\\n                                    </li>\\n\\n                                                                                            \\n                                    <li>\\n                                        <a href=\"http://www.nytimes.com/pages/education/index.html\">Education</a>\\n                                    </li>\\n\\n                                                                                            \\n                                    <li>\\n                                        <a href=\"http://www.nytimes.com/pages/obituaries/index.html\">Obituaries</a>\\n                                    </li>\\n\\n                                                                                            \\n                                    <li>\\n                                        <a href=\"http://www.nytimes.com/pages/todayspaper/index.html\">Today\\'s Paper</a>\\n                                    </li>\\n\\n                                                                                            \\n                                    <li>\\n                                        <a href=\"http://www.nytimes.com/pages/corrections/index.html\">Corrections</a>\\n                                    </li>\\n\\n                                                            \\n                        </ul>\\n                    </div><!-- close column -->\\n\\n                                            \\n                    <div class=\"column\">\\n                        <h3 class=\"menu-heading\">Opinion</h3>\\n                        <ul class=\"menu\">\\n\\n                                                            \\n                                    <li>\\n                                        <a href=\"http://www.nytimes.com/pages/opinion/index.html\">Today\\'s Opinion</a>\\n                                    </li>\\n\\n                                                                                            \\n                                    <li>\\n                                        <a href=\"http://www.nytimes.com/pages/opinion/index.html#columnists\">Op-Ed Columnists</a>\\n                                    </li>\\n\\n                                                                                            \\n                                    <li>\\n                                        <a href=\"http://www.nytimes.com/pages/opinion/index.html#editorials\">Editorials</a>\\n                                    </li>\\n\\n                                                                                            \\n                                    <li>\\n                                        <a href=\"http://www.nytimes.com/pages/opinion/index.html#contributing\">Contributing Writers</a>\\n                                    </li>\\n\\n                                                                                            \\n                                    <li>\\n                                        <a href=\"http://www.nytimes.com/pages/opinion/index.html#op-ed\">Op-Ed Contributors</a>\\n                                    </li>\\n\\n                                                                                            \\n                                    <li>\\n                                        <a href=\"http://www.nytimes.com/pages/opinion/index.html#opinionator\">Opinionator</a>\\n                                    </li>\\n\\n                                                                                            \\n                                    <li>\\n                                        <a href=\"http://www.nytimes.com/pages/opinion/index.html#letters\">Letters</a>\\n                                    </li>\\n\\n                                                                                            \\n                                    <li>\\n                                        <a href=\"http://www.nytimes.com/pages/opinion/index.html#sundayreview\">Sunday Review</a>\\n                                    </li>\\n\\n                                                                                            \\n                                    <li>\\n                                        <a href=\"http://www.nytimes.com/pages/opinion/index.html#takingNote\">Taking Note</a>\\n                                    </li>\\n\\n                                                                                            \\n                                    <li>\\n                                        <a href=\"http://www.nytimes.com/roomfordebate\">Room for Debate</a>\\n                                    </li>\\n\\n                                                                                            \\n                                    <li>\\n                                        <a href=\"http://topics.nytimes.com/top/opinion/thepubliceditor/index.html\">Public Editor</a>\\n                                    </li>\\n\\n                                                                                            \\n                                    <li>\\n                                        <a href=\"http://www.nytimes.com/video/opinion\">Video: Opinion</a>\\n                                    </li>\\n\\n                                                            \\n                        </ul>\\n                    </div><!-- close column -->\\n\\n                                            \\n                    <div class=\"column\">\\n                        <h3 class=\"menu-heading\">Arts</h3>\\n                        <ul class=\"menu\">\\n\\n                                                            \\n                                    <li>\\n                                        <a href=\"http://www.nytimes.com/pages/arts/index.html\">Today\\'s Arts</a>\\n                                    </li>\\n\\n                                                                                            \\n                                    <li>\\n                                        <a href=\"http://www.nytimes.com/pages/arts/design/index.html\">Art & Design</a>\\n                                    </li>\\n\\n                                                                                            \\n                                    <li>\\n                                        <a href=\"http://artsbeat.blogs.nytimes.com/\">ArtsBeat</a>\\n                                    </li>\\n\\n                                                                                            \\n                                    <li>\\n                                        <a href=\"http://www.nytimes.com/pages/books/index.html\">Books</a>\\n                                    </li>\\n\\n                                                                                            \\n                                    <li>\\n                                        <a href=\"http://www.nytimes.com/pages/arts/dance/index.html\">Dance</a>\\n                                    </li>\\n\\n                                                                                            \\n                                    <li>\\n                                        <a href=\"http://www.nytimes.com/pages/movies/index.html\">Movies</a>\\n                                    </li>\\n\\n                                                                                            \\n                                    <li>\\n                                        <a href=\"http://www.nytimes.com/pages/arts/music/index.html\">Music</a>\\n                                    </li>\\n\\n                                                                                            \\n                                    <li>\\n                                        <a href=\"http://www.nytimes.com/events/\">N.Y.C. Events Guide</a>\\n                                    </li>\\n\\n                                                                                            \\n                                    <li>\\n                                        <a href=\"http://www.nytimes.com/pages/arts/television/index.html\">Television</a>\\n                                    </li>\\n\\n                                                                                            \\n                                    <li>\\n                                        <a href=\"http://www.nytimes.com/pages/theater/index.html\">Theater</a>\\n                                    </li>\\n\\n                                                                                            \\n                                    <li>\\n                                        <a href=\"http://www.nytimes.com/pages/arts/video-games/index.html\">Video Games</a>\\n                                    </li>\\n\\n                                                                                            \\n                                    <li>\\n                                        <a href=\"http://www.nytimes.com/video/arts\">Video: Arts</a>\\n                                    </li>\\n\\n                                                            \\n                        </ul>\\n                    </div><!-- close column -->\\n\\n                                            \\n                    <div class=\"column\">\\n                        <h3 class=\"menu-heading\">Living</h3>\\n                        <ul class=\"menu\">\\n\\n                                                            \\n                                    <li>\\n                                        <a href=\"http://www.nytimes.com/pages/automobiles/index.html\">Automobiles</a>\\n                                    </li>\\n\\n                                                                                            \\n                                    <li>\\n                                        <a href=\"http://www.nytimes.com/crosswords/\">Crossword</a>\\n                                    </li>\\n\\n                                                                                            \\n                                    <li>\\n                                        <a href=\"http://www.nytimes.com/pages/dining/index.html\">Food</a>\\n                                    </li>\\n\\n                                                                                            \\n                                    <li>\\n                                        <a href=\"http://www.nytimes.com/pages/education/index.html\">Education</a>\\n                                    </li>\\n\\n                                                                                            \\n                                    <li>\\n                                        <a href=\"http://www.nytimes.com/pages/fashion/index.html\">Fashion & Style</a>\\n                                    </li>\\n\\n                                                                                            \\n                                    <li>\\n                                        <a href=\"http://www.nytimes.com/pages/health/index.html\">Health</a>\\n                                    </li>\\n\\n                                                                                            \\n                                    <li>\\n                                        <a href=\"http://www.nytimes.com/section/jobs\">Jobs</a>\\n                                    </li>\\n\\n                                                                                            \\n                                    <li>\\n                                        <a href=\"http://www.nytimes.com/pages/magazine/index.html\">Magazine</a>\\n                                    </li>\\n\\n                                                                                            \\n                                    <li>\\n                                        <a href=\"http://www.nytimes.com/events/\">N.Y.C. Events Guide</a>\\n                                    </li>\\n\\n                                                                                            \\n                                    <li>\\n                                        <a href=\"http://www.nytimes.com/pages/realestate/index.html\">Real Estate</a>\\n                                    </li>\\n\\n                                                                                            \\n                                    <li>\\n                                        <a href=\"http://www.nytimes.com/section/t-magazine\">T Magazine</a>\\n                                    </li>\\n\\n                                                                                            \\n                                    <li>\\n                                        <a href=\"http://www.nytimes.com/section/travel\">Travel</a>\\n                                    </li>\\n\\n                                                                                            \\n                                    <li>\\n                                        <a href=\"http://www.nytimes.com/pages/fashion/weddings/index.html\">Weddings & Celebrations</a>\\n                                    </li>\\n\\n                                                            \\n                        </ul>\\n                    </div><!-- close column -->\\n\\n                                            \\n                    <div class=\"column\">\\n                        <h3 class=\"menu-heading\">Listings & More</h3>\\n                        <ul class=\"menu\">\\n\\n                                                            \\n                                    <li>\\n                                        <a href=\"http://www.nytimes.com/ref/classifieds/\">Classifieds</a>\\n                                    </li>\\n\\n                                                                                            \\n                                    <li>\\n                                        <a href=\"http://www.nytimes.com/marketing/tools-and-services/\">Tools & Services</a>\\n                                    </li>\\n\\n                                                                                            \\n                                    <li>\\n                                        <a href=\"http://www.nytimes.com/pages/topics/\">Times Topics</a>\\n                                    </li>\\n\\n                                                                                            \\n                                    <li>\\n                                        <a href=\"http://topics.nytimes.com/top/opinion/thepubliceditor/index.html\">Public Editor</a>\\n                                    </li>\\n\\n                                                                                            \\n                                    <li>\\n                                        <a href=\"http://www.nytimes.com/events/\">N.Y.C. Events Guide</a>\\n                                    </li>\\n\\n                                                                                            \\n                                    <li>\\n                                        <a href=\"http://www.nytimes.com/interactive/blogs/directory.html\">Blogs</a>\\n                                    </li>\\n\\n                                                                                            \\n                                    <li>\\n                                        <a href=\"http://www.nytimes.com/pages/multimedia/index.html\">Multimedia</a>\\n                                    </li>\\n\\n                                                                                            \\n                                    <li>\\n                                        <a href=\"http://lens.blogs.nytimes.com/\">Photography</a>\\n                                    </li>\\n\\n                                                                                            \\n                                    <li>\\n                                        <a href=\"http://www.nytimes.com/video\">Video</a>\\n                                    </li>\\n\\n                                                                                            \\n                                    <li>\\n                                        <a href=\"https://www.nytimes.com/store/?&t=qry542&utm_source=nytimes&utm_medium=HPB&utm_content=hp_browsetree&utm_campaign=NYT-HP&module=SectionsNav&action=click&region=TopBar&version=BrowseTree&contentCollection=NYT%20Store&contentPlacement=2&pgtype=Homepage\">NYT Store</a>\\n                                    </li>\\n\\n                                                                                            \\n                                    <li>\\n                                        <a href=\"http://www.nytimes.com/times-journeys/?utm_source=nytimes&utm_medium=HPLink&utm_content=hp_browsetree&utm_campaign=NYT-HP\">Times Journeys</a>\\n                                    </li>\\n\\n                                                                                            \\n                                    <li>\\n                                        <a href=\"http://www.nytimes.com/seeallnav\">Subscribe</a>\\n                                    </li>\\n\\n                                                                                            \\n                                    <li>\\n                                        <a href=\"http://www.nytimes.com/membercenter\">Manage My Account</a>\\n                                    </li>\\n\\n                                                            \\n                        </ul>\\n                    </div><!-- close column -->\\n\\n                            \\n            <div class=\"column last-column\">\\n                \\n<h3 class=\"menu-heading\">Subscribe</h3>\\n\\n<ul class=\"menu primary-menu\">\\n    <li class=\"menu-label\">Subscribe</li>\\n    <li class=\"times-premier\">\\n        <i class=\"icon sprite-icon\"></i>\\n        <a href=\"http://www.nytimes.com/tpnav\">Times Insider</a>\\n    </li>\\n\\n    <li class=\"home-delivery\">\\n        <i class=\"icon sprite-icon\"></i>\\n                    <a href=\"http://www.nytimes.com/hdleftnav\">Home Delivery</a>\\n            </li>\\n    <li class=\"digital-subscriptions\">\\n        <i class=\"icon sprite-icon\"></i>\\n                    <a href=\"http://www.nytimes.com/digitalleftnav\">Digital Subscriptions</a>\\n            </li>\\n    <li class=\"nyt-opinion\">\\n        <i class=\"icon sprite-icon\"></i>\\n        <a href=\"http://www.nytimes.com/opinionindex\">NYT Opinion</a>\\n    </li>\\n    <li class=\"nyt-crossword last-item\">\\n        <i class=\"icon sprite-icon\"></i>\\n        <a id=\"nyt-crossword\" href=\"http://www.nytimes.com/crosswords/index.html\">Crossword</a>\\n    </li>\\n\\n</ul>\\n\\n<ul class=\"menu secondary-menu\">\\n\\n    <li>\\n        <a href=\"http://www.nytimes.com/marketing/newsletters\">Email Newsletters</a>\\n    </li>\\n    <li>\\n        <a href=\"https://myaccount.nytimes.com/mem/tnt.html\">Alerts</a>\\n    </li>\\n    <li>\\n                    <a href=\"http://www.nytimes.com/giftleftnav\">Gift Subscriptions</a>\\n            </li>\\n    <li>\\n                    <a href=\"http://www.nytimes.com/corporateleftnav\">Corporate Subscriptions</a>\\n            </li>\\n    <li>\\n                    <a href=\"http://www.nytimes.com/educationleftnav\">Education Rate</a>\\n            </li>\\n\\n</ul>\\n<ul class=\"menu secondary-menu\">\\n    <li>\\n        <a href=\"http://www.nytimes.com/services/mobile/index.html\">Mobile Applications</a>\\n    </li>\\n    <li>\\n                    <a href=\"http://eedition.nytimes.com/cgi-bin/signup.cgi?cc=37FYY\">Replica Edition</a>\\n            </li>\\n                <li>\\n            <a href=\"http://subscribe.inyt.com\">International New York Times</a>\\n        </li>\\n    \\n</ul>\\n\\n            </div><!-- close column -->\\n\\n        </div><!-- close split-6-layout -->\\n\\n    </nav><!-- close nav -->\\n\\n</section><!-- close site-index -->\\n\\n            <footer id=\"page-footer\" class=\"page-footer\" role=\"contentinfo\">\\n    <nav>\\n        <h2 class=\"visually-hidden\">Site Information Navigation</h2>\\n         <ul>\\n             <li>\\n                <a href=\"http://www.nytimes.com/content/help/rights/copyright/copyright-notice.html\" itemprop=\"copyrightNotice\">\\n                    &copy; <span itemprop=\"copyrightYear\">2016</span><span itemprop=\"copyrightHolder provider sourceOrganization\" itemscope itemtype=\"http://schema.org/Organization\" itemid=\"http://www.nytimes.com\"><span itemprop=\"name\"> The New York Times Company</span><meta itemprop=\"tickerSymbol\" content=\"NYSE NYT\"/></span>\\n                </a>\\n            </li>\\n            <li class=\"wide-viewport-item\"><a href=\"http://www.nytimes.com/ref/membercenter/help/infoservdirectory.html\">Contact Us</a></li>\\n            <li class=\"wide-viewport-item\"><a href=\"http://www.nytco.com/careers\">Work With Us</a></li>\\n            <li class=\"wide-viewport-item\"><a href=\"http://www.nytimes.whsites.net/mediakit\">Advertise</a></li>\\n            <li class=\"wide-viewport-item\"><a href=\"http://www.nytimes.com/content/help/rights/privacy/policy/privacy-policy.html#pp\">Your Ad Choices</a></li>\\n            <li><a href=\"http://www.nytimes.com/privacy\">Privacy</a></li>\\n            <li><a href=\"http://www.nytimes.com/ref/membercenter/help/agree.html\" itemprop=\"usageTerms\">Terms of Service</a></li>\\n            <li class=\"wide-viewport-item last-item\"><a href=\"http://www.nytimes.com/content/help/rights/sale/terms-of-sale.html\">Terms of Sale</a></li>\\n         </ul>\\n    </nav>\\n    <nav class=\"last-nav\">\\n        <h2 class=\"visually-hidden\">Site Information Navigation</h2>\\n        <ul>\\n            <li><a href=\"http://spiderbites.nytimes.com\">Site Map</a></li>\\n            <li><a href=\"http://www.nytimes.com/membercenter/sitehelp.html\">Help</a></li>\\n            <li><a href=\"https://myaccount.nytimes.com/membercenter/feedback.html\">Site Feedback</a></li>\\n            <li class=\"wide-viewport-item last-item\"><a href=\"http://www.nytimes.com/subscriptions/Multiproduct/lp5558.html?campaignId=37WXW\">Subscriptions</a></li>\\n        </ul>\\n    </nav>\\n\\n    <div id=\"mobile-banner\" class=\"mobile-banner hidden\">\\n        <a class=\"banner-message\" href=\"http://mobile.nytimes.com/\">View Mobile Version</a>\\n    </div>\\n\\n    <div id=\"dfp-perf-test\" class=\"ad hidden\"></div>\\n</footer>\\n        </div><!-- close page -->\\n    </div><!-- close shell -->\\n    <script>\\nrequire([\\'foundation/main\\'], function () {\\n    require([\\'homepage/main\\']);\\n    require([\\'jquery/nyt\\', \\'foundation/views/page-manager\\'], function ($, pageManager) {\\n        if (window.location.search.indexOf(\\'disable_tagx\\') > 0) {\\n            return;\\n        }\\n        $(document).ready(function () {\\n            require([\\'http://a1.nyt.com/analytics/tagx-simple.min.js\\'], function () {\\n                pageManager.trackingFireEventQueue();\\n            });\\n        });\\n    });\\n});\\n</script>\\n\\n    <div id=\"Inv1\" class=\"ad inv1-ad hidden\"></div>\\n<div id=\"Inv2\" class=\"ad inv2-ad hidden\"></div>\\n<div id=\"Inv3\" class=\"ad inv3-ad hidden\"></div>\\n<div id=\"ab1\" class=\"ad ab1-ad hidden\"></div>\\n<div id=\"ab2\" class=\"ad ab2-ad hidden\"></div>\\n<div id=\"ab3\" class=\"ad ab3-ad hidden\"></div>\\n<div id=\"prop1\" class=\"ad prop1-ad hidden\"></div>\\n<div id=\"prop2\" class=\"ad prop2-ad hidden\"></div>\\n<div id=\"Anchor\" class=\"ad anchor-ad hidden\"></div>\\n<div id=\"ADX_CLIENTSIDE\" class=\"ad adx-clientside-ad hidden\"></div>\\n<script type=\"text/javascript\">window.NREUM||(NREUM={});NREUM.info={\"beacon\":\"bam.nr-data.net\",\"licenseKey\":\"b5bcf2eba4\",\"applicationID\":\"4491938\",\"transactionName\":\"YwFXZhRYVhAEVUZcX1pLYEAPFlkTFRhCXUA=\",\"queueTime\":0,\"applicationTime\":651,\"ttGuid\":\"\",\"agentToken\":\"\",\"userAttributes\":\"\",\"errorBeacon\":\"bam.nr-data.net\",\"agent\":\"js-agent.newrelic.com\\\\/nr-768.min.js\"}</script></body>\\n</html>\\n'\n"
     ]
    }
   ],
   "source": [
    "print(page)"
   ]
  },
  {
   "cell_type": "code",
   "execution_count": 174,
   "metadata": {
    "collapsed": false
   },
   "outputs": [
    {
     "data": {
      "text/plain": [
       "bytes"
      ]
     },
     "execution_count": 174,
     "metadata": {},
     "output_type": "execute_result"
    }
   ],
   "source": [
    "type(page)"
   ]
  },
  {
   "cell_type": "markdown",
   "metadata": {},
   "source": [
    "The NY Times webpage as a **String**"
   ]
  },
  {
   "cell_type": "code",
   "execution_count": 184,
   "metadata": {
    "collapsed": true
   },
   "outputs": [],
   "source": [
    "page_str = page.decode()"
   ]
  },
  {
   "cell_type": "code",
   "execution_count": 186,
   "metadata": {
    "collapsed": false
   },
   "outputs": [
    {
     "data": {
      "text/plain": [
       "str"
      ]
     },
     "execution_count": 186,
     "metadata": {},
     "output_type": "execute_result"
    }
   ],
   "source": [
    "type(page_str)"
   ]
  },
  {
   "cell_type": "code",
   "execution_count": 187,
   "metadata": {
    "collapsed": false
   },
   "outputs": [
    {
     "name": "stdout",
     "output_type": "stream",
     "text": [
      "<!DOCTYPE html>\n",
      "<!--[if (gt IE 9)|!(IE)]> <!--> <html lang=\"en\" class=\"no-js edition-domestic app-homepage\"  itemscope xmlns:og=\"http://opengraphprotocol.org/schema/\"> <!--<![endif]-->\n",
      "<!--[if IE 9]> <html lang=\"en\" class=\"no-js ie9 lt-ie10 edition-domestic app-homepage\" xmlns:og=\"http://opengraphprotocol.org/schema/\"> <![endif]-->\n",
      "<!--[if IE 8]> <html lang=\"en\" class=\"no-js ie8 lt-ie10 lt-ie9 edition-domestic app-homepage\" xmlns:og=\"http://opengraphprotocol.org/schema/\"> <![endif]-->\n",
      "<!--[if (lt IE 8)]> <html lang=\"en\" class=\"no-js lt-ie10 lt-ie9 lt-ie8 edition-domestic app-homepage\" xmlns:og=\"http://opengraphprotocol.org/schema/\"> <![endif]-->\n",
      "<head>\n",
      "    <title>The New York Times - Breaking News, World News & Multimedia</title>\n",
      "        <meta http-equiv=\"X-UA-Compatible\" content=\"IE=edge,chrome=1\" /><script type=\"text/javascript\">window.NREUM||(NREUM={}),__nr_require=function(e,n,t){function r(t){if(!n[t]){var o=n[t]={exports:{}};e[t][0].call(o.exports,function(n){var o=e[t][1][n];return r(o||n)},o,o.exports)}return n[t].exports}if(\"function\"==typeof __nr_require)return __nr_require;for(var o=0;o<t.length;o++)r(t[o]);return r}({QJf3ax:[function(e,n){function t(e){function n(n,t,a){e&&e(n,t,a),a||(a={});for(var u=c(n),f=u.length,s=i(a,o,r),p=0;f>p;p++)u[p].apply(s,t);return s}function a(e,n){f[e]=c(e).concat(n)}function c(e){return f[e]||[]}function u(){return t(n)}var f={};return{on:a,emit:n,create:u,listeners:c,_events:f}}function r(){return{}}var o=\"nr@context\",i=e(\"gos\");n.exports=t()},{gos:\"7eSDFh\"}],ee:[function(e,n){n.exports=e(\"QJf3ax\")},{}],3:[function(e,n){function t(e){return function(){r(e,[(new Date).getTime()].concat(i(arguments)))}}var r=e(\"handle\"),o=e(1),i=e(2);\"undefined\"==typeof window.newrelic&&(newrelic=window.NREUM);var a=[\"setPageViewName\",\"addPageAction\",\"setCustomAttribute\",\"finished\",\"addToTrace\",\"inlineHit\",\"noticeError\"];o(a,function(e,n){window.NREUM[n]=t(\"api-\"+n)}),n.exports=window.NREUM},{1:12,2:13,handle:\"D5DuLP\"}],gos:[function(e,n){n.exports=e(\"7eSDFh\")},{}],\"7eSDFh\":[function(e,n){function t(e,n,t){if(r.call(e,n))return e[n];var o=t();if(Object.defineProperty&&Object.keys)try{return Object.defineProperty(e,n,{value:o,writable:!0,enumerable:!1}),o}catch(i){}return e[n]=o,o}var r=Object.prototype.hasOwnProperty;n.exports=t},{}],D5DuLP:[function(e,n){function t(e,n,t){return r.listeners(e).length?r.emit(e,n,t):void(r.q&&(r.q[e]||(r.q[e]=[]),r.q[e].push(n)))}var r=e(\"ee\").create();n.exports=t,t.ee=r,r.q={}},{ee:\"QJf3ax\"}],handle:[function(e,n){n.exports=e(\"D5DuLP\")},{}],XL7HBI:[function(e,n){function t(e){var n=typeof e;return!e||\"object\"!==n&&\"function\"!==n?-1:e===window?0:i(e,o,function(){return r++})}var r=1,o=\"nr@id\",i=e(\"gos\");n.exports=t},{gos:\"7eSDFh\"}],id:[function(e,n){n.exports=e(\"XL7HBI\")},{}],G9z0Bl:[function(e,n){function t(){var e=d.info=NREUM.info,n=f.getElementsByTagName(\"script\")[0];if(e&&e.licenseKey&&e.applicationID&&n){c(p,function(n,t){n in e||(e[n]=t)});var t=\"https\"===s.split(\":\")[0]||e.sslForHttp;d.proto=t?\"https://\":\"http://\",a(\"mark\",[\"onload\",i()]);var r=f.createElement(\"script\");r.src=d.proto+e.agent,n.parentNode.insertBefore(r,n)}}function r(){\"complete\"===f.readyState&&o()}function o(){a(\"mark\",[\"domContent\",i()])}function i(){return(new Date).getTime()}var a=e(\"handle\"),c=e(1),u=window,f=u.document;e(2);var s=(\"\"+location).split(\"?\")[0],p={beacon:\"bam.nr-data.net\",errorBeacon:\"bam.nr-data.net\",agent:\"js-agent.newrelic.com/nr-768.min.js\"},d=n.exports={offset:i(),origin:s,features:{}};f.addEventListener?(f.addEventListener(\"DOMContentLoaded\",o,!1),u.addEventListener(\"load\",t,!1)):(f.attachEvent(\"onreadystatechange\",r),u.attachEvent(\"onload\",t)),a(\"mark\",[\"firstbyte\",i()])},{1:12,2:3,handle:\"D5DuLP\"}],loader:[function(e,n){n.exports=e(\"G9z0Bl\")},{}],12:[function(e,n){function t(e,n){var t=[],o=\"\",i=0;for(o in e)r.call(e,o)&&(t[i]=n(o,e[o]),i+=1);return t}var r=Object.prototype.hasOwnProperty;n.exports=t},{}],13:[function(e,n){function t(e,n,t){n||(n=0),\"undefined\"==typeof t&&(t=e?e.length:0);for(var r=-1,o=t-n||0,i=Array(0>o?0:o);++r<o;)i[r]=e[n+r];return i}n.exports=t},{}]},{},[\"G9z0Bl\"]);</script>\n",
      "<link rel=\"shortcut icon\" href=\"http://static01.nyt.com/favicon.ico\" />\n",
      "<link rel=\"apple-touch-icon-precomposed\" sizes=\"144×144\" href=\"http://static01.nyt.com/images/icons/ios-ipad-144x144.png\" />\n",
      "<link rel=\"apple-touch-icon-precomposed\" sizes=\"114×114\" href=\"http://static01.nyt.com/images/icons/ios-iphone-114x144.png\" />\n",
      "<link rel=\"apple-touch-icon-precomposed\" href=\"http://static01.nyt.com/images/icons/ios-default-homescreen-57x57.png\" />\n",
      "<meta name=\"sourceApp\" content=\"nyt-v5\" />\n",
      "<meta id=\"applicationName\" name=\"applicationName\" content=\"homepage\" />\n",
      "<meta id=\"foundation-build-id\" name=\"foundation-build-id\" content=\"\" />\n",
      "<link rel=\"canonical\" href=\"http://www.nytimes.com\" />\n",
      "<link rel=\"alternate\" type=\"application/rss+xml\" title=\"RSS\" href=\"http://www.nytimes.com/services/xml/rss/nyt/HomePage.xml\" />\n",
      "<link rel=\"alternate\" media=\"handheld\" href=\"http://mobile.nytimes.com\" />\n",
      "<meta name=\"robots\" content=\"noarchive,noodp,noydir\" />\n",
      "<meta name=\"description\" content=\"The New York Times: Find breaking news, multimedia, reviews & opinion on Washington, business, sports, movies, travel, books, jobs, education, real estate, cars & more at nytimes.com.\" />\n",
      "<meta name=\"CG\" content=\"Homepage\" />\n",
      "<meta name=\"SCG\" content=\"\" />\n",
      "<meta name=\"PT\" content=\"Homepage\" />\n",
      "<meta name=\"PST\" content=\"\" />\n",
      "<meta name=\"application-name\" content=\"The New York Times\" />\n",
      "<meta name=\"msapplication-starturl\" content=\"http://www.nytimes.com\" />\n",
      "<meta name=\"msapplication-task\" content=\"name=Search;action-uri=http://query.nytimes.com/search/sitesearch?src=iepin;icon-uri=http://css.nyt.com/images/icons/search.ico\" />\n",
      "<meta name=\"msapplication-task\" content=\"name=Most Popular;action-uri=http://www.nytimes.com/gst/mostpopular.html?src=iepin;icon-uri=http://css.nyt.com/images/icons/mostpopular.ico\" />\n",
      "<meta name=\"msapplication-task\" content=\"name=Video;action-uri=http://video.nytimes.com/?src=iepin;icon-uri=http://css.nyt.com/images/icons/video.ico\" />\n",
      "<meta name=\"msapplication-task\" content=\"name=Homepage;action-uri=http://www.nytimes.com?src=iepin&amp;adxnnl=1;icon-uri=http://css.nyt.com/images/icons/homepage.ico\" />\n",
      "<meta property=\"og:url\" content=\"http://www.nytimes.com\" />\n",
      "<meta property=\"og:type\" content=\"website\" />\n",
      "<meta property=\"og:title\" content=\"Breaking News, World News & Multimedia\" />\n",
      "<meta property=\"og:description\" content=\"The New York Times: Find breaking news, multimedia, reviews & opinion on Washington, business, sports, movies, travel, books, jobs, education, real estate, cars & more at nytimes.com.\" />\n",
      "<meta property=\"og:image\" content=\"http://static01.nyt.com/images/icons/t_logo_291_black.png\" />\n",
      "<meta property=\"fb:app_id\" content=\"9869919170\" />\n",
      "<meta name=\"apple-itunes-app\" content=\"app-id=357066198, affiliate-data=at=10lIEQ&ct=Web%20iPad%20Smart%20App%20Banner&pt=13036\" />\n",
      "<meta name=\"keywords\" content=\"Malheur National Wildlife Refuge (Oregon),Bundy, Ammon E (1975- ),Bundy, Ryan C (1972- ),Finicum, LaVoy (1961-2016),Burns (Ore),Demonstrations, Protests and Riots,Federal Lands,Finicum, LaVoy (1961-2016),Malheur National Wildlife Refuge (Oregon),Demonstrations, Protests and Riots,Federal Lands,Oregon,Bundy, Ammon E (1975- ),Federal Lands,Bundy, Cliven,Bundy, Ammon E (1975- ),Oregon,Demonstrations, Protests and Riots,Trump, Donald J,Kelly, Megyn,Fox News Channel,Presidential Election of 2016,Debates (Political),Presidential Election of 2016,Political Advertising,Sanders, Bernard,Clinton, Hillary Rodham,Iowa,United States Politics and Government,Global Warming,Senate,Obama, Barack,Energy Efficiency,Murkowski, Lisa,Cantwell, Maria,Schizophrenia,Brain,Genetics and Heredity,Psychiatry and Psychiatrists,McCarroll, Steven,Stevens, Beth,Lander, Eric S,Sekar, Aswin,Nature (Journal),Mayer, Jane,Books and Literature,Koch, Charles G,Koch, David H,Safir, Howard,Writing and Writers,Dark Money: The Hidden History of the Billionaires Behind the Rise of the Radical Right (Book),Dark Money (Book),Holocaust and the Nazi Era,Amnesties, Commutations and Pardons,World War II (1939-45),War Crimes, Genocide and Crimes Against Humanity,Eichmann, Adolf,Cesarani, David,Israel,Germany,Letters,Amnesties, Commutations and Pardons,Eichmann, Adolf,Holocaust and the Nazi Era,War Crimes, Genocide and Crimes Against Humanity,United States International Relations,Holocaust and the Nazi Era,World War II (1939-45),War Crimes, Genocide and Crimes Against Humanity,Jews and Judaism,Awards, Decorations and Honors,Dermer, Ron,Obama, Barack,Spielberg, Steven,Master Sgt. Roddie Edmonds,China,Same-Sex Marriage, Civil Unions and Domestic Partnerships,Homosexuality and Bisexuality,Discrimination,Suits and Litigation (Civil),Changsha (China),Li Yinhe,Assaults,Police Department (NYC),New York City,Police,Theranos Inc,Centers for Medicare and Medicaid Services,Holmes, Elizabeth (1984- ),Tests (Medical),Police Brutality, Misconduct and Shootings,Justice Department,Ferguson (Mo),Brown, Michael (1996-2014),Wilson, Darren (1986- ),Classical Music,New York Philharmonic,van Zweden, Jaap,Appointments and Executive Changes,Gilbert, Alan,Lincoln Center for the Performing Arts,United States Economy,Inflation (Economics),Federal Reserve Bank of New York,Interest Rates,Janet L. Yellen,Television Sets and Media Devices,Federal Communications Commission,Cable Television,Computers and the Internet,Industrial Espionage,Books and Literature,Surveillance of Citizens by Government,Alphabet Inc,Apple Inc,European Commission,Google Inc,National Security Agency,Stasi (East Germany),Brin, Sergey,Franzen, Jonathan,Page, Larry,Rose, Charlie,Snowden, Edward J,California,Mountain View (Calif),Couture Fashion Week,Armani, Giorgio, SpA,Maison Margiela (Fashion Label),Galliano, John,Gaultier, Jean Paul,Apple Inc,Computers and the Internet,Mobile Applications,iPhone,Company Reports\" />\n",
      "<meta name=\"video:playerId\" content=\"2640832222001\" />\n",
      "<meta name=\"video:publisherId\" content=\"1749339200\" />\n",
      "<meta name=\"video:publisherReadToken\" content=\"cE97ArV7TzqBzkmeRVVhJ8O6GWME2iG_bRvjBTlNb4o.\" />\n",
      "<meta name=\"dfp-ad-unit-path\" content=\"homepage/us\" />\n",
      "<meta name=\"dfp-amazon-enabled\" content=\"false\" />\n",
      "<meta name=\"adxPage\" content=\"homepage.nytimes.com/index.html\" />\n",
      "    \n",
      "            <!--[if (gt IE 9)|!(IE)]> <!-->\n",
      "    <link rel=\"stylesheet\" type=\"text/css\" media=\"screen\" href=\"http://a1.nyt.com/assets/homepage/20160111-154931/css/homepage/styles.css\" />\n",
      "<!--<![endif]-->\n",
      "<!--[if lte IE 9]>\n",
      "    <link rel=\"stylesheet\" type=\"text/css\" media=\"screen\" href=\"http://a1.nyt.com/assets/homepage/20160111-154931/css/homepage/styles-ie.css\" />\n",
      "<![endif]-->\n",
      "        <script type=\"text/javascript\">var googletag=googletag||{};googletag.cmd=googletag.cmd||[],function(){var t=document.createElement(\"script\");t.async=!0,t.type=\"text/javascript\";var e=\"https:\"==document.location.protocol;t.src=(e?\"https:\":\"http:\")+\"//www.googletagservices.com/tag/js/gpt.js\";var o=document.getElementsByTagName(\"script\")[0];o.parentNode.insertBefore(t,o)}();</script>\n",
      "<script src=\"//typeface.nytimes.com/zam5nzz.js\"></script>\n",
      "<script>try{Typekit.load();}catch(e){}</script>\n",
      "<script src=\"//cdn.optimizely.com/js/3338050995.js\"></script>\n",
      "\n",
      "<script id=\"abtestconfig\" type=\"application/json\">\n",
      "\n",
      "</script>\n",
      "\n",
      "\n",
      "<script id=\"user-info-data\" type=\"application/json\">\n",
      "{ \"meta\": {},\n",
      "  \"data\": {\n",
      "    \"id\": \"0\",\n",
      "    \"name\": \"\",\n",
      "    \"subscription\": [],\n",
      "    \"demographics\": {}\n",
      "  }\n",
      "}\n",
      "</script>\n",
      "\n",
      "<script>\n",
      "var require = {\n",
      "    baseUrl: 'http://a1.nyt.com/assets/',\n",
      "    waitSeconds: 20,\n",
      "    paths: {\n",
      "        'foundation': 'homepage/20160111-154931/js/foundation',\n",
      "        'shared': 'homepage/20160111-154931/js/shared',\n",
      "        'homepage': 'homepage/20160111-154931/js/homepage',\n",
      "        'application': 'homepage/20160111-154931/js/homepage/',\n",
      "        'videoFactory': 'http://static01.nyt.com/js2/build/video/2.0/videofactoryrequire',\n",
      "        'videoPlaylist': 'http://static01.nyt.com/js2/build/video/players/extended/2.0/appRequire',\n",
      "        'auth/mtr': 'http://static01.nyt.com/js/mtr',\n",
      "        'auth/growl': 'http://static01.nyt.com/js/auth/growl/default',\n",
      "        'vhs': 'http://static01.nyt.com/video/vhs/build/vhs-2.x.min'\n",
      "    }\n",
      "};\n",
      "</script>\n",
      "<!--[if (gte IE 9)|!(IE)]> <!-->\n",
      "<script data-main=\"foundation/main\" src=\"http://a1.nyt.com/assets/homepage/20160111-154931/js/foundation/lib/framework.js\"></script>\n",
      "<!--<![endif]-->\n",
      "<!--[if lt IE 9]>\n",
      "<script>\n",
      "    require.map = { '*': { 'foundation/main': 'foundation/legacy_main' } };\n",
      "</script>\n",
      "<script data-main=\"foundation/legacy_main\" src=\"http://a1.nyt.com/assets/homepage/20160111-154931/js/foundation/lib/framework.js\"></script>\n",
      "<![endif]-->\n",
      "<script>\n",
      "window.magnum.processFlags([\"limitFabrikSave\",\"moreFollowSuggestions\",\"unfollowComments\",\"homepageOpinionKickerCss\",\"followFeature\",\"allTheEmphases\",\"videoVHSCover\",\"videoVHSHomepageCover\",\"videoVHSHomepageNewControls\",\"videoVHSNewControls\",\"additionalOpinionRegions\",\"hpViewability\",\"miniNavCount\",\"newsEventHierarchy\",\"freeTrial\",\"insiderLaunch\",\"showUserSubscriptions\"]);\n",
      "</script>\n",
      "</head>\n",
      "<body>\n",
      "    \n",
      "    <style>\n",
      "    .lt-ie10 .messenger.suggestions {\n",
      "        display: block !important;\n",
      "        height: 50px;\n",
      "    }\n",
      "\n",
      "    .lt-ie10 .messenger.suggestions .message-bed {\n",
      "        background-color: #f8e9d2;\n",
      "        border-bottom: 1px solid #ccc;\n",
      "    }\n",
      "\n",
      "    .lt-ie10 .messenger.suggestions .message-container {\n",
      "        padding: 11px 18px 11px 30px;\n",
      "    }\n",
      "\n",
      "    .lt-ie10 .messenger.suggestions .action-link {\n",
      "        font-family: \"nyt-franklin\", arial, helvetica, sans-serif;\n",
      "        font-size: 10px;\n",
      "        font-weight: bold;\n",
      "        color: #a81817;\n",
      "        text-transform: uppercase;\n",
      "    }\n",
      "\n",
      "    .lt-ie10 .messenger.suggestions .alert-icon {\n",
      "        background: url('http://i1.nyt.com/images/icons/icon-alert-12x12-a81817.png') no-repeat;\n",
      "        width: 12px;\n",
      "        height: 12px;\n",
      "        display: inline-block;\n",
      "        margin-top: -2px;\n",
      "        float: none;\n",
      "    }\n",
      "\n",
      "    .lt-ie10 .masthead,\n",
      "    .lt-ie10 .navigation,\n",
      "    .lt-ie10 .comments-panel {\n",
      "        margin-top: 50px !important;\n",
      "    }\n",
      "\n",
      "    .lt-ie10 .ribbon {\n",
      "        margin-top: 97px !important;\n",
      "    }\n",
      "</style>\n",
      "<div id=\"suggestions\" class=\"suggestions messenger nocontent robots-nocontent\" style=\"display:none;\">\n",
      "    <div class=\"message-bed\">\n",
      "        <div class=\"message-container last-message-container\">\n",
      "            <div class=\"message\">\n",
      "                <span class=\"message-content\">\n",
      "                    <i class=\"icon alert-icon\"></i><span class=\"message-title\">NYTimes.com no longer supports Internet Explorer 9 or earlier. Please upgrade your browser.</span>\n",
      "                    <a href=\"http://www.nytimes.com/content/help/site/ie9-support.html\" class=\"action-link\">LEARN MORE »</a>\n",
      "                </span>\n",
      "            </div>\n",
      "        </div>\n",
      "    </div>\n",
      "</div>\n",
      "\n",
      "    <div id=\"shell\" class=\"shell\">\n",
      "    <header id=\"masthead\" class=\"masthead theme-pinned-masthead\" role=\"banner\">\n",
      "\n",
      "    <div id=\"announcements-container\" class=\"announcements-container\"></div>\n",
      "\n",
      "    <div id=\"Header1\" class=\"ad header1-ad\"></div>\n",
      "\n",
      "    <div class=\"masthead-cap-container\">\n",
      "\n",
      "        <div id=\"masthead-cap\" class=\"masthead-cap\">\n",
      "\n",
      "            <div class=\"quick-navigation button-group\">\n",
      "\n",
      "                <button class=\"button sections-button enable-a11y\">\n",
      "                    <i class=\"icon sprite-icon\"></i><span class=\"button-text\">Sections</span>\n",
      "                </button>\n",
      "                <button class=\"button search-button\">\n",
      "                    <i class=\"icon sprite-icon\"></i><span class=\"button-text\">Search</span>\n",
      "                </button>\n",
      "                <a class=\"button skip-button skip-to-content visually-hidden focusable\" href=\"#top-news\">Skip to content</a>\n",
      "                <a class=\"button skip-button skip-to-navigation visually-hidden focusable\" href=\"#site-index-navigation\">Skip to navigation</a>\n",
      "            </div><!-- close quick-navigation -->\n",
      "\n",
      "            <div class=\"user-tools\">\n",
      "\n",
      "                <div id=\"Bar1\" class=\"ad bar1-ad\"></div>\n",
      "\n",
      "                <div class=\"user-tools-button-group button-group\">\n",
      "                    <button class=\"button subscribe-button hidden\" data-href=\"http://www.nytimes.com/subscriptions/Multiproduct/lp3004.html\">Subscribe Now</button>\n",
      "                    <button class=\"button login-button login-modal-trigger hidden\">Log In</button>\n",
      "                    <button class=\"button notifications-button hidden\"><i class=\"icon sprite-icon\"></i><span class=\"button-text\">0</span></button>\n",
      "                    <button class=\"button user-settings-button\">\n",
      "                        <i class=\"icon sprite-icon\"></i><span class=\"button-text\">Settings</span>\n",
      "                    </button>\n",
      "                </div>\n",
      "\n",
      "            </div><!-- close user-tools -->\n",
      "\n",
      "        </div><!-- close masthead-cap -->\n",
      "\n",
      "    </div><!-- close masthead-cap-container -->\n",
      "\n",
      "    <div class=\"masthead-meta\">\n",
      "\n",
      "        <div class=\"editions tab\">\n",
      "\n",
      "            <ul class=\"editions-menu\">\n",
      "                                    <li class=\"edition-domestic-toggle active\">U.S.</li>\n",
      "                    <li class=\"edition-international-toggle\"><a href=\"http://international.nytimes.com\" data-edition=\"global\">International</a></li>\n",
      "                \n",
      "                <li class=\"edition-chinese-toggle\"><a href=\"http://cn.nytimes.com\" target=\"_blank\" data-edition=\"chinese\">中文</a></li>\n",
      "            </ul>\n",
      "\n",
      "        </div><!-- close editions -->\n",
      "\n",
      "        <div id=\"TopLeft\" class=\"ad top-left-ad\"></div>\n",
      "        <div id=\"TopRight\" class=\"ad top-right-ad\"></div>\n",
      "\n",
      "        <h2 class=\"branding\"><a href=\"http://www.nytimes.com/\">\n",
      "    <svg class=\"nyt-logo\" width=\"379\" height=\"64\" role=\"img\" aria-label=\"The New York Times\">\n",
      "        <image width=\"379\" height=\"64\" xlink:href=\"http://a1.nyt.com/assets/homepage/20160111-154931/images/foundation/logos/nyt-logo-379x64.svg\" src=\"http://a1.nyt.com/assets/homepage/20160111-154931/images/foundation/logos/nyt-logo-379x64.png\" alt=\"The New York Times\" border=\"0\"/>\n",
      "    </svg>\n",
      "\n",
      "</a></h2>\n",
      "        <ul class=\"masthead-menu\">\n",
      "            <li class=\"date\">Wednesday, January 27, 2016</li><li class=\"todays-paper\"><a href=\"http://www.nytimes.com/pages/todayspaper/index.html\" data-collection=\"todays-paper\"><i class=\"icon sprite-icon\"></i>Today’s Paper</a></li><li class=\"video\"><a href=\"http://www.nytimes.com/video\" data-collection=\"video\"><i class=\"icon sprite-icon\"></i>Video</a></li><li id=\"weather\" class=\"weather hidden\" data-collection=\"weather\"></li><li id=\"markets\" class=\"markets hidden\" data-collection=\"markets\"></li>\n",
      "        </ul>\n",
      "\n",
      "    </div><!-- close masthead-meta -->\n",
      "\n",
      "    <nav id=\"mini-navigation\" class=\"mini-navigation\">\n",
      "    <h2 class=\"visually-hidden\">Quick Site Sections Navigation</h2>\n",
      "    <ul class=\"mini-navigation-menu\">\n",
      "        <li>\n",
      "            <button class=\"button sections-button\">\n",
      "                <i class=\"icon sprite-icon\"></i>\n",
      "                <span class=\"button-text\">Sections</span>\n",
      "            </button>\n",
      "        </li><li>\n",
      "            <button class=\"button search-button\">\n",
      "                <i class=\"icon sprite-icon\"></i>\n",
      "                <span class=\"button-text\">Search</span>\n",
      "            </button>\n",
      "        </li>\n",
      "            \n",
      "                <li class=\"shortcuts-9A43D8FC-F4CF-44D9-9B34-138D30468F8F \">\n",
      "                    <a href=\"http://www.nytimes.com/pages/world/index.html\">World</a>\n",
      "                </li>\n",
      "\n",
      "            \n",
      "                <li class=\"shortcuts-23FD6C8B-62D5-4CEA-A331-6C2A9A1223BE \">\n",
      "                    <a href=\"http://www.nytimes.com/pages/national/index.html\">U.S.</a>\n",
      "                </li>\n",
      "\n",
      "            \n",
      "                <li class=\"shortcuts-80E6DEE6-87E4-4AD0-9152-14FA6B07E5AB \">\n",
      "                    <a href=\"http://www.nytimes.com/pages/politics/index.html\">Politics</a>\n",
      "                </li>\n",
      "\n",
      "            \n",
      "                <li class=\"shortcuts-C4DC8C0C-E148-4201-BF10-82F1C903DBFB \">\n",
      "                    <a href=\"http://www.nytimes.com/pages/nyregion/index.html\">N.Y.</a>\n",
      "                </li>\n",
      "\n",
      "            \n",
      "                <li class=\"shortcuts-104D1E63-9701-497B-8CF4-A4D120C9014E domestic\">\n",
      "                    <a href=\"http://www.nytimes.com/pages/business/index.html\">Business</a>\n",
      "                </li>\n",
      "\n",
      "            \n",
      "                <li class=\"shortcuts-A257D89A-0D3C-40AF-9C34-1A25A7947D94 international\">\n",
      "                    <a href=\"http://www.nytimes.com/pages/business/international/index.html\">Business</a>\n",
      "                </li>\n",
      "\n",
      "            \n",
      "                <li class=\"shortcuts-AD8090D7-4137-4D71-84C8-70DA3BD89778 domestic\">\n",
      "                    <a href=\"http://www.nytimes.com/pages/opinion/index.html\">Opinion</a>\n",
      "                </li>\n",
      "\n",
      "            \n",
      "                <li class=\"shortcuts-09736473-CB3F-4B2F-9772-3AF128ABE12D international\">\n",
      "                    <a href=\"http://www.nytimes.com/pages/opinion/international/index.html\">Opinion</a>\n",
      "                </li>\n",
      "\n",
      "            \n",
      "                <li class=\"shortcuts-78FBAD45-31A9-4EC7-B172-7D62A2B9955E \">\n",
      "                    <a href=\"http://www.nytimes.com/pages/technology/index.html\">Tech</a>\n",
      "                </li>\n",
      "\n",
      "            \n",
      "                <li class=\"shortcuts-A4B35924-DB6C-4EA3-997D-450810F4FEE6 \">\n",
      "                    <a href=\"http://www.nytimes.com/section/science\">Science</a>\n",
      "                </li>\n",
      "\n",
      "            \n",
      "                <li class=\"shortcuts-7D6BE1AF-8CD8-430B-8B2A-17CD0EAA99AC \">\n",
      "                    <a href=\"http://www.nytimes.com/pages/health/index.html\">Health</a>\n",
      "                </li>\n",
      "\n",
      "            \n",
      "                <li class=\"shortcuts-DE2B278B-2783-4506-AAD5-C15A5BB6DA1A domestic\">\n",
      "                    <a href=\"http://www.nytimes.com/pages/sports/index.html\">Sports</a>\n",
      "                </li>\n",
      "\n",
      "            \n",
      "                <li class=\"shortcuts-BE66F420-C51B-461D-B487-CACF62E94AAE international\">\n",
      "                    <a href=\"http://www.nytimes.com/pages/sports/international/index.html\">Sports</a>\n",
      "                </li>\n",
      "\n",
      "            \n",
      "                <li class=\"shortcuts-C5BFA7D5-359C-427B-90E6-6B7245A6CDD8 domestic\">\n",
      "                    <a href=\"http://www.nytimes.com/pages/arts/index.html\">Arts</a>\n",
      "                </li>\n",
      "\n",
      "            \n",
      "                <li class=\"shortcuts-0202D0E4-C59B-479A-BD42-6F1766459781 international\">\n",
      "                    <a href=\"http://www.nytimes.com/pages/arts/international/index.html\">Arts</a>\n",
      "                </li>\n",
      "\n",
      "            \n",
      "                <li class=\"shortcuts-B3DFBD82-F298-43B3-9458-219B4F6AA2A5 domestic\">\n",
      "                    <a href=\"http://www.nytimes.com/pages/fashion/index.html\">Style</a>\n",
      "                </li>\n",
      "\n",
      "            \n",
      "                <li class=\"shortcuts-CC9E2674-F6C4-4A39-813B-F5AB0C515CEA international\">\n",
      "                    <a href=\"http://www.nytimes.com/pages/style/international/index.html\">Style</a>\n",
      "                </li>\n",
      "\n",
      "            \n",
      "                <li class=\"shortcuts-D9C94A2B-0364-4D25-8383-592CC66F82D4 domestic\">\n",
      "                    <a href=\"http://www.nytimes.com/pages/dining/index.html\">Food</a>\n",
      "                </li>\n",
      "\n",
      "            \n",
      "                <li class=\"shortcuts-FDEFB811-B483-4C3D-A25A-FD07BE5EAD96 international\">\n",
      "                    <a href=\"http://www.nytimes.com/pages/dining/international/index.html\">Food</a>\n",
      "                </li>\n",
      "\n",
      "            \n",
      "                <li class=\"shortcuts-FDA10AC4-4738-4099-91E8-15584765C8D7 \">\n",
      "                    <a href=\"http://www.nytimes.com/section/travel\">Travel</a>\n",
      "                </li>\n",
      "\n",
      "            \n",
      "                <li class=\"shortcuts-E57A148E-0CB9-4C02-966D-28B119710151 \">\n",
      "                    <a href=\"http://www.nytimes.com/pages/magazine/index.html\">Magazine</a>\n",
      "                </li>\n",
      "\n",
      "            \n",
      "                <li class=\"shortcuts-052C33AD-1404-4DB6-AA70-0901DB1AD95B \">\n",
      "                    <a href=\"http://www.nytimes.com/section/t-magazine\">T Magazine</a>\n",
      "                </li>\n",
      "\n",
      "            \n",
      "                <li class=\"shortcuts-92720057-BCB6-4BDB-9351-12F29393259F \">\n",
      "                    <a href=\"http://www.nytimes.com/pages/realestate/index.html\">Real Estate</a>\n",
      "                </li>\n",
      "\n",
      "                        <li><button class=\"button all-sections-button\">all</button></li>\n",
      "    </ul>\n",
      "</nav>\n",
      "    <div class=\"search-flyout-panel flyout-panel\">\n",
      "    <button class=\"button close-button\" type=\"button\"><i class=\"icon\"></i><span class=\"visually-hidden\">Close search</span></button>\n",
      "    <div class=\"ad\">\n",
      "        <div id=\"SponsorAd\" class=\"sponsor-ad\">\n",
      "            <small class=\"ad-sponsor\">search sponsored by</small>\n",
      "        </div>\n",
      "    </div>\n",
      "    <nav class=\"search-form-control form-control layout-horizontal\">\n",
      "    <h2 class=\"visually-hidden\">Site Search Navigation</h2>\n",
      "    <form class=\"search-form\" role=\"search\">\n",
      "        <div class=\"control\">\n",
      "            <div class=\"label-container visually-hidden\">\n",
      "                                <label for=\"search-input\">Search NYTimes.com</label>\n",
      "                            </div>\n",
      "            <div class=\"field-container\">\n",
      "                                <input id=\"search-input\" name=\"search-input\" type=\"text\" class=\"search-input text\" autocomplete=\"off\" placeholder=\"Search NYTimes.com\" />\n",
      "                \n",
      "                <button type=\"button\" class=\"button clear-button\" tabindex=\"-1\" aria-describedby=\"clear-search-input\"><i class=\"icon\"></i><span id=\"clear-search-input\" class=\"visually-hidden\">Clear this text input</span></button>\n",
      "                <div class=\"auto-suggest\" style=\"display: none;\">\n",
      "                    <ol></ol>\n",
      "                </div>\n",
      "                <button class=\"button submit-button\" type=\"submit\">Go</button>\n",
      "            </div>\n",
      "        </div><!-- close control -->\n",
      "    </form>\n",
      "</nav>\n",
      "\n",
      "\n",
      "</div><!-- close flyout-panel -->\n",
      "    <div id=\"notification-modals\" class=\"notification-modals\"></div>\n",
      "\n",
      "</header><!-- close masthead -->\n",
      "<div id=\"masthead-placeholder\" class=\"masthead-placeholder\"></div>\n",
      "                    <nav id=\"navigation\" class=\"navigation\">\n",
      "    <h2 class=\"visually-hidden\">Site Navigation</h2>\n",
      "</nav><!-- close navigation -->\n",
      "\n",
      "<nav id=\"mobile-navigation\" class=\"mobile-navigation hidden\">\n",
      "    <h2 class=\"visually-hidden\">Site Mobile Navigation</h2>\n",
      "</nav><!-- close mobile-navigation -->\n",
      "\n",
      "    <div id=\"navigation-edge\" class=\"navigation-edge\"></div>\n",
      "    <div id=\"page\" class=\"page\">\n",
      "                <main id=\"main\" class=\"main\" role=\"main\">\n",
      "                <div id=\"Top\" class=\"ad hp-top-ad hidden nocontent robots-nocontent\"></div>\n",
      "<div id=\"Top_Close\" class=\"ad hp-top-ad-close hidden nocontent robots-nocontent\"></div>\n",
      "<div id=\"Top5\" class=\"ad top5-ad nocontent robots-nocontent\"></div>\n",
      "\n",
      "    <div class=\"span-abc-region region\">\n",
      "        <div class=\"collection\">\n",
      "            <!-- test 23 -->\r\n",
      "\r\n",
      "<style>\r\n",
      "\r\n",
      "\r\n",
      "\r\n",
      "\r\n",
      "/* Fix MM icons in kickers */\r\n",
      ".kicker .icon:before { top: 0px; }\r\n",
      ".kicker .media.slideshow { margin-bottom: 0px; }\r\n",
      "\r\n",
      "\r\n",
      "\r\n",
      "/* Hiding Hacks */\r\n",
      "\r\n",
      ".nythpHideKickers .kicker, .nythpHideBylines .byline, .nythpHideTimestamps .timestamp {\r\n",
      "    display: none;\r\n",
      "}\r\n",
      "\r\n",
      "/* banner hed modifications */\r\n",
      ".span-ab-top-region .story.theme-summary .story-heading {\r\n",
      "  line-height: 2.1rem;\r\n",
      "}\r\n",
      "\r\n",
      "\r\n",
      "/* Alterations to the Centered Feature Photo Spot Treatment */\r\n",
      "\r\n",
      ".b-column .photo-spot-region .story.theme-feature .story-heading {\r\n",
      "    font-size: 1.35rem;\r\n",
      "    line-height: 1.65rem;\r\n",
      "}\r\n",
      "\r\n",
      ".b-column  .photo-spot-region .story.theme-feature .story-heading {\r\n",
      "    padding: 0 22px; /* for headline wrapping  */\r\n",
      "}\r\n",
      ".b-column .photo-spot-region .story.theme-feature .summary {\r\n",
      "    line-height: 18px;\r\n",
      "}\r\n",
      "\r\n",
      "/* Breaking News/Developing Headers */\r\n",
      ".nythpBreaking {\r\n",
      "\tcolor: #A81817;\r\n",
      "\tborder-top: 3px solid #A81817;\r\n",
      "\tpadding-top: 2px;\r\n",
      "\tpadding-bottom: 3px;\r\n",
      "        margin-top: 12px;\r\n",
      "}\r\n",
      "\r\n",
      ".nythpBreaking h6 {\r\n",
      "\ttext-transform: uppercase;\r\n",
      "\tfont-family: \"nyt-franklin\",arial,helvetica,sans-serif;\r\n",
      "\tfont-weight: 700;\r\n",
      "}\r\n",
      "\r\n",
      ".nythpDeveloping {\r\n",
      "\tcolor: #FD8249;\r\n",
      "\tborder-top-color: #FD8249;\r\n",
      "}\r\n",
      "\r\n",
      ".nythpBreaking.nythpNoRule {\r\n",
      "\tborder: none;\r\n",
      "        margin-top: 0px;\r\n",
      "}\r\n",
      "\r\n",
      ".above-banner-region .nythpBreaking {\r\n",
      "margin-bottom: 10px;\r\n",
      "}\r\n",
      "\r\n",
      "/* Daypart Styles */\r\n",
      "\r\n",
      ".pocket-region .story, .c-column #nythpDaypartRegion .story { margin-bottom: 15px !important; }\r\n",
      "\r\n",
      ".pocket-region h4.sectionHeaderHome, .c-column #nythpDaypartRegion h4.sectionHeaderHome {\r\n",
      "    font-size: 12px;\r\n",
      "    line-height: 14px;\r\n",
      "    font-weight: 700;\r\n",
      "    font-family: \"nyt-cheltenham-sh\",georgia,\"times new roman\",times,serif;\r\n",
      "    text-transform: uppercase;\r\n",
      "    margin-bottom: 6px;\r\n",
      "}\r\n",
      "\r\n",
      ".pocket-region h5, .c-column #nythpDaypartRegion h5 {\r\n",
      "\tfont-size: 14px;\r\n",
      "\tline-height: 16px;\r\n",
      "\tfont-weight: 700;\r\n",
      "\tfont-family: \"nyt-cheltenham-sh\",georgia,\"times new roman\",times,serif;\r\n",
      "\tmargin-bottom: 2px;\r\n",
      "}\r\n",
      "\r\n",
      ".pocket-region .runaroundRight, .c-column #nythpDaypartRegion .runaroundRight {\r\n",
      "\tfloat: right;\r\n",
      "\tclear: right;\r\n",
      "\tmargin: 3px 0px 6px 6px;\r\n",
      "}\r\n",
      "\r\n",
      ".pocket-region .summary, .c-column #nythpDaypartRegion .summary {\r\n",
      "    font-size: 13px;\r\n",
      "    line-height: 18px;\r\n",
      "    font-weight: 400;\r\n",
      "    font-family: georgia,\"times new roman\",times,serif;\r\n",
      "    margin-bottom: 0px;\r\n",
      "}\r\n",
      "\r\n",
      ".pocket-region .refer li, .c-column #nythpDaypartRegion .refer li {\r\n",
      "\tbackground-image: url(http://css.nyt.com/images/icons/bullet4x4.gif);\r\n",
      "\tbackground-repeat: no-repeat;\r\n",
      "\tbackground-position: 0 .4em;\r\n",
      "\tpadding-left: 8px;\r\n",
      "\tfont-size: 12px;\r\n",
      "\tline-height: 14px;\r\n",
      "\tfont-weight: 700;\r\n",
      "\tfont-family: \"nyt-cheltenham-sh\",georgia,\"times new roman\",times,serif;\r\n",
      "}\r\n",
      "\r\n",
      "\r\n",
      "\r\n",
      "/* BEGIN .HPHEADER STYLING */\r\n",
      "\r\n",
      ".wf-loading .hpHeader h6 {\r\n",
      "    visibility: hidden;\r\n",
      "  }\r\n",
      "\r\n",
      ".hpHeader {\r\n",
      "  margin-bottom: 8px;\r\n",
      "}\r\n",
      "\r\n",
      ".hpHeader h6 {\r\n",
      "  font-family: \"nyt-franklin\",helvetica,arial,sans-serif;\r\n",
      "  text-transform: uppercase;\r\n",
      "  font-size: 11px;\r\n",
      "  font-weight: 700;\r\n",
      "  letter-spacing: 1px;\r\n",
      "  padding: 12px 4px 2px 0;\r\n",
      "  border-bottom: 1px solid #999;\r\n",
      "  border-top: 1px solid #E2E2E2;\r\n",
      "}\r\n",
      "\r\n",
      "\r\n",
      ".hpHeader h6 a, \r\n",
      ".hpHeader h6 a:visited  {\r\n",
      "  text-decoration: none;\r\n",
      "  color: #000;\r\n",
      "}\r\n",
      "\r\n",
      ".hpHeader h6:hover, .span-ab-top-region .hpHeader h6 a:hover, .top-news .b-column .hpHeader h6 a:hover, .b-column .split-layout .hpHeader h6:hover,  \r\n",
      ".hpHeader h6:active, .span-ab-top-region .hpHeader h6 a:active, .top-news .b-column .hpHeader h6 a:active, .b-column .split-layout .hpHeader h6:active {\r\n",
      "  border-bottom-color: #000;\r\n",
      "}\r\n",
      "\r\n",
      "/* B Column Centered Treatment */\r\n",
      ".span-ab-top-region .hpHeader h6, .top-news .b-column .hpHeader h6  {\r\n",
      "  text-align: center;\r\n",
      "  border-bottom: none;\r\n",
      "  padding: 0px;\r\n",
      "}\r\n",
      "\r\n",
      ".span-ab-top-region .hpHeader h6 a, .top-news .b-column .hpHeader h6 a  {\r\n",
      "  display: inline-block;\r\n",
      "  border-bottom: 1px solid #999;\r\n",
      "  padding: 12px 4px 2px 4px;\r\n",
      "}\r\n",
      "\r\n",
      "/* Undo B Column Treatment for 3 Column Layouts and Split Code */\r\n",
      ".b-column .split-layout .hpHeader h6 {\r\n",
      "  text-align: left;    \r\n",
      "  border-bottom: 1px solid #999;\r\n",
      "  padding: 12px 4px 2px 0;\r\n",
      "}\r\n",
      "\r\n",
      ".b-column .split-layout .hpHeader h6 a {\r\n",
      "  border-bottom: none;\r\n",
      "  padding: 0;\r\n",
      "}\r\n",
      "\r\n",
      "\r\n",
      "/* Remove Top Rule When First in Region */\r\n",
      ".collection:first-child .hpHeader h6, .collection:first-child .hpHeader h6 a {\r\n",
      "  border-top: none;\r\n",
      "  padding-top: 0;\r\n",
      "}\r\n",
      "\r\n",
      "/* Lens Header Styles */\r\n",
      "\r\n",
      ".hpHeader h6, .span-ab-top-region .hpHeader h6 a, .top-news .b-column .hpHeader h6 a, .b-column .split-layout .hpHeader h6 { border-bottom-width: 2px; }\r\n",
      "\r\n",
      "/* END .HPHEADER STYLING */\r\n",
      "\r\n",
      "\r\n",
      "/* Briefing Newsletter */\r\n",
      "\r\n",
      ".nythpBriefingNewsletterSignup {\r\n",
      "\tfont-family: 'nyt-franklin', Arial, Helvetica, sans-serif;\r\n",
      "\tfont-size: 11px;\r\n",
      "\tpadding-left: 16px;\r\n",
      "\tbackground: url('http://graphics8.nytimes.com/packages/images/homepage/newsletter_icon.png') no-repeat;\r\n",
      "\tfont-weight: 400;\r\n",
      "}\r\n",
      "\r\n",
      "a.nythpBriefingNewsletterSignup, a:link.nythpBriefingNewsletterSignup, a:visited.nythpBriefingNewsletterSignup {\r\n",
      "\tcolor: #326891;\r\n",
      "}\r\n",
      "\r\n",
      "</style>\r\n",
      "<style>\r\n",
      "\r\n",
      ".nythpBriefings h3.kicker {\r\n",
      "    font-family: nyt-franklin,Arial,sans-serif;\r\n",
      "    font-size: 12px;\r\n",
      "    font-weight: 700;\r\n",
      "    background: url('http://graphics8.nytimes.com/packages/images/homepage/briefings/dogear_sm.png') no-repeat scroll left top transparent;\r\n",
      "    padding: 0 0 3px 20px;\r\n",
      "    border-bottom: 1px solid #000;\r\n",
      "    display: inline-block;\r\n",
      "    color: #000;\r\n",
      "    margin-bottom: 8px;\r\n",
      "margin-top: 0px !important;\r\n",
      "}\r\n",
      "\r\n",
      ".nythpBriefings .timestamp {display: none;}\r\n",
      "\r\n",
      "/* Gift Guide Promos */\r\n",
      "\r\n",
      ".nythpGiftguide h3.kicker {\r\n",
      "\r\n",
      "}\r\n",
      "\r\n",
      ".nythpGiftguide article .kicker, .nythpGiftguide .byline {\r\n",
      "\tdisplay: none;\r\n",
      "}\r\n",
      "\r\n",
      ".b-column .nythpGiftguide .image {\r\n",
      "\tmargin-top: -40px;\r\n",
      "}\r\n",
      "\r\n",
      ".nythpGiftguide .theme-news-headlines li:before {\r\n",
      "\tbackground: none;\r\n",
      "\tborder: none;\r\n",
      "}\r\n",
      "\r\n",
      ".nythpGiftguide .theme-news-headlines li {\r\n",
      "\tpadding-left: 0px;\r\n",
      "}\r\n",
      "\r\n",
      ".nythpGiftguide .refer li .refer-heading {\r\n",
      "\tfont-family: \"nyt-franklin\",arial,helvetica,sans-serif; \r\n",
      "\ttext-transform: uppercase; \r\n",
      "\tfont-size: 10px;\r\n",
      "\tfont-weight: 400;\r\n",
      "}\r\n",
      "\r\n",
      ".nythpGiftguide .story.theme-summary .story-heading {\r\n",
      "\tfont-size: 18px;\r\n",
      "\tline-height: 21px;\r\n",
      "\tfont-weight: 700;\r\n",
      "\tfont-family: \"nyt-cheltenham\",georgia,\"times new roman\",times,serif;\r\n",
      "}\r\n",
      "\r\n",
      "</style>\r\n",
      "\r\n",
      "<script>\r\n",
      "require(['foundation/main'], function () {\r\n",
      "    require(['jquery/nyt', 'foundation/views/page-manager'], function ($, pageManager) {\r\n",
      "        $(document).ready(function () {\r\n",
      "             \r\n",
      "              $(\"h3:contains('The Day Ahead')\").parent().addClass(\"nythpBriefings\");\r\n",
      "              $(\"h3:contains('Holiday Gift Guide')\").parent().addClass(\"nythpGiftguide\");\r\n",
      "\r\n",
      "        });\r\n",
      "    });\r\n",
      "});\r\n",
      "\r\n",
      "</script></div>\n",
      "    </div><!-- close span-abc-region -->\n",
      "\n",
      "<div class=\"span-ab-layout layout\">\n",
      "\n",
      "    <div class=\"ab-column column\">\n",
      "\n",
      "        <section id=\"top-news\" class=\"top-news\">\n",
      "            <h2 class=\"section-heading visually-hidden\">Top News</h2>\n",
      "\n",
      "            \n",
      "            \n",
      "            \n",
      "            <div class=\"wide-b-layout layout\">\n",
      "\n",
      "                <div class=\"a-column column\">\n",
      "\n",
      "                    <div class=\"first-column-region region\">\n",
      "\n",
      "                        <div class=\"collection\">\n",
      "            <article class=\"story theme-summary lede\" id=\"topnews-100000004170871\" data-story-id=\"100000004170871\" data-rank=\"0\" data-collection-renderstyle=\"LedeSum\">\n",
      "    \n",
      "        <h2 class=\"story-heading\"><a href=\"http://www.nytimes.com/2016/01/28/us/oregon-standoff.html\">Protesters in Oregon Are Urged to Leave After Arrests</a></h2>\n",
      "\n",
      "            <p class=\"byline\">By DAVE SEMINARA, JULIE TURKEWITZ and RICHARD PÉREZ-PEÑA <time class=\"timestamp\" datetime=\"2016-01-27\" data-eastern-timestamp=\"4:56 PM\" data-utc-timestamp=\"1453931795\">4:56 PM ET</time></p>\n",
      "    \n",
      "    <p class=\"summary\">After eight armed antigovernment protesters were arrested and one was killed, officials said they had done what they could to bring about a peaceful resolution.</p>\n",
      "\n",
      "\t\t    <p class=\"theme-comments\">\n",
      "    <a href=\"http://www.nytimes.com/2016/01/28/us/oregon-standoff.html?hp&amp;target=comments#commentsContainer\" class=\"comments-link\"><i class=\"icon sprite-icon comments-icon\"></i><span class=\"comment-count\">&nbsp;Comments</span></a>\n",
      "</p>\n",
      "\t\n",
      "\t</article>\n",
      "\n",
      "\n",
      "</div>\n",
      "<div class=\"collection headlines\">\n",
      "            <ul class=\"theme-news-headlines\">\n",
      "                    <li>\n",
      "            <div style=\"margin-top: -10px;\"></div>            </li>\n",
      "                    <li>\n",
      "            <article class=\"story\" id=\"topnews-100000004171607\" data-story-id=\"100000004171607\" data-rank=\"1\" data-collection-renderstyle=\"HpHeadline\">\n",
      "        <h2 class=\"story-heading\"><i class=\"icon\"></i><a href=\"http://www.nytimes.com/2016/01/28/us/lavoy-finicum-protester-killed-in-oregon.html\">Protester Who Was Killed: ‘I’d Rather Die Than Be Caged’</a> <time class=\"timestamp\" datetime=\"2016-01-27\" data-eastern-timestamp=\"2:58 PM\" data-utc-timestamp=\"1453924707\">2:58 PM ET</time></h2>\n",
      "</article>\n",
      "            </li>\n",
      "                    <li>\n",
      "            <article class=\"story\" id=\"topnews-100000004130152\" data-story-id=\"100000004130152\" data-rank=\"2\" data-collection-renderstyle=\"HpHeadline\">\n",
      "        <h2 class=\"story-heading\"><i class=\"icon\"></i><a href=\"http://www.nytimes.com/interactive/2016/01/07/us/oregon-standoff-western-lands.html\"><span class=\"icon graphic\"></span>The Oregon Protest and the Battle Over Western Lands</a> </h2>\n",
      "</article>\n",
      "            </li>\n",
      "                    <li>\n",
      "            <article class=\"story\" id=\"topnews-100000004126714\" data-story-id=\"100000004126714\" data-rank=\"3\" data-collection-renderstyle=\"HpHeadline\">\n",
      "        <h2 class=\"story-heading\"><i class=\"icon\"></i><a href=\"http://www.nytimes.com/video/us/100000004126714/who-is-the-bundy-family.html\"><span class=\"icon video\">Watch</span>: Who Are the Bundys?</a> </h2>\n",
      "</article>\n",
      "            </li>\n",
      "            </ul>\n",
      "</div>\n",
      "<hr class=\"single-rule\"><div class=\"collection\">\n",
      "            <style type=\"text/css\">\r\n",
      "\r\n",
      ".nythpElection2016Header {\r\n",
      "\r\n",
      "}\r\n",
      "\r\n",
      ".nythpElection2016Header h6 {\r\n",
      "    font-family: \"nyt-franklin\", arial, helvetica, sans-serif;\r\n",
      "    text-transform: uppercase;\r\n",
      "    font-size: 13px;\r\n",
      "    font-weight: 700;\r\n",
      "    background-image: url(http://graphics8.nytimes.com/newsgraphics/2015/02/25/election-navigation/assets/images/election-2016-logo.png);\r\n",
      "    background-repeat: no-repeat;\r\n",
      "    margin-bottom: 6px;\r\n",
      "    height: 18px;\r\n",
      "    background-position: left bottom;\r\n",
      "    margin: 0 auto 6px;\r\n",
      "    background-size: 18px 18px;\r\n",
      "    padding: 5px 5px 0 25px;\r\n",
      "    letter-spacing: 1px;\r\n",
      "}\r\n",
      "\r\n",
      ".nythpElection2016Header h6 a {\r\n",
      "    text-decoration: none;\r\n",
      "    color: #000;\r\n",
      "}\r\n",
      "\r\n",
      " .nythpElection2016Header h6:hover,\r\n",
      " .nythpElection2016Header h6:active {\r\n",
      "}\r\n",
      "\r\n",
      ".nythpElection2016Header h6 a, \r\n",
      ".nythpElection2016Header h6 a:visited  {\r\n",
      "    text-decoration: none;\r\n",
      "    color: #000;\r\n",
      "}\r\n",
      "\r\n",
      ".nythpElection2016Header h6 em {\r\n",
      "  color: #999;\r\n",
      "  font-style: normal;\r\n",
      "}\r\n",
      "\r\n",
      ".span-ab-top-region .nythpElection2016Header, .b-column .nythpElection2016Header {\r\n",
      "    text-align: center;\r\n",
      "}\r\n",
      "\r\n",
      ".span-ab-top-region .nythpElection2016Header h6, .b-column .nythpElection2016Header h6 {\r\n",
      "    display: inline-block;\r\n",
      "\r\n",
      "}\r\n",
      "\r\n",
      "</style>\r\n",
      "\r\n",
      "<div class=\"nythpHeader nythpElection2016Header\">\r\n",
      "  <h6><a href=\"http://www.nytimes.com/pages/politics/index.html\">Election 2016</a></h6>\r\n",
      "</div>\r\n",
      "\r\n",
      "<article class=\"story theme-summary\" id=\"topnews-100000004170190\" data-story-id=\"100000004170190\" data-rank=\"1\" data-collection-renderstyle=\"HpSumSmallMedia\">\n",
      "    \n",
      "    \n",
      "    <h2 class=\"story-heading\"><a href=\"http://www.nytimes.com/2016/01/27/us/politics/trump-feud-fox-debate.html\">Trump, in Feud With Fox News, Will Skip Next Debate</a></h2>\n",
      "\n",
      "            <p class=\"byline\">By MAGGIE HABERMAN and NICK CORASANITI </p>\n",
      "    \n",
      "            <div class=\"thumb\">\n",
      "            <a href=\"http://www.nytimes.com/2016/01/27/us/politics/trump-feud-fox-debate.html\"><img src=\"http://static01.nyt.com/images/2016/01/27/us/27foxtrump-web1/27foxtrump-web1-thumbStandard.jpg\" alt=\"\"></a>\n",
      "        </div>\n",
      "    \n",
      "    <p class=\"summary\">\n",
      "        Donald J. Trump had demanded that Megyn Kelly be removed at the debate on Thursday. The network did not blink.    </p>\n",
      "\n",
      "            <p class=\"theme-comments\">\n",
      "    <a href=\"http://www.nytimes.com/2016/01/27/us/politics/trump-feud-fox-debate.html?hp&amp;target=comments#commentsContainer\" class=\"comments-link\"><i class=\"icon sprite-icon comments-icon\"></i><span class=\"comment-count\">&nbsp;Comments</span></a>\n",
      "</p>\n",
      "    \n",
      "    </article>\n",
      "\n",
      "</div>\n",
      "<div class=\"collection headlines\">\n",
      "                <h3 class=\"kicker collection-kicker\">More in Politics</h3>\n",
      "        <ul class=\"theme-news-headlines\">\n",
      "                    <li>\n",
      "            <article class=\"story\" id=\"topnews-100000004172207\" data-story-id=\"100000004172207\" data-rank=\"0\" data-collection-renderstyle=\"HpHeadline\">\n",
      "        <h2 class=\"story-heading\"><i class=\"icon\"></i><a href=\"http://www.nytimes.com/politics/first-draft/2016/01/27/news-analysis-why-trump-walked/\">News Analysis: Why Trump Walked</a> <time class=\"timestamp\" datetime=\"2016-01-27\" data-eastern-timestamp=\"4:49 PM\" data-utc-timestamp=\"1453931396\">4:49 PM ET</time></h2>\n",
      "</article>\n",
      "            </li>\n",
      "                    <li>\n",
      "            <article class=\"story\" id=\"topnews-100000004170956\" data-story-id=\"100000004170956\" data-rank=\"1\" data-collection-renderstyle=\"HpHeadline\">\n",
      "        <h2 class=\"story-heading\"><i class=\"icon\"></i><a href=\"http://www.nytimes.com/politics/first-draft/2016/01/27/donald-trump-aide-is-more-conditional-about-skipping-debate/\">Trump Aide Is More Conditional About Skipping Debate</a> </h2>\n",
      "</article>\n",
      "            </li>\n",
      "                    <li>\n",
      "            <article class=\"story\" id=\"topnews-100000004169963\" data-story-id=\"100000004169963\" data-rank=\"2\" data-collection-renderstyle=\"HpHeadline\">\n",
      "        <h2 class=\"story-heading\"><i class=\"icon\"></i><a href=\"http://www.nytimes.com/2016/01/28/us/politics/bernie-sanders-hillary-clinton-iowa.html\">Decision for Sanders: Attack Clinton or Stay Positive?</a> </h2>\n",
      "</article>\n",
      "            </li>\n",
      "            </ul>\n",
      "</div>\n",
      "<hr class=\"single-rule\"><div class=\"collection\">\n",
      "            <article class=\"story theme-summary\" id=\"topnews-100000004170982\" data-story-id=\"100000004170982\" data-rank=\"0\" data-collection-renderstyle=\"HpSum\">\n",
      "    \n",
      "        <h2 class=\"story-heading\"><a href=\"http://www.nytimes.com/2016/01/28/us/politics/senate-bipartisan-energy-legislation.html\">Rare Bipartisan Bill in Senate Seeks to Reshape U.S. Energy</a></h2>\n",
      "\n",
      "            <p class=\"byline\">By CORAL DAVENPORT <time class=\"timestamp\" datetime=\"2016-01-27\" data-eastern-timestamp=\"1:42 PM\" data-utc-timestamp=\"1453920161\">1:42 PM ET</time></p>\n",
      "    \n",
      "    <p class=\"summary\">The proposed energy legislation focuses on protecting and improving the power grid and updating the oil and gas infrastructure.</p>\n",
      "\n",
      "\t\n",
      "\t</article>\n",
      "\n",
      "</div>\n",
      "<hr class=\"single-rule\"><div class=\"collection\">\n",
      "            <article class=\"story theme-summary\" id=\"topnews-100000004169237\" data-story-id=\"100000004169237\" data-rank=\"0\" data-collection-renderstyle=\"HpSum\">\n",
      "    \n",
      "        <h2 class=\"story-heading\"><a href=\"http://www.nytimes.com/2016/01/28/health/schizophrenia-cause-synaptic-pruning-brain-psychiatry.html\">Schizophrenia Study Offers New Insight Into Its Cause</a></h2>\n",
      "\n",
      "            <p class=\"byline\">By BENEDICT CAREY <time class=\"timestamp\" datetime=\"2016-01-27\" data-eastern-timestamp=\"1:11 PM\" data-utc-timestamp=\"1453918266\">1:11 PM ET</time></p>\n",
      "    \n",
      "    <p class=\"summary\">A landmark study provides researchers with their first biological handle on the disorder, and helps explain why it often begins at a relatively young age.</p>\n",
      "\n",
      "\t\n",
      "\t</article>\n",
      "\n",
      "</div>\n",
      "                                                                        \n",
      "                    </div><!-- close first-column-region -->\n",
      "\n",
      "                </div><!-- close a-column -->\n",
      "\n",
      "                <div class=\"b-column column\">\n",
      "\n",
      "                                            <div class=\"photo-spot-region region\">\n",
      "\n",
      "                            <div class=\"collection\">\n",
      "            <article class=\"story theme-feature\" id=\"topnews-100000004171843\" data-story-id=\"100000004171843\" data-rank=\"0\" data-collection-renderstyle=\"LargeMediaHeadlineSumCentered\">\n",
      "    \n",
      "    \n",
      "    <figure class=\"media photo\">\n",
      "    <div class=\"image\">\n",
      "        <a href=\"http://www.nytimes.com/2016/01/28/us/wounded-warrior-project-spends-lavishly-on-itself-ex-employees-say.html\"><img src=\"http://static01.nyt.com/images/2016/01/28/us/28wounded7/28wounded7-largeHorizontal375.jpg\" alt=\"\"></a>\n",
      "    </div>\n",
      "    <figcaption class=\"caption\" itemprop=\"description\">\n",
      "                    <span class=\"caption-text\">Jesse Longoria, a former Marine sniper whose right arm amputated after complications from injuries sustained in Iraq, with his 16-month-old son, Noah.</span>\n",
      "        \n",
      "        \t        <span class=\"credit\" itemprop=\"copyrightHolder\">\n",
      "\t            <span class=\"visually-hidden\">Credit</span>\n",
      "\t            Tamir Kalifa for The New York Times\t        </span>\n",
      "            </figcaption>\n",
      "</figure>\n",
      "\n",
      "    <h1 class=\"story-heading\"><a href=\"http://www.nytimes.com/2016/01/28/us/wounded-warrior-project-spends-lavishly-on-itself-ex-employees-say.html\"></a></h1>\n",
      "\n",
      "    <p class=\"summary\"></p>\n",
      "\n",
      "    \n",
      "    \n",
      "    </article>\n",
      "<style>\r\n",
      ".alt-caption{\r\n",
      "  font-size: 11px;\r\n",
      "  font-size: 0.6875rem;\r\n",
      "  line-height: 14px;\r\n",
      "  line-height: 0.875rem;\r\n",
      "  margin-left: 10px;\r\n",
      "\r\n",
      "\r\n",
      "}\r\n",
      "</style>\r\n",
      "<div style=\"margin-top: -5px;\" class=\"caption alt-caption\">Jesse Longoria, a fired employee who nearly died in Iraq, said he felt guilty about what he saw as widespread waste at the charity. </div>\r\n",
      "\r\n",
      "</div>\n",
      "<div class=\"collection\">\n",
      "            <article class=\"story theme-feature\" id=\"topnews-100000004171846\" data-story-id=\"100000004171846\" data-rank=\"0\" data-collection-renderstyle=\"LargeMediaHeadlineSumCentered\">\n",
      "    \n",
      "    \n",
      "    \n",
      "    <h1 class=\"story-heading\"><a href=\"http://www.nytimes.com/2016/01/28/us/wounded-warrior-project-spends-lavishly-on-itself-ex-employees-say.html\">Wounded Warrior Project Spends Lavishly on Itself, Insiders Say</a></h1>\n",
      "\n",
      "    <p class=\"summary\">The charity, which raised $372 million in 2015, has embraced aggressive styles of fund-raising, marketing and management — and has spent a significant proportion on overhead.</p>\n",
      "\n",
      "            <p class=\"byline\">By DAVE PHILIPPS </p>\n",
      "    \n",
      "    \n",
      "    </article>\n",
      "</div>\n",
      "\n",
      "                        </div><!-- close photo-spot-region -->\n",
      "\n",
      "                        <hr class=\"scotch-rule\" />\n",
      "                    \n",
      "                    \n",
      "                        <div class=\"second-column-region region\">\n",
      "\n",
      "                            <div class=\"collection\">\n",
      "            <style>\r\n",
      ".nythpSplitCode .column { margin-left: 21px; }\r\n",
      ".nythpSplitCode .column:first-child { margin-left: 0px; }\r\n",
      ".nythpSplitCode.layout { background: none; }\r\n",
      ".nythpSplitCode .media.photo.medium-thumb { float: none; margin-left: 0; }\r\n",
      "</style>\r\n",
      "\r\n",
      "<div class=\"layout nythpSplitCode\">\r\n",
      "<div class=\"column\"><div><article class=\"story theme-summary\" id=\"topnews-100000003757477\" data-story-id=\"100000003757477\" data-rank=\"1\" data-collection-renderstyle=\"HpSum\">\n",
      "    \n",
      "        <h2 class=\"story-heading\"><a href=\"http://www.nytimes.com/2016/01/27/nytnow/your-wednesday-evening-briefing-oregon-bernie-sanders-donald-trump.html\">Your Evening Briefing</a></h2>\n",
      "\n",
      "            <p class=\"byline\">By ANDREA KANNAPELL and ERICA ACKERBERG <time class=\"timestamp\" datetime=\"2016-01-27\" data-eastern-timestamp=\"5:57 PM\" data-utc-timestamp=\"1453935456\">5:57 PM ET</time></p>\n",
      "    \n",
      "    <p class=\"summary\">Here’s what you need to know at the end of the day.</p>\n",
      "\n",
      "\t\n",
      "\t    <ul class=\"refer theme-news-headlines\">\n",
      "            <li>\n",
      "            <article class=\"story\" id=\"topnews-100000003757477\">\n",
      "                <h2 class=\"refer-heading\"><a href=\"http://lens.blogs.nytimes.com/2016/01/27/jan-27-2016-pictures-of-the-day/\">Lens Blog: Pictures of the Day</a> </h2>\n",
      "            </article>\n",
      "        </li>\n",
      "        </ul>\n",
      "</article>\n",
      "\n",
      "</div></div>\r\n",
      "<div class=\"column\"><div></div>\n",
      "<div class=\"collection\">\n",
      "            <script>function getFlexData() { return {\"data\":{\"options\":{\"width\":177,\"height\":126,\"jsonp\":\"http:\\/\\/json8.nytimes.com\\/slideshow\\/2016\\/01\\/27\\/nytnow\\/your-wednesday-evening-briefing.slideshow.jsonp\",\"link\":\"\"},\"photos\":{\"photo\":{\"url\":\"\",\"credit\":\"\"}},\"advanced\":{\"delay\":3,\"limitjsonp\":0,\"rendition\":\"\",\"targetoverride\":\"\",\"abbreviatecredits\":true}}}; }var NYTD=NYTD || {}; NYTD.FlexTypes = NYTD.FlexTypes || []; NYTD.FlexTypes.push({\"target\":\"FT100000004172400\",\"type\":\"FadingSlideShow\",\"data\":{\"options\":{\"width\":177,\"height\":126,\"jsonp\":\"http:\\/\\/json8.nytimes.com\\/slideshow\\/2016\\/01\\/27\\/nytnow\\/your-wednesday-evening-briefing.slideshow.jsonp\",\"link\":\"\"},\"photos\":{\"photo\":{\"url\":\"\",\"credit\":\"\"}},\"advanced\":{\"delay\":3,\"limitjsonp\":0,\"rendition\":\"\",\"targetoverride\":\"\",\"abbreviatecredits\":true}}});</script><script src=\"http://graphics8.nytimes.com/packages/js/multimedia/libs/jquery-1.7.1.min.js\"></script><script src=\"http://graphics8.nytimes.com/packages/js/multimedia/bundles/projects/2013/FadingSlideShow2.js\"></script>\r\n",
      "<style type=\"text/css\">\r\n",
      ".edition-domestic .span-ab-layout .nytmm_FadingSlideShow .credit, .edition-international .span-ab-layout .nytmm_FadingSlideShow .credit { \r\n",
      "color: #BAB8B3;\r\n",
      "display: inline-block;\r\n",
      "font-family: arial,helvetica,sans-serif;\r\n",
      "font-size: 0.5625rem !important;\r\n",
      "font-weight: 400;\r\n",
      "line-height: 0.75rem;\r\n",
      "}\r\n",
      "</style><div id=\"FT100000004172400\"></div></div></div></div></div>\n",
      "<hr class=\"single-rule\"><div class=\"collection\">\n",
      "            <article class=\"story theme-summary\" id=\"topnews-100000004169245\" data-story-id=\"100000004169245\" data-rank=\"0\" data-collection-renderstyle=\"HpSumSmallMediaHigh\">\n",
      "    \n",
      "            <h3 class=\"kicker\">About New York </h3>\n",
      "        <h2 class=\"story-heading\"><a href=\"http://www.nytimes.com/2016/01/27/nyregion/what-happened-to-jane-mayer-when-she-wrote-about-the-koch-brothers.html\">What Happened to a Journalist Who Covered the Kochs</a></h2>\n",
      "\n",
      "            <div class=\"thumb\">\n",
      "            <a href=\"http://www.nytimes.com/2016/01/27/nyregion/what-happened-to-jane-mayer-when-she-wrote-about-the-koch-brothers.html\"><img src=\"http://static01.nyt.com/images/2016/01/27/nyregion/27ABOUT/27ABOUT-thumbStandard-v2.jpg\" alt=\"\"></a>\n",
      "        </div>\n",
      "    \n",
      "            <p class=\"byline\">By JIM DWYER </p>\n",
      "    \n",
      "    <p class=\"summary\">\n",
      "        Jane Mayer, a New Yorker writer and author of the new book “Dark Money,” says she was falsely accused of plagiarism and investigated by the firm of Howard Safir, ex-New York police commissioner.    </p>\n",
      "\n",
      "    \n",
      "    </article>\n",
      "</div>\n",
      "<hr class=\"single-rule\"><div class=\"collection\">\n",
      "            <article class=\"story theme-summary\" id=\"topnews-100000004170812\" data-story-id=\"100000004170812\" data-rank=\"0\" data-collection-renderstyle=\"HpSumSmallMediaHigh\">\n",
      "    \n",
      "        <h2 class=\"story-heading\"><a href=\"http://www.nytimes.com/2016/01/28/world/middleeast/israel-adolf-eichmann-holocaust.html\">Eichmann Begged for Life After Helping Kill Millions</a></h2>\n",
      "\n",
      "            <div class=\"thumb\">\n",
      "            <a href=\"http://www.nytimes.com/2016/01/28/world/middleeast/israel-adolf-eichmann-holocaust.html\"><img src=\"http://static01.nyt.com/images/2016/01/28/world/28Eichmann-web1/28Eichmann-web1-thumbStandard.jpg\" alt=\"\"></a>\n",
      "        </div>\n",
      "    \n",
      "            <p class=\"byline\">By ISABEL KERSHNER <time class=\"timestamp\" datetime=\"2016-01-27\" data-eastern-timestamp=\"2:25 PM\" data-utc-timestamp=\"1453922723\">2:25 PM ET</time></p>\n",
      "    \n",
      "    <p class=\"summary\">\n",
      "        Israel released the handwritten letter by the Nazi war criminal Adolf Eichmann in which he denies guilt, saying officials like him were “mere instruments in the hands of leaders.”    </p>\n",
      "\n",
      "    \n",
      "    </article>\n",
      "</div>\n",
      "<div class=\"collection headlines\">\n",
      "            <ul class=\"theme-news-headlines\">\n",
      "                    <li>\n",
      "            <div style=\"margin-top: -10px;\"></div>            </li>\n",
      "                    <li>\n",
      "            <article class=\"story\" id=\"topnews-100000004171396\" data-story-id=\"100000004171396\" data-rank=\"1\" data-collection-renderstyle=\"HpBlogHeadline\">\n",
      "        <h2 class=\"story-heading\"><i class=\"icon\"></i><a href=\"http://www.nytimes.com/2016/01/28/world/middleeast/adolf-eichmann-letter-to-israel-president.html\">Letter by Adolf Eichmann to President Yitzhak Ben-Zvi of Israel</a></h2>\n",
      "</article>\n",
      "            </li>\n",
      "                    <li>\n",
      "            <article class=\"story\" id=\"topnews-100000004170294\" data-story-id=\"100000004170294\" data-rank=\"2\" data-collection-renderstyle=\"HpBlogHeadline\">\n",
      "        <h2 class=\"story-heading\"><i class=\"icon\"></i><a href=\"http://www.nytimes.com/2016/01/28/world/middleeast/obama-honor-americans-effort-to-save-jews-the-holocaust.html\">American P.O.W. Defied Nazis: ‘We Are All Jews Here’</a></h2>\n",
      "</article>\n",
      "            </li>\n",
      "            </ul>\n",
      "</div>\n",
      "<hr class=\"single-rule\"><div class=\"collection\">\n",
      "            <article class=\"story theme-summary\" id=\"topnews-100000004171289\" data-story-id=\"100000004171289\" data-rank=\"0\" data-collection-renderstyle=\"HpSumSmallMediaHigh\">\n",
      "    \n",
      "        <h2 class=\"story-heading\"><a href=\"http://www.nytimes.com/2016/01/28/world/asia/couples-lawsuit-is-first-test-for-same-sex-marriage-in-china.html\">Gay Couple in China Goes to Court for Right to Wed</a></h2>\n",
      "\n",
      "            <div class=\"thumb\">\n",
      "            <a href=\"http://www.nytimes.com/2016/01/28/world/asia/couples-lawsuit-is-first-test-for-same-sex-marriage-in-china.html\"><img src=\"http://static01.nyt.com/images/2016/01/28/world/28CHINAGAY-web1/28CHINAGAY-web1-thumbStandard.jpg\" alt=\"\"></a>\n",
      "        </div>\n",
      "    \n",
      "            <p class=\"byline\">By EDWARD WONG and VANESSA PIAO <time class=\"timestamp\" datetime=\"2016-01-27\" data-eastern-timestamp=\"3:16 PM\" data-utc-timestamp=\"1453925796\">3:16 PM ET</time></p>\n",
      "    \n",
      "    <p class=\"summary\">\n",
      "        The lawsuit, filed against a civil affairs bureau that refused to marry two men, is expected to start this week, and it has galvanized some gay rights advocates.    </p>\n",
      "\n",
      "    \n",
      "    </article>\n",
      "</div>\n",
      "<hr class=\"single-rule\"><div class=\"collection\">\n",
      "            <article class=\"story theme-summary\" id=\"topnews-100000004171412\" data-story-id=\"100000004171412\" data-rank=\"0\" data-collection-renderstyle=\"HpSum\">\n",
      "    \n",
      "        <h2 class=\"story-heading\"><a href=\"http://www.nytimes.com/2016/01/28/nyregion/spate-of-slashings-puts-new-yorkers-on-edge.html\">Spate of Slashings Puts New Yorkers on Edge</a></h2>\n",
      "\n",
      "            <p class=\"byline\">By MARC SANTORA <time class=\"timestamp\" datetime=\"2016-01-27\" data-eastern-timestamp=\"5:37 PM\" data-utc-timestamp=\"1453934273\">5:37 PM ET</time></p>\n",
      "    \n",
      "    <p class=\"summary\">At least 12 victims have recently been attacked by men wielding knives or razors in separate and seemingly random assaults.</p>\n",
      "\n",
      "\t\n",
      "\t</article>\n",
      "\n",
      "</div>\n",
      "<hr class=\"single-rule\"><div class=\"collection headlines\">\n",
      "                <h3 class=\"kicker collection-kicker\">More News</h3>\n",
      "        <ul class=\"theme-news-headlines\">\n",
      "                    <li>\n",
      "            <article class=\"story\" id=\"topnews-100000004172308\" data-story-id=\"100000004172308\" data-rank=\"0\" data-collection-renderstyle=\"HpHeadline\">\n",
      "        <h2 class=\"story-heading\"><i class=\"icon\"></i><a href=\"http://www.nytimes.com/2016/01/28/business/theranos-lab-found-in-violation-of-clinical-standards.html\">Theranos Lab Found in Violation of Clinical Standards</a> <time class=\"timestamp\" datetime=\"2016-01-27\" data-eastern-timestamp=\"5:24 PM\" data-utc-timestamp=\"1453933453\">5:24 PM ET</time></h2>\n",
      "</article>\n",
      "            </li>\n",
      "                    <li>\n",
      "            <article class=\"story\" id=\"topnews-100000004172034\" data-story-id=\"100000004172034\" data-rank=\"1\" data-collection-renderstyle=\"HpHeadline\">\n",
      "        <h2 class=\"story-heading\"><i class=\"icon\"></i><a href=\"http://www.nytimes.com/2016/01/28/us/department-of-justice-reaches-agreement-with-ferguson.html\">Justice Department Reaches Agreement With Ferguson</a> <time class=\"timestamp\" datetime=\"2016-01-27\" data-eastern-timestamp=\"4:46 PM\" data-utc-timestamp=\"1453931178\">4:46 PM ET</time></h2>\n",
      "</article>\n",
      "            </li>\n",
      "                    <li>\n",
      "            <article class=\"story\" id=\"topnews-100000004168739\" data-story-id=\"100000004168739\" data-rank=\"2\" data-collection-renderstyle=\"HpHeadline\">\n",
      "        <h2 class=\"story-heading\"><i class=\"icon\"></i><a href=\"http://www.nytimes.com/2016/01/28/arts/music/new-york-philharmonic-taps-jaap-van-zweden-as-its-next-maestro.html\">New York Philharmonic Taps Jaap van Zweden as Its Next Maestro</a> </h2>\n",
      "</article>\n",
      "            </li>\n",
      "                    <li>\n",
      "            <article class=\"story\" id=\"topnews-100000004171275\" data-story-id=\"100000004171275\" data-rank=\"3\" data-collection-renderstyle=\"HpHeadline\">\n",
      "        <h2 class=\"story-heading\"><i class=\"icon\"></i><a href=\"http://www.nytimes.com/2016/01/28/business/economy/fed-interest-rates.html\">Fed Raises Concerns on Slow Economic Growth</a> <time class=\"timestamp\" datetime=\"2016-01-27\" data-eastern-timestamp=\"2:10 PM\" data-utc-timestamp=\"1453921804\">2:10 PM ET</time></h2>\n",
      "</article>\n",
      "            </li>\n",
      "                    <li>\n",
      "            <article class=\"story\" id=\"topnews-100000004171102\" data-story-id=\"100000004171102\" data-rank=\"4\" data-collection-renderstyle=\"HpHeadline\">\n",
      "        <h2 class=\"story-heading\"><i class=\"icon\"></i><a href=\"http://www.nytimes.com/2016/01/28/technology/fcc-proposes-changes-in-set-top-box-market.html\">F.C.C. Proposes Changes in Cable Box Market</a> <time class=\"timestamp\" datetime=\"2016-01-27\" data-eastern-timestamp=\"1:29 PM\" data-utc-timestamp=\"1453919344\">1:29 PM ET</time></h2>\n",
      "</article>\n",
      "            </li>\n",
      "            </ul>\n",
      "</div>\n",
      "\n",
      "                        </div><!-- close second-column-region -->\n",
      "\n",
      "                    \n",
      "                </div><!-- close b-column -->\n",
      "\n",
      "            </div><!-- close wide-b-layout -->\n",
      "\n",
      "            \n",
      "                            <div class=\"span-ab-bottom-region region\">\n",
      "                    <hr class=\"scotch-rule\" />\n",
      "<div class=\"split-3-layout layout theme-base\">\n",
      "<h2 class=\"section-heading\">\n",
      "</h2>\n",
      "<div class=\"column\">\n",
      "    <article class=\"story theme-summary \" id=\"topnews-100000004166241\" data-story-id=\"100000004166241\" data-rank=\"0\" data-collection-renderstyle=\"HPMediumMediaHedSumDaypart\">\n",
      "                <a href=\"http://www.nytimes.com/2016/01/27/insider/try-to-interview-googles-chief-executive-its-emasculating.html\">\n",
      "                        <div class=\"wide-thumb\">\n",
      "                    <img src=\"http://static01.nyt.com/images/2016/01/27/insider/27-insider-googlepic2/27-insider-googlepic2-mediumThreeByTwo210.jpg\" />\n",
      "                                    </div>\n",
      "                 </a>\n",
      "        <h2 class=\"story-heading\">\n",
      "            <a href=\"http://www.nytimes.com/2016/01/27/insider/try-to-interview-googles-chief-executive-its-emasculating.html\">Times Insider: Covering a Google Chief</a>\n",
      "        </h2>\n",
      "        <p class=\"summary\">\n",
      "            Conor Dougherty provides a look at what it’s like to interview Google’s elusive co-founder, Larry Page. Hint: it’s emasculating.        </p>\n",
      "    </article>\n",
      "</div>\n",
      "<div class=\"column\">\n",
      "    <article class=\"story theme-summary \" id=\"topnews-100000004171350\" data-story-id=\"100000004171350\" data-rank=\"1\" data-collection-renderstyle=\"HPMediumMediaHedSumDaypart\">\n",
      "                <a href=\"http://www.nytimes.com/2016/01/28/fashion/armani-margiela-paris-couture.html\">\n",
      "                        <div class=\"wide-thumb\">\n",
      "                    <img src=\"http://static01.nyt.com/images/2016/01/27/fashion/28review-01/28review-01-mediumThreeByTwo210.jpg\" />\n",
      "                                    </div>\n",
      "                 </a>\n",
      "        <h2 class=\"story-heading\">\n",
      "            <a href=\"http://www.nytimes.com/2016/01/28/fashion/armani-margiela-paris-couture.html\">Review: Subtle Nods at Armani and Margiela</a>\n",
      "        </h2>\n",
      "        <p class=\"summary\">\n",
      "            There were couture shorts at Armani, some military themes at Margiela, spangles from Elie Saab and John Paul Gaultier’s customary party on the runway.        </p>\n",
      "    </article>\n",
      "</div>\n",
      "<div class=\"column\">\n",
      "    <article class=\"story theme-summary \" id=\"topnews-100000004169594\" data-story-id=\"100000004169594\" data-rank=\"2\" data-collection-renderstyle=\"HPMediumMediaHedSumDaypart\">\n",
      "                <a href=\"http://www.nytimes.com/2016/01/28/technology/no-need-to-fret-apple-is-doing-fine.html\">\n",
      "                        <div class=\"wide-thumb\">\n",
      "                    <img src=\"http://static01.nyt.com/images/2016/01/27/business/28state-web/28state-web-mediumThreeByTwo210.jpg\" />\n",
      "                                    </div>\n",
      "                 </a>\n",
      "        <h2 class=\"story-heading\">\n",
      "            <a href=\"http://www.nytimes.com/2016/01/28/technology/no-need-to-fret-apple-is-doing-fine.html\">No Need to Fret, Apple Is Doing Fine</a>\n",
      "        </h2>\n",
      "        <p class=\"summary\">\n",
      "            If Apple is hitting a plateau because of slower iPhone growth, it’s one of the highest plateaus ever reached in the business world, writes Farhad Manjoo.        </p>\n",
      "    </article>\n",
      "</div>\n",
      "</div>\n",
      "                </div><!-- close span-ab-bottom-region -->\n",
      "            \n",
      "        </section><!-- close top-news -->\n",
      "\n",
      "    </div><!-- close ab-column -->\n",
      "\n",
      "    <div class=\"c-column column\">\n",
      "\n",
      "        <div id=\"Middle\" class=\"ad middle-ad hidden nocontent robots-nocontent\"></div>\n",
      "\n",
      "        <div class=\"region c-column-top-span-region\">\n",
      "\n",
      "            \n",
      "        </div><!-- close c-column-top-span-region -->\n",
      "\n",
      "        <section class=\"opinion\">\n",
      "\n",
      "            <div class=\"region opinion-c-col-top-region\">\n",
      "                <div class=\"collection\">\n",
      "            <section class=\"opinion\">\r\n",
      "  <h2 class=\"section-heading\"><a href=\"http://www.nytimes.com/pages/opinion/index.html\">The Opinion Pages</a>\r\n",
      "  </h2>\r\n",
      "</section></div>\n",
      "            </div> <!-- close opinion-c-col-top-region -->\n",
      "\n",
      "            <div class=\"layout split-layout\">\n",
      "\n",
      "                <div class=\"column\">\n",
      "                    <div class=\"region opinion-c-col-left-region\">\n",
      "                                            <div class=\"collection\">\n",
      "            <article class=\"story theme-summary\" id=\"topnews-100000004169504\" data-story-id=\"100000004169504\" data-rank=\"0\" data-collection-renderstyle=\"HpSumXSMedia\">\n",
      "    \n",
      "            <h3 class=\"kicker\">Editorial </h3>\n",
      "        <h2 class=\"story-heading\"><a href=\"http://www.nytimes.com/2016/01/28/opinion/the-supreme-court-rules-for-common-sense-in-electricity-case.html\">The Supreme Court Rules for Common Sense in Electricity Case</a></h2>\n",
      "\n",
      "            <div class=\"small-thumb\">\n",
      "            <a href=\"http://www.nytimes.com/2016/01/28/opinion/the-supreme-court-rules-for-common-sense-in-electricity-case.html\"><img src=\"http://static01.nyt.com/images/2016/01/28/opinion/28thu2web/28thu2web-blogSmallThumb.jpg\" alt=\"\"></a>\n",
      "        </div>\n",
      "    \n",
      "    \n",
      "    <p class=\"summary\">\n",
      "        The decision will save consumers money and improve the reliability of the power grid.    </p>\n",
      "\n",
      "    \n",
      "    </article>\n",
      "\n",
      "</div>\n",
      "                                            <div class=\"collection headlines\">\n",
      "            <ul class=\"theme-news-headlines\">\n",
      "                    <li>\n",
      "            <article class=\"story\" id=\"topnews-100000004169168\" data-story-id=\"100000004169168\" data-rank=\"0\" data-collection-renderstyle=\"HpHeadline\">\n",
      "        <h2 class=\"story-heading\"><i class=\"icon\"></i><a href=\"http://www.nytimes.com/2016/01/27/opinion/vindication-for-planned-parenthood.html\">Editorial: Vindication for Planned Parenthood</a> </h2>\n",
      "</article>\n",
      "            </li>\n",
      "                    <li>\n",
      "            <article class=\"story\" id=\"topnews-100000004170555\" data-story-id=\"100000004170555\" data-rank=\"1\" data-collection-renderstyle=\"HpHeadline\">\n",
      "        <h2 class=\"story-heading\"><i class=\"icon\"></i><a href=\"http://www.nytimes.com/2016/01/28/opinion/how-china-lost-taiwan.html\">Op-Ed: How China Lost Taiwan</a> </h2>\n",
      "</article>\n",
      "            </li>\n",
      "                    <li>\n",
      "            <article class=\"story\" id=\"topnews-100000004168330\" data-story-id=\"100000004168330\" data-rank=\"2\" data-collection-renderstyle=\"HpHeadline\">\n",
      "        <h2 class=\"story-heading\"><i class=\"icon\"></i><a href=\"http://www.nytimes.com/2016/01/28/opinion/the-right-wing-attack-on-indias-universities.html\">Op-Ed: The Right-Wing Attack on India’s Universities</a> </h2>\n",
      "</article>\n",
      "            </li>\n",
      "                    <li>\n",
      "            <article class=\"story\" id=\"topnews-100000004170545\" data-story-id=\"100000004170545\" data-rank=\"3\" data-collection-renderstyle=\"HpHeadline\">\n",
      "        <h2 class=\"story-heading\"><i class=\"icon\"></i><a href=\"http://opinionator.blogs.nytimes.com/2016/01/27/when-the-hospital-cant-help/\">The End: When the Hospital Is Not a Haven</a> </h2>\n",
      "</article>\n",
      "            </li>\n",
      "            </ul>\n",
      "</div>\n",
      "                    </div>\n",
      "                </div>\n",
      "\n",
      "                <div class=\"column\">\n",
      "                    <div class=\"region opinion-c-col-right-region\">\n",
      "                                            <div class=\"collection\">\n",
      "            <article class=\"story theme-summary\" id=\"topnews-100000004171008\" data-story-id=\"100000004171008\" data-rank=\"0\" data-collection-renderstyle=\"HpSumXSMedia\">\n",
      "    \n",
      "            <h3 class=\"kicker\">Op-Ed Contributor </h3>\n",
      "        <h2 class=\"story-heading\"><a href=\"http://www.nytimes.com/2016/01/28/opinion/campaign-stops/for-bloomberg-ambition-vies-with-caution.html\">For Bloomberg, Ambition Vies With Caution</a></h2>\n",
      "\n",
      "            <div class=\"small-thumb\">\n",
      "            <a href=\"http://www.nytimes.com/2016/01/28/opinion/campaign-stops/for-bloomberg-ambition-vies-with-caution.html\"><img src=\"http://static01.nyt.com/images/2016/01/28/opinion/28purnickWeb/28purnickWeb-blogSmallThumb.jpg\" alt=\"\"></a>\n",
      "        </div>\n",
      "    \n",
      "            <p class=\"byline\">By JOYCE PURNICK <time class=\"timestamp\" datetime=\"2016-01-27\" data-eastern-timestamp=\"3:36 PM\" data-utc-timestamp=\"1453926999\">3:36 PM ET</time></p>\n",
      "    \n",
      "    <p class=\"summary\">\n",
      "        The former mayor knows that presidential campaign history is littered with failed runs by third-party candidates.    </p>\n",
      "\n",
      "            <p class=\"theme-comments\">\n",
      "    <a href=\"http://www.nytimes.com/2016/01/28/opinion/campaign-stops/for-bloomberg-ambition-vies-with-caution.html?hp&amp;target=comments#commentsContainer\" class=\"comments-link\"><i class=\"icon sprite-icon comments-icon\"></i><span class=\"comment-count\">&nbsp;Comments</span></a>\n",
      "</p>\n",
      "    \n",
      "    </article>\n",
      "\n",
      "</div>\n",
      "                                            <div class=\"collection headlines\">\n",
      "            <ul class=\"theme-news-headlines\">\n",
      "                    <li>\n",
      "            <article class=\"story\" id=\"topnews-100000004169529\" data-story-id=\"100000004169529\" data-rank=\"0\" data-collection-renderstyle=\"HpHeadline\">\n",
      "        <h2 class=\"story-heading\"><i class=\"icon\"></i><a href=\"http://www.nytimes.com/2016/01/27/opinion/the-twinned-egos-of-cruz-and-trump.html\">Bruni: The Twinned Egos of Cruz and Trump</a> </h2>\n",
      "</article>\n",
      "            </li>\n",
      "                    <li>\n",
      "            <article class=\"story\" id=\"topnews-100000004169338\" data-story-id=\"100000004169338\" data-rank=\"1\" data-collection-renderstyle=\"HpHeadline\">\n",
      "        <h2 class=\"story-heading\"><i class=\"icon\"></i><a href=\"http://www.nytimes.com/2016/01/27/opinion/friends-and-refugees-in-need.html\">Friedman: Friends and Refugees in Need</a> </h2>\n",
      "</article>\n",
      "            </li>\n",
      "                    <li>\n",
      "            <article class=\"story\" id=\"topnews-100000004170042\" data-story-id=\"100000004170042\" data-rank=\"2\" data-collection-renderstyle=\"HpHeadline\">\n",
      "        <h2 class=\"story-heading\"><i class=\"icon\"></i><a href=\"http://www.nytimes.com/2016/01/27/opinion/campaign-stops/boom-or-gloom.html\">Edsall: Boom or Gloom?</a> <time class=\"timestamp\" datetime=\"2016-01-27\" data-eastern-timestamp=\"2:55 PM\" data-utc-timestamp=\"1453924554\">2:55 PM ET</time></h2>\n",
      "</article>\n",
      "            </li>\n",
      "                    <li>\n",
      "            <article class=\"story\" id=\"topnews-100000004169259\" data-story-id=\"100000004169259\" data-rank=\"3\" data-collection-renderstyle=\"HpHeadline\">\n",
      "        <h2 class=\"story-heading\"><i class=\"icon\"></i><a href=\"http://www.nytimes.com/2016/01/27/opinion/another-kind-of-girl.html\"><span class=\"icon video\">Op-Doc</span>: Another Kind of Girl</a> </h2>\n",
      "</article>\n",
      "            </li>\n",
      "            </ul>\n",
      "</div>\n",
      "                    </div>\n",
      "                </div>\n",
      "\n",
      "            </div> <!-- close split-layout -->\n",
      "\n",
      "            <div class=\"region opinion-c-col-bottom-region\">\n",
      "                <div class=\"collection\">\n",
      "            <style>\t\r\n",
      "\r\n",
      "\r\n",
      ".c-column.column section.opinion div time.timestamp{\r\n",
      "\tdisplay:none;\r\n",
      "}\r\n",
      "\r\n",
      "\r\n",
      "</style><style>\t\r\n",
      ".c-column.column section.opinion div p.theme-comments{\r\n",
      "\tdisplay:none;\r\n",
      "}\r\n",
      "\r\n",
      "\r\n",
      "\r\n",
      "</style></div>\n",
      "            </div> <!-- close opinion-c-col-bottom-region -->\n",
      "\n",
      "        </section> <!-- close opinion -->\n",
      "\n",
      "        <section class=\"user-subscriptions hidden\">\n",
      "\n",
      "            <h2 class=\"section-heading visually-hidden\">User Subscriptions</h2>\n",
      "\n",
      "            <div class=\"collection insider-collection\">\n",
      "  <div id=\"times-insider-subscription\" class=\"times-insider-subscription hidden\">\n",
      "    <ul class=\"theme-news-headlines\">\n",
      "                              <li>\n",
      "              <article class=\"story\">\n",
      "                <h2 class=\"story-heading\">\n",
      "                  <a href=\"http://www.nytimes.com/2016/01/27/insider/try-to-interview-googles-chief-executive-its-emasculating.html\">Try to Interview Google’s Co-Founder. It’s Emasculating.</a>\n",
      "                </h2>\n",
      "              </article>\n",
      "            </li>\n",
      "                      <li>\n",
      "              <article class=\"story\">\n",
      "                <h2 class=\"story-heading\">\n",
      "                  <a href=\"http://www.nytimes.com/2016/01/26/insider/reporters-notebook-navy-seal-commanders-suicide.html\">Reporter’s Notebook: Navy SEAL Commander’s Suicide</a>\n",
      "                </h2>\n",
      "              </article>\n",
      "            </li>\n",
      "                      <li>\n",
      "              <article class=\"story\">\n",
      "                <h2 class=\"story-heading\">\n",
      "                  <a href=\"http://www.nytimes.com/2016/01/25/insider/dispatch-from-dakar-mom-did-you-get-kidnapped.html\">Dispatch From Dakar: ‘Mom, Did You Get Kidnapped?’</a>\n",
      "                </h2>\n",
      "              </article>\n",
      "            </li>\n",
      "                      </ul>\n",
      "  <div class=\"thumb\">\n",
      "        <a href=\"http://www.nytimes.com/section/insider\">\n",
      "        <svg class=\"insider-logo\" width=\"65\" height=\"20\" role=\"img\" aria-label=\"Insider\">\n",
      "            <image width=\"65\" height=\"20\" xlink:href=\"http://a1.nyt.com/assets/homepage/20160111-154931/images/foundation/logos/insider-logo-240x72.svg\" src=\"http://a1.nyt.com/assets/homepage/20160111-154931/images/foundation/logos/insider-logo-240x72.png\" alt=\"Insider\" />\n",
      "        </svg>\n",
      "      </a>\n",
      "    </div>\n",
      "</div><!--close times-insider-subscription -->\n",
      "</div><!-- close collection -->\n",
      "\n",
      "<div class=\"collection\">\n",
      "  <div id=\"times-premier-crossword-subscription\" class=\"times-premier-crossword-subscription hidden\">\n",
      "      <div class=\"layout split-layout\">\n",
      "        <div class=\"column\">\n",
      "          <div class=\"collection insider-collection\">\n",
      "            <article class=\"story\">\n",
      "              <h3 class=\"kicker\">\n",
      "                <a href=\"http://www.nytimes.com/section/insider\">Times Insider &raquo;</a>\n",
      "              </h3>\n",
      "                              <h2 class=\"story-heading\">\n",
      "                  <a href=\"http://www.nytimes.com/2016/01/27/insider/try-to-interview-googles-chief-executive-its-emasculating.html\">Try to Interview Google’s Co-Founder. It’s Emasculating.</a>\n",
      "                </h2>\n",
      "                          </article>\n",
      "          </div>\n",
      "        </div><!-- close column -->\n",
      "        <div class=\"column\">\n",
      "\t<div class=\"collection crosswords-collection\">\n",
      "\t    <article class=\"story\">\n",
      "\t    \t<h3 class=\"kicker\">\n",
      "\t    \t\t<a href=\"http://www.nytimes.com/crosswords\">The Crossword &raquo;</a>\n",
      "\t    \t</h3>\n",
      "\t\t\t<h2 class=\"story-heading\">\n",
      "\t\t\t\t<a href=\"http://www.nytimes.com/crosswords\">Play Today&rsquo;s Puzzle </a>\n",
      "\t\t\t</h2>\n",
      "\t\t\t<div class=\"thumb\">\n",
      "\t\t\t\t<a href=\"http://www.nytimes.com/crosswords\">\n",
      "\t\t\t\t\t<img src=\"http://static01.nyt.com/images/crosswords/crosswords_30x30.png\" alt=\"\" />\n",
      "\t\t\t\t</a>\n",
      "\t\t\t</div>\n",
      "\t    </article>\n",
      "\t</div>\n",
      "</div>\n",
      "      </div><!--close TimesPremiercrossword -->\n",
      "    </div><!--close times-premier-crossword-subscription -->\n",
      "</div><!-- close collection -->\n",
      "\n",
      "<div class=\"collection\">\n",
      "    <div id=\"crossword-subscription\" class=\"crossword-subscription hidden\">\n",
      "        <div class=\"layout split-layout\">\n",
      "            <div class=\"column\">\n",
      "\t<div class=\"collection crosswords-collection\">\n",
      "\t    <article class=\"story\">\n",
      "\t    \t<h3 class=\"kicker\">\n",
      "\t    \t\t<a href=\"http://www.nytimes.com/crosswords\">The Crossword &raquo;</a>\n",
      "\t    \t</h3>\n",
      "\t\t\t<h2 class=\"story-heading\">\n",
      "\t\t\t\t<a href=\"http://www.nytimes.com/crosswords\">Play Today&rsquo;s Puzzle </a>\n",
      "\t\t\t</h2>\n",
      "\t\t\t<div class=\"thumb\">\n",
      "\t\t\t\t<a href=\"http://www.nytimes.com/crosswords\">\n",
      "\t\t\t\t\t<img src=\"http://static01.nyt.com/images/crosswords/crosswords_30x30.png\" alt=\"\" />\n",
      "\t\t\t\t</a>\n",
      "\t\t\t</div>\n",
      "\t    </article>\n",
      "\t</div>\n",
      "</div>\n",
      "            <div class=\"column\">\n",
      "                <div class=\"collection crosswords-collection\">\n",
      "                    <article class=\"story\">\n",
      "                        <h3 class=\"kicker\">\n",
      "                          <a href=\"http://wordplay.blogs.nytimes.com\">Wordplay &raquo;</a>\n",
      "                        </h3>\n",
      "                                                  <h2 class=\"story-heading\">\n",
      "                            <a href=\"http://wordplay.blogs.nytimes.com/2016/01/26/start-swimmin/\">Start Swimmin&#8217;</a>\n",
      "                          </h2>\n",
      "                                            </article>\n",
      "                </div>\n",
      "            </div><!-- close column -->\n",
      "        </div><!-- close layout -->\n",
      "    </div><!-- close crossword-subscription -->\n",
      "</div><!--close collection -->\n",
      "\n",
      "        </section><!-- close user-subscriptions -->\n",
      "\n",
      "        <div id=\"HPMiddle\" class=\"ad hpmiddle-ad nocontent robots-nocontent\"></div>\n",
      "\n",
      "        <div class=\"region c-column-middle-span-region\">\n",
      "\n",
      "            <div class=\"collection\">\n",
      "            <link rel=\"stylesheet\" type=\"text/css\" href=\"http://int.nyt.com/applications/portals/assets/portal-3dc2bf0e7593a689f857e1edec4a2566.css\"/>\r\n",
      "\r\n",
      "<style type=\"text/css\">\r\n",
      "/*HIDE WATCHING HEADER*/\r\n",
      ".portal-container>header { display: none }\r\n",
      "</style>\r\n",
      "\r\n",
      "<div id=\"nytint-hp-watching\">\r\n",
      "  <div class=\"portal-container\">\r\n",
      "    <header class=\"portal-header\">\r\n",
      "      <h4>Watching</h4>\r\n",
      "    </header>\r\n",
      "    <div class=\"portal-posts-frame expanded\"></div>\r\n",
      "    <footer class=\"portal-footer\"></footer>\r\n",
      "  </div>\r\n",
      "</div>\r\n",
      "\r\n",
      "<script type=\"text/javascript\" src=\"http://int.nyt.com/applications/portals/assets/portal/app-d37d526acc5f1ea70c6a0bee273416cc.js\"></script>\r\n",
      "<script type=\"text/javascript\">\r\n",
      "require(['foundation/main'], function() {\r\n",
      "  require(['homepage/main'], function() {\r\n",
      "    require(['portal/app'], function(Portal) {\r\n",
      "        \r\n",
      "      var opts = {\r\n",
      "        env: 'production_published',\r\n",
      "        matchHeight: {\r\n",
      "          match: '.span-ab-layout.layout > .ab-column',\r\n",
      "          container: '.c-column.column',\r\n",
      "          maxHeight: 2000\r\n",
      "        }\r\n",
      "      }\r\n",
      "\r\n",
      "      var force = window.location.search.indexOf('portal_variant=watchingNoScroll') !== -1;\r\n",
      "      if (force || (NYTABTEST && NYTABTEST.engine &&\r\n",
      "          NYTABTEST.engine.isUserVariant('watchingNoScroll') === '1')) {\r\n",
      "        opts.variation = 'simple';\r\n",
      "        opts.poll = false;\r\n",
      "        opts.limit = 20;\r\n",
      "      }\r\n",
      "\r\n",
      "      var watching = Portal.create('#nytint-hp-watching', opts);\r\n",
      "    });\r\n",
      "  });\r\n",
      "});\r\n",
      "</script>\r\n",
      "\r\n",
      "<!-- HpPrototype: WatchingEnabled: DO NOT REMOVE --></div>\n",
      "\n",
      "        </div><!-- close c-column-middle-span-region -->\n",
      "\n",
      "        <div class=\"region c-column-above-moth-fixed-region\">\n",
      "\n",
      "            \n",
      "        </div><!-- close c-column-above-moth-fixed-region -->\n",
      "\n",
      "        <div class=\"region c-column-above-moth-region\">\n",
      "\n",
      "            \n",
      "        </div><!-- close c-column-above-moth-region -->\n",
      "\n",
      "    </div><!-- close c-column -->\n",
      "\n",
      "</div><!-- close span-ab-layout -->\n",
      "\n",
      "\n",
      "<section id=\"paid-post-five-pack\" class=\"paid-post-five-pack hidden nocontent robots-nocontent\">\n",
      "<h2 class=\"section-heading\">From Our Advertisers</h2>\n",
      "    <ul class=\"story-menu\">\n",
      "        <li id=\"PaidPostFivePack1\" class=\"story-menu-item ad\"></li>\n",
      "        <li id=\"PaidPostFivePack2\" class=\"story-menu-item ad\"></li>\n",
      "        <li id=\"PaidPostFivePack3\" class=\"story-menu-item ad\"></li>\n",
      "        <li id=\"PaidPostFivePack4\" class=\"story-menu-item ad\"></li>\n",
      "        <li id=\"PaidPostFivePack5\" class=\"story-menu-item ad\"></li>\n",
      "    </ul>\n",
      "</section>\n",
      "<div id=\"HPBreak\" class=\"ad hpbreak-ad nocontent robots-nocontent hidden\"></div>\n",
      "\n",
      "<div id=\"video-player-region\" class=\"video-player-region region\">\n",
      "    <div class=\"collection\">\n",
      "            <div id=\"video-module-loader\" class=\"loader-container video-section-loader-container\">\n",
      "    <div class=\"loader loader-t-logo-32x32-ecedeb-ffffff\"><span class=\"visually-hidden\">Loading...</span></div>\n",
      "</div>\n",
      "<section id=\"video-section\"\n",
      "         class=\"video-section invisible\"\n",
      "         data-playlist-id=\"1194811622188\"\n",
      "         data-api-token=\"cE97ArV7TzqBzkmeRVVhJ8O6GWME2iG_bRvjBTlNb4o.\"\n",
      "         data-player-id=\"2640832222001\"\n",
      "         data-publisher-id=\"1749339200\">\n",
      "    <header class=\"section-header\">\n",
      "        <h2 class=\"section-heading\"><a class=\"times-video-link\" href=\"http://www.nytimes.com/video\">times<span>video</span></a></h2>\n",
      "        <a href=\"http://www.nytimes.com/video?src=vidm\" class=\"user-action explore-all-videos-link\"> explore all videos &raquo;</a>\n",
      "    </header>\n",
      "    <div class=\"column a-column\">\n",
      "        <article class=\"story\">\n",
      "            <figure class=\"media video video-player\" aria-label=\"media\" role=\"group\">\n",
      "                <span class=\"visually-hidden\">Video Player</span>\n",
      "                <img src=\"\" class=\"poster\" alt=\"\" />\n",
      "                <div class=\"video-player-container\"></div>\n",
      "                <div class=\"media-action-overlay\"></div>\n",
      "                <div class=\"sharetools video-sharetools\"\n",
      "                    data-shares=\"email|,facebook|,twitter|,embed|,show-all|\"\n",
      "                    data-url=\"\"\n",
      "                    data-title=\"\"\n",
      "                    data-description=\"\"\n",
      "                    data-content-type=\"video\">\n",
      "                </div>\n",
      "                <figcaption class=\"credit\"></figcaption>\n",
      "            </figure>\n",
      "        </article>\n",
      "    </div>\n",
      "    <div class=\"column b-column\">\n",
      "        <div id=\"video-playlist-container\" class=\"video-playlist-container\">\n",
      "            <ul id=\"video-playlist\" class=\"video-playlist\"></ul>\n",
      "        </div>\n",
      "    </div> <!-- end b-column -->\n",
      "</section>\n",
      "</div>\n",
      "</div><!-- close video-player-region -->\n",
      "\n",
      "<section class=\"inside-nyt\">\n",
      "    <div class=\"inside-nyt-region region\">\n",
      "        <h2 class=\"section-heading\">Inside Nytimes.com</h2>\n",
      "        <div id=\"inside-nyt-browser\" class=\"inside-nyt-browser\">\n",
      "            <div class=\"navigation-control\">\n",
      "                <button class=\"button previous deactivated\">\n",
      "                    <div class=\"arrow arrow-left\">\n",
      "                    <span class=\"visually-hidden\">Go to the previous story</span>\n",
      "                    <div class=\"arrow-conceal\"></div>\n",
      "                    </div>\n",
      "                </button>\n",
      "                <button class=\"button next\">\n",
      "                    <div class=\"arrow arrow-right\">\n",
      "                    <span class=\"visually-hidden\">Go to the next story</span>\n",
      "                    <div class=\"arrow-conceal\"></div>\n",
      "                    </div>\n",
      "                </button>\n",
      "            </div>\n",
      "            <div class=\"carousel\">\n",
      "                <ol class=\"menu layout-horizontal theme-story\">\n",
      "                    <li>\n",
      "        <section>\n",
      "        <h2 class=\"section-heading\"><a href=\"http://www.nytimes.com/pages/sports/tennis/index.html\">Tennis</a></h2>\n",
      "\n",
      "    <article class=\"story theme-summary\" data-story-id=\"100000004169046\" data-rank=\"0\" data-collection-renderstyle=\"Moth\">\n",
      "        <a class=\"story-link\" href=\"http://www.nytimes.com/2016/01/28/sports/tennis/australian-open-match-fixing-essay.html\">\n",
      "            <div class=\"wide-thumb\">\n",
      "                <img src=\"http://static01.nyt.com/images/2016/01/28/sports/28FIXINGweb/28FIXINGweb-mediumSquare149.jpg\" alt=\"\">\n",
      "            </div>\n",
      "            <h2 class=\"story-heading\">An Invitation Into the World of Match Fixing</h2>\n",
      "        </a>\n",
      "    </article>\n",
      "\n",
      "        </section>\n",
      "    </li>\n",
      "    <li>\n",
      "        <section>\n",
      "        <h2 class=\"section-heading\"><a href=\"http://www.nytimes.com/pages/opinion/index.html\">Opinion</a></h2>\n",
      "\n",
      "    <article class=\"story theme-summary no-thumb\" data-story-id=\"100000004170560\" data-rank=\"1\" data-collection-renderstyle=\"Moth\">\n",
      "        <a class=\"story-link\" href=\"http://www.nytimes.com/roomfordebate/2016/01/27/the-ethics-of-a-child-pornography-sting\">\n",
      "            <h2 class=\"story-heading\">Was the F.B.I.’s Child Pornography Sting Ethical?</h2>\n",
      "            <p class=\"summary\">Room for Debate asks whether the agency perpetuated crimes while keeping the website operational to catch predators.</p>\n",
      "        </a>\n",
      "    </article>\n",
      "\n",
      "        </section>\n",
      "    </li>\n",
      "    <li>\n",
      "        <section>\n",
      "        <h2 class=\"section-heading\"><a href=\"http://www.nytimes.com/pages/dining/index.html\">Food</a></h2>\n",
      "\n",
      "    <article class=\"story theme-summary\" data-story-id=\"100000004154094\" data-rank=\"2\" data-collection-renderstyle=\"Moth\">\n",
      "        <a class=\"story-link\" href=\"http://www.nytimes.com/2016/01/27/dining/beyond-soul-food-african-american-chefs.html\">\n",
      "            <div class=\"wide-thumb\">\n",
      "                <img src=\"http://static01.nyt.com/images/2016/01/27/dining/27AFRO-slide-XCMG/27AFRO-slide-XCMG-mediumSquare149.jpg\" alt=\"\">\n",
      "            </div>\n",
      "            <h2 class=\"story-heading\">An Era of African-American Cooking</h2>\n",
      "        </a>\n",
      "    </article>\n",
      "\n",
      "        </section>\n",
      "    </li>\n",
      "    <li>\n",
      "        <section>\n",
      "        <h2 class=\"section-heading\"><a href=\"http://www.nytimes.com/pages/opinion/index.html\">Opinion</a></h2>\n",
      "\n",
      "    <article class=\"story theme-summary\" data-story-id=\"100000004168804\" data-rank=\"3\" data-collection-renderstyle=\"Moth\">\n",
      "        <a class=\"story-link\" href=\"http://www.nytimes.com/2016/01/27/opinion/subprime-reasoning-on-housing.html\">\n",
      "            <div class=\"wide-thumb\">\n",
      "                <img src=\"http://static01.nyt.com/images/2016/01/27/opinion/27ponnuru/27ponnuru-mediumSquare149.jpg\" alt=\"\">\n",
      "            </div>\n",
      "            <h2 class=\"story-heading\">Op-Ed: Subprime Reasoning on Housing</h2>\n",
      "        </a>\n",
      "    </article>\n",
      "\n",
      "        </section>\n",
      "    </li>\n",
      "    <li>\n",
      "        <section>\n",
      "        <h2 class=\"section-heading\"><a href=\"http://www.nytimes.com/section/nyregion\">N.Y. / Region</a></h2>\n",
      "\n",
      "    <article class=\"story theme-summary\" data-story-id=\"100000004168696\" data-rank=\"4\" data-collection-renderstyle=\"Moth\">\n",
      "        <a class=\"story-link\" href=\"http://www.nytimes.com/2016/01/28/nyregion/discovery-of-burial-ground-backs-a-less-conventional-version-of-harlems-history.html\">\n",
      "            <div class=\"wide-thumb\">\n",
      "                <img src=\"http://static01.nyt.com/images/2016/01/27/nyregion/28BLOCKS-web1/28BLOCKS-web1-mediumSquare149.jpg\" alt=\"\">\n",
      "            </div>\n",
      "            <h2 class=\"story-heading\">Discovering Harlem’s African Roots</h2>\n",
      "        </a>\n",
      "    </article>\n",
      "\n",
      "        </section>\n",
      "    </li>\n",
      "    <li>\n",
      "        <section>\n",
      "        <h2 class=\"section-heading\"><a href=\"http://www.nytimes.com/pages/world/europe/index.html\">Europe</a></h2>\n",
      "\n",
      "    <article class=\"story theme-summary\" data-story-id=\"100000004166386\" data-rank=\"5\" data-collection-renderstyle=\"Moth\">\n",
      "        <a class=\"story-link\" href=\"http://www.nytimes.com/2016/01/28/world/europe/england-must-farm-archaeology.html\">\n",
      "            <div class=\"wide-thumb\">\n",
      "                <img src=\"http://static01.nyt.com/images/2016/01/28/world/28whittlesey-web1/28whittlesey-web1-mediumSquare149.jpg\" alt=\"\">\n",
      "            </div>\n",
      "            <h2 class=\"story-heading\">Looking for Clues to a Site in England</h2>\n",
      "        </a>\n",
      "    </article>\n",
      "\n",
      "        </section>\n",
      "    </li>\n",
      "\n",
      "    <li>\n",
      "        <section>\n",
      "        <h2 class=\"section-heading\"><a href=\"http://www.nytimes.com/pages/magazine/index.html\">Magazine</a></h2>\n",
      "\n",
      "    <article class=\"story theme-summary\" data-story-id=\"100000004161922\" data-rank=\"0\" data-collection-renderstyle=\"Moth\">\n",
      "        <a class=\"story-link\" href=\"http://www.nytimes.com/2016/01/31/magazine/buffalo-in-the-city.html\">\n",
      "            <div class=\"wide-thumb\">\n",
      "                <img src=\"http://static01.nyt.com/images/2016/01/31/magazine/31onclothing1/31mag-31onclothing-t_CA0-mediumSquare149.jpg\" alt=\"\">\n",
      "            </div>\n",
      "            <h2 class=\"story-heading\">Logger Ladies and Lumber Bros in the City</h2>\n",
      "        </a>\n",
      "    </article>\n",
      "\n",
      "        </section>\n",
      "    </li>\n",
      "    <li>\n",
      "        <section>\n",
      "        <h2 class=\"section-heading\"><a href=\"http://www.nytimes.com/pages/opinion/index.html\">Opinion</a></h2>\n",
      "\n",
      "    <article class=\"story theme-summary no-thumb\" data-story-id=\"100000004170549\" data-rank=\"1\" data-collection-renderstyle=\"Moth\">\n",
      "        <a class=\"story-link\" href=\"http://opinionator.blogs.nytimes.com/2016/01/27/when-the-hospital-cant-help/\">\n",
      "            <h2 class=\"story-heading\">The End: When the Hospital Is Not a Haven</h2>\n",
      "            <p class=\"summary\">Had I prolonged my Indian grandmother’s suffering with my stubborn belief in the power of medicine to fix things?</p>\n",
      "        </a>\n",
      "    </article>\n",
      "\n",
      "        </section>\n",
      "    </li>\n",
      "    <li>\n",
      "        <section>\n",
      "        <h2 class=\"section-heading\"><a href=\"http://www.nytimes.com/pages/multimedia/index.html\">Multimedia/Photos</a></h2>\n",
      "\n",
      "    <article class=\"story theme-summary\" data-story-id=\"100000004170413\" data-rank=\"2\" data-collection-renderstyle=\"Moth\">\n",
      "        <a class=\"story-link\" href=\"http://lens.blogs.nytimes.com/2016/01/27/south-africa-pantsula-break-dancing-townships-chris-saunders/\">\n",
      "            <div class=\"wide-thumb\">\n",
      "                <img src=\"http://static01.nyt.com/images/2016/01/26/automobiles/20160126-lens-pantsula-slide-HAP9/20160126-lens-pantsula-slide-HAP9-mediumSquare149.jpg\" alt=\"\">\n",
      "            </div>\n",
      "            <h2 class=\"story-heading\">Pantsula Dancers Bring Life to the Streets</h2>\n",
      "        </a>\n",
      "    </article>\n",
      "\n",
      "        </section>\n",
      "    </li>\n",
      "    <li>\n",
      "        <section>\n",
      "        <h2 class=\"section-heading\"><a href=\"http://www.nytimes.com/pages/opinion/index.html\">Opinion</a></h2>\n",
      "\n",
      "    <article class=\"story theme-summary\" data-story-id=\"100000004167897\" data-rank=\"3\" data-collection-renderstyle=\"Moth\">\n",
      "        <a class=\"story-link\" href=\"http://www.nytimes.com/2016/01/27/opinion/nigerians-are-better-together.html\">\n",
      "            <div class=\"wide-thumb\">\n",
      "                <img src=\"http://static01.nyt.com/images/2016/01/27/opinion/27ogunlesi/27ogunlesi-mediumSquare149.jpg\" alt=\"\">\n",
      "            </div>\n",
      "            <h2 class=\"story-heading\">Op-Ed: Nigerians Are Better Together</h2>\n",
      "        </a>\n",
      "    </article>\n",
      "\n",
      "        </section>\n",
      "    </li>\n",
      "    <li>\n",
      "        <section>\n",
      "        <h2 class=\"section-heading\"><a href=\"http://www.nytimes.com/pages/arts/television/index.html\">Television</a></h2>\n",
      "\n",
      "    <article class=\"story theme-summary\" data-story-id=\"100000003567356\" data-rank=\"4\" data-collection-renderstyle=\"Moth\">\n",
      "        <a class=\"story-link\" href=\"http://www.nytimes.com/2016/01/27/arts/television/abe-vigoda-actor-of-godfather-fame-dies-at-94.html\">\n",
      "            <div class=\"wide-thumb\">\n",
      "                <img src=\"http://static01.nyt.com/images/2016/01/27/arts/27vigoda-obit-2/27vigoda-obit-2-mediumSquare149-v2.jpg\" alt=\"\">\n",
      "            </div>\n",
      "            <h2 class=\"story-heading\">Abe Vigoda Dies at 94; Played Capos and Cops</h2>\n",
      "        </a>\n",
      "    </article>\n",
      "\n",
      "        </section>\n",
      "    </li>\n",
      "    <li>\n",
      "        <section>\n",
      "        <h2 class=\"section-heading\"><a href=\"http://www.nytimes.com/section/travel\">Travel</a></h2>\n",
      "\n",
      "    <article class=\"story theme-summary\" data-story-id=\"100000003885856\" data-rank=\"5\" data-collection-renderstyle=\"Moth\">\n",
      "        <a class=\"story-link\" href=\"http://www.nytimes.com/2016/01/31/travel/namibia-tour-road-trip.html\">\n",
      "            <div class=\"wide-thumb\">\n",
      "                <img src=\"http://static01.nyt.com/images/2016/01/31/travel/31NAMIBIA/31NAMIBIA-mediumSquare149.jpg\" alt=\"\">\n",
      "            </div>\n",
      "            <h2 class=\"story-heading\">7 Days, 1,500 Miles in Namibia</h2>\n",
      "        </a>\n",
      "    </article>\n",
      "\n",
      "        </section>\n",
      "    </li>\n",
      "\n",
      "                </ol>\n",
      "            </div>\n",
      "        </div>\n",
      "    </div>\n",
      "</section>\n",
      "\n",
      "<div id=\"HPMidLeader\" class=\"ad hpmidleader-ad nocontent robots-nocontent\"></div>\n",
      "\n",
      "<div class=\"span-ab-layout layout\">\n",
      "\n",
      "    <div class=\"ab-column column\">\n",
      "\n",
      "        <hr class=\"scotch-rule\" />\n",
      "\n",
      "            <section class=\"well\">\n",
      "    <div class=\"region well-region\">\n",
      "        <h2 class=\"section-heading visually-hidden\">Sections</h2>\n",
      "\n",
      "                \n",
      "            <div class=\"split-3-layout layout theme-base\">\n",
      "\n",
      "                                \n",
      "                    <div class=\"column \">\n",
      "\n",
      "                        <section>\n",
      "    <h2 class=\"section-heading\">\n",
      "        <a href=\"http://www.nytimes.com/pages/world/index.html\">World &raquo;</a>\n",
      "    </h2>\n",
      "    <ul>\n",
      "                    <li>\n",
      "            <article class=\"story theme-summary\" data-story-id=\"100000004166633\" data-rank=\"0\" data-collection-renderstyle=\"HpHedThumbWell\">\n",
      "\n",
      "    <a class=\"story-link\" href=\"http://www.nytimes.com/2016/01/28/world/middleeast/iranian-released-in-prisoner-exchange-finds-fault-with-its-handling.html\">\n",
      "\n",
      "                    <div class=\"thumb\">\n",
      "                <img src=\"http://static01.nyt.com/images/2016/01/27/world/27modanlo-web/27modanlo-web-thumbStandard.jpg\" alt=\"\" />\n",
      "            </div>\n",
      "        \n",
      "        <h3 class=\"story-heading\">\n",
      "        Iranian Released in Prisoner Exchange Finds Fault With Its Handling        </h3>\n",
      "    </a>\n",
      "</article>\n",
      "            </li>\n",
      "                    <li>\n",
      "            <article class=\"story\" data-story-id=\"100000004170812\" data-rank=\"1\" data-collection-renderstyle=\"HpHedThumbWell\">\n",
      "    <h2 class=\"story-heading\">\n",
      "        <a href=\"http://www.nytimes.com/2016/01/28/world/middleeast/israel-adolf-eichmann-holocaust.html\">\n",
      "            Pardon Plea by Adolf Eichmann, Nazi War Criminal, Is Made Public        </a>\n",
      "    </h2>\n",
      "</article>\n",
      "            </li>\n",
      "                    <li>\n",
      "            <article class=\"story\" data-story-id=\"100000004167712\" data-rank=\"2\" data-collection-renderstyle=\"HpHedThumbWell\">\n",
      "    <h2 class=\"story-heading\">\n",
      "        <a href=\"http://www.nytimes.com/2016/01/28/world/asia/china-xi-jinping-plot.html\">\n",
      "            Sinosphere: In Book, Xi Jinping Taints Ousted Rivals With Talk of Plots        </a>\n",
      "    </h2>\n",
      "</article>\n",
      "            </li>\n",
      "            </ul>\n",
      "</section>\n",
      "\n",
      "                    </div> <!-- close column -->\n",
      "\n",
      "                                \n",
      "                    <div class=\"column \">\n",
      "\n",
      "                        <section>\n",
      "    <h2 class=\"section-heading\">\n",
      "        <a href=\"http://www.nytimes.com/pages/business/index.html\">Business Day &raquo;</a>\n",
      "    </h2>\n",
      "    <ul>\n",
      "                    <li>\n",
      "            <article class=\"story theme-summary\" data-story-id=\"100000004169439\" data-rank=\"0\" data-collection-renderstyle=\"HpHedThumbWell\">\n",
      "\n",
      "    <a class=\"story-link\" href=\"http://www.nytimes.com/2016/01/28/business/dealbook/libor-trial-london-traders-cleared.html\">\n",
      "\n",
      "                    <div class=\"thumb\">\n",
      "                <img src=\"http://static01.nyt.com/images/2015/10/06/business/db-libor-web1/db-libor-web1-thumbStandard.jpg\" alt=\"\" />\n",
      "            </div>\n",
      "        \n",
      "        <h3 class=\"story-heading\">\n",
      "        5 Ex-Brokers Cleared in London Libor Trial        </h3>\n",
      "    </a>\n",
      "</article>\n",
      "            </li>\n",
      "                    <li>\n",
      "            <article class=\"story\" data-story-id=\"100000004169473\" data-rank=\"1\" data-collection-renderstyle=\"HpHedThumbWell\">\n",
      "    <h2 class=\"story-heading\">\n",
      "        <a href=\"http://www.nytimes.com/2016/01/28/technology/facebook-earnings-zuckerberg.html\">\n",
      "            Facebook Sales Soar 52%, Eclipsing Forecasts        </a>\n",
      "    </h2>\n",
      "</article>\n",
      "            </li>\n",
      "                    <li>\n",
      "            <article class=\"story\" data-story-id=\"100000004171102\" data-rank=\"2\" data-collection-renderstyle=\"HpHedThumbWell\">\n",
      "    <h2 class=\"story-heading\">\n",
      "        <a href=\"http://www.nytimes.com/2016/01/28/technology/fcc-proposes-changes-in-set-top-box-market.html\">\n",
      "            F.C.C. Proposes Changes in Cable Set-Top Box Market        </a>\n",
      "    </h2>\n",
      "</article>\n",
      "            </li>\n",
      "            </ul>\n",
      "</section>\n",
      "\n",
      "                    </div> <!-- close column -->\n",
      "\n",
      "                                \n",
      "                    <div class=\"column last-column\">\n",
      "\n",
      "                        <section>\n",
      "    <h2 class=\"section-heading\">\n",
      "        <a href=\"http://www.nytimes.com/pages/opinion/index.html\">Opinion &raquo;</a>\n",
      "    </h2>\n",
      "    <ul>\n",
      "                    <li>\n",
      "            <article class=\"story theme-summary\" data-story-id=\"100000004171008\" data-rank=\"0\" data-collection-renderstyle=\"HpHedThumbWell\">\n",
      "\n",
      "    <a class=\"story-link\" href=\"http://www.nytimes.com/2016/01/28/opinion/campaign-stops/for-bloomberg-ambition-vies-with-caution.html\">\n",
      "\n",
      "                    <div class=\"thumb\">\n",
      "                <img src=\"http://static01.nyt.com/images/2016/01/28/opinion/28purnickWeb/28purnickWeb-thumbStandard.jpg\" alt=\"\" />\n",
      "            </div>\n",
      "        \n",
      "        <h3 class=\"story-heading\">\n",
      "        Op-Ed Contributor: For Bloomberg, Ambition Vies With Caution        </h3>\n",
      "    </a>\n",
      "</article>\n",
      "            </li>\n",
      "                    <li>\n",
      "            <article class=\"story\" data-story-id=\"100000004169168\" data-rank=\"1\" data-collection-renderstyle=\"HpHedThumbWell\">\n",
      "    <h2 class=\"story-heading\">\n",
      "        <a href=\"http://www.nytimes.com/2016/01/27/opinion/vindication-for-planned-parenthood.html\">\n",
      "            Editorial: Vindication for Planned Parenthood        </a>\n",
      "    </h2>\n",
      "</article>\n",
      "            </li>\n",
      "                    <li>\n",
      "            <article class=\"story\" data-story-id=\"100000004169529\" data-rank=\"2\" data-collection-renderstyle=\"HpHedThumbWell\">\n",
      "    <h2 class=\"story-heading\">\n",
      "        <a href=\"http://www.nytimes.com/2016/01/27/opinion/the-twinned-egos-of-cruz-and-trump.html\">\n",
      "            Frank Bruni: The Twinned Egos of Cruz and Trump        </a>\n",
      "    </h2>\n",
      "</article>\n",
      "            </li>\n",
      "            </ul>\n",
      "</section>\n",
      "\n",
      "                    </div> <!-- close column -->\n",
      "\n",
      "                                \n",
      "            </div><!-- close split-3-layout -->\n",
      "\n",
      "        \n",
      "            <div class=\"split-3-layout layout theme-base\">\n",
      "\n",
      "                                \n",
      "                    <div class=\"column \">\n",
      "\n",
      "                        <section>\n",
      "    <h2 class=\"section-heading\">\n",
      "        <a href=\"http://www.nytimes.com/pages/national/index.html\">U.S. &raquo;</a>\n",
      "    </h2>\n",
      "    <ul>\n",
      "                    <li>\n",
      "            <article class=\"story theme-summary\" data-story-id=\"100000004172034\" data-rank=\"0\" data-collection-renderstyle=\"HpHedThumbWell\">\n",
      "\n",
      "    <a class=\"story-link\" href=\"http://www.nytimes.com/2016/01/28/us/department-of-justice-reaches-agreement-with-ferguson.html\">\n",
      "\n",
      "                    <div class=\"thumb\">\n",
      "                <img src=\"http://static01.nyt.com/images/2016/01/28/us/28ferguson-web/28ferguson-web-thumbStandard.jpg\" alt=\"\" />\n",
      "            </div>\n",
      "        \n",
      "        <h3 class=\"story-heading\">\n",
      "        Department of Justice Reaches Agreement With Ferguson        </h3>\n",
      "    </a>\n",
      "</article>\n",
      "            </li>\n",
      "                    <li>\n",
      "            <article class=\"story\" data-story-id=\"100000004171607\" data-rank=\"1\" data-collection-renderstyle=\"HpHedThumbWell\">\n",
      "    <h2 class=\"story-heading\">\n",
      "        <a href=\"http://www.nytimes.com/2016/01/28/us/lavoy-finicum-protester-killed-in-oregon.html\">\n",
      "            LaVoy Finicum: ‘I Would Rather Die Than Be Caged’        </a>\n",
      "    </h2>\n",
      "</article>\n",
      "            </li>\n",
      "                    <li>\n",
      "            <article class=\"story\" data-story-id=\"100000004166643\" data-rank=\"2\" data-collection-renderstyle=\"HpHedThumbWell\">\n",
      "    <h2 class=\"story-heading\">\n",
      "        <a href=\"http://www.nytimes.com/2016/01/28/us/wounded-warrior-project-spends-lavishly-on-itself-ex-employees-say.html\">\n",
      "            Wounded Warrior Project Spends Lavishly on Itself, Insiders Say        </a>\n",
      "    </h2>\n",
      "</article>\n",
      "            </li>\n",
      "            </ul>\n",
      "</section>\n",
      "\n",
      "                    </div> <!-- close column -->\n",
      "\n",
      "                                \n",
      "                    <div class=\"column \">\n",
      "\n",
      "                        <section>\n",
      "    <h2 class=\"section-heading\">\n",
      "        <a href=\"http://www.nytimes.com/pages/technology/index.html\">Technology &raquo;</a>\n",
      "    </h2>\n",
      "    <ul>\n",
      "                    <li>\n",
      "            <article class=\"story theme-summary\" data-story-id=\"100000004169473\" data-rank=\"0\" data-collection-renderstyle=\"HpHedThumbWell\">\n",
      "\n",
      "    <a class=\"story-link\" href=\"http://www.nytimes.com/2016/01/28/technology/facebook-earnings-zuckerberg.html\">\n",
      "\n",
      "                    <div class=\"thumb\">\n",
      "                <img src=\"http://static01.nyt.com/images/2016/01/28/business/28facebook-web/28facebook-web-thumbStandard.jpg\" alt=\"\" />\n",
      "            </div>\n",
      "        \n",
      "        <h3 class=\"story-heading\">\n",
      "        Facebook Sales Soar 52%, Eclipsing Forecasts        </h3>\n",
      "    </a>\n",
      "</article>\n",
      "            </li>\n",
      "                    <li>\n",
      "            <article class=\"story\" data-story-id=\"100000004171102\" data-rank=\"1\" data-collection-renderstyle=\"HpHedThumbWell\">\n",
      "    <h2 class=\"story-heading\">\n",
      "        <a href=\"http://www.nytimes.com/2016/01/28/technology/fcc-proposes-changes-in-set-top-box-market.html\">\n",
      "            F.C.C. Proposes Changes in Cable Set-Top Box Market        </a>\n",
      "    </h2>\n",
      "</article>\n",
      "            </li>\n",
      "                    <li>\n",
      "            <article class=\"story\" data-story-id=\"100000004169594\" data-rank=\"2\" data-collection-renderstyle=\"HpHedThumbWell\">\n",
      "    <h2 class=\"story-heading\">\n",
      "        <a href=\"http://www.nytimes.com/2016/01/28/technology/no-need-to-fret-apple-is-doing-fine.html\">\n",
      "            State of the Art: No Need to Fret, Apple Is Doing Fine        </a>\n",
      "    </h2>\n",
      "</article>\n",
      "            </li>\n",
      "            </ul>\n",
      "</section>\n",
      "\n",
      "                    </div> <!-- close column -->\n",
      "\n",
      "                                \n",
      "                    <div class=\"column last-column\">\n",
      "\n",
      "                        <section>\n",
      "    <h2 class=\"section-heading\">\n",
      "        <a href=\"http://www.nytimes.com/pages/arts/index.html\">Arts &raquo;</a>\n",
      "    </h2>\n",
      "    <ul>\n",
      "                    <li>\n",
      "            <article class=\"story theme-summary\" data-story-id=\"100000004172243\" data-rank=\"0\" data-collection-renderstyle=\"HpHedThumbWell\">\n",
      "\n",
      "    <a class=\"story-link\" href=\"http://www.nytimes.com/2016/01/28/arts/television/fox-news-vs-trump-setting-free-the-golden-goose.html\">\n",
      "\n",
      "                    <div class=\"thumb\">\n",
      "                <img src=\"http://static01.nyt.com/images/2016/01/28/arts/DEBATE/DEBATE-thumbStandard.jpg\" alt=\"\" />\n",
      "            </div>\n",
      "        \n",
      "        <h3 class=\"story-heading\">\n",
      "        Critic’s Notebook: Fox News vs. Trump: Setting Free the Golden Goose        </h3>\n",
      "    </a>\n",
      "</article>\n",
      "            </li>\n",
      "                    <li>\n",
      "            <article class=\"story\" data-story-id=\"100000004168739\" data-rank=\"1\" data-collection-renderstyle=\"HpHedThumbWell\">\n",
      "    <h2 class=\"story-heading\">\n",
      "        <a href=\"http://www.nytimes.com/2016/01/28/arts/music/new-york-philharmonic-taps-jaap-van-zweden-as-its-next-maestro.html\">\n",
      "            New York Philharmonic Taps Jaap van Zweden as Its Next Maestro        </a>\n",
      "    </h2>\n",
      "</article>\n",
      "            </li>\n",
      "                    <li>\n",
      "            <article class=\"story\" data-story-id=\"100000004168482\" data-rank=\"2\" data-collection-renderstyle=\"HpHedThumbWell\">\n",
      "    <h2 class=\"story-heading\">\n",
      "        <a href=\"http://www.nytimes.com/2016/01/28/arts/jaap-van-zweden-and-the-future-of-the-new-york-philharmonic.html\">\n",
      "            Critic's Notebook: Jaap van Zweden and the Future of the New York Philharmonic        </a>\n",
      "    </h2>\n",
      "</article>\n",
      "            </li>\n",
      "            </ul>\n",
      "</section>\n",
      "\n",
      "                    </div> <!-- close column -->\n",
      "\n",
      "                                \n",
      "            </div><!-- close split-3-layout -->\n",
      "\n",
      "        \n",
      "            <div class=\"split-3-layout layout theme-base\">\n",
      "\n",
      "                                \n",
      "                    <div class=\"column \">\n",
      "\n",
      "                        <section>\n",
      "    <h2 class=\"section-heading\">\n",
      "        <a href=\"http://www.nytimes.com/pages/politics/index.html\">Politics &raquo;</a>\n",
      "    </h2>\n",
      "    <ul>\n",
      "                    <li>\n",
      "            <article class=\"story theme-summary\" data-story-id=\"100000004172600\" data-rank=\"0\" data-collection-renderstyle=\"HpHedThumbWell\">\n",
      "\n",
      "    <a class=\"story-link\" href=\"http://www.nytimes.com/politics/first-draft/2016/01/27/donald-trump-details-his-debate-night-plans/\">\n",
      "\n",
      "                    <div class=\"thumb\">\n",
      "                <img src=\"http://static01.nyt.com/images/2016/01/27/us/27firstdraft-trump5/27firstdraft-trump5-thumbStandard.jpg\" alt=\"\" />\n",
      "            </div>\n",
      "        \n",
      "        <h3 class=\"story-heading\">\n",
      "        First Draft: Donald Trump Details His Debate Night Plans        </h3>\n",
      "    </a>\n",
      "</article>\n",
      "            </li>\n",
      "                    <li>\n",
      "            <article class=\"story\" data-story-id=\"100000004171819\" data-rank=\"1\" data-collection-renderstyle=\"HpHedThumbWell\">\n",
      "    <h2 class=\"story-heading\">\n",
      "        <a href=\"http://www.nytimes.com/2016/01/28/us/politics/ben-carsons-campaign-beset-with-frustration-disappointment-and-grief.html\">\n",
      "            Ben Carson’s Campaign Beset With Frustration, Disappointment and Grief        </a>\n",
      "    </h2>\n",
      "</article>\n",
      "            </li>\n",
      "                    <li>\n",
      "            <article class=\"story\" data-story-id=\"100000004172434\" data-rank=\"2\" data-collection-renderstyle=\"HpHedThumbWell\">\n",
      "    <h2 class=\"story-heading\">\n",
      "        <a href=\"http://www.nytimes.com/politics/first-draft/2016/01/27/bernie-sanders-insists-hell-keep-pledge-to-release-medical-records-before-iowa-caucuses/\">\n",
      "            First Draft: Bernie Sanders Insists He’ll Keep Pledge to Release Medical Records Before Iowa Caucuses        </a>\n",
      "    </h2>\n",
      "</article>\n",
      "            </li>\n",
      "            </ul>\n",
      "</section>\n",
      "\n",
      "                    </div> <!-- close column -->\n",
      "\n",
      "                                \n",
      "                    <div class=\"column \">\n",
      "\n",
      "                        <section>\n",
      "    <h2 class=\"section-heading\">\n",
      "        <a href=\"http://www.nytimes.com/pages/fashion/index.html\">Fashion & Style &raquo;</a>\n",
      "    </h2>\n",
      "    <ul>\n",
      "                    <li>\n",
      "            <article class=\"story theme-summary\" data-story-id=\"100000004169156\" data-rank=\"0\" data-collection-renderstyle=\"HpHedThumbWell\">\n",
      "\n",
      "    <a class=\"story-link\" href=\"http://www.nytimes.com/2016/01/28/fashion/chris-hemsworth-is-the-new-face-of-australia.html\">\n",
      "\n",
      "                    <div class=\"thumb\">\n",
      "                <img src=\"http://static01.nyt.com/images/2016/01/28/fashion/28SCENE-WEB1/28SCENE-WEB1-thumbStandard.jpg\" alt=\"\" />\n",
      "            </div>\n",
      "        \n",
      "        <h3 class=\"story-heading\">\n",
      "        Scene City: Chris Hemsworth Is the New Face of Australia        </h3>\n",
      "    </a>\n",
      "</article>\n",
      "            </li>\n",
      "                    <li>\n",
      "            <article class=\"story\" data-story-id=\"100000004137332\" data-rank=\"1\" data-collection-renderstyle=\"HpHedThumbWell\">\n",
      "    <h2 class=\"story-heading\">\n",
      "        <a href=\"http://www.nytimes.com/2016/01/28/fashion/a-director-follows-acclaim-for-tangerine-with-a-film-for-kenzo.html\">\n",
      "            Front Row: A Director Follows Acclaim for ‘Tangerine’ With a Film for Kenzo        </a>\n",
      "    </h2>\n",
      "</article>\n",
      "            </li>\n",
      "                    <li>\n",
      "            <article class=\"story\" data-story-id=\"100000004159026\" data-rank=\"2\" data-collection-renderstyle=\"HpHedThumbWell\">\n",
      "    <h2 class=\"story-heading\">\n",
      "        <a href=\"http://www.nytimes.com/2016/01/28/fashion/warming-up-to-sale-at-artists-fleas.html\">\n",
      "            Scouting Report: Warming Up to Sale at Artists &amp; Fleas        </a>\n",
      "    </h2>\n",
      "</article>\n",
      "            </li>\n",
      "            </ul>\n",
      "</section>\n",
      "\n",
      "                    </div> <!-- close column -->\n",
      "\n",
      "                                \n",
      "                    <div class=\"column last-column\">\n",
      "\n",
      "                        <section>\n",
      "    <h2 class=\"section-heading\">\n",
      "        <a href=\"http://www.nytimes.com/pages/movies/index.html\">Movies &raquo;</a>\n",
      "    </h2>\n",
      "    <ul>\n",
      "                    <li>\n",
      "            <article class=\"story theme-summary\" data-story-id=\"100000004168743\" data-rank=\"0\" data-collection-renderstyle=\"HpHedThumbWell\">\n",
      "\n",
      "    <a class=\"story-link\" href=\"http://www.nytimes.com/2016/01/28/movies/the-oscars-and-race-a-stir-over-rules-to-change-the-academy.html\">\n",
      "\n",
      "                    <div class=\"thumb\">\n",
      "                <img src=\"http://static01.nyt.com/images/2016/01/28/arts/28CARPETBAGGERJP1/28CARPETBAGGERJP1-thumbStandard.jpg\" alt=\"\" />\n",
      "            </div>\n",
      "        \n",
      "        <h3 class=\"story-heading\">\n",
      "        The Carpetbagger: The Oscars and Race: A Stir Over Rules to Change the Academy        </h3>\n",
      "    </a>\n",
      "</article>\n",
      "            </li>\n",
      "                    <li>\n",
      "            <article class=\"story\" data-story-id=\"100000004155976\" data-rank=\"1\" data-collection-renderstyle=\"HpHedThumbWell\">\n",
      "    <h2 class=\"story-heading\">\n",
      "        <a href=\"http://www.nytimes.com/2016/01/31/arts/carol-and-transparent-women-in-love-then-and-now.html\">\n",
      "            ‘Carol’ and ‘Transparent’: Women in Love, Then and Now        </a>\n",
      "    </h2>\n",
      "</article>\n",
      "            </li>\n",
      "                    <li>\n",
      "            <article class=\"story\" data-story-id=\"100000004168642\" data-rank=\"2\" data-collection-renderstyle=\"HpHedThumbWell\">\n",
      "    <h2 class=\"story-heading\">\n",
      "        <a href=\"http://www.nytimes.com/2016/01/27/business/media/fox-searchlight-bids-17-million-for-the-birth-of-a-nation.html\">\n",
      "            Sundance Roars for a Black Film, and Fox Searchlight Bids $17 Million        </a>\n",
      "    </h2>\n",
      "</article>\n",
      "            </li>\n",
      "            </ul>\n",
      "</section>\n",
      "\n",
      "                    </div> <!-- close column -->\n",
      "\n",
      "                                \n",
      "            </div><!-- close split-3-layout -->\n",
      "\n",
      "        \n",
      "            <div class=\"split-3-layout layout theme-base\">\n",
      "\n",
      "                                \n",
      "                    <div class=\"column \">\n",
      "\n",
      "                        <section>\n",
      "    <h2 class=\"section-heading\">\n",
      "        <a href=\"http://www.nytimes.com/pages/nyregion/index.html\">New York &raquo;</a>\n",
      "    </h2>\n",
      "    <ul>\n",
      "                    <li>\n",
      "            <article class=\"story theme-summary\" data-story-id=\"100000004171768\" data-rank=\"0\" data-collection-renderstyle=\"HpHedThumbWell\">\n",
      "\n",
      "    <a class=\"story-link\" href=\"http://www.nytimes.com/2016/01/28/nyregion/manhattan-construction-worker-injured-in-fall-down-elevator-shaft.html\">\n",
      "\n",
      "                    <div class=\"thumb\">\n",
      "                <img src=\"http://static01.nyt.com/images/2016/01/28/nyregion/28FALL/28FALL-thumbStandard.jpg\" alt=\"\" />\n",
      "            </div>\n",
      "        \n",
      "        <h3 class=\"story-heading\">\n",
      "        Manhattan Construction Worker Injured in Fall Down Elevator Shaft        </h3>\n",
      "    </a>\n",
      "</article>\n",
      "            </li>\n",
      "                    <li>\n",
      "            <article class=\"story\" data-story-id=\"100000004171412\" data-rank=\"1\" data-collection-renderstyle=\"HpHedThumbWell\">\n",
      "    <h2 class=\"story-heading\">\n",
      "        <a href=\"http://www.nytimes.com/2016/01/28/nyregion/spate-of-slashings-puts-new-yorkers-on-edge.html\">\n",
      "            Spate of Slashings Puts New Yorkers on Edge        </a>\n",
      "    </h2>\n",
      "</article>\n",
      "            </li>\n",
      "                    <li>\n",
      "            <article class=\"story\" data-story-id=\"100000004162006\" data-rank=\"2\" data-collection-renderstyle=\"HpHedThumbWell\">\n",
      "    <h2 class=\"story-heading\">\n",
      "        <a href=\"http://www.nytimes.com/2016/01/31/nyregion/schmidts-candy-a-sweet-spot-in-queens.html\">\n",
      "            Neighborhood Joint: Schmidt’s Candy, a Sweet Spot in Queens        </a>\n",
      "    </h2>\n",
      "</article>\n",
      "            </li>\n",
      "            </ul>\n",
      "</section>\n",
      "\n",
      "                    </div> <!-- close column -->\n",
      "\n",
      "                                \n",
      "                    <div class=\"column \">\n",
      "\n",
      "                        <section>\n",
      "    <h2 class=\"section-heading\">\n",
      "        <a href=\"http://www.nytimes.com/pages/sports/index.html\">Sports &raquo;</a>\n",
      "    </h2>\n",
      "    <ul>\n",
      "                    <li>\n",
      "            <article class=\"story theme-summary\" data-story-id=\"100000004169046\" data-rank=\"0\" data-collection-renderstyle=\"HpHedThumbWell\">\n",
      "\n",
      "    <a class=\"story-link\" href=\"http://www.nytimes.com/2016/01/28/sports/tennis/australian-open-match-fixing-essay.html\">\n",
      "\n",
      "                    <div class=\"thumb\">\n",
      "                <img src=\"http://static01.nyt.com/images/2016/01/28/sports/28FIXINGweb/28FIXINGweb-thumbStandard.jpg\" alt=\"\" />\n",
      "            </div>\n",
      "        \n",
      "        <h3 class=\"story-heading\">\n",
      "        Essay: An Invitation Into the Shadowy World of Match Fixing        </h3>\n",
      "    </a>\n",
      "</article>\n",
      "            </li>\n",
      "                    <li>\n",
      "            <article class=\"story\" data-story-id=\"100000004168776\" data-rank=\"1\" data-collection-renderstyle=\"HpHedThumbWell\">\n",
      "    <h2 class=\"story-heading\">\n",
      "        <a href=\"http://www.nytimes.com/2016/01/27/sports/tennis/tennis-plans-new-measures-to-fight-match-fixing.html\">\n",
      "            Tennis Announces Review of Anticorruption Efforts        </a>\n",
      "    </h2>\n",
      "</article>\n",
      "            </li>\n",
      "                    <li>\n",
      "            <article class=\"story\" data-story-id=\"100000004170520\" data-rank=\"2\" data-collection-renderstyle=\"HpHedThumbWell\">\n",
      "    <h2 class=\"story-heading\">\n",
      "        <a href=\"http://www.nytimes.com/2016/01/28/sports/tennis/milos-raonic-andy-murray-australian-open.html\">\n",
      "            On Tennis: Milos Raonic Crashes the Australian Open Semifinals Party        </a>\n",
      "    </h2>\n",
      "</article>\n",
      "            </li>\n",
      "            </ul>\n",
      "</section>\n",
      "\n",
      "                    </div> <!-- close column -->\n",
      "\n",
      "                                \n",
      "                    <div class=\"column last-column\">\n",
      "\n",
      "                        <section>\n",
      "    <h2 class=\"section-heading\">\n",
      "        <a href=\"http://theater.nytimes.com/\">Theater &raquo;</a>\n",
      "    </h2>\n",
      "    <ul>\n",
      "                    <li>\n",
      "            <article class=\"story theme-summary\" data-story-id=\"100000004170983\" data-rank=\"0\" data-collection-renderstyle=\"HpHedThumbWell\">\n",
      "\n",
      "    <a class=\"story-link\" href=\"http://www.nytimes.com/2016/01/28/theater/blanchett-to-make-broadway-debut-in-play-directed-by-john-crowley.html\">\n",
      "\n",
      "                    <div class=\"thumb\">\n",
      "                <img src=\"http://static01.nyt.com/images/2016/01/28/arts/BLANCHETT/BLANCHETT-thumbStandard-v2.jpg\" alt=\"\" />\n",
      "            </div>\n",
      "        \n",
      "        <h3 class=\"story-heading\">\n",
      "        Blanchett to Make Broadway Debut in Play Directed by John Crowley        </h3>\n",
      "    </a>\n",
      "</article>\n",
      "            </li>\n",
      "                    <li>\n",
      "            <article class=\"story\" data-story-id=\"100000004156131\" data-rank=\"1\" data-collection-renderstyle=\"HpHedThumbWell\">\n",
      "    <h2 class=\"story-heading\">\n",
      "        <a href=\"http://www.nytimes.com/2016/01/28/theater/review-imagining-the-imaginary-invalid-about-absence-and-art-making.html\">\n",
      "            Review: ‘Imagining the Imaginary Invalid,’ About Absence and Art Making        </a>\n",
      "    </h2>\n",
      "</article>\n",
      "            </li>\n",
      "                    <li>\n",
      "            <article class=\"story\" data-story-id=\"100000004155960\" data-rank=\"2\" data-collection-renderstyle=\"HpHedThumbWell\">\n",
      "    <h2 class=\"story-heading\">\n",
      "        <a href=\"http://www.nytimes.com/2016/01/31/theater/2666-a-most-difficult-novel-takes-the-stage.html\">\n",
      "            ‘2666,’ a Most Difficult Novel, Takes the Stage        </a>\n",
      "    </h2>\n",
      "</article>\n",
      "            </li>\n",
      "            </ul>\n",
      "</section>\n",
      "\n",
      "                    </div> <!-- close column -->\n",
      "\n",
      "                                \n",
      "            </div><!-- close split-3-layout -->\n",
      "\n",
      "        \n",
      "            <div class=\"split-3-layout layout theme-base\">\n",
      "\n",
      "                                \n",
      "                    <div class=\"column \">\n",
      "\n",
      "                        <section>\n",
      "    <h2 class=\"section-heading\">\n",
      "        <a href=\"http://www.nytimes.com/section/science\">Science &raquo;</a>\n",
      "    </h2>\n",
      "    <ul>\n",
      "                    <li>\n",
      "            <article class=\"story theme-summary\" data-story-id=\"100000004168578\" data-rank=\"0\" data-collection-renderstyle=\"HpHedThumbWell\">\n",
      "\n",
      "    <a class=\"story-link\" href=\"http://www.nytimes.com/2016/01/27/science/how-to-get-five-planets-into-a-single-photograph.html\">\n",
      "\n",
      "                    <div class=\"thumb\">\n",
      "                <img src=\"http://static01.nyt.com/images/2016/01/27/science/27planets/27planets-thumbStandard.jpg\" alt=\"\" />\n",
      "            </div>\n",
      "        \n",
      "        <h3 class=\"story-heading\">\n",
      "        How to Get Five Planets Into a Single Photograph        </h3>\n",
      "    </a>\n",
      "</article>\n",
      "            </li>\n",
      "                    <li>\n",
      "            <article class=\"story\" data-story-id=\"100000004158734\" data-rank=\"1\" data-collection-renderstyle=\"HpHedThumbWell\">\n",
      "    <h2 class=\"story-heading\">\n",
      "        <a href=\"http://www.nytimes.com/2016/01/26/science/in-an-ancient-tomb-a-hierarchy-of-the-dead.html\">\n",
      "            Observatory: In an Ancient Tomb, a Hierarchy of the Dead        </a>\n",
      "    </h2>\n",
      "</article>\n",
      "            </li>\n",
      "                    <li>\n",
      "            <article class=\"story\" data-story-id=\"100000004126442\" data-rank=\"2\" data-collection-renderstyle=\"HpHedThumbWell\">\n",
      "    <h2 class=\"story-heading\">\n",
      "        <a href=\"http://www.nytimes.com/2016/01/26/science/unraveling-the-ties-of-altitude-oxygen-and-lung-cancer.html\">\n",
      "            Raw Data: Unraveling the Ties of Altitude, Oxygen and Lung Cancer        </a>\n",
      "    </h2>\n",
      "</article>\n",
      "            </li>\n",
      "            </ul>\n",
      "</section>\n",
      "\n",
      "                    </div> <!-- close column -->\n",
      "\n",
      "                                \n",
      "                    <div class=\"column \">\n",
      "\n",
      "                        <section>\n",
      "    <h2 class=\"section-heading\">\n",
      "        <a href=\"http://www.nytimes.com/section/obituaries\">Obituaries &raquo;</a>\n",
      "    </h2>\n",
      "    <ul>\n",
      "                    <li>\n",
      "            <article class=\"story theme-summary\" data-story-id=\"100000004171631\" data-rank=\"0\" data-collection-renderstyle=\"HpHedThumbWell\">\n",
      "\n",
      "    <a class=\"story-link\" href=\"http://www.nytimes.com/2016/01/28/sports/autoracing/barney-hall-folksy-voice-of-nascar-dies-at-83.html\">\n",
      "\n",
      "                    <div class=\"thumb\">\n",
      "                <img src=\"http://static01.nyt.com/images/2016/01/28/sports/hall-obit-web/hall-obit-web-thumbStandard.jpg\" alt=\"\" />\n",
      "            </div>\n",
      "        \n",
      "        <h3 class=\"story-heading\">\n",
      "        Barney Hall, Folksy Voice of Nascar, Dies at 83        </h3>\n",
      "    </a>\n",
      "</article>\n",
      "            </li>\n",
      "                    <li>\n",
      "            <article class=\"story\" data-story-id=\"100000004166497\" data-rank=\"1\" data-collection-renderstyle=\"HpHedThumbWell\">\n",
      "    <h2 class=\"story-heading\">\n",
      "        <a href=\"http://www.nytimes.com/2016/01/28/arts/music/robert-tuggle-longtime-archivist-of-the-metropolitan-opera-dies-at-83.html\">\n",
      "            Robert Tuggle, Longtime Archivist of the Metropolitan Opera, Dies at 83        </a>\n",
      "    </h2>\n",
      "</article>\n",
      "            </li>\n",
      "                    <li>\n",
      "            <article class=\"story\" data-story-id=\"100000004161542\" data-rank=\"2\" data-collection-renderstyle=\"HpHedThumbWell\">\n",
      "    <h2 class=\"story-heading\">\n",
      "        <a href=\"http://www.nytimes.com/2016/01/28/arts/dance/mrinalini-sarabhai-renowned-indian-classical-dancer-dies-at-97.html\">\n",
      "            Mrinalini Sarabhai, Renowned Indian Classical Dancer, Dies at 97        </a>\n",
      "    </h2>\n",
      "</article>\n",
      "            </li>\n",
      "            </ul>\n",
      "</section>\n",
      "\n",
      "                    </div> <!-- close column -->\n",
      "\n",
      "                                \n",
      "                    <div class=\"column last-column\">\n",
      "\n",
      "                        <section>\n",
      "    <h2 class=\"section-heading\">\n",
      "        <a href=\"http://www.nytimes.com/pages/arts/television/index.html\">Television &raquo;</a>\n",
      "    </h2>\n",
      "    <ul>\n",
      "                    <li>\n",
      "            <article class=\"story theme-summary\" data-story-id=\"100000004166667\" data-rank=\"0\" data-collection-renderstyle=\"HpHedThumbWell\">\n",
      "\n",
      "    <a class=\"story-link\" href=\"http://www.nytimes.com/interactive/2016/01/25/arts/television/the-x-files-new-season-quiz.html\">\n",
      "\n",
      "                    <div class=\"thumb\">\n",
      "                <img src=\"http://static01.nyt.com/images/2016/01/22/arts/xfilesquiz-tooms/xfilesquiz-tooms-thumbStandard.jpg\" alt=\"\" />\n",
      "            </div>\n",
      "        \n",
      "        <h3 class=\"story-heading\">\n",
      "        How Well Do You Know Your &#8216;X-Files&#8217; Monsters?        </h3>\n",
      "    </a>\n",
      "</article>\n",
      "            </li>\n",
      "                    <li>\n",
      "            <article class=\"story\" data-story-id=\"100000004158770\" data-rank=\"1\" data-collection-renderstyle=\"HpHedThumbWell\">\n",
      "    <h2 class=\"story-heading\">\n",
      "        <a href=\"http://www.nytimes.com/2016/01/24/arts/television/the-x-files-season-10-premiere-review.html\">\n",
      "            ‘The X-Files’ Season 10 Premiere: A Crazier Mulder Than Usual        </a>\n",
      "    </h2>\n",
      "</article>\n",
      "            </li>\n",
      "                    <li>\n",
      "            <article class=\"story\" data-story-id=\"100000004164072\" data-rank=\"2\" data-collection-renderstyle=\"HpHedThumbWell\">\n",
      "    <h2 class=\"story-heading\">\n",
      "        <a href=\"http://www.nytimes.com/2016/01/25/arts/television/the-cigarette-smoking-man-of-the-x-files-resurfaces.html\">\n",
      "            A Word With: William B. Davis: The Cigarette Smoking Man of ‘The X-Files’ Resurfaces        </a>\n",
      "    </h2>\n",
      "</article>\n",
      "            </li>\n",
      "            </ul>\n",
      "</section>\n",
      "\n",
      "                    </div> <!-- close column -->\n",
      "\n",
      "                                \n",
      "            </div><!-- close split-3-layout -->\n",
      "\n",
      "        \n",
      "            <div class=\"split-3-layout layout theme-base\">\n",
      "\n",
      "                                \n",
      "                    <div class=\"column \">\n",
      "\n",
      "                        <section>\n",
      "    <h2 class=\"section-heading\">\n",
      "        <a href=\"http://www.nytimes.com/pages/health/index.html\">Health &raquo;</a>\n",
      "    </h2>\n",
      "    <ul>\n",
      "                    <li>\n",
      "            <article class=\"story theme-summary\" data-story-id=\"100000004169237\" data-rank=\"0\" data-collection-renderstyle=\"HpHedThumbWell\">\n",
      "\n",
      "    <a class=\"story-link\" href=\"http://www.nytimes.com/2016/01/28/health/schizophrenia-cause-synaptic-pruning-brain-psychiatry.html\">\n",
      "\n",
      "                    <div class=\"thumb\">\n",
      "                <img src=\"http://static01.nyt.com/images/2016/01/28/science/28SCHIZOPHRENIA5/28SCHIZOPHRENIA5-thumbStandard.jpg\" alt=\"\" />\n",
      "            </div>\n",
      "        \n",
      "        <h3 class=\"story-heading\">\n",
      "        Scientists Move Closer to Understanding Schizophrenia’s Cause        </h3>\n",
      "    </a>\n",
      "</article>\n",
      "            </li>\n",
      "                    <li>\n",
      "            <article class=\"story\" data-story-id=\"100000004170606\" data-rank=\"1\" data-collection-renderstyle=\"HpHedThumbWell\">\n",
      "    <h2 class=\"story-heading\">\n",
      "        <a href=\"http://well.blogs.nytimes.com/2016/01/27/to-prevent-back-pain-orthotics-are-out-exercise-is-in/\">\n",
      "            Phys Ed: To Prevent Back Pain, Orthotics Are Out, Exercise Is In        </a>\n",
      "    </h2>\n",
      "</article>\n",
      "            </li>\n",
      "                    <li>\n",
      "            <article class=\"story\" data-story-id=\"100000004171339\" data-rank=\"2\" data-collection-renderstyle=\"HpHedThumbWell\">\n",
      "    <h2 class=\"story-heading\">\n",
      "        <a href=\"http://well.blogs.nytimes.com/2016/01/27/irregular-heartbeats-coffee-may-not-be-so-bad-for-you/\">\n",
      "            Well: Irregular Heartbeats? Coffee May Not Be So Bad for You        </a>\n",
      "    </h2>\n",
      "</article>\n",
      "            </li>\n",
      "            </ul>\n",
      "</section>\n",
      "\n",
      "                    </div> <!-- close column -->\n",
      "\n",
      "                                \n",
      "                    <div class=\"column \">\n",
      "\n",
      "                        <section>\n",
      "    <h2 class=\"section-heading\">\n",
      "        <a href=\"http://www.nytimes.com/section/travel\">Travel &raquo;</a>\n",
      "    </h2>\n",
      "    <ul>\n",
      "                    <li>\n",
      "            <article class=\"story theme-summary\" data-story-id=\"100000004159204\" data-rank=\"0\" data-collection-renderstyle=\"HpHedThumbWell\">\n",
      "\n",
      "    <a class=\"story-link\" href=\"http://www.nytimes.com/2016/01/31/travel/rio-de-janeiro-brazil-samba.html\">\n",
      "\n",
      "                    <div class=\"thumb\">\n",
      "                <img src=\"http://static01.nyt.com/images/2016/01/31/travel/31SAMBA1/31SAMBA1-thumbStandard.jpg\" alt=\"\" />\n",
      "            </div>\n",
      "        \n",
      "        <h3 class=\"story-heading\">\n",
      "        Pursuits: In Rio, the Work Goes in Before the Party Goes On        </h3>\n",
      "    </a>\n",
      "</article>\n",
      "            </li>\n",
      "                    <li>\n",
      "            <article class=\"story\" data-story-id=\"100000003885856\" data-rank=\"1\" data-collection-renderstyle=\"HpHedThumbWell\">\n",
      "    <h2 class=\"story-heading\">\n",
      "        <a href=\"http://www.nytimes.com/2016/01/31/travel/namibia-tour-road-trip.html\">\n",
      "            7 Days, 1,500 Miles in Namibia        </a>\n",
      "    </h2>\n",
      "</article>\n",
      "            </li>\n",
      "            </ul>\n",
      "</section>\n",
      "\n",
      "                    </div> <!-- close column -->\n",
      "\n",
      "                                \n",
      "                    <div class=\"column last-column\">\n",
      "\n",
      "                        <section>\n",
      "    <h2 class=\"section-heading\">\n",
      "        <a href=\"http://www.nytimes.com/pages/books/index.html\">Books &raquo;</a>\n",
      "    </h2>\n",
      "    <ul>\n",
      "                    <li>\n",
      "            <article class=\"story theme-summary\" data-story-id=\"100000004168744\" data-rank=\"0\" data-collection-renderstyle=\"HpHedThumbWell\">\n",
      "\n",
      "    <a class=\"story-link\" href=\"http://www.nytimes.com/2016/01/28/books/review-facing-marriage-and-befriending-a-squirrel-in-the-portable-veblen.html\">\n",
      "\n",
      "                    <div class=\"thumb\">\n",
      "                <img src=\"http://static01.nyt.com/images/2016/01/28/arts/28BOOKMCKENZIE/28BOOKMCKENZIE-thumbStandard.jpg\" alt=\"\" />\n",
      "            </div>\n",
      "        \n",
      "        <h3 class=\"story-heading\">\n",
      "        Books of The Times: Review: Facing Marriage and Befriending a Squirrel in ‘The Portable Veblen’        </h3>\n",
      "    </a>\n",
      "</article>\n",
      "            </li>\n",
      "                    <li>\n",
      "            <article class=\"story\" data-story-id=\"100000004168768\" data-rank=\"1\" data-collection-renderstyle=\"HpHedThumbWell\">\n",
      "    <h2 class=\"story-heading\">\n",
      "        <a href=\"http://www.nytimes.com/2016/01/28/books/samantha-hunts-mr-splitfoot-and-more.html\">\n",
      "            Samantha Hunt’s ‘Mr. Splitfoot,’ and More        </a>\n",
      "    </h2>\n",
      "</article>\n",
      "            </li>\n",
      "                    <li>\n",
      "            <article class=\"story\" data-story-id=\"100000004155960\" data-rank=\"2\" data-collection-renderstyle=\"HpHedThumbWell\">\n",
      "    <h2 class=\"story-heading\">\n",
      "        <a href=\"http://www.nytimes.com/2016/01/31/theater/2666-a-most-difficult-novel-takes-the-stage.html\">\n",
      "            ‘2666,’ a Most Difficult Novel, Takes the Stage        </a>\n",
      "    </h2>\n",
      "</article>\n",
      "            </li>\n",
      "            </ul>\n",
      "</section>\n",
      "\n",
      "                    </div> <!-- close column -->\n",
      "\n",
      "                                \n",
      "            </div><!-- close split-3-layout -->\n",
      "\n",
      "        \n",
      "            <div class=\"split-3-layout layout theme-base\">\n",
      "\n",
      "                                \n",
      "                    <div class=\"column \">\n",
      "\n",
      "                        <section>\n",
      "    <h2 class=\"section-heading\">\n",
      "        <a href=\"http://www.nytimes.com/pages/education/index.html\">Education &raquo;</a>\n",
      "    </h2>\n",
      "    <ul>\n",
      "                    <li>\n",
      "            <article class=\"story theme-summary\" data-story-id=\"100000004160350\" data-rank=\"0\" data-collection-renderstyle=\"HpHedThumbWell\">\n",
      "\n",
      "    <a class=\"story-link\" href=\"http://www.nytimes.com/2016/01/31/magazine/can-i-call-my-nonbiological-twins-black-because-my-husband-is.html\">\n",
      "\n",
      "                    <div class=\"thumb\">\n",
      "                <img src=\"http://static01.nyt.com/images/2016/01/31/magazine/31ethicist/31ethicist-thumbStandard.jpg\" alt=\"\" />\n",
      "            </div>\n",
      "        \n",
      "        <h3 class=\"story-heading\">\n",
      "        The Ethicist: Can I Call My Nonbiological Twins Black Because My Husband Is?        </h3>\n",
      "    </a>\n",
      "</article>\n",
      "            </li>\n",
      "                    <li>\n",
      "            <article class=\"story\" data-story-id=\"100000004168329\" data-rank=\"1\" data-collection-renderstyle=\"HpHedThumbWell\">\n",
      "    <h2 class=\"story-heading\">\n",
      "        <a href=\"http://www.nytimes.com/2016/01/27/us/amherst-college-drops-lord-jeff-as-mascot.html\">\n",
      "            Amherst College Drops ‘Lord Jeff’ as Mascot        </a>\n",
      "    </h2>\n",
      "</article>\n",
      "            </li>\n",
      "                    <li>\n",
      "            <article class=\"story\" data-story-id=\"100000004166058\" data-rank=\"2\" data-collection-renderstyle=\"HpHedThumbWell\">\n",
      "    <h2 class=\"story-heading\">\n",
      "        <a href=\"http://www.nytimes.com/2016/01/26/opinion/ekg-screening-for-college-athletes.html\">\n",
      "            Sandeep Jauhar: EKG Screening for College Athletes        </a>\n",
      "    </h2>\n",
      "</article>\n",
      "            </li>\n",
      "            </ul>\n",
      "</section>\n",
      "\n",
      "                    </div> <!-- close column -->\n",
      "\n",
      "                                \n",
      "                    <div class=\"column \">\n",
      "\n",
      "                        <section>\n",
      "    <h2 class=\"section-heading\">\n",
      "        <a href=\"http://www.nytimes.com/pages/dining/index.html\">Food &raquo;</a>\n",
      "    </h2>\n",
      "    <ul>\n",
      "                    <li>\n",
      "            <article class=\"story theme-summary\" data-story-id=\"100000004154094\" data-rank=\"0\" data-collection-renderstyle=\"HpHedThumbWell\">\n",
      "\n",
      "    <a class=\"story-link\" href=\"http://www.nytimes.com/2016/01/27/dining/beyond-soul-food-african-american-chefs.html\">\n",
      "\n",
      "                    <div class=\"thumb\">\n",
      "                <img src=\"http://static01.nyt.com/images/2016/01/27/dining/27AFRO-slide-XCMG/27AFRO-slide-XCMG-thumbStandard-v2.jpg\" alt=\"\" />\n",
      "            </div>\n",
      "        \n",
      "        <h3 class=\"story-heading\">\n",
      "        A Belle Époque for African-American Cooking        </h3>\n",
      "    </a>\n",
      "</article>\n",
      "            </li>\n",
      "                    <li>\n",
      "            <article class=\"story\" data-story-id=\"100000004159012\" data-rank=\"1\" data-collection-renderstyle=\"HpHedThumbWell\">\n",
      "    <h2 class=\"story-heading\">\n",
      "        <a href=\"http://www.nytimes.com/2016/01/27/dining/ghetto-gastro-food-the-bronx.html\">\n",
      "            Food Lovers Aim to Give the Bronx Its Due        </a>\n",
      "    </h2>\n",
      "</article>\n",
      "            </li>\n",
      "                    <li>\n",
      "            <article class=\"story\" data-story-id=\"100000004162220\" data-rank=\"2\" data-collection-renderstyle=\"HpHedThumbWell\">\n",
      "    <h2 class=\"story-heading\">\n",
      "        <a href=\"http://www.nytimes.com/2016/01/27/dining/achilles-heel-resto-review.html\">\n",
      "            Restaurant Review: Meat Matters at Achilles Heel in Greenpoint and Resto in Kips Bay        </a>\n",
      "    </h2>\n",
      "</article>\n",
      "            </li>\n",
      "            </ul>\n",
      "</section>\n",
      "\n",
      "                    </div> <!-- close column -->\n",
      "\n",
      "                                \n",
      "                    <div class=\"column last-column\">\n",
      "\n",
      "                        <section>\n",
      "    <h2 class=\"section-heading\">\n",
      "        <a href=\"http://www.nytimes.com/pages/opinion/index.html#sundayreview\">Sunday Review &raquo;</a>\n",
      "    </h2>\n",
      "    <ul>\n",
      "                    <li>\n",
      "            <article class=\"story theme-summary\" data-story-id=\"100000004126401\" data-rank=\"0\" data-collection-renderstyle=\"HpHedThumbWell\">\n",
      "\n",
      "    <a class=\"story-link\" href=\"http://www.nytimes.com/2016/01/24/opinion/sunday/a-drug-to-cure-fear.html\">\n",
      "\n",
      "                    <div class=\"thumb\">\n",
      "                <img src=\"http://static01.nyt.com/images/2016/01/24/opinion/sunday/24friedman/24friedman-thumbStandard.jpg\" alt=\"\" />\n",
      "            </div>\n",
      "        \n",
      "        <h3 class=\"story-heading\">\n",
      "        Richard A. Friedman: A Drug to Cure Fear        </h3>\n",
      "    </a>\n",
      "</article>\n",
      "            </li>\n",
      "                    <li>\n",
      "            <article class=\"story\" data-story-id=\"100000004161141\" data-rank=\"1\" data-collection-renderstyle=\"HpHedThumbWell\">\n",
      "    <h2 class=\"story-heading\">\n",
      "        <a href=\"http://www.nytimes.com/2016/01/24/opinion/sunday/fix-flints-water-system-now.html\">\n",
      "            Editorial: Fix Flint’s Water System, Now        </a>\n",
      "    </h2>\n",
      "</article>\n",
      "            </li>\n",
      "                    <li>\n",
      "            <article class=\"story\" data-story-id=\"100000004157568\" data-rank=\"2\" data-collection-renderstyle=\"HpHedThumbWell\">\n",
      "    <h2 class=\"story-heading\">\n",
      "        <a href=\"http://www.nytimes.com/2016/01/24/opinion/campaign-stops/our-insane-addiction-to-polls.html\">\n",
      "            Frank Bruni: Our Insane Addiction to Polls        </a>\n",
      "    </h2>\n",
      "</article>\n",
      "            </li>\n",
      "            </ul>\n",
      "</section>\n",
      "\n",
      "                    </div> <!-- close column -->\n",
      "\n",
      "                                \n",
      "            </div><!-- close split-3-layout -->\n",
      "\n",
      "        \n",
      "            <div class=\"split-3-layout layout theme-base\">\n",
      "\n",
      "                                \n",
      "                    <div class=\"column \">\n",
      "\n",
      "                        <section>\n",
      "    <h2 class=\"section-heading\">\n",
      "        <a href=\"http://www.nytimes.com/pages/realestate/index.html\">Real Estate &raquo;</a>\n",
      "    </h2>\n",
      "    <ul>\n",
      "                    <li>\n",
      "            <article class=\"story theme-summary\" data-story-id=\"100000004169463\" data-rank=\"0\" data-collection-renderstyle=\"HpHedThumbWell\">\n",
      "\n",
      "    <a class=\"story-link\" href=\"http://www.nytimes.com/2016/01/31/realestate/southport-conn-historic-with-an-aristocratic-air.html\">\n",
      "\n",
      "                    <div class=\"thumb\">\n",
      "                <img src=\"http://static01.nyt.com/images/2016/01/31/realestate/31LIVING-SOUTHPORT-slide-SQRD/31LIVING-SOUTHPORT-slide-SQRD-thumbStandard-v2.jpg\" alt=\"\" />\n",
      "            </div>\n",
      "        \n",
      "        <h3 class=\"story-heading\">\n",
      "        Living In: Southport, Conn.: Historic, With an Aristocratic Air        </h3>\n",
      "    </a>\n",
      "</article>\n",
      "            </li>\n",
      "                    <li>\n",
      "            <article class=\"story\" data-story-id=\"100000004168987\" data-rank=\"1\" data-collection-renderstyle=\"HpHedThumbWell\">\n",
      "    <h2 class=\"story-heading\">\n",
      "        <a href=\"http://www.nytimes.com/2016/01/27/realestate/compare-homes-in-tuscon-arizona-hudson-new-york-and-honolulu-hawaii.html\">\n",
      "            What You Get: $950,000 Homes in New York, Arizona and Hawaii        </a>\n",
      "    </h2>\n",
      "</article>\n",
      "            </li>\n",
      "                    <li>\n",
      "            <article class=\"story\" data-story-id=\"100000004169334\" data-rank=\"2\" data-collection-renderstyle=\"HpHedThumbWell\">\n",
      "    <h2 class=\"story-heading\">\n",
      "        <a href=\"http://www.nytimes.com/2016/01/27/realestate/real-estate-in-dubrovnik-croatia.html\">\n",
      "            International Real Estate: House Hunting in ... Croatia        </a>\n",
      "    </h2>\n",
      "</article>\n",
      "            </li>\n",
      "            </ul>\n",
      "</section>\n",
      "\n",
      "                    </div> <!-- close column -->\n",
      "\n",
      "                                \n",
      "                    <div class=\"column \">\n",
      "\n",
      "                        <section>\n",
      "    <h2 class=\"section-heading\">\n",
      "        <a href=\"http://www.nytimes.com/upshot/\">The Upshot &raquo;</a>\n",
      "    </h2>\n",
      "    <ul>\n",
      "                    <li>\n",
      "            <article class=\"story theme-summary\" data-story-id=\"100000004166919\" data-rank=\"0\" data-collection-renderstyle=\"HpHedThumbWell\">\n",
      "\n",
      "    <a class=\"story-link\" href=\"http://www.nytimes.com/2016/01/27/upshot/where-mainstream-republican-candidates-are-most-popular.html\">\n",
      "\n",
      "                    <div class=\"thumb\">\n",
      "                <img src=\"http://static01.nyt.com/images/2016/01/27/upshot/cohn-sbs-maps-1453857117914/cohn-sbs-maps-1453857117914-thumbStandard-v2.png\" alt=\"\" />\n",
      "            </div>\n",
      "        \n",
      "        <h3 class=\"story-heading\">\n",
      "        The 2016 Race: Where Mainstream Republican Candidates Are Most Popular        </h3>\n",
      "    </a>\n",
      "</article>\n",
      "            </li>\n",
      "                    <li>\n",
      "            <article class=\"story\" data-story-id=\"100000004168350\" data-rank=\"1\" data-collection-renderstyle=\"HpHedThumbWell\">\n",
      "    <h2 class=\"story-heading\">\n",
      "        <a href=\"http://www.nytimes.com/2016/01/27/upshot/why-its-so-hard-to-be-a-third-party-candidate-even-if-youre-bloomberg.html\">\n",
      "            Lonely in the Center: Why It’s So Hard to Be a Third-Party Candidate, Even if You’re Bloomberg        </a>\n",
      "    </h2>\n",
      "</article>\n",
      "            </li>\n",
      "                    <li>\n",
      "            <article class=\"story\" data-story-id=\"100000004166435\" data-rank=\"2\" data-collection-renderstyle=\"HpHedThumbWell\">\n",
      "    <h2 class=\"story-heading\">\n",
      "        <a href=\"http://www.nytimes.com/2016/01/27/upshot/a-retro-super-bowl-putting-defense-and-running-first.html\">\n",
      "            T.M.Q. — Tuesday Morning Quarterback: A Retro Super Bowl, Putting Defense and Running First        </a>\n",
      "    </h2>\n",
      "</article>\n",
      "            </li>\n",
      "            </ul>\n",
      "</section>\n",
      "\n",
      "                    </div> <!-- close column -->\n",
      "\n",
      "                                \n",
      "                    <div class=\"column last-column\">\n",
      "\n",
      "                        <section>\n",
      "    <h2 class=\"section-heading\">\n",
      "        <a href=\"http://www.nytimes.com/section/magazine\">Magazine &raquo;</a>\n",
      "    </h2>\n",
      "    <ul>\n",
      "                    <li>\n",
      "            <article class=\"story theme-summary\" data-story-id=\"100000004161922\" data-rank=\"0\" data-collection-renderstyle=\"HpHedThumbWell\">\n",
      "\n",
      "    <a class=\"story-link\" href=\"http://www.nytimes.com/2016/01/31/magazine/buffalo-in-the-city.html\">\n",
      "\n",
      "                    <div class=\"thumb\">\n",
      "                <img src=\"http://static01.nyt.com/images/2016/01/31/magazine/31onclothing1/31mag-31onclothing-t_CA0-thumbStandard.jpg\" alt=\"\" />\n",
      "            </div>\n",
      "        \n",
      "        <h3 class=\"story-heading\">\n",
      "        On Clothing: Buffalo in the City        </h3>\n",
      "    </a>\n",
      "</article>\n",
      "            </li>\n",
      "                    <li>\n",
      "            <article class=\"story\" data-story-id=\"100000004160352\" data-rank=\"1\" data-collection-renderstyle=\"HpHedThumbWell\">\n",
      "    <h2 class=\"story-heading\">\n",
      "        <a href=\"http://www.nytimes.com/2016/01/31/magazine/judge-john-hodgman-on-the-church-of-the-flying-spaghetti-monster.html\">\n",
      "            Judge John Hodgman: Judge John Hodgman on the Church of the Flying Spaghetti Monster        </a>\n",
      "    </h2>\n",
      "</article>\n",
      "            </li>\n",
      "                    <li>\n",
      "            <article class=\"story\" data-story-id=\"100000004160350\" data-rank=\"2\" data-collection-renderstyle=\"HpHedThumbWell\">\n",
      "    <h2 class=\"story-heading\">\n",
      "        <a href=\"http://www.nytimes.com/2016/01/31/magazine/can-i-call-my-nonbiological-twins-black-because-my-husband-is.html\">\n",
      "            The Ethicist: Can I Call My Nonbiological Twins Black Because My Husband Is?        </a>\n",
      "    </h2>\n",
      "</article>\n",
      "            </li>\n",
      "            </ul>\n",
      "</section>\n",
      "\n",
      "                    </div> <!-- close column -->\n",
      "\n",
      "                                \n",
      "            </div><!-- close split-3-layout -->\n",
      "\n",
      "        \n",
      "            <div class=\"split-3-layout layout theme-base\">\n",
      "\n",
      "                                \n",
      "                    <div class=\"column \">\n",
      "\n",
      "                        <section>\n",
      "    <h2 class=\"section-heading\">\n",
      "        <a href=\"http://www.nytimes.com/pages/automobiles/index.html\">Automobiles &raquo;</a>\n",
      "    </h2>\n",
      "    <ul>\n",
      "                    <li>\n",
      "            <article class=\"story theme-summary\" data-story-id=\"100000004169566\" data-rank=\"0\" data-collection-renderstyle=\"HpHedThumbWell\">\n",
      "\n",
      "    <a class=\"story-link\" href=\"http://www.nytimes.com/2016/01/29/automobiles/autoreviews/video-review-the-new-xf-a-jaguar-light-on-its-feet.html\">\n",
      "\n",
      "                    <div class=\"thumb\">\n",
      "                <img src=\"http://static01.nyt.com/images/2016/01/26/multimedia/driven-2016-jaguar-xfr-alt/driven-2016-jaguar-xfr-thumbStandard.jpg\" alt=\"\" />\n",
      "            </div>\n",
      "        \n",
      "        <h3 class=\"story-heading\">\n",
      "        Driven: Video Review: The New XF, a Jaguar Light on Its Feet        </h3>\n",
      "    </a>\n",
      "</article>\n",
      "            </li>\n",
      "                    <li>\n",
      "            <article class=\"story\" data-story-id=\"100000004161705\" data-rank=\"1\" data-collection-renderstyle=\"HpHedThumbWell\">\n",
      "    <h2 class=\"story-heading\">\n",
      "        <a href=\"http://www.nytimes.com/2016/01/23/business/takata-airbag-death-recall.html\">\n",
      "            Takata Airbag Flaw Linked to 10th Death; 5 Million More Vehicles Recalled        </a>\n",
      "    </h2>\n",
      "</article>\n",
      "            </li>\n",
      "                    <li>\n",
      "            <article class=\"story\" data-story-id=\"100000004159964\" data-rank=\"2\" data-collection-renderstyle=\"HpHedThumbWell\">\n",
      "    <h2 class=\"story-heading\">\n",
      "        <a href=\"http://www.nytimes.com/2016/01/24/sports/baseball/where-the-baseball-stars-get-their-custom-cars.html\">\n",
      "            Where the Stars Get Their Rides        </a>\n",
      "    </h2>\n",
      "</article>\n",
      "            </li>\n",
      "            </ul>\n",
      "</section>\n",
      "\n",
      "                    </div> <!-- close column -->\n",
      "\n",
      "                                \n",
      "                    <div class=\"column \">\n",
      "\n",
      "                        <section>\n",
      "    <h2 class=\"section-heading\">\n",
      "        <a href=\"http://www.nytimes.com/section/t-magazine\">T Magazine &raquo;</a>\n",
      "    </h2>\n",
      "    <ul>\n",
      "                    <li>\n",
      "            <article class=\"story theme-summary\" data-story-id=\"100000004171626\" data-rank=\"0\" data-collection-renderstyle=\"HpHedThumbWell\">\n",
      "\n",
      "    <a class=\"story-link\" href=\"http://www.nytimes.com/2016/01/27/t-magazine/art/drawing-then-1960s-art-dominique-levy.html\">\n",
      "\n",
      "                    <div class=\"thumb\">\n",
      "                <img src=\"http://static01.nyt.com/images/2016/01/27/t-magazine/27tmag-levy1/27tmag-levy1-thumbStandard.jpg\" alt=\"\" />\n",
      "            </div>\n",
      "        \n",
      "        <h3 class=\"story-heading\">\n",
      "        Returning, Again, to American Drawing in the 1960s        </h3>\n",
      "    </a>\n",
      "</article>\n",
      "            </li>\n",
      "                    <li>\n",
      "            <article class=\"story\" data-story-id=\"100000004171032\" data-rank=\"1\" data-collection-renderstyle=\"HpHedThumbWell\">\n",
      "    <h2 class=\"story-heading\">\n",
      "        <a href=\"http://www.nytimes.com/2016/01/27/t-magazine/travel/tres-rosas-amarillas-pop-up-books-madrid.html\">\n",
      "            One-Thing Shops: One-Thing Shops: Pop-Up Books, Madrid        </a>\n",
      "    </h2>\n",
      "</article>\n",
      "            </li>\n",
      "                    <li>\n",
      "            <article class=\"story\" data-story-id=\"100000004169215\" data-rank=\"2\" data-collection-renderstyle=\"HpHedThumbWell\">\n",
      "    <h2 class=\"story-heading\">\n",
      "        <a href=\"http://www.nytimes.com/2016/01/26/t-magazine/design/hervet-manufacturier-furniture-nicolas-cedric.html\">\n",
      "            A Pair of Cousins Who Make Furniture, and Sometimes Partner With Daft Punk        </a>\n",
      "    </h2>\n",
      "</article>\n",
      "            </li>\n",
      "            </ul>\n",
      "</section>\n",
      "\n",
      "                    </div> <!-- close column -->\n",
      "\n",
      "                                \n",
      "                    <div class=\"column last-column\">\n",
      "\n",
      "                        <section>\n",
      "    <h2 class=\"section-heading\">\n",
      "        <a href=\"http://www.nytimes.com/times-insider/\">Times Insider &raquo;</a>\n",
      "    </h2>\n",
      "    <ul>\n",
      "                    <li>\n",
      "            <article class=\"story theme-summary\" data-story-id=\"100000004166241\" data-rank=\"0\" data-collection-renderstyle=\"HpHedThumbWell\">\n",
      "\n",
      "    <a class=\"story-link\" href=\"http://www.nytimes.com/2016/01/27/insider/try-to-interview-googles-chief-executive-its-emasculating.html\">\n",
      "\n",
      "                    <div class=\"thumb\">\n",
      "                <img src=\"http://static01.nyt.com/images/2016/01/27/insider/27-insider-googlepic2/27-insider-googlepic2-thumbStandard.jpg\" alt=\"\" />\n",
      "            </div>\n",
      "        \n",
      "        <h3 class=\"story-heading\">\n",
      "        Try to Interview Google’s Co-Founder. It’s Emasculating.        </h3>\n",
      "    </a>\n",
      "</article>\n",
      "            </li>\n",
      "                    <li>\n",
      "            <article class=\"story\" data-story-id=\"100000004166189\" data-rank=\"1\" data-collection-renderstyle=\"HpHedThumbWell\">\n",
      "    <h2 class=\"story-heading\">\n",
      "        <a href=\"http://www.nytimes.com/2016/01/26/insider/reporters-notebook-navy-seal-commanders-suicide.html\">\n",
      "            Reporter’s Notebook: Navy SEAL Commander’s Suicide        </a>\n",
      "    </h2>\n",
      "</article>\n",
      "            </li>\n",
      "                    <li>\n",
      "            <article class=\"story\" data-story-id=\"100000004161508\" data-rank=\"2\" data-collection-renderstyle=\"HpHedThumbWell\">\n",
      "    <h2 class=\"story-heading\">\n",
      "        <a href=\"http://www.nytimes.com/2016/01/25/insider/dispatch-from-dakar-mom-did-you-get-kidnapped.html\">\n",
      "            Dispatch From Dakar: ‘Mom, Did You Get Kidnapped?’        </a>\n",
      "    </h2>\n",
      "</article>\n",
      "            </li>\n",
      "            </ul>\n",
      "</section>\n",
      "\n",
      "                    </div> <!-- close column -->\n",
      "\n",
      "                                \n",
      "            </div><!-- close split-3-layout -->\n",
      "\n",
      "            </div>\n",
      "</section><!-- close well section -->\n",
      "\n",
      "    </div><!-- close ab-column -->\n",
      "\n",
      "    <div class=\"c-column column\">\n",
      "\n",
      "        \n",
      "                    <section class=\"real-estate\">\n",
      "                <div class=\"layout split-layout theme-base\">\n",
      "                    <div class=\"column\">\n",
      "                        <div class=\"region real-estate-left-region\">\n",
      "\n",
      "                            <div class=\"collection\">\n",
      "                <h2 class=\"section-heading\">\n",
      "            <a href=\"http://www.nytimes.com/pages/realestate/index.html\">Real Estate &raquo;</a>\n",
      "        </h2>\n",
      "        <article class=\"story theme-summary\" id=\"topnews-100000004169463\" data-story-id=\"100000004169463\" data-rank=\"0\" data-collection-renderstyle=\"HpSectionSumSmallMedia\">\n",
      "    \n",
      "            <h3 class=\"kicker\">Living In </h3>\n",
      "    \n",
      "    <h2 class=\"story-heading\"><a href=\"http://www.nytimes.com/2016/01/31/realestate/southport-conn-historic-with-an-aristocratic-air.html\">Southport, Conn.: Historic, With an Aristocratic Air</a></h2>\n",
      "\n",
      "            <p class=\"byline\">By LISA PREVOST </p>\n",
      "    \n",
      "            <div class=\"thumb\">\n",
      "            <a href=\"http://www.nytimes.com/2016/01/31/realestate/southport-conn-historic-with-an-aristocratic-air.html\"><img src=\"http://static01.nyt.com/images/2016/01/31/realestate/31LIVING-SOUTHPORT-slide-SQRD/31LIVING-SOUTHPORT-slide-SQRD-thumbStandard-v2.jpg\" alt=\"\"></a>\n",
      "        </div>\n",
      "    \n",
      "    <p class=\"summary\">\n",
      "        The coastal enclave of Southport, part of the town of Fairfield, offers a rich array of 18th- and 19th-century architecture that reflects the area&#8217;s affluence during its heyday as a seaport.    </p>\n",
      "\n",
      "    \n",
      "        <ul class=\"refer theme-news-headlines\">\n",
      "            <li>\n",
      "            <article class=\"story\" id=\"topnews-100000004169463\">\n",
      "                <h2 class=\"refer-heading\"><a href=\"http://www.nytimes.com/column/living-in\">More Articles in the Series</a></h2>\n",
      "            </article>\n",
      "        </li>\n",
      "        </ul>\n",
      "</article>\n",
      "\n",
      "</div>\n",
      "<div class=\"collection\">\n",
      "            <ul class=\"theme-module-headlines\">\r\n",
      "<li><article class=\"story\" data-collection-renderstyle=\"HpHeadline\"><h2 class=\"story-heading\"><a href=\"http://www.nytimes.com/real-estate/find-a-home\">Search for Homes for Sale or Rent</a></h2></article></li>\r\n",
      "\r\n",
      "<li><article class=\"story\" data-collection-renderstyle=\"HpHeadline\"><h2 class=\"story-heading\"><a href=\"http://realestateads.nytimes.com/\">Sell Your Home</a></h2></article></li></ul>\r\n",
      "\r\n",
      "</div>\n",
      "\n",
      "                        </div><!-- close real-estate-left-region -->\n",
      "                    </div>\n",
      "                    <div class=\"column\">\n",
      "                        <div class=\"region real-estate-right-region\">\n",
      "\n",
      "                            <div class=\"collection\">\n",
      "            <div id=\"HPmodule-RE2-alternate-content\"><div></div>\n",
      "<div class=\"collection\">\n",
      "                <h3 class=\"kicker collection-kicker\">&nbsp;</h3>\n",
      "        <article class=\"story theme-summary\" id=\"topnews-100000004159625\" data-story-id=\"100000004159625\" data-rank=\"0\" data-collection-renderstyle=\"HpSumSmallMedia\">\n",
      "    \n",
      "    \n",
      "    <h2 class=\"story-heading\"><a href=\"http://www.nytimes.com/2016/01/24/realestate/from-hospital-to-condo.html\">From Hospital to Condo</a></h2>\n",
      "\n",
      "            <p class=\"byline\">By C. J. HUGHES </p>\n",
      "    \n",
      "            <div class=\"thumb\">\n",
      "            <a href=\"http://www.nytimes.com/2016/01/24/realestate/from-hospital-to-condo.html\"><img src=\"http://static01.nyt.com/images/2016/01/24/realestate/24GRAMERCY/24GRAMERCY-thumbStandard.jpg\" alt=\"\"></a>\n",
      "        </div>\n",
      "    \n",
      "    <p class=\"summary\">\n",
      "        As hospitals have closed across the city, condominiums have claimed many of their remains.    </p>\n",
      "\n",
      "    \n",
      "    </article>\n",
      "\n",
      "</div>\n",
      "<div class=\"collection\">\n",
      "            </div></div></div>\n",
      "\n",
      "                            <div id=\"HPmodule-RE2\" class=\"ad hpmodule-re2-ad nocontent robots-nocontent\"></div>\n",
      "                        </div><!-- close real-estate-right-region -->\n",
      "                    </div>\n",
      "                </div>\n",
      "            </section>\n",
      "        \n",
      "        \n",
      "        <section id=\"recommendations\" class=\"recommendations\">\n",
      "    <div class=\"tabs-container\">\n",
      "        <ul class=\"tabs\">\n",
      "            <li data-type=\"most-emailed\"><a href=\"http://www.nytimes.com/gst/mostemailed.html\">Most Emailed</a></li><li data-type=\"most-viewed\"><a href=\"http://www.nytimes.com/gst/mostpopular.html\">Most Viewed</a></li><li data-type=\"recommended\"><a href=\"http://www.nytimes.com/recommendations\">Recommended for you</a></li>\n",
      "        </ul>\n",
      "    </div>\n",
      "    <div class=\"tab-content most-emailed\">\n",
      "        <div class=\"loader\"></div>\n",
      "    </div>\n",
      "    <div class=\"tab-content most-viewed\">\n",
      "        <div class=\"loader\"></div>\n",
      "    </div>\n",
      "    <div class=\"tab-content recommended\">\n",
      "        <div class=\"loader\"></div>\n",
      "    </div><!-- end tabs-container -->\n",
      "    <div id=\"recommendations-module-loader\" class=\"loader-container\">\n",
      "        <div class=\"loader loader-t-logo-32x32-ecedeb-ffffff\"><span class=\"visually-hidden\">Loading...</span></div>\n",
      "    </div>\n",
      "</section>\n",
      "\n",
      "        <div id=\"Box1\" class=\"ad box1-ad nocontent robots-nocontent\"></div>\n",
      "        <div id=\"HPPromo\" class=\"ad hppromo-ad nocontent robots-nocontent\"></div>\n",
      "\n",
      "                    <div class=\"tile-ads nocontent robots-nocontent\">\n",
      "    <div id=\"tile-ad-1\" class=\"ad tile-ad tile-ad-1\"></div>\n",
      "    <div id=\"tile-ad-2\" class=\"ad tile-ad tile-ad-2\"></div>\n",
      "</div>        \n",
      "        <div id=\"HPBottom1\" class=\"ad hpbottom1-ad nocontent robots-nocontent\"></div>\n",
      "\n",
      "    </div><!-- close c-column -->\n",
      "\n",
      "</div><!-- close span-ab-layout -->\n",
      "\n",
      "<div id=\"HPSponLink\" class=\"ad hpsponlink-ad nocontent robots-nocontent\"></div>\n",
      "<div id=\"Bottom8\" class=\"ad bottom8-ad nocontent robots-nocontent\"></div>\n",
      "<div id=\"Bottom9\" class=\"ad bottom9-ad nocontent robots-nocontent\"></div>\n",
      "                    <div class=\"search-overlay\"></div>\n",
      "            </main><!-- close main -->\n",
      "            <section id=\"site-index\" class=\"site-index\">\n",
      "    <header class=\"section-header\">\n",
      "        <p class=\"user-action\"><a href=\"http://www.nytimes.com/\">Go to Home Page &raquo;</a></p>\n",
      "        <h2 class=\"section-heading\">\n",
      "            <span class=\"visually-hidden\">Site Index</span>\n",
      "            <a id=\"site-index-branding-link\" href=\"http://www.nytimes.com/\">\n",
      "                <span class=\"visually-hidden\">The New York Times</span>\n",
      "            </a>\n",
      "        </h2>\n",
      "        <script>window.magnum.writeLogo('small', 'http://a1.nyt.com/assets/homepage/20160111-154931/images/foundation/logos/', '', '', 'standard', 'site-index-branding-link', '');</script>\n",
      "    </header>\n",
      "\n",
      "    <nav id=\"site-index-navigation\" class=\"site-index-navigation\" role=\"navigation\">\n",
      "        <h2 class=\"visually-hidden\">Site Index Navigation</h2>\n",
      "        <div class=\"split-6-layout layout\">\n",
      "\n",
      "                                                                                    \n",
      "                    <div class=\"column\">\n",
      "                        <h3 class=\"menu-heading\">News</h3>\n",
      "                        <ul class=\"menu\">\n",
      "\n",
      "                                                                                                                                                                                                                                                \n",
      "                                    <li>\n",
      "                                        <a href=\"http://www.nytimes.com/pages/world/index.html\">World</a>\n",
      "                                    </li>\n",
      "\n",
      "                                                                                            \n",
      "                                    <li>\n",
      "                                        <a href=\"http://www.nytimes.com/pages/national/index.html\">U.S.</a>\n",
      "                                    </li>\n",
      "\n",
      "                                                                                            \n",
      "                                    <li>\n",
      "                                        <a href=\"http://www.nytimes.com/pages/politics/index.html\">Politics</a>\n",
      "                                    </li>\n",
      "\n",
      "                                                                                            \n",
      "                                    <li>\n",
      "                                        <a href=\"http://www.nytimes.com/pages/nyregion/index.html\">N.Y.</a>\n",
      "                                    </li>\n",
      "\n",
      "                                                                                            \n",
      "                                    <li>\n",
      "                                        <a href=\"http://www.nytimes.com/pages/business/index.html\">Business</a>\n",
      "                                    </li>\n",
      "\n",
      "                                                                                            \n",
      "                                    <li>\n",
      "                                        <a href=\"http://www.nytimes.com/pages/technology/index.html\">Tech</a>\n",
      "                                    </li>\n",
      "\n",
      "                                                                                            \n",
      "                                    <li>\n",
      "                                        <a href=\"http://www.nytimes.com/section/science\">Science</a>\n",
      "                                    </li>\n",
      "\n",
      "                                                                                            \n",
      "                                    <li>\n",
      "                                        <a href=\"http://www.nytimes.com/pages/health/index.html\">Health</a>\n",
      "                                    </li>\n",
      "\n",
      "                                                                                            \n",
      "                                    <li>\n",
      "                                        <a href=\"http://www.nytimes.com/pages/sports/index.html\">Sports</a>\n",
      "                                    </li>\n",
      "\n",
      "                                                                                            \n",
      "                                    <li>\n",
      "                                        <a href=\"http://www.nytimes.com/pages/education/index.html\">Education</a>\n",
      "                                    </li>\n",
      "\n",
      "                                                                                            \n",
      "                                    <li>\n",
      "                                        <a href=\"http://www.nytimes.com/pages/obituaries/index.html\">Obituaries</a>\n",
      "                                    </li>\n",
      "\n",
      "                                                                                            \n",
      "                                    <li>\n",
      "                                        <a href=\"http://www.nytimes.com/pages/todayspaper/index.html\">Today's Paper</a>\n",
      "                                    </li>\n",
      "\n",
      "                                                                                            \n",
      "                                    <li>\n",
      "                                        <a href=\"http://www.nytimes.com/pages/corrections/index.html\">Corrections</a>\n",
      "                                    </li>\n",
      "\n",
      "                                                            \n",
      "                        </ul>\n",
      "                    </div><!-- close column -->\n",
      "\n",
      "                                            \n",
      "                    <div class=\"column\">\n",
      "                        <h3 class=\"menu-heading\">Opinion</h3>\n",
      "                        <ul class=\"menu\">\n",
      "\n",
      "                                                            \n",
      "                                    <li>\n",
      "                                        <a href=\"http://www.nytimes.com/pages/opinion/index.html\">Today's Opinion</a>\n",
      "                                    </li>\n",
      "\n",
      "                                                                                            \n",
      "                                    <li>\n",
      "                                        <a href=\"http://www.nytimes.com/pages/opinion/index.html#columnists\">Op-Ed Columnists</a>\n",
      "                                    </li>\n",
      "\n",
      "                                                                                            \n",
      "                                    <li>\n",
      "                                        <a href=\"http://www.nytimes.com/pages/opinion/index.html#editorials\">Editorials</a>\n",
      "                                    </li>\n",
      "\n",
      "                                                                                            \n",
      "                                    <li>\n",
      "                                        <a href=\"http://www.nytimes.com/pages/opinion/index.html#contributing\">Contributing Writers</a>\n",
      "                                    </li>\n",
      "\n",
      "                                                                                            \n",
      "                                    <li>\n",
      "                                        <a href=\"http://www.nytimes.com/pages/opinion/index.html#op-ed\">Op-Ed Contributors</a>\n",
      "                                    </li>\n",
      "\n",
      "                                                                                            \n",
      "                                    <li>\n",
      "                                        <a href=\"http://www.nytimes.com/pages/opinion/index.html#opinionator\">Opinionator</a>\n",
      "                                    </li>\n",
      "\n",
      "                                                                                            \n",
      "                                    <li>\n",
      "                                        <a href=\"http://www.nytimes.com/pages/opinion/index.html#letters\">Letters</a>\n",
      "                                    </li>\n",
      "\n",
      "                                                                                            \n",
      "                                    <li>\n",
      "                                        <a href=\"http://www.nytimes.com/pages/opinion/index.html#sundayreview\">Sunday Review</a>\n",
      "                                    </li>\n",
      "\n",
      "                                                                                            \n",
      "                                    <li>\n",
      "                                        <a href=\"http://www.nytimes.com/pages/opinion/index.html#takingNote\">Taking Note</a>\n",
      "                                    </li>\n",
      "\n",
      "                                                                                            \n",
      "                                    <li>\n",
      "                                        <a href=\"http://www.nytimes.com/roomfordebate\">Room for Debate</a>\n",
      "                                    </li>\n",
      "\n",
      "                                                                                            \n",
      "                                    <li>\n",
      "                                        <a href=\"http://topics.nytimes.com/top/opinion/thepubliceditor/index.html\">Public Editor</a>\n",
      "                                    </li>\n",
      "\n",
      "                                                                                            \n",
      "                                    <li>\n",
      "                                        <a href=\"http://www.nytimes.com/video/opinion\">Video: Opinion</a>\n",
      "                                    </li>\n",
      "\n",
      "                                                            \n",
      "                        </ul>\n",
      "                    </div><!-- close column -->\n",
      "\n",
      "                                            \n",
      "                    <div class=\"column\">\n",
      "                        <h3 class=\"menu-heading\">Arts</h3>\n",
      "                        <ul class=\"menu\">\n",
      "\n",
      "                                                            \n",
      "                                    <li>\n",
      "                                        <a href=\"http://www.nytimes.com/pages/arts/index.html\">Today's Arts</a>\n",
      "                                    </li>\n",
      "\n",
      "                                                                                            \n",
      "                                    <li>\n",
      "                                        <a href=\"http://www.nytimes.com/pages/arts/design/index.html\">Art & Design</a>\n",
      "                                    </li>\n",
      "\n",
      "                                                                                            \n",
      "                                    <li>\n",
      "                                        <a href=\"http://artsbeat.blogs.nytimes.com/\">ArtsBeat</a>\n",
      "                                    </li>\n",
      "\n",
      "                                                                                            \n",
      "                                    <li>\n",
      "                                        <a href=\"http://www.nytimes.com/pages/books/index.html\">Books</a>\n",
      "                                    </li>\n",
      "\n",
      "                                                                                            \n",
      "                                    <li>\n",
      "                                        <a href=\"http://www.nytimes.com/pages/arts/dance/index.html\">Dance</a>\n",
      "                                    </li>\n",
      "\n",
      "                                                                                            \n",
      "                                    <li>\n",
      "                                        <a href=\"http://www.nytimes.com/pages/movies/index.html\">Movies</a>\n",
      "                                    </li>\n",
      "\n",
      "                                                                                            \n",
      "                                    <li>\n",
      "                                        <a href=\"http://www.nytimes.com/pages/arts/music/index.html\">Music</a>\n",
      "                                    </li>\n",
      "\n",
      "                                                                                            \n",
      "                                    <li>\n",
      "                                        <a href=\"http://www.nytimes.com/events/\">N.Y.C. Events Guide</a>\n",
      "                                    </li>\n",
      "\n",
      "                                                                                            \n",
      "                                    <li>\n",
      "                                        <a href=\"http://www.nytimes.com/pages/arts/television/index.html\">Television</a>\n",
      "                                    </li>\n",
      "\n",
      "                                                                                            \n",
      "                                    <li>\n",
      "                                        <a href=\"http://www.nytimes.com/pages/theater/index.html\">Theater</a>\n",
      "                                    </li>\n",
      "\n",
      "                                                                                            \n",
      "                                    <li>\n",
      "                                        <a href=\"http://www.nytimes.com/pages/arts/video-games/index.html\">Video Games</a>\n",
      "                                    </li>\n",
      "\n",
      "                                                                                            \n",
      "                                    <li>\n",
      "                                        <a href=\"http://www.nytimes.com/video/arts\">Video: Arts</a>\n",
      "                                    </li>\n",
      "\n",
      "                                                            \n",
      "                        </ul>\n",
      "                    </div><!-- close column -->\n",
      "\n",
      "                                            \n",
      "                    <div class=\"column\">\n",
      "                        <h3 class=\"menu-heading\">Living</h3>\n",
      "                        <ul class=\"menu\">\n",
      "\n",
      "                                                            \n",
      "                                    <li>\n",
      "                                        <a href=\"http://www.nytimes.com/pages/automobiles/index.html\">Automobiles</a>\n",
      "                                    </li>\n",
      "\n",
      "                                                                                            \n",
      "                                    <li>\n",
      "                                        <a href=\"http://www.nytimes.com/crosswords/\">Crossword</a>\n",
      "                                    </li>\n",
      "\n",
      "                                                                                            \n",
      "                                    <li>\n",
      "                                        <a href=\"http://www.nytimes.com/pages/dining/index.html\">Food</a>\n",
      "                                    </li>\n",
      "\n",
      "                                                                                            \n",
      "                                    <li>\n",
      "                                        <a href=\"http://www.nytimes.com/pages/education/index.html\">Education</a>\n",
      "                                    </li>\n",
      "\n",
      "                                                                                            \n",
      "                                    <li>\n",
      "                                        <a href=\"http://www.nytimes.com/pages/fashion/index.html\">Fashion & Style</a>\n",
      "                                    </li>\n",
      "\n",
      "                                                                                            \n",
      "                                    <li>\n",
      "                                        <a href=\"http://www.nytimes.com/pages/health/index.html\">Health</a>\n",
      "                                    </li>\n",
      "\n",
      "                                                                                            \n",
      "                                    <li>\n",
      "                                        <a href=\"http://www.nytimes.com/section/jobs\">Jobs</a>\n",
      "                                    </li>\n",
      "\n",
      "                                                                                            \n",
      "                                    <li>\n",
      "                                        <a href=\"http://www.nytimes.com/pages/magazine/index.html\">Magazine</a>\n",
      "                                    </li>\n",
      "\n",
      "                                                                                            \n",
      "                                    <li>\n",
      "                                        <a href=\"http://www.nytimes.com/events/\">N.Y.C. Events Guide</a>\n",
      "                                    </li>\n",
      "\n",
      "                                                                                            \n",
      "                                    <li>\n",
      "                                        <a href=\"http://www.nytimes.com/pages/realestate/index.html\">Real Estate</a>\n",
      "                                    </li>\n",
      "\n",
      "                                                                                            \n",
      "                                    <li>\n",
      "                                        <a href=\"http://www.nytimes.com/section/t-magazine\">T Magazine</a>\n",
      "                                    </li>\n",
      "\n",
      "                                                                                            \n",
      "                                    <li>\n",
      "                                        <a href=\"http://www.nytimes.com/section/travel\">Travel</a>\n",
      "                                    </li>\n",
      "\n",
      "                                                                                            \n",
      "                                    <li>\n",
      "                                        <a href=\"http://www.nytimes.com/pages/fashion/weddings/index.html\">Weddings & Celebrations</a>\n",
      "                                    </li>\n",
      "\n",
      "                                                            \n",
      "                        </ul>\n",
      "                    </div><!-- close column -->\n",
      "\n",
      "                                            \n",
      "                    <div class=\"column\">\n",
      "                        <h3 class=\"menu-heading\">Listings & More</h3>\n",
      "                        <ul class=\"menu\">\n",
      "\n",
      "                                                            \n",
      "                                    <li>\n",
      "                                        <a href=\"http://www.nytimes.com/ref/classifieds/\">Classifieds</a>\n",
      "                                    </li>\n",
      "\n",
      "                                                                                            \n",
      "                                    <li>\n",
      "                                        <a href=\"http://www.nytimes.com/marketing/tools-and-services/\">Tools & Services</a>\n",
      "                                    </li>\n",
      "\n",
      "                                                                                            \n",
      "                                    <li>\n",
      "                                        <a href=\"http://www.nytimes.com/pages/topics/\">Times Topics</a>\n",
      "                                    </li>\n",
      "\n",
      "                                                                                            \n",
      "                                    <li>\n",
      "                                        <a href=\"http://topics.nytimes.com/top/opinion/thepubliceditor/index.html\">Public Editor</a>\n",
      "                                    </li>\n",
      "\n",
      "                                                                                            \n",
      "                                    <li>\n",
      "                                        <a href=\"http://www.nytimes.com/events/\">N.Y.C. Events Guide</a>\n",
      "                                    </li>\n",
      "\n",
      "                                                                                            \n",
      "                                    <li>\n",
      "                                        <a href=\"http://www.nytimes.com/interactive/blogs/directory.html\">Blogs</a>\n",
      "                                    </li>\n",
      "\n",
      "                                                                                            \n",
      "                                    <li>\n",
      "                                        <a href=\"http://www.nytimes.com/pages/multimedia/index.html\">Multimedia</a>\n",
      "                                    </li>\n",
      "\n",
      "                                                                                            \n",
      "                                    <li>\n",
      "                                        <a href=\"http://lens.blogs.nytimes.com/\">Photography</a>\n",
      "                                    </li>\n",
      "\n",
      "                                                                                            \n",
      "                                    <li>\n",
      "                                        <a href=\"http://www.nytimes.com/video\">Video</a>\n",
      "                                    </li>\n",
      "\n",
      "                                                                                            \n",
      "                                    <li>\n",
      "                                        <a href=\"https://www.nytimes.com/store/?&t=qry542&utm_source=nytimes&utm_medium=HPB&utm_content=hp_browsetree&utm_campaign=NYT-HP&module=SectionsNav&action=click&region=TopBar&version=BrowseTree&contentCollection=NYT%20Store&contentPlacement=2&pgtype=Homepage\">NYT Store</a>\n",
      "                                    </li>\n",
      "\n",
      "                                                                                            \n",
      "                                    <li>\n",
      "                                        <a href=\"http://www.nytimes.com/times-journeys/?utm_source=nytimes&utm_medium=HPLink&utm_content=hp_browsetree&utm_campaign=NYT-HP\">Times Journeys</a>\n",
      "                                    </li>\n",
      "\n",
      "                                                                                            \n",
      "                                    <li>\n",
      "                                        <a href=\"http://www.nytimes.com/seeallnav\">Subscribe</a>\n",
      "                                    </li>\n",
      "\n",
      "                                                                                            \n",
      "                                    <li>\n",
      "                                        <a href=\"http://www.nytimes.com/membercenter\">Manage My Account</a>\n",
      "                                    </li>\n",
      "\n",
      "                                                            \n",
      "                        </ul>\n",
      "                    </div><!-- close column -->\n",
      "\n",
      "                            \n",
      "            <div class=\"column last-column\">\n",
      "                \n",
      "<h3 class=\"menu-heading\">Subscribe</h3>\n",
      "\n",
      "<ul class=\"menu primary-menu\">\n",
      "    <li class=\"menu-label\">Subscribe</li>\n",
      "    <li class=\"times-premier\">\n",
      "        <i class=\"icon sprite-icon\"></i>\n",
      "        <a href=\"http://www.nytimes.com/tpnav\">Times Insider</a>\n",
      "    </li>\n",
      "\n",
      "    <li class=\"home-delivery\">\n",
      "        <i class=\"icon sprite-icon\"></i>\n",
      "                    <a href=\"http://www.nytimes.com/hdleftnav\">Home Delivery</a>\n",
      "            </li>\n",
      "    <li class=\"digital-subscriptions\">\n",
      "        <i class=\"icon sprite-icon\"></i>\n",
      "                    <a href=\"http://www.nytimes.com/digitalleftnav\">Digital Subscriptions</a>\n",
      "            </li>\n",
      "    <li class=\"nyt-opinion\">\n",
      "        <i class=\"icon sprite-icon\"></i>\n",
      "        <a href=\"http://www.nytimes.com/opinionindex\">NYT Opinion</a>\n",
      "    </li>\n",
      "    <li class=\"nyt-crossword last-item\">\n",
      "        <i class=\"icon sprite-icon\"></i>\n",
      "        <a id=\"nyt-crossword\" href=\"http://www.nytimes.com/crosswords/index.html\">Crossword</a>\n",
      "    </li>\n",
      "\n",
      "</ul>\n",
      "\n",
      "<ul class=\"menu secondary-menu\">\n",
      "\n",
      "    <li>\n",
      "        <a href=\"http://www.nytimes.com/marketing/newsletters\">Email Newsletters</a>\n",
      "    </li>\n",
      "    <li>\n",
      "        <a href=\"https://myaccount.nytimes.com/mem/tnt.html\">Alerts</a>\n",
      "    </li>\n",
      "    <li>\n",
      "                    <a href=\"http://www.nytimes.com/giftleftnav\">Gift Subscriptions</a>\n",
      "            </li>\n",
      "    <li>\n",
      "                    <a href=\"http://www.nytimes.com/corporateleftnav\">Corporate Subscriptions</a>\n",
      "            </li>\n",
      "    <li>\n",
      "                    <a href=\"http://www.nytimes.com/educationleftnav\">Education Rate</a>\n",
      "            </li>\n",
      "\n",
      "</ul>\n",
      "<ul class=\"menu secondary-menu\">\n",
      "    <li>\n",
      "        <a href=\"http://www.nytimes.com/services/mobile/index.html\">Mobile Applications</a>\n",
      "    </li>\n",
      "    <li>\n",
      "                    <a href=\"http://eedition.nytimes.com/cgi-bin/signup.cgi?cc=37FYY\">Replica Edition</a>\n",
      "            </li>\n",
      "                <li>\n",
      "            <a href=\"http://subscribe.inyt.com\">International New York Times</a>\n",
      "        </li>\n",
      "    \n",
      "</ul>\n",
      "\n",
      "            </div><!-- close column -->\n",
      "\n",
      "        </div><!-- close split-6-layout -->\n",
      "\n",
      "    </nav><!-- close nav -->\n",
      "\n",
      "</section><!-- close site-index -->\n",
      "\n",
      "            <footer id=\"page-footer\" class=\"page-footer\" role=\"contentinfo\">\n",
      "    <nav>\n",
      "        <h2 class=\"visually-hidden\">Site Information Navigation</h2>\n",
      "         <ul>\n",
      "             <li>\n",
      "                <a href=\"http://www.nytimes.com/content/help/rights/copyright/copyright-notice.html\" itemprop=\"copyrightNotice\">\n",
      "                    &copy; <span itemprop=\"copyrightYear\">2016</span><span itemprop=\"copyrightHolder provider sourceOrganization\" itemscope itemtype=\"http://schema.org/Organization\" itemid=\"http://www.nytimes.com\"><span itemprop=\"name\"> The New York Times Company</span><meta itemprop=\"tickerSymbol\" content=\"NYSE NYT\"/></span>\n",
      "                </a>\n",
      "            </li>\n",
      "            <li class=\"wide-viewport-item\"><a href=\"http://www.nytimes.com/ref/membercenter/help/infoservdirectory.html\">Contact Us</a></li>\n",
      "            <li class=\"wide-viewport-item\"><a href=\"http://www.nytco.com/careers\">Work With Us</a></li>\n",
      "            <li class=\"wide-viewport-item\"><a href=\"http://www.nytimes.whsites.net/mediakit\">Advertise</a></li>\n",
      "            <li class=\"wide-viewport-item\"><a href=\"http://www.nytimes.com/content/help/rights/privacy/policy/privacy-policy.html#pp\">Your Ad Choices</a></li>\n",
      "            <li><a href=\"http://www.nytimes.com/privacy\">Privacy</a></li>\n",
      "            <li><a href=\"http://www.nytimes.com/ref/membercenter/help/agree.html\" itemprop=\"usageTerms\">Terms of Service</a></li>\n",
      "            <li class=\"wide-viewport-item last-item\"><a href=\"http://www.nytimes.com/content/help/rights/sale/terms-of-sale.html\">Terms of Sale</a></li>\n",
      "         </ul>\n",
      "    </nav>\n",
      "    <nav class=\"last-nav\">\n",
      "        <h2 class=\"visually-hidden\">Site Information Navigation</h2>\n",
      "        <ul>\n",
      "            <li><a href=\"http://spiderbites.nytimes.com\">Site Map</a></li>\n",
      "            <li><a href=\"http://www.nytimes.com/membercenter/sitehelp.html\">Help</a></li>\n",
      "            <li><a href=\"https://myaccount.nytimes.com/membercenter/feedback.html\">Site Feedback</a></li>\n",
      "            <li class=\"wide-viewport-item last-item\"><a href=\"http://www.nytimes.com/subscriptions/Multiproduct/lp5558.html?campaignId=37WXW\">Subscriptions</a></li>\n",
      "        </ul>\n",
      "    </nav>\n",
      "\n",
      "    <div id=\"mobile-banner\" class=\"mobile-banner hidden\">\n",
      "        <a class=\"banner-message\" href=\"http://mobile.nytimes.com/\">View Mobile Version</a>\n",
      "    </div>\n",
      "\n",
      "    <div id=\"dfp-perf-test\" class=\"ad hidden\"></div>\n",
      "</footer>\n",
      "        </div><!-- close page -->\n",
      "    </div><!-- close shell -->\n",
      "    <script>\n",
      "require(['foundation/main'], function () {\n",
      "    require(['homepage/main']);\n",
      "    require(['jquery/nyt', 'foundation/views/page-manager'], function ($, pageManager) {\n",
      "        if (window.location.search.indexOf('disable_tagx') > 0) {\n",
      "            return;\n",
      "        }\n",
      "        $(document).ready(function () {\n",
      "            require(['http://a1.nyt.com/analytics/tagx-simple.min.js'], function () {\n",
      "                pageManager.trackingFireEventQueue();\n",
      "            });\n",
      "        });\n",
      "    });\n",
      "});\n",
      "</script>\n",
      "\n",
      "    <div id=\"Inv1\" class=\"ad inv1-ad hidden\"></div>\n",
      "<div id=\"Inv2\" class=\"ad inv2-ad hidden\"></div>\n",
      "<div id=\"Inv3\" class=\"ad inv3-ad hidden\"></div>\n",
      "<div id=\"ab1\" class=\"ad ab1-ad hidden\"></div>\n",
      "<div id=\"ab2\" class=\"ad ab2-ad hidden\"></div>\n",
      "<div id=\"ab3\" class=\"ad ab3-ad hidden\"></div>\n",
      "<div id=\"prop1\" class=\"ad prop1-ad hidden\"></div>\n",
      "<div id=\"prop2\" class=\"ad prop2-ad hidden\"></div>\n",
      "<div id=\"Anchor\" class=\"ad anchor-ad hidden\"></div>\n",
      "<div id=\"ADX_CLIENTSIDE\" class=\"ad adx-clientside-ad hidden\"></div>\n",
      "<script type=\"text/javascript\">window.NREUM||(NREUM={});NREUM.info={\"beacon\":\"bam.nr-data.net\",\"licenseKey\":\"b5bcf2eba4\",\"applicationID\":\"4491938\",\"transactionName\":\"YwFXZhRYVhAEVUZcX1pLYEAPFlkTFRhCXUA=\",\"queueTime\":0,\"applicationTime\":651,\"ttGuid\":\"\",\"agentToken\":\"\",\"userAttributes\":\"\",\"errorBeacon\":\"bam.nr-data.net\",\"agent\":\"js-agent.newrelic.com\\/nr-768.min.js\"}</script></body>\n",
      "</html>\n",
      "\n"
     ]
    }
   ],
   "source": [
    "print(page_str)"
   ]
  },
  {
   "cell_type": "code",
   "execution_count": null,
   "metadata": {
    "collapsed": true
   },
   "outputs": [],
   "source": []
  },
  {
   "cell_type": "markdown",
   "metadata": {},
   "source": [
    "## Lists"
   ]
  },
  {
   "cell_type": "code",
   "execution_count": 51,
   "metadata": {
    "collapsed": true
   },
   "outputs": [],
   "source": [
    "a = []  #Square Brackets indicate a list"
   ]
  },
  {
   "cell_type": "code",
   "execution_count": 52,
   "metadata": {
    "collapsed": false
   },
   "outputs": [
    {
     "data": {
      "text/plain": [
       "list"
      ]
     },
     "execution_count": 52,
     "metadata": {},
     "output_type": "execute_result"
    }
   ],
   "source": [
    "type(a)"
   ]
  },
  {
   "cell_type": "code",
   "execution_count": 55,
   "metadata": {
    "collapsed": true
   },
   "outputs": [],
   "source": [
    "a = [1,2,3,4]"
   ]
  },
  {
   "cell_type": "code",
   "execution_count": 56,
   "metadata": {
    "collapsed": false
   },
   "outputs": [
    {
     "data": {
      "text/plain": [
       "[1, 2, 3, 4]"
      ]
     },
     "execution_count": 56,
     "metadata": {},
     "output_type": "execute_result"
    }
   ],
   "source": [
    "a"
   ]
  },
  {
   "cell_type": "code",
   "execution_count": 68,
   "metadata": {
    "collapsed": false
   },
   "outputs": [
    {
     "name": "stdout",
     "output_type": "stream",
     "text": [
      "[1, 2, 3, 4]\n"
     ]
    }
   ],
   "source": [
    "print(a)"
   ]
  },
  {
   "cell_type": "code",
   "execution_count": 72,
   "metadata": {
    "collapsed": false
   },
   "outputs": [],
   "source": [
    "# - Lists in Python can be Heterogenous Collections of Types - #\n",
    "b = [1,'a','b',3, []]"
   ]
  },
  {
   "cell_type": "code",
   "execution_count": 71,
   "metadata": {
    "collapsed": false
   },
   "outputs": [
    {
     "data": {
      "text/plain": [
       "[1, 'a', 'b', 3, []]"
      ]
     },
     "execution_count": 71,
     "metadata": {},
     "output_type": "execute_result"
    }
   ],
   "source": [
    "b"
   ]
  },
  {
   "cell_type": "code",
   "execution_count": 74,
   "metadata": {
    "collapsed": false
   },
   "outputs": [
    {
     "name": "stdout",
     "output_type": "stream",
     "text": [
      "<class 'int'>\n",
      "<class 'str'>\n",
      "<class 'str'>\n",
      "<class 'int'>\n",
      "<class 'list'>\n"
     ]
    }
   ],
   "source": [
    "for item in b:\n",
    "    print(type(item))"
   ]
  },
  {
   "cell_type": "code",
   "execution_count": null,
   "metadata": {
    "collapsed": true
   },
   "outputs": [],
   "source": []
  },
  {
   "cell_type": "code",
   "execution_count": null,
   "metadata": {
    "collapsed": true
   },
   "outputs": [],
   "source": []
  },
  {
   "cell_type": "code",
   "execution_count": 53,
   "metadata": {
    "collapsed": true
   },
   "outputs": [],
   "source": [
    "a = list() #What's this then in the "
   ]
  },
  {
   "cell_type": "code",
   "execution_count": 54,
   "metadata": {
    "collapsed": false
   },
   "outputs": [
    {
     "data": {
      "text/plain": [
       "list"
      ]
     },
     "execution_count": 54,
     "metadata": {},
     "output_type": "execute_result"
    }
   ],
   "source": [
    "type(a)"
   ]
  },
  {
   "cell_type": "code",
   "execution_count": 60,
   "metadata": {
    "collapsed": false
   },
   "outputs": [
    {
     "ename": "TypeError",
     "evalue": "list() takes at most 1 argument (4 given)",
     "output_type": "error",
     "traceback": [
      "\u001b[1;31m---------------------------------------------------------------------------\u001b[0m",
      "\u001b[1;31mTypeError\u001b[0m                                 Traceback (most recent call last)",
      "\u001b[1;32m<ipython-input-60-325a53ec08e9>\u001b[0m in \u001b[0;36m<module>\u001b[1;34m()\u001b[0m\n\u001b[1;32m----> 1\u001b[1;33m \u001b[0ma\u001b[0m \u001b[1;33m=\u001b[0m \u001b[0mlist\u001b[0m\u001b[1;33m(\u001b[0m\u001b[1;36m1\u001b[0m\u001b[1;33m,\u001b[0m\u001b[1;36m2\u001b[0m\u001b[1;33m,\u001b[0m\u001b[1;36m3\u001b[0m\u001b[1;33m,\u001b[0m\u001b[1;36m4\u001b[0m\u001b[1;33m)\u001b[0m \u001b[1;31m#Wait What?\u001b[0m\u001b[1;33m\u001b[0m\u001b[0m\n\u001b[0m",
      "\u001b[1;31mTypeError\u001b[0m: list() takes at most 1 argument (4 given)"
     ]
    }
   ],
   "source": [
    "a = list(1,2,3,4) #Wait What?"
   ]
  },
  {
   "cell_type": "markdown",
   "metadata": {},
   "source": [
    "A ``TypeError`` has occurred. This is one type of Error that Python has flagged as it doesn't make sense."
   ]
  },
  {
   "cell_type": "code",
   "execution_count": 61,
   "metadata": {
    "collapsed": false
   },
   "outputs": [
    {
     "data": {
      "text/plain": [
       "[]"
      ]
     },
     "execution_count": 61,
     "metadata": {},
     "output_type": "execute_result"
    }
   ],
   "source": [
    "list()  #<tab>"
   ]
  },
  {
   "cell_type": "code",
   "execution_count": 62,
   "metadata": {
    "collapsed": true
   },
   "outputs": [],
   "source": [
    "a = list([1,2,3,4]) #list is already a list prior to parsing throught the list method"
   ]
  },
  {
   "cell_type": "code",
   "execution_count": 65,
   "metadata": {
    "collapsed": true
   },
   "outputs": [],
   "source": [
    "a = list((1,2,3,4)) #We can however throw in a Tuple which is an iterable object to convert to a list"
   ]
  },
  {
   "cell_type": "code",
   "execution_count": 66,
   "metadata": {
    "collapsed": false
   },
   "outputs": [
    {
     "data": {
      "text/plain": [
       "[1, 2, 3, 4]"
      ]
     },
     "execution_count": 66,
     "metadata": {},
     "output_type": "execute_result"
    }
   ],
   "source": [
    "a"
   ]
  },
  {
   "cell_type": "code",
   "execution_count": null,
   "metadata": {
    "collapsed": true
   },
   "outputs": [],
   "source": []
  },
  {
   "cell_type": "markdown",
   "metadata": {},
   "source": [
    "## Dictionaries\n",
    "\n",
    "Are a very useful Data stucture that is not available in a lot of other languages. "
   ]
  },
  {
   "cell_type": "code",
   "execution_count": 1,
   "metadata": {
    "collapsed": true
   },
   "outputs": [],
   "source": [
    "a = {}"
   ]
  },
  {
   "cell_type": "code",
   "execution_count": 2,
   "metadata": {
    "collapsed": false
   },
   "outputs": [
    {
     "data": {
      "text/plain": [
       "dict"
      ]
     },
     "execution_count": 2,
     "metadata": {},
     "output_type": "execute_result"
    }
   ],
   "source": [
    "type(a)"
   ]
  },
  {
   "cell_type": "code",
   "execution_count": 3,
   "metadata": {
    "collapsed": true
   },
   "outputs": [],
   "source": [
    "a = {'x' : [1,2,3,4,5,6], 'y' : [6,5,4,3,2,1]}"
   ]
  },
  {
   "cell_type": "code",
   "execution_count": 4,
   "metadata": {
    "collapsed": false
   },
   "outputs": [
    {
     "data": {
      "text/plain": [
       "{'x': [1, 2, 3, 4, 5, 6], 'y': [6, 5, 4, 3, 2, 1]}"
      ]
     },
     "execution_count": 4,
     "metadata": {},
     "output_type": "execute_result"
    }
   ],
   "source": [
    "a"
   ]
  },
  {
   "cell_type": "code",
   "execution_count": 5,
   "metadata": {
    "collapsed": false
   },
   "outputs": [
    {
     "data": {
      "text/plain": [
       "[1, 2, 3, 4, 5, 6]"
      ]
     },
     "execution_count": 5,
     "metadata": {},
     "output_type": "execute_result"
    }
   ],
   "source": [
    "a['x']"
   ]
  },
  {
   "cell_type": "code",
   "execution_count": 6,
   "metadata": {
    "collapsed": false
   },
   "outputs": [
    {
     "data": {
      "text/plain": [
       "[6, 5, 4, 3, 2, 1]"
      ]
     },
     "execution_count": 6,
     "metadata": {},
     "output_type": "execute_result"
    }
   ],
   "source": [
    "a['y']"
   ]
  },
  {
   "cell_type": "code",
   "execution_count": 7,
   "metadata": {
    "collapsed": false
   },
   "outputs": [
    {
     "data": {
      "text/plain": [
       "list"
      ]
     },
     "execution_count": 7,
     "metadata": {},
     "output_type": "execute_result"
    }
   ],
   "source": [
    "type(a['x'])"
   ]
  },
  {
   "cell_type": "code",
   "execution_count": null,
   "metadata": {
    "collapsed": true
   },
   "outputs": [],
   "source": []
  },
  {
   "cell_type": "markdown",
   "metadata": {},
   "source": [
    "## Sets\n",
    "\n",
    "Objects that behave in similar fashion to math sets. "
   ]
  },
  {
   "cell_type": "code",
   "execution_count": 15,
   "metadata": {
    "collapsed": true
   },
   "outputs": [],
   "source": [
    "x = {\"a\",\"b\"}"
   ]
  },
  {
   "cell_type": "code",
   "execution_count": 16,
   "metadata": {
    "collapsed": false
   },
   "outputs": [
    {
     "data": {
      "text/plain": [
       "{'a', 'b'}"
      ]
     },
     "execution_count": 16,
     "metadata": {},
     "output_type": "execute_result"
    }
   ],
   "source": [
    "x"
   ]
  },
  {
   "cell_type": "code",
   "execution_count": 17,
   "metadata": {
    "collapsed": false
   },
   "outputs": [
    {
     "data": {
      "text/plain": [
       "set"
      ]
     },
     "execution_count": 17,
     "metadata": {},
     "output_type": "execute_result"
    }
   ],
   "source": [
    "type(x)"
   ]
  },
  {
   "cell_type": "code",
   "execution_count": 18,
   "metadata": {
    "collapsed": false
   },
   "outputs": [
    {
     "data": {
      "text/plain": [
       "True"
      ]
     },
     "execution_count": 18,
     "metadata": {},
     "output_type": "execute_result"
    }
   ],
   "source": [
    "'a' in x"
   ]
  },
  {
   "cell_type": "code",
   "execution_count": null,
   "metadata": {
    "collapsed": true
   },
   "outputs": [],
   "source": []
  },
  {
   "cell_type": "code",
   "execution_count": 8,
   "metadata": {
    "collapsed": true
   },
   "outputs": [],
   "source": [
    "x = set(\"A Python Tutorial\")"
   ]
  },
  {
   "cell_type": "markdown",
   "metadata": {},
   "source": [
    "What will that set consist of?"
   ]
  },
  {
   "cell_type": "code",
   "execution_count": null,
   "metadata": {
    "collapsed": true
   },
   "outputs": [],
   "source": []
  },
  {
   "cell_type": "code",
   "execution_count": 10,
   "metadata": {
    "collapsed": true
   },
   "outputs": [],
   "source": [
    "x = set([\"Perl\", \"Python\", \"Java\"])"
   ]
  },
  {
   "cell_type": "markdown",
   "metadata": {},
   "source": [
    "What will this set consist of?"
   ]
  },
  {
   "cell_type": "code",
   "execution_count": null,
   "metadata": {
    "collapsed": true
   },
   "outputs": [],
   "source": []
  },
  {
   "cell_type": "code",
   "execution_count": 11,
   "metadata": {
    "collapsed": true
   },
   "outputs": [],
   "source": [
    "cities = set((\"Paris\", \"Lyon\", \"London\",\"Berlin\",\"Paris\",\"Birmingham\"))"
   ]
  },
  {
   "cell_type": "code",
   "execution_count": 12,
   "metadata": {
    "collapsed": false
   },
   "outputs": [
    {
     "data": {
      "text/plain": [
       "{'Berlin', 'Birmingham', 'London', 'Lyon', 'Paris'}"
      ]
     },
     "execution_count": 12,
     "metadata": {},
     "output_type": "execute_result"
    }
   ],
   "source": [
    "cities"
   ]
  },
  {
   "cell_type": "code",
   "execution_count": 13,
   "metadata": {
    "collapsed": true
   },
   "outputs": [],
   "source": [
    "cities.add(\"New York\")"
   ]
  },
  {
   "cell_type": "code",
   "execution_count": 14,
   "metadata": {
    "collapsed": false
   },
   "outputs": [
    {
     "data": {
      "text/plain": [
       "{'Berlin', 'Birmingham', 'London', 'Lyon', 'New York', 'Paris'}"
      ]
     },
     "execution_count": 14,
     "metadata": {},
     "output_type": "execute_result"
    }
   ],
   "source": [
    "cities"
   ]
  },
  {
   "cell_type": "code",
   "execution_count": null,
   "metadata": {
    "collapsed": true
   },
   "outputs": [],
   "source": []
  },
  {
   "cell_type": "code",
   "execution_count": 21,
   "metadata": {
    "collapsed": false
   },
   "outputs": [],
   "source": [
    "x = {\"a\",\"b\"}\n",
    "y = {\"a\"}"
   ]
  },
  {
   "cell_type": "code",
   "execution_count": 22,
   "metadata": {
    "collapsed": false
   },
   "outputs": [
    {
     "data": {
      "text/plain": [
       "{'b'}"
      ]
     },
     "execution_count": 22,
     "metadata": {},
     "output_type": "execute_result"
    }
   ],
   "source": [
    "x.difference(y)"
   ]
  },
  {
   "cell_type": "code",
   "execution_count": 23,
   "metadata": {
    "collapsed": false
   },
   "outputs": [
    {
     "data": {
      "text/plain": [
       "{'a', 'b'}"
      ]
     },
     "execution_count": 23,
     "metadata": {},
     "output_type": "execute_result"
    }
   ],
   "source": [
    "x.union(y)"
   ]
  },
  {
   "cell_type": "code",
   "execution_count": 24,
   "metadata": {
    "collapsed": false
   },
   "outputs": [
    {
     "data": {
      "text/plain": [
       "{'a'}"
      ]
     },
     "execution_count": 24,
     "metadata": {},
     "output_type": "execute_result"
    }
   ],
   "source": [
    "x.intersection(y)"
   ]
  },
  {
   "cell_type": "code",
   "execution_count": null,
   "metadata": {
    "collapsed": true
   },
   "outputs": [],
   "source": []
  },
  {
   "cell_type": "markdown",
   "metadata": {},
   "source": [
    "## Tuples"
   ]
  },
  {
   "cell_type": "code",
   "execution_count": 25,
   "metadata": {
    "collapsed": true
   },
   "outputs": [],
   "source": [
    "x = (1,2)"
   ]
  },
  {
   "cell_type": "code",
   "execution_count": 26,
   "metadata": {
    "collapsed": false
   },
   "outputs": [
    {
     "data": {
      "text/plain": [
       "tuple"
      ]
     },
     "execution_count": 26,
     "metadata": {},
     "output_type": "execute_result"
    }
   ],
   "source": [
    "type(x)"
   ]
  },
  {
   "cell_type": "code",
   "execution_count": 27,
   "metadata": {
    "collapsed": false
   },
   "outputs": [
    {
     "data": {
      "text/plain": [
       "True"
      ]
     },
     "execution_count": 27,
     "metadata": {},
     "output_type": "execute_result"
    }
   ],
   "source": [
    "1 in x"
   ]
  },
  {
   "cell_type": "code",
   "execution_count": 30,
   "metadata": {
    "collapsed": false
   },
   "outputs": [
    {
     "data": {
      "text/plain": [
       "1"
      ]
     },
     "execution_count": 30,
     "metadata": {},
     "output_type": "execute_result"
    }
   ],
   "source": [
    "x.count(1)"
   ]
  },
  {
   "cell_type": "code",
   "execution_count": 31,
   "metadata": {
    "collapsed": false
   },
   "outputs": [
    {
     "data": {
      "text/plain": [
       "1"
      ]
     },
     "execution_count": 31,
     "metadata": {},
     "output_type": "execute_result"
    }
   ],
   "source": [
    "x[0]"
   ]
  },
  {
   "cell_type": "code",
   "execution_count": 32,
   "metadata": {
    "collapsed": false
   },
   "outputs": [
    {
     "data": {
      "text/plain": [
       "2"
      ]
     },
     "execution_count": 32,
     "metadata": {},
     "output_type": "execute_result"
    }
   ],
   "source": [
    "x[1]"
   ]
  },
  {
   "cell_type": "markdown",
   "metadata": {},
   "source": [
    "### Tuples\n",
    "\n",
    "1. Defined the same way as lists except with ``(`` rather than ``[``\n",
    "1. Have a defined order\n",
    "1. Negative indices count from the end of the Tuple\n",
    "1. Slicing works, but when you slice a tuple you get a new tuple\n",
    "\n",
    "BUT\n",
    "\n",
    "1. You cannot add elements to a Tuple\n",
    "1. You cannot remove elements from a Tuple\n",
    "\n",
    "Why Use Them?\n",
    "\n",
    "1. They are faster than lists\n",
    "1. Useful for defining a constant set of values (Immutable)\n",
    "1. Makes code safer for write protected data\n",
    "1. Tuples can be used as keys to dictionaries\n",
    "1. \n"
   ]
  },
  {
   "cell_type": "code",
   "execution_count": null,
   "metadata": {
    "collapsed": true
   },
   "outputs": [],
   "source": []
  }
 ],
 "metadata": {
  "kernelspec": {
   "display_name": "Python 3",
   "language": "python",
   "name": "python3"
  },
  "language_info": {
   "codemirror_mode": {
    "name": "ipython",
    "version": 3
   },
   "file_extension": ".py",
   "mimetype": "text/x-python",
   "name": "python",
   "nbconvert_exporter": "python",
   "pygments_lexer": "ipython3",
   "version": "3.5.1"
  }
 },
 "nbformat": 4,
 "nbformat_minor": 0
}
